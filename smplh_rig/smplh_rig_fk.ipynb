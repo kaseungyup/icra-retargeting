{
 "cells": [
  {
   "cell_type": "code",
   "execution_count": 6,
   "metadata": {},
   "outputs": [
    {
     "name": "stdout",
     "output_type": "stream",
     "text": [
      "cuda\n"
     ]
    }
   ],
   "source": [
    "import torch\n",
    "import numpy as np\n",
    "import sys\n",
    "\n",
    "sys.path.append('../human_body_prior/tools/')\n",
    "from omni_tools import copy2cpu as c2c\n",
    "from os import path as osp\n",
    "\n",
    "both57m_dir = '../data/both57m/'\n",
    "comp_device = torch.device(\"cuda\" if torch.cuda.is_available() else \"cpu\")\n",
    "print(comp_device)\n",
    "\n",
    "sys.path.append('../human_body_prior/body_model/')\n",
    "from body_model import BodyModel\n",
    "\n",
    "gender = \"male\"\n",
    "\n",
    "bm_fname = '../smplh_models/{}/model.npz'.format(gender)\n",
    "bm = BodyModel(bm_fname=bm_fname).to(comp_device)\n",
    "faces = c2c(bm.f)"
   ]
  },
  {
   "cell_type": "code",
   "execution_count": 7,
   "metadata": {},
   "outputs": [
    {
     "name": "stdout",
     "output_type": "stream",
     "text": [
      "<class 'numpy.ndarray'> (150, 52, 3)\n"
     ]
    }
   ],
   "source": [
    "import trimesh\n",
    "sys.path.append('../body_visualizer')\n",
    "from tools.vis_tools import colors\n",
    "from mesh.mesh_viewer import MeshViewer\n",
    "from mesh.sphere import points_to_spheres\n",
    "from tools.vis_tools import show_image\n",
    "\n",
    "imw, imh=1600, 1600\n",
    "mv = MeshViewer(width=imw, height=imh, use_offscreen=True)\n",
    "\n",
    "data_number = 500\n",
    "\n",
    "both57m_npz = osp.join(both57m_dir, str(data_number), 'data.npz')\n",
    "bdata = np.load(both57m_npz)\n",
    "len = bdata['seq_len']\n",
    "\n",
    "motion_parms = {\n",
    "    'root_orient': torch.Tensor(bdata['root_orient']).to(comp_device),\n",
    "    'pose_body': torch.Tensor(bdata['body_pose'].reshape(len,-1)).to(comp_device),\n",
    "    'pose_hand': torch.Tensor(bdata['hand_pose'].reshape(len,-1)).to(comp_device),\n",
    "    'trans': torch.Tensor(bdata['trans']).to(comp_device)\n",
    "}\n",
    "\n",
    "body_pose = bm(**{k:v for k,v in motion_parms.items() if k in ['pose_body', 'pose_hand', 'root_orient']})\n",
    "joints = np.zeros((len, 52, 3))\n",
    "\n",
    "for i in range(len):\n",
    "    array = c2c(body_pose.Jtr[i])\n",
    "    array = array[:,[2,0,1]]\n",
    "    joints[i] = array\n",
    "\n",
    "print(type(joints), joints.shape)\n",
    "np.save('joints.npy', joints)"
   ]
  }
 ],
 "metadata": {
  "kernelspec": {
   "display_name": "online_generation",
   "language": "python",
   "name": "python3"
  },
  "language_info": {
   "codemirror_mode": {
    "name": "ipython",
    "version": 3
   },
   "file_extension": ".py",
   "mimetype": "text/x-python",
   "name": "python",
   "nbconvert_exporter": "python",
   "pygments_lexer": "ipython3",
   "version": "3.9.18"
  }
 },
 "nbformat": 4,
 "nbformat_minor": 2
}
