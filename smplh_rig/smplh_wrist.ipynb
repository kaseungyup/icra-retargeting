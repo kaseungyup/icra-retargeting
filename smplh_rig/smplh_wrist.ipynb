{
 "cells": [
  {
   "cell_type": "code",
   "execution_count": 19,
   "metadata": {},
   "outputs": [
    {
     "name": "stdout",
     "output_type": "stream",
     "text": [
      "Ready.\n"
     ]
    }
   ],
   "source": [
    "import sys\n",
    "import numpy as np\n",
    "sys.path.append(\"../utils\")\n",
    "from mujoco_parser import MuJoCoParserClass\n",
    "from util import MultiSliderClass,get_idxs\n",
    "print (\"Ready.\")"
   ]
  },
  {
   "cell_type": "code",
   "execution_count": 20,
   "metadata": {},
   "outputs": [
    {
     "name": "stdout",
     "output_type": "stream",
     "text": [
      "Done.\n"
     ]
    }
   ],
   "source": [
    "xml_path = '../asset/smplh_rig/scene_smplh_rig.xml'\n",
    "env = MuJoCoParserClass(name='SMPL-H Rig',rel_xml_path=xml_path,VERBOSE=False)\n",
    "for body_name in env.body_names:\n",
    "    if body_name in ['world']: continue\n",
    "    for geom_idx in env.get_geom_idxs_from_body_name(body_name=body_name):\n",
    "        env.model.geom(geom_idx).rgba = [0.3,0.3,0.5,1]\n",
    "print (\"Done.\")"
   ]
  },
  {
   "cell_type": "code",
   "execution_count": 21,
   "metadata": {},
   "outputs": [],
   "source": [
    "q = np.zeros(env.model.nq)\n",
    "q[2] = 0.956\n",
    "q[26] = -np.pi/2\n",
    "env.forward(q)\n",
    "\n",
    "wrist_pos = env.get_p_body('left_wrist')\n",
    "wrist_rot = env.get_R_body('left_wrist')\n",
    "JOINT_NAMES = ['l_shoulder1','l_shoulder2','l_shoulder3','l_elbow','l_wrist1','l_wrist2','l_wrist3']\n",
    "idxs = get_idxs(env.rev_joint_names,JOINT_NAMES)\n",
    "q_mins_arms,q_maxs_arms = env.rev_joint_mins[idxs],env.rev_joint_maxs[idxs]\n",
    "joint_idxs_fwd_arms = env.get_idxs_fwd(joint_names=JOINT_NAMES)\n",
    "joint_idxs_jac_arms = env.get_idxs_jac(joint_names=JOINT_NAMES)"
   ]
  },
  {
   "cell_type": "code",
   "execution_count": 22,
   "metadata": {},
   "outputs": [
    {
     "name": "stdout",
     "output_type": "stream",
     "text": [
      "Pressed ESC\n",
      "Quitting.\n"
     ]
    }
   ],
   "source": [
    "sliders = MultiSliderClass(\n",
    "    n_slider      = 3,\n",
    "    title         = 'Sliders for SMPL-H Wrist Control',\n",
    "    window_width  = 500,\n",
    "    window_height = 800,\n",
    "    x_offset      = 50,\n",
    "    y_offset      = 100,\n",
    "    slider_width  = 350,\n",
    "    label_texts   = ['x','y','z'],\n",
    "    slider_mins   = wrist_pos + [-1,-1,-1],\n",
    "    slider_maxs   = wrist_pos + [1,1,1],\n",
    "    slider_vals   = wrist_pos,\n",
    "    resolution    = 0.01,\n",
    "    VERBOSE       = False,\n",
    ")\n",
    "\n",
    "env.init_viewer(\n",
    "    viewer_title='SMPL-H Rig',viewer_width=1200,viewer_height=800,\n",
    "    viewer_hide_menus=True,\n",
    ")\n",
    "env.update_viewer(\n",
    "    azimuth=180,distance=1.24,elevation=-32,lookat=[0.25,0.5,1.73],\n",
    "    VIS_TRANSPARENT=True,\n",
    ")\n",
    "\n",
    "env.reset()\n",
    "\n",
    "while env.is_viewer_alive():\n",
    "    sliders.update()\n",
    "    tp = sliders.get_slider_values()\n",
    "\n",
    "    q_arms = env.data.qpos[joint_idxs_fwd_arms]\n",
    "    ik_p_target = tp\n",
    "    ik_R_target = wrist_rot\n",
    "    J,ik_err = env.get_ik_ingredients(body_name='left_wrist',p_trgt=ik_p_target,R_trgt=ik_R_target)\n",
    "    dq = env.damped_ls(J,ik_err,stepsize=1,eps=1e-2,th=np.radians(1.0))\n",
    "    q_arms += dq[joint_idxs_jac_arms]\n",
    "    q_arms = np.clip(q_arms,q_mins_arms,q_maxs_arms)\n",
    "    env.forward(q=q_arms,joint_idxs=joint_idxs_fwd_arms)\n",
    "    wp = env.get_p_joint('l_wrist1')\n",
    "\n",
    "    env.plot_T(p=tp,R=wrist_rot,PLOT_AXIS=True,axis_len=0.1,axis_width=0.005,\n",
    "               label='Wrist Target: [%.2f %.2f %.2f]\\n Wrist Position: [%.2f %.2f %.2f]\\n Distance: %.4f' %\n",
    "               (tp[0],tp[1],tp[2],wp[0],wp[1],wp[2],np.linalg.norm(tp-wp)))\n",
    "    env.plot_T(p=env.get_p_body('left_wrist'),R=env.get_R_body('left_wrist'),PLOT_AXIS=True,axis_len=0.1,axis_width=0.005)\n",
    "    env.render()\n",
    "\n",
    "env.close_viewer()\n",
    "sliders.close()"
   ]
  },
  {
   "cell_type": "code",
   "execution_count": null,
   "metadata": {},
   "outputs": [],
   "source": []
  }
 ],
 "metadata": {
  "kernelspec": {
   "display_name": "online_generation",
   "language": "python",
   "name": "python3"
  },
  "language_info": {
   "codemirror_mode": {
    "name": "ipython",
    "version": 3
   },
   "file_extension": ".py",
   "mimetype": "text/x-python",
   "name": "python",
   "nbconvert_exporter": "python",
   "pygments_lexer": "ipython3",
   "version": "3.9.18"
  }
 },
 "nbformat": 4,
 "nbformat_minor": 2
}
