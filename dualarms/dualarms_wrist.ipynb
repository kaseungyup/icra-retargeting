{
 "cells": [
  {
   "cell_type": "code",
   "execution_count": 1,
   "metadata": {},
   "outputs": [
    {
     "name": "stdout",
     "output_type": "stream",
     "text": [
      "Ready.\n"
     ]
    }
   ],
   "source": [
    "import sys\n",
    "import numpy as np\n",
    "sys.path.append(\"../utils\")\n",
    "from mujoco_parser import MuJoCoParserClass\n",
    "from util import MultiSliderClass,rpy2r\n",
    "print (\"Ready.\")"
   ]
  },
  {
   "cell_type": "code",
   "execution_count": 2,
   "metadata": {},
   "outputs": [
    {
     "name": "stdout",
     "output_type": "stream",
     "text": [
      "Done.\n"
     ]
    }
   ],
   "source": [
    "xml_path = '../asset/kimlab_dualarms/scene_dualarms.xml'\n",
    "env = MuJoCoParserClass(name='Dual Arms',rel_xml_path=xml_path,VERBOSE=False)\n",
    "env.set_geom_color(\n",
    "    rgba                = (0.2,0.2,1.0,0.9),\n",
    "    body_names_to_color = [\n",
    "        'robot1/end_link','robot1/index_L1','robot1/index_L2','robot1/index_tip',\n",
    "        'robot1/middle_L1','robot1/middle_L2','robot1/middle_tip',\n",
    "        'robot1/ring_L1','robot1/ring_L2','robot1/ring_tip',\n",
    "        'robot1/pinky_L1','robot1/pinky_L2','robot1/pinky_tip',\n",
    "        'robot1/thumb_L1','robot1/thumb_L2','robot1/thumb_tip'],\n",
    ")\n",
    "env.set_geom_color(\n",
    "    rgba                = (1.0,0.2,0.2,0.9),\n",
    "    body_names_to_color = [\n",
    "        'robot2/end_link','robot2/index_L1','robot2/index_L2','robot2/index_tip',\n",
    "        'robot2/middle_L1','robot2/middle_L2','robot2/middle_tip',\n",
    "        'robot2/ring_L1','robot2/ring_L2','robot2/ring_tip',\n",
    "        'robot2/pinky_L1','robot2/pinky_L2','robot2/pinky_tip',\n",
    "        'robot2/thumb_L1','robot2/thumb_L2','robot2/thumb_tip'],\n",
    ")\n",
    "print (\"Done.\")"
   ]
  },
  {
   "cell_type": "code",
   "execution_count": 3,
   "metadata": {},
   "outputs": [],
   "source": [
    "q = np.zeros(env.model.nq)\n",
    "q[0] = np.pi/2\n",
    "q[5] = np.pi/2\n",
    "env.forward(q)\n",
    "\n",
    "wrist_pos = env.get_p_joint('robot1/joint6')\n",
    "# JOINT_NAMES = ['robot1/joint1','robot1/joint2','robot1/joint3','robot1/joint4','robot1/joint5','robot1/joint6']\n",
    "JOINT_NAMES = ['robot1/joint1','robot1/joint3','robot1/joint5','robot1/joint6']\n",
    "joint_idxs_arms = env.get_idxs_fwd(joint_names=JOINT_NAMES)"
   ]
  },
  {
   "cell_type": "code",
   "execution_count": 4,
   "metadata": {},
   "outputs": [
    {
     "name": "stdout",
     "output_type": "stream",
     "text": [
      "Pressed ESC\n",
      "Quitting.\n"
     ]
    }
   ],
   "source": [
    "sliders = MultiSliderClass(\n",
    "    n_slider      = 3,\n",
    "    title         = 'Sliders for Dual-Arms Wrist Control',\n",
    "    window_width  = 500,\n",
    "    window_height = 800,\n",
    "    x_offset      = 50,\n",
    "    y_offset      = 100,\n",
    "    slider_width  = 350,\n",
    "    label_texts   = ['x','y','z'],\n",
    "    slider_mins   = wrist_pos + [-1,-1,-1],\n",
    "    slider_maxs   = wrist_pos + [1,1,1],\n",
    "    slider_vals   = wrist_pos,\n",
    "    resolution    = 0.01,\n",
    "    VERBOSE       = False,\n",
    ")\n",
    "\n",
    "env.init_viewer(\n",
    "    viewer_title='Dual-Arms',viewer_width=1200,viewer_height=800,\n",
    "    viewer_hide_menus=True,\n",
    ")\n",
    "env.update_viewer(\n",
    "    azimuth=180,distance=1.24,elevation=-32,lookat=[0.25,0.5,1.73],\n",
    "    VIS_TRANSPARENT=True,\n",
    ")\n",
    "env.forward(q)\n",
    "\n",
    "while env.is_viewer_alive():\n",
    "    sliders.update()\n",
    "    tp = sliders.get_slider_values()\n",
    "\n",
    "    q_arms = env.get_qpos_joints(JOINT_NAMES)\n",
    "    J_list,ik_err_list = [],[]\n",
    "    ik_p_target = tp\n",
    "    ik_R_target = np.eye(3)\n",
    "    J,ik_err = env.get_ik_ingredients(body_name='robot1/end_link',p_trgt=ik_p_target,R_trgt=ik_R_target)\n",
    "    dq = env.damped_ls(J,ik_err,stepsize=1,eps=1e-2,th=np.radians(1.0))\n",
    "    q_arms += dq[joint_idxs_arms]\n",
    "    q_arms = np.clip(q_arms,env.rev_joint_mins[joint_idxs_arms],env.rev_joint_maxs[joint_idxs_arms])\n",
    "    env.forward(q=q_arms,joint_idxs=joint_idxs_arms)\n",
    "    wp = env.get_p_joint('robot1/joint6')\n",
    "\n",
    "    env.plot_T(p=tp,R=ik_R_target,PLOT_AXIS=True,axis_len=0.1,axis_width=0.005,\n",
    "               label='Wrist Target: [%.2f %.2f %.2f]\\n Wrist Position: [%.2f %.2f %.2f]\\n Distance: %.4f' %\n",
    "               (tp[0],tp[1],tp[2],wp[0],wp[1],wp[2],np.linalg.norm(tp-wp)))\n",
    "    env.plot_T(p=env.get_p_body('robot1/end_link'),R=env.get_R_body('robot1/end_link'),PLOT_AXIS=True,axis_len=0.1,axis_width=0.005)\n",
    "    env.render()\n",
    "\n",
    "env.close_viewer()\n",
    "sliders.close()"
   ]
  },
  {
   "cell_type": "code",
   "execution_count": null,
   "metadata": {},
   "outputs": [],
   "source": []
  }
 ],
 "metadata": {
  "kernelspec": {
   "display_name": "online_generation",
   "language": "python",
   "name": "python3"
  },
  "language_info": {
   "codemirror_mode": {
    "name": "ipython",
    "version": 3
   },
   "file_extension": ".py",
   "mimetype": "text/x-python",
   "name": "python",
   "nbconvert_exporter": "python",
   "pygments_lexer": "ipython3",
   "version": "3.9.18"
  }
 },
 "nbformat": 4,
 "nbformat_minor": 2
}
