{
 "cells": [
  {
   "cell_type": "markdown",
   "id": "7ed4c2ab-42ea-441b-91ea-d2703a4f01b0",
   "metadata": {},
   "source": [
    "### Slider Control of `KIMLAB-Dualarms`"
   ]
  },
  {
   "cell_type": "code",
   "execution_count": 33,
   "id": "7d689678-e9c7-422d-83f9-6034dc8459dd",
   "metadata": {},
   "outputs": [
    {
     "name": "stdout",
     "output_type": "stream",
     "text": [
      "Ready.\n"
     ]
    }
   ],
   "source": [
    "import sys\n",
    "import numpy as np\n",
    "sys.path.append(\"../utils\")\n",
    "from mujoco_parser import MuJoCoParserClass\n",
    "from util import MultiSliderClass,get_idxs\n",
    "print (\"Ready.\")"
   ]
  },
  {
   "cell_type": "markdown",
   "id": "9a717bf1-a5b9-449c-804c-0ee230926b2e",
   "metadata": {},
   "source": [
    "#### Load"
   ]
  },
  {
   "cell_type": "code",
   "execution_count": 34,
   "id": "dfc437a0-b3a0-422d-8c69-a50235cd2ee1",
   "metadata": {
    "scrolled": true
   },
   "outputs": [
    {
     "name": "stdout",
     "output_type": "stream",
     "text": [
      "dt:[0.0020] HZ:[500]\n",
      "n_dof (=nv):[32]\n",
      "n_geom:[75]\n",
      "geom_names:[None, None, None, None, None, None, 'floor', None, None, None, None, None, None, None, None, None, None, None, None, 'robot1/wrist_mesh', 'robot1/palm_mesh', 'robot1/index_mesh_1', None, 'robot1/index_mesh_2', None, 'robot1/middle_mesh_1', None, 'robot1/middle_mesh_2', None, 'robot1/ring_mesh_1', None, 'robot1/ring_mesh_2', None, 'robot1/pinky_mesh_1', None, 'robot1/pinky_mesh_2', None, 'robot1/thumb_mesh_1', None, 'robot1/thumb_mesh_2', None, None, None, None, None, None, None, None, None, None, None, None, None, 'robot2/wrist_mesh', 'robot2/palm_mesh', 'robot2/index_mesh_1', None, 'robot2/index_mesh_2', None, 'robot2/middle_mesh_1', None, 'robot2/middle_mesh_2', None, 'robot2/ring_mesh_1', None, 'robot2/ring_mesh_2', None, 'robot2/pinky_mesh_1', None, 'robot2/pinky_mesh_2', None, 'robot2/thumb_mesh_1', None, 'robot2/thumb_mesh_2', None]\n",
      "n_body:[43]\n",
      "body_names:['world', 'robot1/link2', 'robot1/link3', 'robot1/link4', 'robot1/link5', 'robot1/link6', 'robot1/end_link', 'robot1/index_L1', 'robot1/index_L2', 'robot1/index_tip', 'robot1/middle_L1', 'robot1/middle_L2', 'robot1/middle_tip', 'robot1/ring_L1', 'robot1/ring_L2', 'robot1/ring_tip', 'robot1/pinky_L1', 'robot1/pinky_L2', 'robot1/pinky_tip', 'robot1/thumb_L1', 'robot1/thumb_L2', 'robot1/thumb_tip', 'robot2/link2', 'robot2/link3', 'robot2/link4', 'robot2/link5', 'robot2/link6', 'robot2/end_link', 'robot2/index_L1', 'robot2/index_L2', 'robot2/index_tip', 'robot2/middle_L1', 'robot2/middle_L2', 'robot2/middle_tip', 'robot2/ring_L1', 'robot2/ring_L2', 'robot2/ring_tip', 'robot2/pinky_L1', 'robot2/pinky_L2', 'robot2/pinky_tip', 'robot2/thumb_L1', 'robot2/thumb_L2', 'robot2/thumb_tip']\n",
      "n_joint:[32]\n",
      "joint_names:['robot1/joint1', 'robot1/joint2', 'robot1/joint3', 'robot1/joint4', 'robot1/joint5', 'robot1/joint6', 'robot1/index_q1', 'robot1/index_q2', 'robot1/middle_q1', 'robot1/middle_q2', 'robot1/ring_q1', 'robot1/ring_q2', 'robot1/pinky_q1', 'robot1/pinky_q2', 'robot1/thumb_q1', 'robot1/thumb_q2', 'robot2/joint1', 'robot2/joint2', 'robot2/joint3', 'robot2/joint4', 'robot2/joint5', 'robot2/joint6', 'robot2/index_q1', 'robot2/index_q2', 'robot2/middle_q1', 'robot2/middle_q2', 'robot2/ring_q1', 'robot2/ring_q2', 'robot2/pinky_q1', 'robot2/pinky_q2', 'robot2/thumb_q1', 'robot2/thumb_q2']\n",
      "joint_types:[3 3 3 3 3 3 3 3 3 3 3 3 3 3 3 3 3 3 3 3 3 3 3 3 3 3 3 3 3 3 3 3]\n",
      "[robot1/joint1] range: [-180.000]deg~[180.000]deg\n",
      "[robot1/joint2] range: [-90.000]deg~[90.000]deg\n",
      "[robot1/joint3] range: [-180.000]deg~[90.000]deg\n",
      "[robot1/joint4] range: [-157.500]deg~[157.500]deg\n",
      "[robot1/joint5] range: [-90.000]deg~[90.000]deg\n",
      "[robot1/joint6] range: [-180.000]deg~[180.000]deg\n",
      "[robot1/index_q1] range: [0.000]deg~[95.000]deg\n",
      "[robot1/index_q2] range: [0.000]deg~[142.012]deg\n",
      "[robot1/middle_q1] range: [0.000]deg~[95.000]deg\n",
      "[robot1/middle_q2] range: [0.000]deg~[142.012]deg\n",
      "[robot1/ring_q1] range: [0.000]deg~[95.000]deg\n",
      "[robot1/ring_q2] range: [0.000]deg~[142.012]deg\n",
      "[robot1/pinky_q1] range: [0.000]deg~[95.000]deg\n",
      "[robot1/pinky_q2] range: [0.000]deg~[142.012]deg\n",
      "[robot1/thumb_q1] range: [-95.000]deg~[0.000]deg\n",
      "[robot1/thumb_q2] range: [0.000]deg~[95.000]deg\n",
      "[robot2/joint1] range: [-180.000]deg~[180.000]deg\n",
      "[robot2/joint2] range: [-90.000]deg~[90.000]deg\n",
      "[robot2/joint3] range: [-180.000]deg~[90.000]deg\n",
      "[robot2/joint4] range: [-157.500]deg~[157.500]deg\n",
      "[robot2/joint5] range: [-90.000]deg~[90.000]deg\n",
      "[robot2/joint6] range: [-180.000]deg~[180.000]deg\n",
      "[robot2/index_q1] range: [0.000]deg~[95.000]deg\n",
      "[robot2/index_q2] range: [0.000]deg~[142.012]deg\n",
      "[robot2/middle_q1] range: [0.000]deg~[95.000]deg\n",
      "[robot2/middle_q2] range: [0.000]deg~[142.012]deg\n",
      "[robot2/ring_q1] range: [0.000]deg~[95.000]deg\n",
      "[robot2/ring_q2] range: [0.000]deg~[142.012]deg\n",
      "[robot2/pinky_q1] range: [0.000]deg~[95.000]deg\n",
      "[robot2/pinky_q2] range: [0.000]deg~[142.012]deg\n",
      "[robot2/thumb_q1] range: [-95.000]deg~[0.000]deg\n",
      "[robot2/thumb_q2] range: [0.000]deg~[95.000]deg\n",
      "n_rev_joint:[32]\n",
      "rev_joint_idxs:[ 0  1  2  3  4  5  6  7  8  9 10 11 12 13 14 15 16 17 18 19 20 21 22 23\n",
      " 24 25 26 27 28 29 30 31]\n",
      "rev_joint_names:['robot1/joint1', 'robot1/joint2', 'robot1/joint3', 'robot1/joint4', 'robot1/joint5', 'robot1/joint6', 'robot1/index_q1', 'robot1/index_q2', 'robot1/middle_q1', 'robot1/middle_q2', 'robot1/ring_q1', 'robot1/ring_q2', 'robot1/pinky_q1', 'robot1/pinky_q2', 'robot1/thumb_q1', 'robot1/thumb_q2', 'robot2/joint1', 'robot2/joint2', 'robot2/joint3', 'robot2/joint4', 'robot2/joint5', 'robot2/joint6', 'robot2/index_q1', 'robot2/index_q2', 'robot2/middle_q1', 'robot2/middle_q2', 'robot2/ring_q1', 'robot2/ring_q2', 'robot2/pinky_q1', 'robot2/pinky_q2', 'robot2/thumb_q1', 'robot2/thumb_q2']\n",
      "rev_joint_mins:[-3.14159 -1.5708  -3.14159 -2.74889 -1.5708  -3.14159  0.       0.\n",
      "  0.       0.       0.       0.       0.       0.      -1.65806  0.\n",
      " -3.14159 -1.5708  -3.14159 -2.74889 -1.5708  -3.14159  0.       0.\n",
      "  0.       0.       0.       0.       0.       0.      -1.65806  0.     ]\n",
      "rev_joint_maxs:[3.14159 1.5708  1.5708  2.74889 1.5708  3.14159 1.65806 2.47858 1.65806\n",
      " 2.47858 1.65806 2.47858 1.65806 2.47858 0.      1.65806 3.14159 1.5708\n",
      " 1.5708  2.74889 1.5708  3.14159 1.65806 2.47858 1.65806 2.47858 1.65806\n",
      " 2.47858 1.65806 2.47858 0.      1.65806]\n",
      "rev_joint_ranges:[6.28318 3.1416  4.71239 5.49778 3.1416  6.28318 1.65806 2.47858 1.65806\n",
      " 2.47858 1.65806 2.47858 1.65806 2.47858 1.65806 1.65806 6.28318 3.1416\n",
      " 4.71239 5.49778 3.1416  6.28318 1.65806 2.47858 1.65806 2.47858 1.65806\n",
      " 2.47858 1.65806 2.47858 1.65806 1.65806]\n",
      "n_pri_joint:[0]\n",
      "pri_joint_idxs:[]\n",
      "pri_joint_names:[]\n",
      "pri_joint_mins:[]\n",
      "pri_joint_maxs:[]\n",
      "pri_joint_ranges:[]\n",
      "n_ctrl:[0]\n",
      "ctrl_names:[]\n",
      "ctrl_joint_idxs:[]\n",
      "ctrl_joint_names:[]\n",
      "ctrl_qvel_idxs:[]\n",
      "ctrl_ranges:\n",
      "[]\n",
      "n_sensor:[0]\n",
      "sensor_names:[]\n",
      "n_site:[0]\n",
      "site_names:[]\n",
      "Done.\n"
     ]
    }
   ],
   "source": [
    "xml_path = '../asset/kimlab_dualarms/scene_dualarms.xml'\n",
    "env = MuJoCoParserClass(name='Dual Arms',rel_xml_path=xml_path,VERBOSE=True)\n",
    "env.set_geom_color(\n",
    "    rgba                = (0.2,0.2,1.0,0.9),\n",
    "    body_names_to_color = [\n",
    "        'robot1/end_link','robot1/index_L1','robot1/index_L2','robot1/index_tip',\n",
    "        'robot1/middle_L1','robot1/middle_L2','robot1/middle_tip',\n",
    "        'robot1/ring_L1','robot1/ring_L2','robot1/ring_tip',\n",
    "        'robot1/pinky_L1','robot1/pinky_L2','robot1/pinky_tip',\n",
    "        'robot1/thumb_L1','robot1/thumb_L2','robot1/thumb_tip'],\n",
    ")\n",
    "env.set_geom_color(\n",
    "    rgba                = (1.0,0.2,0.2,0.9),\n",
    "    body_names_to_color = [\n",
    "        'robot2/end_link','robot2/index_L1','robot2/index_L2','robot2/index_tip',\n",
    "        'robot2/middle_L1','robot2/middle_L2','robot2/middle_tip',\n",
    "        'robot2/ring_L1','robot2/ring_L2','robot2/ring_tip',\n",
    "        'robot2/pinky_L1','robot2/pinky_L2','robot2/pinky_tip',\n",
    "        'robot2/thumb_L1','robot2/thumb_L2','robot2/thumb_tip'],\n",
    ")\n",
    "print (\"Done.\")"
   ]
  },
  {
   "cell_type": "markdown",
   "id": "cd0143f5-c0ce-4bc9-881f-497f8edcc978",
   "metadata": {},
   "source": [
    "#### Slider Control"
   ]
  },
  {
   "cell_type": "code",
   "execution_count": 35,
   "id": "d7718c3a-574b-495c-b7de-1afea4161703",
   "metadata": {},
   "outputs": [
    {
     "name": "stdout",
     "output_type": "stream",
     "text": [
      "Pressed ESC\n",
      "Quitting.\n"
     ]
    }
   ],
   "source": [
    "env.reset() # reset\n",
    "joint_names_to_slide = env.rev_joint_names\n",
    "idxs_fwd         = env.get_idxs_fwd(joint_names=joint_names_to_slide) # idxs for qpos\n",
    "idxs_range       = get_idxs(env.joint_names,joint_names_to_slide) # idxs for joint_ranges\n",
    "q_init           = env.get_qpos_joints(joint_names_to_slide)\n",
    "n_joint_to_slide = len(joint_names_to_slide)\n",
    "\n",
    "sliders = MultiSliderClass(\n",
    "    n_slider      = n_joint_to_slide,\n",
    "    title         = 'Sliders for Common-Rig Control',\n",
    "    window_width  = 600,\n",
    "    window_height = 800,\n",
    "    x_offset      = 50,\n",
    "    y_offset      = 100,\n",
    "    slider_width  = 350,\n",
    "    label_texts   = joint_names_to_slide,\n",
    "    slider_mins   = env.joint_ranges[idxs_range,0],\n",
    "    slider_maxs   = env.joint_ranges[idxs_range,1],\n",
    "    slider_vals   = q_init,\n",
    "    resolution    = 0.01,\n",
    "    VERBOSE       = False,\n",
    ")\n",
    "\n",
    "# Initialize MuJoCo viewer\n",
    "env.init_viewer(\n",
    "    viewer_title='Common-Rig-H',viewer_width=1200,viewer_height=800,\n",
    "    viewer_hide_menus=True,\n",
    ")\n",
    "env.update_viewer(\n",
    "    azimuth=177,distance=1.42,elevation=-34,lookat=[0.25,-0.0,2.1],\n",
    "    VIS_TRANSPARENT=True,\n",
    ")\n",
    "\n",
    "# Reset and loop\n",
    "env.reset()\n",
    "while env.is_viewer_alive() and sliders.is_window_exists():\n",
    "    # Update\n",
    "    sliders.update() # update slider\n",
    "    qpos_curr = env.data.qpos.copy()\n",
    "    qpos_curr[idxs_fwd] = sliders.get_slider_values() # get slider values\n",
    "    coupled_joint_idxs_list = [\n",
    "        [6,7],[8,9],[10,11],[12,13],\n",
    "        [22,23],[24,25],[26,27],[28,29]\n",
    "    ]\n",
    "\n",
    "    # couple fingers\n",
    "    q_couple = qpos_curr.copy()\n",
    "    for i in range(len(coupled_joint_idxs_list)):\n",
    "        coupled_joint_idxs = coupled_joint_idxs_list[i]\n",
    "        q_couple[coupled_joint_idxs[1]] = qpos_curr[coupled_joint_idxs[0]] * 1.05851325 + 0.72349796\n",
    "        \n",
    "    env.forward(q=q_couple,INCREASE_TICK=True) # FK\n",
    "    sliders.set_slider_values(slider_values=env.data.qpos[idxs_fwd]) # update slider values\n",
    "\n",
    "    # for (i,joint_name) in enumerate(env.joint_names):\n",
    "    #     env.plot_T(p=env.get_p_joint(joint_name),R=np.eye(3),PLOT_AXIS=False,label=joint_name)\n",
    "\n",
    "    # Render\n",
    "    if env.loop_every(tick_every=10):\n",
    "        env.plot_T(p=np.zeros(3),R=np.eye(3,3),\n",
    "                   PLOT_AXIS=True,axis_len=0.5,axis_width=0.005)\n",
    "        env.plot_T(p=np.array([0,0,0.5]),R=np.eye(3),PLOT_AXIS=False,\n",
    "                   label='Tick:[%d]'%(env.tick))\n",
    "        env.plot_joint_axis(axis_len=0.02,axis_r=0.004,joint_names=joint_names_to_slide) # joint axis\n",
    "        env.plot_contact_info(h_arrow=0.3,rgba_arrow=[1,0,0,1],PRINT_CONTACT_BODY=True) # contact\n",
    "        env.render()\n",
    "        \n",
    "# Close MuJoCo viewer and sliders\n",
    "env.close_viewer()\n",
    "sliders.close()"
   ]
  },
  {
   "cell_type": "code",
   "execution_count": null,
   "id": "c1a0af64",
   "metadata": {},
   "outputs": [],
   "source": []
  }
 ],
 "metadata": {
  "kernelspec": {
   "display_name": "Python 3 (ipykernel)",
   "language": "python",
   "name": "python3"
  },
  "language_info": {
   "codemirror_mode": {
    "name": "ipython",
    "version": 3
   },
   "file_extension": ".py",
   "mimetype": "text/x-python",
   "name": "python",
   "nbconvert_exporter": "python",
   "pygments_lexer": "ipython3",
   "version": "3.9.19"
  }
 },
 "nbformat": 4,
 "nbformat_minor": 5
}
