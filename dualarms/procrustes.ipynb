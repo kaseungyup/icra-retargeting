{
 "cells": [
  {
   "cell_type": "code",
   "execution_count": 2,
   "metadata": {},
   "outputs": [
    {
     "name": "stdout",
     "output_type": "stream",
     "text": [
      "Processing data 2101\n",
      "Processing data 2102\n",
      "Processing data 2103\n",
      "Processing data 2104\n",
      "Processing data 2105\n",
      "Processing data 2106\n",
      "Processing data 2107\n",
      "Processing data 2108\n",
      "Processing data 2109\n",
      "Processing data 2110\n",
      "Processing data 2111\n",
      "Processing data 2112\n",
      "Processing data 2113\n",
      "Processing data 2114\n",
      "Processing data 2115\n",
      "Processing data 2116\n",
      "Processing data 2117\n",
      "Processing data 2118\n",
      "Processing data 2119\n",
      "Processing data 2120\n",
      "Processing data 2121\n",
      "Processing data 2122\n",
      "Processing data 2123\n",
      "Processing data 2124\n",
      "Processing data 2125\n",
      "Processing data 2126\n",
      "Processing data 2127\n",
      "Processing data 2128\n",
      "Processing data 2129\n",
      "Processing data 2130\n",
      "Processing data 2131\n",
      "Processing data 2132\n",
      "Processing data 2133\n",
      "Processing data 2134\n",
      "Processing data 2135\n",
      "Processing data 2136\n",
      "Processing data 2137\n",
      "Processing data 2138\n",
      "Processing data 2139\n",
      "Processing data 2140\n",
      "Processing data 2141\n",
      "Processing data 2142\n",
      "Processing data 2143\n",
      "Processing data 2144\n",
      "Processing data 2145\n",
      "Processing data 2146\n",
      "Processing data 2147\n",
      "Processing data 2148\n",
      "Processing data 2149\n",
      "Processing data 2150\n",
      "Processing data 2151\n",
      "Processing data 2152\n",
      "Processing data 2153\n",
      "Processing data 2154\n",
      "Processing data 2155\n",
      "Processing data 2156\n",
      "Processing data 2157\n",
      "Processing data 2158\n",
      "Processing data 2159\n",
      "Processing data 2160\n",
      "Processing data 2161\n",
      "Processing data 2162\n",
      "Processing data 2163\n",
      "Processing data 2164\n",
      "Processing data 2165\n",
      "Processing data 2166\n",
      "Processing data 2167\n",
      "Processing data 2168\n",
      "Processing data 2169\n",
      "Processing data 2170\n",
      "Processing data 2171\n",
      "Processing data 2172\n",
      "Processing data 2173\n",
      "Processing data 2174\n",
      "Processing data 2175\n",
      "Processing data 2176\n",
      "Processing data 2177\n",
      "Processing data 2178\n",
      "Processing data 2179\n",
      "Processing data 2180\n",
      "Processing data 2181\n",
      "Processing data 2182\n",
      "Processing data 2183\n",
      "Processing data 2184\n",
      "Processing data 2185\n",
      "Processing data 2186\n",
      "Processing data 2187\n",
      "Processing data 2188\n",
      "Processing data 2189\n",
      "Processing data 2190\n",
      "Processing data 2191\n",
      "Processing data 2192\n",
      "Processing data 2193\n",
      "Processing data 2194\n",
      "Processing data 2195\n",
      "Processing data 2196\n",
      "Processing data 2197\n",
      "Processing data 2198\n",
      "Processing data 2199\n",
      "Processing data 2200\n",
      "Processing data 2201\n",
      "Processing data 2202\n",
      "Processing data 2203\n",
      "Processing data 2204\n",
      "Processing data 2205\n",
      "Processing data 2206\n",
      "Processing data 2207\n",
      "Processing data 2208\n",
      "Processing data 2209\n",
      "Processing data 2210\n",
      "Processing data 2211\n",
      "Processing data 2212\n",
      "Processing data 2213\n",
      "Processing data 2214\n",
      "Processing data 2215\n",
      "Processing data 2216\n",
      "Processing data 2217\n",
      "Processing data 2218\n",
      "Processing data 2219\n",
      "Processing data 2220\n",
      "Processing data 2221\n",
      "Processing data 2222\n",
      "Processing data 2223\n",
      "Processing data 2224\n",
      "Processing data 2225\n",
      "Processing data 2226\n",
      "Processing data 2227\n",
      "Processing data 2228\n",
      "Processing data 2229\n",
      "Processing data 2230\n",
      "Processing data 2231\n",
      "Processing data 2232\n",
      "Processing data 2233\n",
      "Processing data 2234\n",
      "Processing data 2235\n",
      "Processing data 2236\n",
      "Processing data 2237\n",
      "Processing data 2238\n",
      "Processing data 2239\n",
      "Processing data 2240\n",
      "Processing data 2241\n",
      "Processing data 2242\n",
      "Processing data 2243\n",
      "Processing data 2244\n",
      "Processing data 2245\n",
      "Processing data 2246\n",
      "Processing data 2247\n",
      "Processing data 2248\n",
      "Processing data 2249\n",
      "Processing data 2250\n",
      "Processing data 2251\n",
      "Processing data 2252\n",
      "Processing data 2253\n",
      "Processing data 2254\n",
      "Processing data 2255\n",
      "Processing data 2256\n",
      "Processing data 2257\n",
      "Processing data 2258\n",
      "Processing data 2259\n",
      "Processing data 2260\n",
      "Processing data 2261\n",
      "Processing data 2262\n",
      "Processing data 2263\n",
      "Processing data 2264\n",
      "Processing data 2265\n",
      "Processing data 2266\n",
      "Processing data 2267\n",
      "Processing data 2268\n",
      "Processing data 2269\n",
      "Processing data 2270\n",
      "Processing data 2271\n",
      "Processing data 2272\n",
      "Processing data 2273\n",
      "Processing data 2274\n",
      "Processing data 2275\n",
      "Processing data 2276\n",
      "Processing data 2277\n",
      "Processing data 2278\n",
      "Processing data 2279\n",
      "Processing data 2280\n",
      "Processing data 2281\n",
      "Processing data 2282\n",
      "Processing data 2283\n",
      "Processing data 2284\n",
      "Processing data 2285\n",
      "Processing data 2286\n",
      "Processing data 2287\n",
      "Processing data 2288\n",
      "Processing data 2289\n",
      "Processing data 2290\n",
      "Processing data 2291\n",
      "Processing data 2292\n",
      "Processing data 2293\n",
      "Processing data 2294\n",
      "Processing data 2295\n",
      "Processing data 2296\n",
      "Processing data 2297\n",
      "Processing data 2298\n",
      "Processing data 2299\n",
      "Processing data 2300\n",
      "Processing data 2301\n",
      "Processing data 2302\n",
      "Processing data 2303\n",
      "Processing data 2304\n",
      "Processing data 2305\n",
      "Processing data 2306\n",
      "Processing data 2307\n",
      "Processing data 2308\n",
      "Processing data 2309\n",
      "Processing data 2310\n",
      "Processing data 2311\n",
      "Processing data 2312\n",
      "Processing data 2313\n",
      "Processing data 2314\n",
      "Processing data 2315\n",
      "Processing data 2316\n",
      "Processing data 2317\n",
      "Processing data 2318\n",
      "Processing data 2319\n",
      "Processing data 2320\n",
      "Processing data 2321\n",
      "Processing data 2322\n",
      "Processing data 2323\n",
      "Processing data 2324\n",
      "Processing data 2325\n",
      "Processing data 2326\n",
      "Processing data 2327\n",
      "Processing data 2328\n",
      "Processing data 2329\n",
      "Processing data 2330\n",
      "Processing data 2331\n",
      "Processing data 2332\n",
      "Processing data 2333\n",
      "Processing data 2334\n",
      "Processing data 2335\n",
      "Processing data 2336\n",
      "Processing data 2337\n",
      "Processing data 2338\n",
      "Processing data 2339\n",
      "Processing data 2340\n",
      "Processing data 2341\n",
      "Processing data 2342\n",
      "Processing data 2343\n",
      "Processing data 2344\n",
      "Processing data 2345\n",
      "Processing data 2346\n",
      "Processing data 2347\n",
      "Processing data 2348\n",
      "Processing data 2349\n",
      "Processing data 2350\n",
      "Processing data 2351\n",
      "Processing data 2352\n",
      "Processing data 2353\n",
      "Processing data 2354\n",
      "Processing data 2355\n",
      "Processing data 2356\n",
      "Processing data 2357\n",
      "Processing data 2358\n",
      "Processing data 2359\n",
      "Processing data 2360\n",
      "Processing data 2361\n",
      "Processing data 2362\n",
      "Processing data 2363\n",
      "Processing data 2364\n",
      "Processing data 2365\n",
      "Processing data 2366\n",
      "Processing data 2367\n",
      "Processing data 2368\n",
      "Processing data 2369\n",
      "Processing data 2370\n",
      "Processing data 2371\n",
      "Processing data 2372\n",
      "Processing data 2373\n",
      "Processing data 2374\n",
      "Processing data 2375\n",
      "Processing data 2376\n",
      "Processing data 2377\n",
      "Processing data 2378\n",
      "Processing data 2379\n",
      "Processing data 2380\n",
      "Processing data 2381\n",
      "Processing data 2382\n",
      "Processing data 2383\n",
      "Processing data 2384\n",
      "Processing data 2385\n",
      "Processing data 2386\n",
      "Processing data 2387\n",
      "Processing data 2388\n",
      "Processing data 2389\n",
      "Processing data 2390\n",
      "Processing data 2391\n",
      "Processing data 2392\n",
      "Processing data 2393\n",
      "Processing data 2394\n",
      "Processing data 2395\n",
      "Processing data 2396\n",
      "Processing data 2397\n",
      "Processing data 2398\n",
      "Processing data 2399\n"
     ]
    }
   ],
   "source": [
    "import torch,sys,pickle,os,time\n",
    "import numpy as np\n",
    "sys.path.append('../utils')\n",
    "from mujoco_parser import MuJoCoParserClass\n",
    "from util import rpy2r,get_idxs,np_uv\n",
    "from tqdm import tqdm\n",
    "\n",
    "comp_device = torch.device(\"cuda\" if torch.cuda.is_available() else \"cpu\")\n",
    "\n",
    "\n",
    "data_list = range(2101,2400)\n",
    "for data_number in data_list:\n",
    "    if os.path.exists('../data/both57m_rigged/%d.pkl' % data_number):\n",
    "        start_time = time.time()\n",
    "        print('Processing data %d' % data_number)\n",
    "        xml_path = '../asset/smplh_rig/scene_smplh_rig.xml'\n",
    "        env = MuJoCoParserClass(name='Common-Rig',rel_xml_path=xml_path,VERBOSE=False)\n",
    "\n",
    "        with open('../data/both57m_rigged/%d.pkl' % data_number, 'rb') as f:\n",
    "            data = pickle.load(f)\n",
    "\n",
    "        ZERO_ROOT = True\n",
    "        video = []\n",
    "        tick = 0\n",
    "        seq_len = data['length']\n",
    "\n",
    "        qpos_rig_data = data['qpos']\n",
    "        ls2le_array = np.zeros((seq_len,3))\n",
    "        le2lw_array = np.zeros((seq_len,3))\n",
    "        rs2re_array = np.zeros((seq_len,3))\n",
    "        re2rw_array = np.zeros((seq_len,3))\n",
    "        lw_rot_array = np.zeros((seq_len,3,3))\n",
    "        rw_rot_array = np.zeros((seq_len,3,3))\n",
    "        lh_array = np.zeros((seq_len,6))\n",
    "        rh_array = np.zeros((seq_len,6))\n",
    "        seq_array = np.zeros((2,seq_len,3))\n",
    "\n",
    "        while tick < seq_len:\n",
    "            q_rig = qpos_rig_data[tick,:]\n",
    "\n",
    "            if ZERO_ROOT:\n",
    "                q_rig[3:7] = 0\n",
    "            \n",
    "            env.forward(q=q_rig,INCREASE_TICK=True)\n",
    "            ls = env.get_p_body('left_shoulder')\n",
    "            le = env.get_p_body('left_elbow')\n",
    "            lw = env.get_p_body('left_wrist')\n",
    "            rs = env.get_p_body('right_shoulder')\n",
    "            re = env.get_p_body('right_elbow')\n",
    "            rw = env.get_p_body('right_wrist')\n",
    "\n",
    "            ls2le_array[tick,:] = np_uv(le-ls)\n",
    "            le2lw_array[tick,:] = np_uv(lw-le)\n",
    "            rs2re_array[tick,:] = np_uv(re-rs)\n",
    "            re2rw_array[tick,:] = np_uv(rw-re)\n",
    "            lw_rot_array[tick,:] = env.get_R_body('left_wrist')\n",
    "            rw_rot_array[tick,:] = env.get_R_body('right_wrist')\n",
    "            tick = tick + 1\n",
    "\n",
    "        vis_tick = 0\n",
    "        env.init_viewer(viewer_title='SMPLH-Rig',viewer_width=800,viewer_height=800,\n",
    "                        viewer_hide_menus=True)\n",
    "        env.update_viewer(azimuth=180,distance=3.0,elevation=-20,lookat=[0.02,-0.03,1.2])\n",
    "        env.reset()\n",
    "\n",
    "        recon_tick = 0\n",
    "\n",
    "        env.init_viewer(viewer_title='SMPLH-Rig',viewer_width=800,viewer_height=800,\n",
    "                        viewer_hide_menus=True)\n",
    "        env.update_viewer(azimuth=180,distance=3.0,elevation=-20,lookat=[0.02,-0.03,1.2])\n",
    "        env.reset()\n",
    "\n",
    "        BODY_NAMES = ['left_elbow','left_wrist','right_elbow','right_wrist']\n",
    "        JOINT_NAMES = ['l_shoulder1', 'l_shoulder2', 'l_shoulder3', 'l_elbow', 'l_wrist1', 'l_wrist2', 'l_wrist3',\n",
    "                    'r_shoulder1', 'r_shoulder2', 'r_shoulder3', 'r_elbow', 'r_wrist1', 'r_wrist2', 'r_wrist3']\n",
    "\n",
    "        hand_indices = list(range(27,49)) + list(range(54,76))\n",
    "        video = []\n",
    "        wrist_dist_list = []\n",
    "        smplh_lw_pos_list = []\n",
    "        smplh_rw_pos_list = []\n",
    "        q_smplh_up_list = []\n",
    "\n",
    "        ls = env.get_p_body('left_shoulder')\n",
    "        le = env.get_p_body('left_elbow')\n",
    "        lw = env.get_p_body('left_wrist')\n",
    "        rs = env.get_p_body('right_shoulder')\n",
    "        re = env.get_p_body('right_elbow')\n",
    "        rw = env.get_p_body('right_wrist')\n",
    "\n",
    "        len_ls2le = np.linalg.norm(le-ls)\n",
    "        len_le2lw = np.linalg.norm(lw-le)\n",
    "        len_rs2re = np.linalg.norm(re-rs)\n",
    "        len_re2rw = np.linalg.norm(rw-re)\n",
    "\n",
    "        while recon_tick < seq_len:\n",
    "            p_target = {}\n",
    "            p_target['left_elbow'] = ls + len_ls2le * ls2le_array[recon_tick,:]\n",
    "            p_target['left_wrist'] = p_target['left_elbow'] + len_le2lw * le2lw_array[recon_tick,:]\n",
    "            p_target['right_elbow'] = rs + len_rs2re * rs2re_array[recon_tick,]\n",
    "            p_target['right_wrist'] = p_target['right_elbow'] + len_re2rw * re2rw_array[recon_tick,:]\n",
    "            \n",
    "            idxs = get_idxs(env.rev_joint_names,JOINT_NAMES)\n",
    "            q_mins_body,q_maxs_body = env.rev_joint_mins[idxs],env.rev_joint_maxs[idxs]\n",
    "            joint_idxs_fwd_body = env.get_idxs_fwd(joint_names=JOINT_NAMES)\n",
    "            joint_idxs_jac_body = env.get_idxs_jac(joint_names=JOINT_NAMES)\n",
    "\n",
    "            q_body = env.get_qpos_joints(JOINT_NAMES)\n",
    "            body_diff = 1e3\n",
    "            prev_q_pos = env.data.qpos.copy()\n",
    "\n",
    "            while body_diff > 1e-3:\n",
    "                for ik_tick in range(1):\n",
    "                    J_list,ik_err_list = [],[]\n",
    "                    for ik_body_name in BODY_NAMES:\n",
    "                        ik_p_trgt = p_target[ik_body_name]\n",
    "                        ik_R_trgt = None\n",
    "                        IK_P = True\n",
    "                        IK_R = False\n",
    "                        J,ik_err = env.get_ik_ingredients(\n",
    "                            body_name=ik_body_name,p_trgt=ik_p_trgt,R_trgt=ik_R_trgt,\n",
    "                            IK_P=IK_P,IK_R=IK_R)\n",
    "                        J_list.append(J)\n",
    "                        ik_err_list.append(ik_err)\n",
    "                    J_stack      = np.vstack(J_list)\n",
    "                    ik_err_stack = np.hstack(ik_err_list)\n",
    "                    dq = env.damped_ls(J_stack,ik_err_stack,stepsize=1,eps=1e-2,th=np.radians(1.0))\n",
    "                    q_body = q_body + dq[joint_idxs_jac_body]\n",
    "\n",
    "                    q_body = np.clip(q_body,q_mins_body,q_maxs_body)\n",
    "                    env.forward(q=q_body,joint_idxs=joint_idxs_fwd_body)\n",
    "\n",
    "                    q_env = env.data.qpos.copy()\n",
    "                    body_diff = np.linalg.norm(q_env - prev_q_pos)\n",
    "                    prev_q_pos=q_env.copy()\n",
    "\n",
    "            q_rig = qpos_rig_data[recon_tick,:]\n",
    "            q_env[hand_indices] = q_rig[hand_indices]\n",
    "            env.forward(q=q_env,INCREASE_TICK=True)\n",
    "            q_smplh_up_list.append(q_env)\n",
    "\n",
    "            left_wrist_pos = env.get_p_body('left_wrist')\n",
    "            right_wrist_pos = env.get_p_body('right_wrist')\n",
    "            smplh_lw_pos_list.append(left_wrist_pos)\n",
    "            smplh_rw_pos_list.append(right_wrist_pos)\n",
    "            wrist_dist = np.linalg.norm(left_wrist_pos - right_wrist_pos)\n",
    "            wrist_dist_list.append(wrist_dist)\n",
    "            wrist_pos = np.vstack((left_wrist_pos,right_wrist_pos))\n",
    "            recon_tick += 1\n",
    "\n",
    "        q_smplh_up_array = np.array(q_smplh_up_list)\n",
    "        env.close_viewer()\n",
    "\n",
    "        xml_path = '../asset/kimlab_dualarms/scene_dualarms.xml'\n",
    "        env = MuJoCoParserClass(name='Dual Arms',rel_xml_path=xml_path,VERBOSE=False)\n",
    "        q_init = env.data.qpos.copy()\n",
    "        q_init[18] = -np.pi/2\n",
    "        env.forward(q=q_init)\n",
    "\n",
    "        robot_right_shoulder_pos = env.get_p_joint('robot2/joint1')\n",
    "        robot_right_wrist_pos = env.get_p_joint('robot2/joint6')\n",
    "        robot_left_shoulder_pos = env.get_p_joint('robot1/joint1')\n",
    "\n",
    "        robot_arm_length = np.linalg.norm(robot_right_shoulder_pos-robot_right_wrist_pos)\n",
    "\n",
    "        env.init_viewer(viewer_title='Dual Arms',viewer_width=800,viewer_height=800,viewer_hide_menus=True)\n",
    "        env.update_viewer(azimuth=180,distance=3.0,elevation=-20,lookat=[0.02,-0.03,1.2])\n",
    "        env.reset()\n",
    "\n",
    "        BODY_NAMES = ['robot1/end_link','robot2/end_link']\n",
    "        JOINT_NAMES = ['robot1/joint1','robot1/joint2','robot1/joint3','robot1/joint4','robot1/joint5','robot1/joint6',\n",
    "                    'robot2/joint1','robot2/joint2','robot2/joint3','robot2/joint4','robot2/joint5','robot2/joint6']\n",
    "\n",
    "        ls = env.get_p_body('robot1/link2')\n",
    "        le = env.get_p_body('robot1/link4')\n",
    "        lw = env.get_p_body('robot1/link6')\n",
    "        rs = env.get_p_body('robot2/link2')\n",
    "        re = env.get_p_body('robot2/link4')\n",
    "        rw = env.get_p_body('robot2/link6')\n",
    "\n",
    "        len_ls2le = np.linalg.norm(le-ls)\n",
    "        len_le2lw = np.linalg.norm(lw-le)\n",
    "        len_rs2re = np.linalg.norm(re-rs)\n",
    "        len_re2rw = np.linalg.norm(rw-re)\n",
    "\n",
    "        q_env_array = np.zeros((seq_len,env.model.nq))\n",
    "\n",
    "        for tick in tqdm(range(seq_len), desc=\"Processing\"):\n",
    "            p_target = {}\n",
    "            delta_lw = len_ls2le * ls2le_array[tick,:] + len_le2lw * le2lw_array[tick,:]\n",
    "            p_target['robot1/end_link'] = ls + delta_lw\n",
    "            delta_rw = len_rs2re * rs2re_array[tick,:] + len_re2rw * re2rw_array[tick,:]\n",
    "            p_target['robot2/end_link'] = rs + delta_rw\n",
    "            \n",
    "            R_target = {}\n",
    "            R_target['robot1/end_link'] = lw_rot_array[tick,:] @ rpy2r(np.radians([0,0,90]))\n",
    "            R_target['robot2/end_link'] = rw_rot_array[tick,:] @ rpy2r(np.radians([0,0,-90]))\n",
    "\n",
    "            idxs = get_idxs(env.rev_joint_names,JOINT_NAMES)\n",
    "            q_mins_body,q_maxs_body = env.rev_joint_mins[idxs],env.rev_joint_maxs[idxs]\n",
    "            joint_idxs_fwd_body = env.get_idxs_fwd(joint_names=JOINT_NAMES)\n",
    "            joint_idxs_jac_body = env.get_idxs_jac(joint_names=JOINT_NAMES)\n",
    "\n",
    "            q_body = env.get_qpos_joints(JOINT_NAMES)\n",
    "            body_diff = 1e3\n",
    "            prev_q_pos = env.data.qpos.copy()\n",
    "\n",
    "            while body_diff > 1e-3:\n",
    "                for ik_tick in range(1):\n",
    "                    J_list,ik_err_list = [],[]\n",
    "                    for ik_body_name in BODY_NAMES:\n",
    "                        ik_p_trgt = p_target[ik_body_name]\n",
    "                        ik_R_trgt = R_target[ik_body_name]\n",
    "                        IK_P = True\n",
    "                        IK_R = True\n",
    "                        J,ik_err = env.get_ik_ingredients(\n",
    "                            body_name=ik_body_name,p_trgt=ik_p_trgt,R_trgt=ik_R_trgt,\n",
    "                            IK_P=IK_P,IK_R=IK_R)\n",
    "                        J_list.append(J)\n",
    "                        ik_err_list.append(ik_err)\n",
    "                    J_stack      = np.vstack(J_list)\n",
    "                    ik_err_stack = np.hstack(ik_err_list)\n",
    "                    dq = env.damped_ls(J_stack,ik_err_stack,stepsize=1,eps=1e-2,th=np.radians(1.0))\n",
    "                    q_body = q_body + dq[joint_idxs_jac_body]\n",
    "\n",
    "                    q_body = np.clip(q_body,q_mins_body,q_maxs_body)\n",
    "                    env.forward(q=q_body,joint_idxs=joint_idxs_fwd_body)\n",
    "\n",
    "                    q_env = env.data.qpos.copy()\n",
    "                    body_diff = np.linalg.norm(q_env - prev_q_pos)\n",
    "                    prev_q_pos=q_env.copy()\n",
    "\n",
    "                curr_time = time.time()\n",
    "                if curr_time - start_time > 15:\n",
    "                    break\n",
    "\n",
    "            q_env_array[tick,:] = q_env\n",
    "            curr_time = time.time()\n",
    "            if curr_time - start_time > 15:\n",
    "                break\n",
    "\n",
    "        seq_array[0,:,:] = np.array(smplh_lw_pos_list)\n",
    "        seq_array[1,:,:] = np.array(smplh_rw_pos_list)\n",
    "        np.save('data/smplh_sequence/%d.npy' % data_number, seq_array)\n",
    "        np.save('data/baseline_data/%d.npy' % data_number,q_env_array)\n",
    "        env.close_viewer()\n"
   ]
  },
  {
   "cell_type": "code",
   "execution_count": 5,
   "metadata": {},
   "outputs": [
    {
     "name": "stdout",
     "output_type": "stream",
     "text": [
      "Processing data 0\n",
      "Left: 0.0033450713047809572\n",
      "Right: 0.4902971845342796\n",
      "Processing data 1\n",
      "Processing data 2\n",
      "Left: 0.9217432052217023\n",
      "Right: 0.39374873181138376\n",
      "Processing data 3\n",
      "Left: 0.8870322897462326\n",
      "Right: 0.11282979009071223\n",
      "Processing data 4\n",
      "Left: 0.4306456338950102\n",
      "Right: 0.13300666820764384\n",
      "Processing data 5\n",
      "Processing data 6\n",
      "Processing data 7\n",
      "Left: 0.9012671240432168\n",
      "Right: 0.3135874107087109\n",
      "Processing data 8\n",
      "Processing data 9\n",
      "Processing data 10\n",
      "Processing data 11\n",
      "Processing data 12\n",
      "Processing data 13\n",
      "Left: 0.4083303982640286\n",
      "Right: 0.45814288200669473\n",
      "Processing data 14\n",
      "Processing data 15\n",
      "Processing data 16\n",
      "Left: 0.15298412884335355\n",
      "Right: 0.36109189377473594\n",
      "Processing data 17\n",
      "Left: 0.24150579056584257\n",
      "Right: 0.48117571280418325\n",
      "Processing data 18\n",
      "Left: 0.6546360731121528\n",
      "Right: 0.5887042779954829\n",
      "Processing data 19\n",
      "Left: 0.8278133689781988\n",
      "Right: 0.5284922064148052\n",
      "Processing data 20\n",
      "Processing data 21\n",
      "Processing data 22\n",
      "Processing data 23\n",
      "Processing data 24\n",
      "Processing data 25\n",
      "Left: 0.3085592559861174\n",
      "Right: 0.1589534892905041\n",
      "Processing data 26\n",
      "Left: 0.387769867778021\n",
      "Right: 0.028562452221864324\n",
      "Processing data 27\n",
      "Processing data 28\n",
      "Processing data 29\n",
      "Left: 0.530549452097544\n",
      "Right: 0.32741032418914195\n",
      "Processing data 30\n",
      "Processing data 31\n",
      "Processing data 32\n",
      "Processing data 33\n",
      "Left: 0.9252978800472432\n",
      "Right: 0.6263952181163461\n",
      "Processing data 34\n",
      "Processing data 35\n",
      "Processing data 36\n",
      "Processing data 37\n",
      "Processing data 38\n",
      "Left: 0.47102026288475773\n",
      "Right: 0.2779359161277273\n",
      "Processing data 39\n",
      "Left: 0.34655902586127413\n",
      "Right: 0.02234979115779094\n",
      "Processing data 40\n",
      "Left: 0.5895558239999831\n",
      "Right: 0.7536290390814209\n",
      "Processing data 42\n",
      "Left: 0.8348073484984476\n",
      "Right: 0.9615169005355849\n",
      "Processing data 43\n",
      "Left: 0.09552948449152018\n",
      "Right: 0.8418782076877538\n",
      "Processing data 44\n",
      "Processing data 45\n",
      "Processing data 46\n",
      "Processing data 47\n",
      "Left: 0.49390607440888473\n",
      "Right: 0.4463343650195457\n",
      "Processing data 48\n",
      "Processing data 49\n",
      "Left: 0.31532443379745806\n",
      "Right: 0.003418297202333315\n",
      "Processing data 50\n",
      "Left: 0.4060815285325039\n",
      "Right: 0.00667284939676435\n",
      "Processing data 51\n",
      "Left: 0.3936003896960991\n",
      "Right: 0.41205136347495397\n",
      "Processing data 52\n",
      "Processing data 53\n",
      "Left: 0.48457362194547743\n",
      "Right: 0.6792338072149874\n",
      "Processing data 54\n",
      "Left: 0.7076135665178197\n",
      "Right: 0.004459428628814497\n",
      "Processing data 55\n",
      "Processing data 56\n",
      "Processing data 57\n",
      "Left: 0.0019444427137229815\n",
      "Right: 0.33087393008922417\n",
      "Processing data 58\n",
      "Left: 0.8257211776407581\n",
      "Right: 0.2057538770413503\n",
      "Processing data 59\n",
      "Processing data 60\n",
      "Left: 0.2534055216182186\n",
      "Right: 0.9475210670728718\n",
      "Processing data 61\n",
      "Left: 0.6479733063396744\n",
      "Right: 0.8884483271834293\n",
      "Processing data 62\n",
      "Processing data 63\n",
      "Left: 0.022076303262244842\n",
      "Right: 0.865462206126022\n",
      "Processing data 65\n",
      "Left: 0.49561137232208713\n",
      "Right: 0.014488218549742122\n",
      "Processing data 66\n",
      "Processing data 67\n",
      "Left: 0.7789330174846989\n",
      "Right: 0.2060569814484431\n",
      "Processing data 68\n",
      "Left: 0.5893301689057339\n",
      "Right: 0.12252817131401811\n",
      "Processing data 69\n",
      "Left: 0.611845759049011\n",
      "Right: 0.6439277586366365\n",
      "Processing data 70\n",
      "Processing data 71\n",
      "Processing data 72\n",
      "Processing data 73\n",
      "Left: 0.28323072356751666\n",
      "Right: 0.7837581257349819\n",
      "Processing data 74\n",
      "Left: 0.38137569270458094\n",
      "Right: 0.0034897901943847457\n",
      "Processing data 75\n",
      "Processing data 76\n",
      "Processing data 77\n",
      "Processing data 78\n",
      "Processing data 79\n",
      "Left: 0.1337795407221884\n",
      "Right: 0.577962960944275\n",
      "Processing data 80\n",
      "Processing data 81\n",
      "Left: 0.6699695394606386\n",
      "Right: 0.14480499682159947\n",
      "Processing data 82\n",
      "Left: 0.004878710333779183\n",
      "Right: 0.3891399099034378\n",
      "Processing data 83\n",
      "Processing data 84\n",
      "Processing data 85\n",
      "Processing data 86\n",
      "Left: 0.4659977400341653\n",
      "Right: 0.0036966088233109217\n",
      "Processing data 87\n",
      "Processing data 88\n",
      "Left: 0.7318010359461412\n",
      "Right: 0.05931202809880769\n",
      "Processing data 89\n",
      "Left: 0.9418080272105387\n",
      "Right: 0.3975365428294855\n",
      "Processing data 90\n",
      "Processing data 91\n",
      "Processing data 92\n",
      "Left: 0.6361464618373956\n",
      "Right: 0.5140969519559413\n",
      "Processing data 93\n",
      "Left: 0.055366999124045295\n",
      "Right: 0.40588869625582813\n",
      "Processing data 94\n",
      "Left: 0.3893434702077795\n",
      "Right: 0.19742580554719974\n",
      "Processing data 95\n",
      "Left: 0.017448275536516032\n",
      "Right: 0.3770601170100545\n",
      "Processing data 96\n",
      "Processing data 97\n",
      "Left: 0.31346753738516897\n",
      "Right: 0.31125398886169947\n",
      "Processing data 98\n",
      "Processing data 99\n",
      "Processing data 100\n",
      "Processing data 101\n",
      "Processing data 102\n",
      "Left: 0.5017012541862189\n",
      "Right: 0.1981821591736841\n",
      "Processing data 103\n",
      "Processing data 104\n",
      "Left: 0.4434892925674491\n",
      "Right: 0.042393771495834384\n",
      "Processing data 105\n",
      "Processing data 106\n",
      "Left: 0.0739291095801011\n",
      "Right: 0.7278439449839932\n",
      "Processing data 107\n",
      "Processing data 108\n",
      "Processing data 109\n",
      "Processing data 110\n",
      "Left: 0.0786134065589908\n",
      "Right: 0.5355466031863081\n",
      "Processing data 111\n",
      "Processing data 112\n",
      "Left: 0.3405145035736822\n",
      "Right: 0.02993192465209093\n",
      "Processing data 113\n",
      "Processing data 114\n",
      "Processing data 115\n",
      "Processing data 116\n",
      "Processing data 117\n",
      "Processing data 118\n",
      "Processing data 119\n",
      "Left: 0.08820370121567897\n",
      "Right: 0.4627001385032622\n",
      "Processing data 120\n",
      "Left: 0.7358343579131036\n",
      "Right: 0.05782048281272205\n",
      "Processing data 121\n",
      "Left: 0.2656197365551829\n",
      "Right: 0.5503753199024576\n",
      "Processing data 122\n",
      "Left: 0.31934177172889\n",
      "Right: 0.2900858980176244\n",
      "Processing data 123\n",
      "Processing data 124\n",
      "Left: 0.8013247789594822\n",
      "Right: 0.6513593158745221\n",
      "Processing data 125\n",
      "Processing data 126\n",
      "Processing data 127\n",
      "Processing data 128\n",
      "Processing data 129\n",
      "Processing data 130\n",
      "Left: 0.6000351202954058\n",
      "Right: 0.006996513497259401\n",
      "Processing data 131\n",
      "Left: 0.4487436773525273\n",
      "Right: 0.00505052845111787\n",
      "Processing data 132\n",
      "Left: 0.24879279659155853\n",
      "Right: 0.6407512052781041\n",
      "Processing data 133\n",
      "Left: 0.116812684200652\n",
      "Right: 0.45868270387635507\n",
      "Processing data 134\n",
      "Processing data 135\n",
      "Processing data 136\n",
      "Left: 0.39024540110471495\n",
      "Right: 0.3099330461553594\n",
      "Processing data 137\n",
      "Processing data 138\n",
      "Processing data 139\n",
      "Left: 0.12154156402349806\n",
      "Right: 0.36426618360860563\n",
      "Processing data 140\n",
      "Processing data 141\n",
      "Left: 0.0029529516281872723\n",
      "Right: 0.3907309614685103\n",
      "Processing data 142\n",
      "Processing data 143\n",
      "Processing data 144\n",
      "Processing data 145\n",
      "Processing data 146\n",
      "Processing data 147\n",
      "Processing data 148\n",
      "Left: 0.4165170044919352\n",
      "Right: 0.053342392510268476\n",
      "Processing data 149\n",
      "Left: 0.8584129883969827\n",
      "Right: 0.003711340537993912\n",
      "Processing data 150\n",
      "Processing data 151\n",
      "Left: 0.5414473587151398\n",
      "Right: 0.028836980558705903\n",
      "Processing data 152\n",
      "Processing data 153\n",
      "Processing data 154\n",
      "Processing data 155\n",
      "Processing data 156\n",
      "Processing data 157\n",
      "Processing data 158\n",
      "Processing data 159\n",
      "Processing data 160\n",
      "Processing data 161\n",
      "Processing data 162\n",
      "Processing data 163\n",
      "Left: 0.011189201297271571\n",
      "Right: 0.9065088202276559\n",
      "Processing data 164\n",
      "Processing data 165\n",
      "Left: 0.4378810681339517\n",
      "Right: 0.2241735709445221\n",
      "Processing data 166\n",
      "Processing data 167\n",
      "Processing data 168\n",
      "Left: 0.8020241485168353\n",
      "Right: 0.250010548374843\n",
      "Processing data 169\n",
      "Left: 0.44150620496097304\n",
      "Right: 0.00439615690529106\n",
      "Processing data 170\n",
      "Left: 0.3588128450495114\n",
      "Right: 0.20528141436359681\n",
      "Processing data 171\n",
      "Processing data 172\n",
      "Left: 0.392722922224074\n",
      "Right: 0.24158027944778465\n",
      "Processing data 173\n",
      "Left: 0.5345315378239726\n",
      "Right: 0.1976189162977195\n",
      "Processing data 174\n",
      "Left: 0.32835937410947436\n",
      "Right: 0.08302006844638074\n",
      "Processing data 175\n",
      "Processing data 176\n",
      "Left: 0.48446209545996954\n",
      "Right: 0.10901802066690353\n",
      "Processing data 177\n",
      "Processing data 178\n",
      "Processing data 179\n",
      "Left: 0.07633200789739614\n",
      "Right: 0.3750007795931745\n",
      "Processing data 180\n",
      "Left: 0.2271539037494469\n",
      "Right: 0.3349783381107927\n",
      "Processing data 181\n",
      "Left: 0.004453384160040553\n",
      "Right: 0.3076582818710554\n",
      "Processing data 182\n",
      "Processing data 183\n",
      "Processing data 184\n",
      "Processing data 185\n",
      "Left: 0.5716782731236836\n",
      "Right: 0.2791340134512944\n",
      "Processing data 186\n",
      "Processing data 187\n",
      "Left: 0.006163792670039223\n",
      "Right: 0.34832519447659227\n",
      "Processing data 188\n",
      "Left: 0.6666690260943702\n",
      "Right: 0.2513108841341549\n",
      "Processing data 189\n",
      "Processing data 190\n",
      "Processing data 191\n",
      "Processing data 192\n",
      "Processing data 193\n",
      "Processing data 194\n",
      "Left: 0.4640556867153338\n",
      "Right: 0.03297544829982138\n",
      "Processing data 195\n",
      "Left: 0.30233871184582933\n",
      "Right: 0.009539744459922733\n",
      "Processing data 196\n",
      "Processing data 197\n",
      "Left: 0.18786227031496314\n",
      "Right: 0.33661661479217386\n",
      "Processing data 198\n",
      "Processing data 199\n",
      "Processing data 200\n",
      "Processing data 201\n",
      "Processing data 202\n",
      "Left: 0.011675879503665061\n",
      "Right: 0.3254537773406502\n",
      "Processing data 203\n",
      "Processing data 204\n",
      "Left: 0.005824716243500646\n",
      "Right: 0.7091192974649716\n",
      "Processing data 205\n",
      "Processing data 206\n",
      "Left: 0.25490627838823937\n",
      "Right: 0.4914290564395756\n",
      "Processing data 207\n",
      "Left: 0.009620099139424524\n",
      "Right: 0.5645879201582912\n",
      "Processing data 208\n",
      "Left: 0.4062959787690271\n",
      "Right: 0.30242690113943027\n",
      "Processing data 209\n",
      "Left: 0.01890866290910801\n",
      "Right: 0.6639056657246651\n",
      "Processing data 210\n",
      "Left: 0.05603695619368074\n",
      "Right: 0.5786271742438804\n",
      "Processing data 211\n",
      "Left: 0.010634995972795387\n",
      "Right: 0.744436104078003\n",
      "Processing data 212\n",
      "Processing data 213\n",
      "Processing data 214\n",
      "Processing data 215\n",
      "Left: 0.16051270177690055\n",
      "Right: 0.5430672317307774\n",
      "Processing data 216\n",
      "Left: 0.5429697193610019\n",
      "Right: 0.6994058904286794\n",
      "Processing data 217\n",
      "Left: 0.3706507930388482\n",
      "Right: 0.6083764419657822\n",
      "Processing data 218\n",
      "Processing data 219\n",
      "Processing data 220\n",
      "Processing data 221\n",
      "Left: 0.02621819599293079\n",
      "Right: 0.34455684317295343\n",
      "Processing data 222\n",
      "Left: 0.31441582335353424\n",
      "Right: 0.7166602682608416\n",
      "Processing data 223\n",
      "Processing data 224\n",
      "Left: 0.18443293323774743\n",
      "Right: 0.3366615831230951\n",
      "Processing data 225\n",
      "Processing data 226\n",
      "Processing data 227\n",
      "Processing data 228\n",
      "Processing data 229\n",
      "Processing data 230\n",
      "Left: 0.3380568444776325\n",
      "Right: 0.004404022522888936\n",
      "Processing data 231\n",
      "Processing data 232\n",
      "Processing data 233\n",
      "Processing data 234\n",
      "Processing data 235\n",
      "Processing data 236\n",
      "Processing data 237\n",
      "Processing data 238\n",
      "Processing data 239\n",
      "Processing data 240\n",
      "Processing data 241\n",
      "Left: 0.6194050990034855\n",
      "Right: 0.6244359619003335\n",
      "Processing data 242\n",
      "Left: 0.14891913504872353\n",
      "Right: 0.3624340533288177\n",
      "Processing data 243\n",
      "Processing data 244\n",
      "Left: 0.38632706402373573\n",
      "Right: 0.4265070293128668\n",
      "Processing data 245\n",
      "Processing data 246\n",
      "Processing data 247\n",
      "Processing data 248\n",
      "Processing data 249\n",
      "Processing data 250\n",
      "Left: 0.8770031397257608\n",
      "Right: 0.5083870963994371\n",
      "Processing data 251\n",
      "Left: 0.5674860488905855\n",
      "Right: 0.9477638625971366\n",
      "Processing data 252\n",
      "Processing data 253\n",
      "Processing data 254\n",
      "Left: 0.38379701874880534\n",
      "Right: 0.004593033769675167\n",
      "Processing data 255\n",
      "Processing data 256\n",
      "Processing data 257\n",
      "Left: 0.6118656547174086\n",
      "Right: 0.26415322388792517\n",
      "Processing data 258\n",
      "Left: 0.5699866917435858\n",
      "Right: 0.8902604516119346\n",
      "Processing data 259\n",
      "Processing data 260\n",
      "Processing data 261\n",
      "Processing data 262\n",
      "Left: 0.32054729826132006\n",
      "Right: 0.07768576806640055\n",
      "Processing data 263\n",
      "Processing data 264\n",
      "Processing data 265\n",
      "Left: 0.6489646010797305\n",
      "Right: 0.03160282576331665\n",
      "Processing data 266\n",
      "Left: 0.5067936845491622\n",
      "Right: 0.1097974834575352\n",
      "Processing data 267\n",
      "Processing data 268\n",
      "Left: 0.6953770118930929\n",
      "Right: 0.10630970805516037\n",
      "Processing data 269\n",
      "Processing data 270\n",
      "Processing data 271\n",
      "Processing data 272\n",
      "Left: 0.6447268208240853\n",
      "Right: 0.052835145958522775\n",
      "Processing data 273\n",
      "Processing data 274\n",
      "Processing data 275\n",
      "Processing data 276\n",
      "Processing data 277\n",
      "Processing data 278\n",
      "Processing data 279\n",
      "Processing data 280\n",
      "Processing data 281\n",
      "Processing data 282\n",
      "Processing data 283\n",
      "Processing data 284\n",
      "Left: 0.6812796738079494\n",
      "Right: 0.6653620392379085\n",
      "Processing data 285\n",
      "Processing data 286\n",
      "Left: 0.7711713889870135\n",
      "Right: 0.6701520758158119\n",
      "Processing data 287\n",
      "Processing data 288\n",
      "Left: 0.001956436149273721\n",
      "Right: 0.37956211688324437\n",
      "Processing data 289\n",
      "Left: 0.6298707267445292\n",
      "Right: 0.5706082254806724\n",
      "Processing data 290\n",
      "Processing data 291\n",
      "Processing data 292\n",
      "Processing data 293\n",
      "Processing data 294\n",
      "Processing data 295\n",
      "Processing data 296\n",
      "Processing data 297\n",
      "Processing data 298\n",
      "Left: 0.029183780274582526\n",
      "Right: 0.6936428892447529\n",
      "Processing data 299\n",
      "Processing data 300\n",
      "Processing data 301\n",
      "Processing data 302\n",
      "Processing data 303\n",
      "Left: 0.5852093071063428\n",
      "Right: 0.6191256211641268\n",
      "Processing data 304\n",
      "Processing data 305\n",
      "Left: 0.4210044578427863\n",
      "Right: 0.026861282456256956\n",
      "Processing data 306\n",
      "Processing data 307\n",
      "Left: 0.3637899518400157\n",
      "Right: 0.07236809104003628\n",
      "Processing data 308\n",
      "Left: 0.388200908337511\n",
      "Right: 0.03404906016593333\n",
      "Processing data 309\n",
      "Processing data 310\n",
      "Left: 0.9544828766977347\n",
      "Right: 0.08564868417356963\n",
      "Processing data 311\n",
      "Left: 0.8134605400418263\n",
      "Right: 0.34248160889397633\n",
      "Processing data 312\n",
      "Processing data 313\n",
      "Processing data 314\n",
      "Left: 0.11342489330336507\n",
      "Right: 0.8155675162203257\n",
      "Processing data 315\n",
      "Processing data 316\n",
      "Processing data 317\n",
      "Left: 0.0008464683872685939\n",
      "Right: 0.45574330941500707\n",
      "Processing data 318\n",
      "Processing data 319\n",
      "Processing data 320\n",
      "Processing data 321\n",
      "Processing data 322\n",
      "Left: 0.23935188461950702\n",
      "Right: 0.39928417781350845\n",
      "Processing data 323\n",
      "Left: 0.8627958601262746\n",
      "Right: 0.42917415920093993\n",
      "Processing data 324\n",
      "Processing data 325\n",
      "Processing data 326\n",
      "Left: 0.6480335211859871\n",
      "Right: 0.2700298302787585\n",
      "Processing data 327\n",
      "Left: 0.47943782367852716\n",
      "Right: 0.8686760155172636\n",
      "Processing data 328\n",
      "Left: 0.49579830533776875\n",
      "Right: 0.8344903268130033\n",
      "Processing data 329\n",
      "Processing data 330\n",
      "Left: 0.4299232824868135\n",
      "Right: 0.3505527919789527\n",
      "Processing data 331\n",
      "Left: 0.5533346006916311\n",
      "Right: 0.4415812309086086\n",
      "Processing data 332\n",
      "Processing data 333\n",
      "Left: 0.3543484915545121\n",
      "Right: 0.1339550925152918\n",
      "Processing data 334\n",
      "Processing data 335\n",
      "Processing data 336\n",
      "Processing data 337\n",
      "Processing data 338\n",
      "Processing data 339\n",
      "Processing data 340\n",
      "Left: 0.5003088861448417\n",
      "Right: 0.258177269935441\n",
      "Processing data 341\n",
      "Processing data 342\n",
      "Left: 0.9907281770170713\n",
      "Right: 0.9914893173196686\n",
      "Processing data 343\n",
      "Processing data 344\n",
      "Processing data 345\n",
      "Left: 0.3841322770228379\n",
      "Right: 0.11019894516472634\n",
      "Processing data 346\n",
      "Left: 0.35985782574916253\n",
      "Right: 0.29519873867902624\n",
      "Processing data 347\n",
      "Processing data 348\n",
      "Processing data 349\n",
      "Processing data 350\n",
      "Processing data 351\n",
      "Processing data 352\n",
      "Processing data 353\n",
      "Processing data 354\n",
      "Processing data 355\n",
      "Processing data 356\n",
      "Left: 0.3021699413871377\n",
      "Right: 0.12142146396233663\n",
      "Processing data 357\n",
      "Processing data 358\n",
      "Processing data 359\n",
      "Left: 0.06930358946274177\n",
      "Right: 0.5600915166282352\n",
      "Processing data 360\n",
      "Left: 0.13485040593548892\n",
      "Right: 0.5782556219958318\n",
      "Processing data 361\n",
      "Processing data 362\n",
      "Left: 0.42737032638618844\n",
      "Right: 0.003816996872311916\n",
      "Processing data 363\n",
      "Left: 0.260410636256438\n",
      "Right: 0.35159598541186654\n",
      "Processing data 364\n",
      "Left: 0.06317055751203292\n",
      "Right: 0.33402133031994996\n",
      "Processing data 365\n",
      "Left: 0.7480370268432622\n",
      "Right: 0.018925578605165097\n",
      "Processing data 366\n",
      "Left: 0.6056849769295148\n",
      "Right: 0.5867285094559522\n",
      "Processing data 367\n",
      "Processing data 368\n",
      "Left: 0.32260255684356276\n",
      "Right: 0.20623158532333838\n",
      "Processing data 369\n",
      "Left: 0.7151435217528161\n",
      "Right: 0.287802057796239\n",
      "Processing data 370\n",
      "Processing data 371\n",
      "Left: 0.5111244920196912\n",
      "Right: 0.1500224523004522\n",
      "Processing data 372\n",
      "Left: 0.2509048213854405\n",
      "Right: 0.33313236919022743\n",
      "Processing data 373\n",
      "Processing data 374\n",
      "Left: 0.16232037489541715\n",
      "Right: 0.4624606274715902\n",
      "Processing data 375\n",
      "Processing data 376\n",
      "Left: 0.15257960479425334\n",
      "Right: 0.5330936663646906\n",
      "Processing data 377\n",
      "Left: 0.4341198978199772\n",
      "Right: 0.21893977946189516\n",
      "Processing data 378\n",
      "Left: 0.23564458436406133\n",
      "Right: 0.7049535553197306\n",
      "Processing data 379\n",
      "Processing data 380\n",
      "Processing data 381\n",
      "Processing data 382\n",
      "Left: 0.5875371020250297\n",
      "Right: 0.20148506194615012\n",
      "Processing data 383\n",
      "Processing data 384\n",
      "Processing data 385\n",
      "Processing data 386\n",
      "Processing data 387\n",
      "Left: 0.027864551904041378\n",
      "Right: 0.33943186996118135\n",
      "Processing data 388\n",
      "Left: 0.7526684587308327\n",
      "Right: 0.08130016624321296\n",
      "Processing data 389\n",
      "Left: 0.793641456218881\n",
      "Right: 0.4580141821873521\n",
      "Processing data 390\n",
      "Left: 0.455030774435445\n",
      "Right: 0.5910264625592124\n",
      "Processing data 391\n",
      "Processing data 392\n",
      "Left: 0.6879795702220934\n",
      "Right: 0.3039322273973304\n",
      "Processing data 393\n",
      "Processing data 394\n",
      "Left: 0.31052166563866435\n",
      "Right: 0.7758271845458435\n",
      "Processing data 395\n",
      "Left: 0.038928269134485945\n",
      "Right: 0.3463212886496688\n",
      "Processing data 396\n",
      "Processing data 397\n",
      "Processing data 398\n",
      "Processing data 399\n",
      "Processing data 400\n",
      "Processing data 401\n",
      "Processing data 402\n",
      "Left: 0.22786653588298628\n",
      "Right: 0.36007044349042316\n",
      "Processing data 403\n",
      "Processing data 404\n",
      "Processing data 405\n",
      "Processing data 406\n",
      "Left: 0.36582711711537885\n",
      "Right: 0.01894725736207893\n",
      "Processing data 407\n",
      "Processing data 408\n",
      "Processing data 409\n",
      "Processing data 410\n",
      "Processing data 411\n",
      "Processing data 412\n",
      "Processing data 413\n",
      "Processing data 414\n",
      "Processing data 415\n",
      "Processing data 416\n",
      "Processing data 417\n",
      "Left: 0.29396069187681767\n",
      "Right: 0.43881313740871425\n",
      "Processing data 418\n",
      "Processing data 419\n",
      "Processing data 420\n",
      "Left: 0.3798254544789752\n",
      "Right: 0.6951738982269935\n",
      "Processing data 421\n",
      "Processing data 422\n",
      "Left: 0.7188354529550596\n",
      "Right: 0.40496670249640127\n",
      "Processing data 423\n",
      "Processing data 424\n",
      "Left: 0.09555409689071367\n",
      "Right: 0.4052322575604335\n",
      "Processing data 425\n",
      "Left: 0.3330907620002721\n",
      "Right: 0.3133188167574945\n",
      "Processing data 426\n",
      "Processing data 427\n",
      "Processing data 428\n",
      "Left: 0.8845169352220899\n",
      "Right: 0.9626614875361439\n",
      "Processing data 429\n",
      "Processing data 430\n",
      "Left: 0.5499621899849461\n",
      "Right: 0.002244992921632636\n",
      "Processing data 431\n",
      "Left: 0.5127056951948141\n",
      "Right: 0.018834617890962715\n",
      "Processing data 432\n",
      "Left: 0.49531667667642654\n",
      "Right: 0.008075686082229774\n",
      "Processing data 433\n",
      "Left: 0.3909285025896207\n",
      "Right: 0.023314889805054095\n",
      "Processing data 434\n",
      "Processing data 435\n",
      "Left: 0.31301688819298573\n",
      "Right: 0.30538560909564727\n",
      "Processing data 436\n",
      "Left: 0.3807497022286755\n",
      "Right: 0.15854296963013595\n",
      "Processing data 437\n",
      "Left: 0.0052047030275738934\n",
      "Right: 0.517284435030747\n",
      "Processing data 438\n",
      "Left: 0.36759909186554174\n",
      "Right: 0.016002405425738952\n",
      "Processing data 439\n",
      "Left: 0.6933477727225862\n",
      "Right: 0.3109261612110251\n",
      "Processing data 440\n",
      "Left: 0.47432446064225464\n",
      "Right: 0.6278010431688792\n",
      "Processing data 441\n",
      "Processing data 442\n",
      "Processing data 443\n",
      "Left: 0.3001543479214705\n",
      "Right: 0.11599971302915243\n",
      "Processing data 444\n",
      "Left: 0.3548886853128892\n",
      "Right: 0.009400306100255915\n",
      "Processing data 445\n",
      "Left: 0.3690117039499017\n",
      "Right: 0.012952358354248966\n",
      "Processing data 446\n",
      "Left: 0.012296582052448018\n",
      "Right: 0.32845208964800865\n",
      "Processing data 447\n",
      "Processing data 448\n",
      "Processing data 449\n",
      "Processing data 450\n",
      "Processing data 451\n",
      "Left: 0.33161200263211765\n",
      "Right: 0.00552774634939493\n",
      "Processing data 452\n",
      "Left: 0.6702786244200196\n",
      "Right: 0.023119200654896276\n",
      "Processing data 453\n",
      "Left: 0.32608346304396507\n",
      "Right: 0.0025452282097937233\n",
      "Processing data 454\n",
      "Left: 0.1471936324064845\n",
      "Right: 0.6254386147114899\n",
      "Processing data 455\n",
      "Processing data 456\n",
      "Processing data 457\n",
      "Processing data 458\n",
      "Processing data 459\n",
      "Left: 0.6741408002269079\n",
      "Right: 0.5178340719062072\n",
      "Processing data 460\n",
      "Left: 0.7242560666534565\n",
      "Right: 0.10098643930929227\n",
      "Processing data 461\n",
      "Processing data 462\n",
      "Left: 0.9252973153822954\n",
      "Right: 0.9530524931346741\n",
      "Processing data 463\n",
      "Processing data 464\n",
      "Processing data 465\n",
      "Left: 0.3429490250364263\n",
      "Right: 0.3154524967279657\n",
      "Processing data 466\n",
      "Processing data 467\n",
      "Processing data 468\n",
      "Processing data 469\n",
      "Left: 0.24759204016785008\n",
      "Right: 0.7813330122045022\n",
      "Processing data 470\n",
      "Processing data 471\n",
      "Left: 0.06871951906421069\n",
      "Right: 0.3340815888170598\n",
      "Processing data 472\n",
      "Processing data 473\n",
      "Processing data 474\n",
      "Processing data 475\n",
      "Processing data 476\n",
      "Processing data 477\n",
      "Left: 0.46858180009560935\n",
      "Right: 0.7185452814511877\n",
      "Processing data 478\n",
      "Left: 0.124872009562082\n",
      "Right: 0.4174984009904383\n",
      "Processing data 479\n",
      "Left: 0.4615255276182965\n",
      "Right: 0.16701318237940696\n",
      "Processing data 480\n",
      "Processing data 481\n",
      "Left: 0.43026563828218384\n",
      "Right: 0.46221578048329054\n",
      "Processing data 482\n",
      "Processing data 483\n",
      "Processing data 484\n",
      "Processing data 485\n",
      "Left: 0.42817968857046124\n",
      "Right: 0.10094306781916254\n",
      "Processing data 486\n",
      "Processing data 487\n",
      "Processing data 488\n",
      "Left: 0.26289284377216376\n",
      "Right: 0.3033542255032495\n",
      "Processing data 489\n",
      "Processing data 490\n",
      "Processing data 491\n",
      "Left: 0.42802540493956265\n",
      "Right: 0.28625103471289803\n",
      "Processing data 492\n",
      "Processing data 493\n",
      "Processing data 494\n",
      "Processing data 495\n",
      "Left: 0.1151165327747469\n",
      "Right: 0.32637916004504386\n",
      "Processing data 496\n",
      "Left: 0.3104963169498656\n",
      "Right: 0.041456573348823716\n",
      "Processing data 497\n",
      "Left: 0.5172576933858788\n",
      "Right: 0.034113873788881394\n",
      "Processing data 498\n",
      "Left: 0.6407840877351392\n",
      "Right: 0.037746373495732594\n",
      "Processing data 499\n",
      "Left: 0.3157364083740699\n",
      "Right: 0.002398626508405674\n",
      "Processing data 500\n",
      "Left: 0.535284009896422\n",
      "Right: 0.017832411434652598\n",
      "Processing data 501\n",
      "Left: 0.377909029599781\n",
      "Right: 0.19043820136297374\n",
      "Processing data 502\n",
      "Left: 0.5212746076575729\n",
      "Right: 0.17574025303505258\n",
      "Processing data 503\n",
      "Left: 0.034437061646586616\n",
      "Right: 0.6230747577292458\n",
      "Processing data 504\n",
      "Left: 0.0020732906455362787\n",
      "Right: 0.7471817444802514\n",
      "Processing data 505\n",
      "Left: 0.46556059647465087\n",
      "Right: 0.36902219424309046\n",
      "Processing data 506\n",
      "Processing data 507\n",
      "Processing data 508\n",
      "Processing data 509\n",
      "Processing data 510\n",
      "Processing data 511\n",
      "Processing data 512\n",
      "Left: 0.04957662631242068\n",
      "Right: 0.530278383626309\n",
      "Processing data 513\n",
      "Left: 0.08773548826419816\n",
      "Right: 0.682573214396158\n",
      "Processing data 514\n",
      "Left: 0.5872716868609142\n",
      "Right: 0.8424150499899076\n",
      "Processing data 515\n",
      "Processing data 516\n",
      "Processing data 517\n",
      "Left: 0.166986747048043\n",
      "Right: 0.34723424644962914\n",
      "Processing data 518\n",
      "Left: 0.3366242404123916\n",
      "Right: 0.00305700033498999\n",
      "Processing data 519\n",
      "Processing data 520\n",
      "Left: 0.5874957143962873\n",
      "Right: 0.3493927908183271\n",
      "Processing data 521\n",
      "Processing data 522\n",
      "Left: 0.5728202895745851\n",
      "Right: 0.20061626875846722\n",
      "Processing data 523\n",
      "Left: 0.37495044859104976\n",
      "Right: 0.28617007640024444\n",
      "Processing data 524\n",
      "Left: 0.2619673683047651\n",
      "Right: 0.3023914990929613\n",
      "Processing data 525\n",
      "Processing data 526\n",
      "Processing data 527\n",
      "Left: 0.5602847519446297\n",
      "Right: 0.5599612786670238\n",
      "Processing data 528\n",
      "Processing data 529\n",
      "Left: 0.47384361928519364\n",
      "Right: 0.5102651091246707\n",
      "Processing data 530\n",
      "Left: 0.5601044774127251\n",
      "Right: 0.09680019001389197\n",
      "Processing data 531\n",
      "Processing data 532\n",
      "Processing data 533\n",
      "Processing data 534\n",
      "Processing data 535\n",
      "Left: 0.36097916784200673\n",
      "Right: 0.198419184618201\n",
      "Processing data 536\n",
      "Left: 0.37658374970706854\n",
      "Right: 0.48474459845381096\n",
      "Processing data 537\n",
      "Processing data 538\n",
      "Left: 0.21568884441347827\n",
      "Right: 0.7003267468727123\n",
      "Processing data 539\n",
      "Processing data 540\n",
      "Processing data 541\n",
      "Processing data 542\n",
      "Processing data 543\n",
      "Processing data 544\n",
      "Processing data 545\n",
      "Processing data 546\n",
      "Processing data 547\n",
      "Left: 0.5229231561489092\n",
      "Right: 0.6148558702137693\n",
      "Processing data 548\n",
      "Left: 0.30691493630708344\n",
      "Right: 0.34140082972424807\n",
      "Processing data 549\n",
      "Left: 0.2644171821661967\n",
      "Right: 0.3198458325972854\n",
      "Processing data 550\n",
      "Left: 0.3160901046943274\n",
      "Right: 0.2654604074640396\n",
      "Processing data 551\n",
      "Processing data 552\n",
      "Processing data 553\n",
      "Processing data 554\n",
      "Processing data 555\n",
      "Processing data 556\n",
      "Processing data 557\n",
      "Left: 0.36164850487367084\n",
      "Right: 0.1520445328515375\n",
      "Processing data 558\n",
      "Processing data 559\n",
      "Processing data 560\n",
      "Processing data 561\n",
      "Processing data 562\n",
      "Left: 0.3284446199609443\n",
      "Right: 0.6901467361536925\n",
      "Processing data 563\n",
      "Left: 0.045057768676551924\n",
      "Right: 0.9073206620492585\n",
      "Processing data 564\n",
      "Processing data 565\n",
      "Processing data 566\n",
      "Processing data 567\n",
      "Processing data 568\n",
      "Processing data 569\n",
      "Left: 0.3414983319410356\n",
      "Right: 0.004254836632079958\n",
      "Processing data 570\n",
      "Left: 0.5336888908751886\n",
      "Right: 0.5537046316078331\n",
      "Processing data 571\n",
      "Processing data 572\n",
      "Processing data 573\n",
      "Left: 0.6231887214215266\n",
      "Right: 0.16904046795233166\n",
      "Processing data 574\n",
      "Processing data 575\n",
      "Left: 0.2831038103472079\n",
      "Right: 0.4520793023235612\n",
      "Processing data 576\n",
      "Left: 0.8952225938674101\n",
      "Right: 0.19939930434633224\n",
      "Processing data 577\n",
      "Processing data 578\n",
      "Left: 0.6089100665152138\n",
      "Right: 0.6979177890243221\n",
      "Processing data 579\n",
      "Left: 0.5691941823657563\n",
      "Right: 0.6293515378093315\n",
      "Processing data 580\n",
      "Processing data 581\n",
      "Processing data 582\n",
      "Processing data 583\n",
      "Left: 0.45396585309430065\n",
      "Right: 0.49766231718008347\n",
      "Processing data 584\n",
      "Left: 0.47462465069400334\n",
      "Right: 0.636237899272895\n",
      "Processing data 585\n",
      "Processing data 586\n",
      "Left: 0.2076468189305607\n",
      "Right: 0.36618749671680006\n",
      "Processing data 587\n",
      "Processing data 588\n",
      "Left: 0.6059225295179325\n",
      "Right: 0.049959596183202525\n",
      "Processing data 589\n",
      "Processing data 590\n",
      "Left: 0.34278691593631877\n",
      "Right: 0.24345223238848623\n",
      "Processing data 591\n",
      "Left: 0.05038592390581782\n",
      "Right: 0.32537621273564654\n",
      "Processing data 592\n",
      "Processing data 593\n",
      "Processing data 594\n",
      "Processing data 595\n",
      "Left: 0.029807277256202545\n",
      "Right: 0.4426583459207556\n",
      "Processing data 596\n",
      "Processing data 597\n",
      "Processing data 598\n",
      "Processing data 599\n",
      "Processing data 600\n",
      "Processing data 601\n",
      "Left: 0.5283802394747225\n",
      "Right: 0.262865369114015\n",
      "Processing data 602\n",
      "Left: 0.8360178980471547\n",
      "Right: 0.2999057087334856\n",
      "Processing data 603\n",
      "Processing data 604\n",
      "Left: 0.3860041707457541\n",
      "Right: 0.4945622531340186\n",
      "Processing data 605\n",
      "Processing data 606\n",
      "Processing data 607\n",
      "Left: 0.8569910523551428\n",
      "Right: 0.5827115974159945\n",
      "Processing data 608\n",
      "Left: 0.8814795621024045\n",
      "Right: 0.2757026398457672\n",
      "Processing data 609\n",
      "Processing data 610\n",
      "Processing data 611\n",
      "Processing data 612\n",
      "Left: 0.14300404836781125\n",
      "Right: 0.32507857974021515\n",
      "Processing data 613\n",
      "Processing data 614\n",
      "Processing data 615\n",
      "Processing data 616\n",
      "Left: 0.907804546853908\n",
      "Right: 0.8524427603519464\n",
      "Processing data 617\n",
      "Left: 0.7134380754764188\n",
      "Right: 0.73307244022589\n"
     ]
    }
   ],
   "source": [
    "import torch,sys,pickle,os,time\n",
    "import numpy as np\n",
    "sys.path.append('../utils')\n",
    "from mujoco_parser import MuJoCoParserClass\n",
    "from util import rpy2r,get_idxs,np_uv\n",
    "from scipy.spatial import procrustes\n",
    "\n",
    "comp_device = torch.device(\"cuda\" if torch.cuda.is_available() else \"cpu\")\n",
    "\n",
    "xml_path = '../asset/kimlab_dualarms/scene_dualarms.xml'\n",
    "env = MuJoCoParserClass(name='Dual Arms',rel_xml_path=xml_path,VERBOSE=False)\n",
    "\n",
    "q_init = env.data.qpos.copy()\n",
    "q_init[18] = -np.pi/2\n",
    "env.forward(q=q_init)\n",
    "\n",
    "robot_right_shoulder_pos = env.get_p_joint('robot2/joint1')\n",
    "robot_right_wrist_pos = env.get_p_joint('robot2/joint6')\n",
    "robot_left_shoulder_pos = env.get_p_joint('robot1/joint1')\n",
    "\n",
    "robot_arm_length = np.linalg.norm(robot_right_shoulder_pos-robot_right_wrist_pos)\n",
    "\n",
    "data_list = range(618)\n",
    "for data_number in data_list:\n",
    "    if os.path.exists('data/baseline_data/%d.npy' % data_number):\n",
    "        env.init_viewer(viewer_title='Dual-Arm',viewer_width=800,viewer_height=800,\n",
    "                        viewer_hide_menus=True)\n",
    "        env.update_viewer(azimuth=180,distance=3.0,elevation=-20,lookat=[0.02,-0.03,1.2])\n",
    "        env.reset()\n",
    "\n",
    "        q_robot_full = np.load('data/baseline_data/%d.npy' % data_number)\n",
    "        plot_tick = 0\n",
    "\n",
    "        robot_left_wrist_list = []\n",
    "        robot_right_wrist_list = []\n",
    "\n",
    "        while plot_tick < q_robot_full.shape[0]:\n",
    "            q_robot = q_robot_full[plot_tick,:]\n",
    "            env.forward(q=q_robot,INCREASE_TICK=True)\n",
    "\n",
    "            robot_left_wrist_pos = env.get_p_body('robot1/end_link')\n",
    "            robot_right_wrist_pos = env.get_p_body('robot2/end_link')\n",
    "\n",
    "            robot_left_wrist_list.append(robot_left_wrist_pos)\n",
    "            robot_right_wrist_list.append(robot_right_wrist_pos)\n",
    "\n",
    "            plot_tick += 1\n",
    "\n",
    "        robot_left_wrist_array = np.array(robot_left_wrist_list)\n",
    "        robot_right_wrist_array = np.array(robot_right_wrist_list)\n",
    "\n",
    "        smplh_wrist_array = np.load('data/smplh_sequence/%d.npy' % data_number)\n",
    "        smplh_left_wrist_array = smplh_wrist_array[0,:,:]\n",
    "        smplh_right_wrist_array = smplh_wrist_array[1,:,:]\n",
    "\n",
    "        print(\"Processing data %d\" % data_number)\n",
    "        la, lb, ld = procrustes(smplh_left_wrist_array,robot_left_wrist_array)\n",
    "        ra, rb, rd = procrustes(smplh_right_wrist_array,robot_right_wrist_array)\n",
    "\n",
    "        if ld > 0.3 or rd > 0.3:\n",
    "            scale_data = {\n",
    "                'data_number': data_number,\n",
    "                'left': ld,\n",
    "                'right': rd,\n",
    "                'SCALE_LEFT': True if ld > 0.3 else False,\n",
    "                'SCALE_RIGHT': True if rd > 0.3 else False\n",
    "            }\n",
    "\n",
    "            with open('data/scale_data/%d.pkl' % data_number, 'wb') as f:\n",
    "                pickle.dump(scale_data, f)\n",
    "\n",
    "            print(\"Left:\", ld)\n",
    "            print(\"Right:\", rd)\n",
    "\n",
    "        env.close_viewer()"
   ]
  },
  {
   "cell_type": "code",
   "execution_count": 4,
   "metadata": {},
   "outputs": [
    {
     "name": "stdout",
     "output_type": "stream",
     "text": [
      "1383 1383\n",
      "836\n"
     ]
    }
   ],
   "source": [
    "import os.path as osp\n",
    "import numpy as np\n",
    "\n",
    "both57m_dir = '../data/both57m/'\n",
    "end_list = []\n",
    "\n",
    "for data_number in range(3228):\n",
    "    curr_npz = osp.join(both57m_dir, str(data_number), 'data.npz')\n",
    "    curr_data = np.load(curr_npz)\n",
    "    curr_last_frame = curr_data['body_pose'][-1]\n",
    "\n",
    "    next_npz = osp.join(both57m_dir, str(data_number + 1), 'data.npz')\n",
    "    next_data = np.load(next_npz)\n",
    "    next_first_frame = next_data['body_pose'][0]\n",
    "\n",
    "    diff = np.linalg.norm(curr_last_frame - next_first_frame)\n",
    "\n",
    "    if diff > 0.1869:\n",
    "        # print(data_number, np.linalg.norm(curr_last_frame - next_first_frame))\n",
    "        end_list.append(data_number)\n",
    "\n",
    "end_list.append(3228)\n",
    "start_list = [0] + [x + 1 for x in end_list[:-1]]\n",
    "\n",
    "print(len(start_list), len(end_list))\n",
    "\n",
    "need_scaling_index = []\n",
    "\n",
    "data_list = range(3229)\n",
    "for data_number in data_list:\n",
    "    if os.path.exists('data/scale_data/%d.pkl' % data_number):\n",
    "        need_scaling_index.append(data_number)\n",
    "\n",
    "count = 0\n",
    "for i in range(len(start_list)):\n",
    "    if any(x in need_scaling_index for x in range(start_list[i], end_list[i]+1)):\n",
    "        count += 1\n",
    "        # print(start_list[i], end_list[i])\n",
    "\n",
    "print(count)"
   ]
  },
  {
   "cell_type": "code",
   "execution_count": 10,
   "metadata": {},
   "outputs": [],
   "source": [
    "import torch,sys,pickle,os,time\n",
    "import numpy as np\n",
    "sys.path.append('../utils')\n",
    "from mujoco_parser import MuJoCoParserClass\n",
    "from util import rpy2r,get_idxs,np_uv\n",
    "from scipy.spatial import procrustes\n",
    "\n",
    "comp_device = torch.device(\"cuda\" if torch.cuda.is_available() else \"cpu\")\n",
    "\n",
    "xml_path = '../asset/kimlab_dualarms/scene_dualarms.xml'\n",
    "env = MuJoCoParserClass(name='Dual Arms',rel_xml_path=xml_path,VERBOSE=False)\n",
    "\n",
    "xml_path = '../asset/kimlab_dualarms/scene_dualarms.xml'\n",
    "env = MuJoCoParserClass(name='Dual Arms',rel_xml_path=xml_path,VERBOSE=False)\n",
    "q_init = env.data.qpos.copy()\n",
    "q_init[18] = -np.pi/2\n",
    "env.forward(q=q_init)\n",
    "\n",
    "robot_right_shoulder_pos = env.get_p_joint('robot2/joint1')\n",
    "robot_right_wrist_pos = env.get_p_joint('robot2/joint6')\n",
    "robot_left_shoulder_pos = env.get_p_joint('robot1/joint1')\n",
    "\n",
    "robot_arm_length = np.linalg.norm(robot_right_shoulder_pos-robot_right_wrist_pos)\n",
    "\n",
    "for data_number in range(0):\n",
    "    if os.path.exists('scale/%d.npy' % data_number):\n",
    "        start_time = time.time()\n",
    "        print('Processing data %d' % data_number)\n",
    "        xml_path = '../asset/smplh_rig/scene_smplh_rig.xml'\n",
    "        env = MuJoCoParserClass(name='Common-Rig',rel_xml_path=xml_path,VERBOSE=False)\n",
    "\n",
    "        with open('../data/both57m_rigged/%d.pkl' % data_number, 'rb') as f:\n",
    "            data = pickle.load(f)\n",
    "\n",
    "        ZERO_ROOT = True\n",
    "        video = []\n",
    "        tick = 0\n",
    "        seq_len = data['length']\n",
    "\n",
    "        qpos_rig_data = data['qpos']\n",
    "        ls2le_array = np.zeros((seq_len,3))\n",
    "        le2lw_array = np.zeros((seq_len,3))\n",
    "        rs2re_array = np.zeros((seq_len,3))\n",
    "        re2rw_array = np.zeros((seq_len,3))\n",
    "        lw_rot_array = np.zeros((seq_len,3,3))\n",
    "        rw_rot_array = np.zeros((seq_len,3,3))\n",
    "        lh_array = np.zeros((seq_len,6))\n",
    "        rh_array = np.zeros((seq_len,6))\n",
    "        seq_array = np.zeros((2,seq_len,3))\n",
    "\n",
    "        while tick < seq_len:\n",
    "            q_rig = qpos_rig_data[tick,:]\n",
    "\n",
    "            if ZERO_ROOT:\n",
    "                q_rig[3:7] = 0\n",
    "            \n",
    "            env.forward(q=q_rig,INCREASE_TICK=True)\n",
    "            ls = env.get_p_body('left_shoulder')\n",
    "            le = env.get_p_body('left_elbow')\n",
    "            lw = env.get_p_body('left_wrist')\n",
    "            rs = env.get_p_body('right_shoulder')\n",
    "            re = env.get_p_body('right_elbow')\n",
    "            rw = env.get_p_body('right_wrist')\n",
    "\n",
    "            ls2le_array[tick,:] = np_uv(le-ls)\n",
    "            le2lw_array[tick,:] = np_uv(lw-le)\n",
    "            rs2re_array[tick,:] = np_uv(re-rs)\n",
    "            re2rw_array[tick,:] = np_uv(rw-re)\n",
    "            lw_rot_array[tick,:] = env.get_R_body('left_wrist')\n",
    "            rw_rot_array[tick,:] = env.get_R_body('right_wrist')\n",
    "            tick = tick + 1\n",
    "         \n",
    "        env.init_viewer(viewer_title='Dual Arms',viewer_width=800,viewer_height=800,viewer_hide_menus=True)\n",
    "        env.update_viewer(azimuth=180,distance=3.0,elevation=-20,lookat=[0.02,-0.03,1.2])\n",
    "        env.reset()\n",
    "\n",
    "        BODY_NAMES = ['robot1/end_link','robot2/end_link']\n",
    "        JOINT_NAMES = ['robot1/joint1','robot1/joint2','robot1/joint3','robot1/joint4','robot1/joint5','robot1/joint6',\n",
    "                    'robot2/joint1','robot2/joint2','robot2/joint3','robot2/joint4','robot2/joint5','robot2/joint6']\n",
    "\n",
    "        with open('data/scale_data/%d.pkl' % data_number, 'rb') as f:\n",
    "            scale_data = pickle.load(f)\n",
    "        SCALE_LEFT_WRIST = scale_data['SCALE_LEFT']\n",
    "        SCALE_RIGHT_WRIST = scale_data['SCALE_RIGHT']\n",
    "\n",
    "        ls = env.get_p_body('robot1/link2')\n",
    "        le = env.get_p_body('robot1/link4')\n",
    "        lw = env.get_p_body('robot1/link6')\n",
    "        rs = env.get_p_body('robot2/link2')\n",
    "        re = env.get_p_body('robot2/link4')\n",
    "        rw = env.get_p_body('robot2/link6')\n",
    "\n",
    "        len_ls2le = np.linalg.norm(le-ls)\n",
    "        len_le2lw = np.linalg.norm(lw-le)\n",
    "        len_rs2re = np.linalg.norm(re-rs)\n",
    "        len_re2rw = np.linalg.norm(rw-re)\n",
    "\n",
    "        q_env_array = np.zeros((seq_len,env.model.nq))\n",
    "\n",
    "        for scale_tick in tqdm(range(seq_len), desc=\"Processing\"):\n",
    "            p_target = {}\n",
    "            delta_lw = len_ls2le * ls2le_array[scale_tick,:] + len_le2lw * le2lw_array[scale_tick,:]\n",
    "            if SCALE_LEFT_WRIST:\n",
    "                if delta_lw[0] > 0: delta_lw[0] /= 2\n",
    "                delta_lw[0] += 0.2\n",
    "                if delta_lw[1] > 0: delta_lw[1] /= 2\n",
    "                delta_lw[2] /= 1.5\n",
    "            p_target['robot1/end_link'] = ls + delta_lw\n",
    "            delta_rw = len_rs2re * rs2re_array[scale_tick,:] + len_re2rw * re2rw_array[scale_tick,:]\n",
    "            if SCALE_RIGHT_WRIST:\n",
    "                if delta_rw[0] > 0: delta_rw[0] /= 2\n",
    "                delta_rw[0] += 0.2\n",
    "                if delta_rw[1] < 0: delta_lw[1] /= 2\n",
    "                delta_rw[2] /= 1.5\n",
    "            p_target['robot2/end_link'] = rs + delta_rw\n",
    "            \n",
    "            R_target = {}\n",
    "            R_target['robot1/end_link'] = lw_rot_array[scale_tick,:] @ rpy2r(np.radians([0,0,90]))\n",
    "            R_target['robot2/end_link'] = rw_rot_array[scale_tick,:] @ rpy2r(np.radians([0,0,-90]))\n",
    "\n",
    "            idxs = get_idxs(env.rev_joint_names,JOINT_NAMES)\n",
    "            q_mins_body,q_maxs_body = env.rev_joint_mins[idxs],env.rev_joint_maxs[idxs]\n",
    "            joint_idxs_fwd_body = env.get_idxs_fwd(joint_names=JOINT_NAMES)\n",
    "            joint_idxs_jac_body = env.get_idxs_jac(joint_names=JOINT_NAMES)\n",
    "\n",
    "            q_body = env.get_qpos_joints(JOINT_NAMES)\n",
    "            body_diff = 1e3\n",
    "            prev_q_pos = env.data.qpos.copy()\n",
    "\n",
    "            while body_diff > 1e-3:\n",
    "                for ik_tick in range(1):\n",
    "                    J_list,ik_err_list = [],[]\n",
    "                    for ik_body_name in BODY_NAMES:\n",
    "                        ik_p_trgt = p_target[ik_body_name]\n",
    "                        ik_R_trgt = R_target[ik_body_name]\n",
    "                        IK_P = True\n",
    "                        IK_R = True\n",
    "                        J,ik_err = env.get_ik_ingredients(\n",
    "                            body_name=ik_body_name,p_trgt=ik_p_trgt,R_trgt=ik_R_trgt,\n",
    "                            IK_P=IK_P,IK_R=IK_R)\n",
    "                        J_list.append(J)\n",
    "                        ik_err_list.append(ik_err)\n",
    "                    J_stack      = np.vstack(J_list)\n",
    "                    ik_err_stack = np.hstack(ik_err_list)\n",
    "                    dq = env.damped_ls(J_stack,ik_err_stack,stepsize=1,eps=1e-2,th=np.radians(1.0))\n",
    "                    q_body = q_body + dq[joint_idxs_jac_body]\n",
    "\n",
    "                    q_body = np.clip(q_body,q_mins_body,q_maxs_body)\n",
    "                    env.forward(q=q_body,joint_idxs=joint_idxs_fwd_body)\n",
    "\n",
    "                    q_env = env.data.qpos.copy()\n",
    "                    body_diff = np.linalg.norm(q_env - prev_q_pos)\n",
    "                    prev_q_pos=q_env.copy()\n",
    "\n",
    "                curr_time = time.time()\n",
    "                if curr_time - start_time > 15:\n",
    "                    break\n",
    "\n",
    "            q_env_array[tick,:] = q_env\n",
    "            curr_time = time.time()\n",
    "            if curr_time - start_time > 15:\n",
    "                break\n",
    "\n",
    "            robot_left_wrist_pos = env.get_p_body('robot1/end_link')\n",
    "            robot_right_wrist_pos = env.get_p_body('robot2/end_link')\n",
    "\n",
    "            robot_left_wrist_list.append(robot_left_wrist_pos)\n",
    "            robot_right_wrist_list.append(robot_right_wrist_pos)\n",
    "\n",
    "        robot_left_wrist_array = np.array(robot_left_wrist_list)\n",
    "        robot_right_wrist_array = np.array(robot_right_wrist_list)\n",
    "\n",
    "        smplh_wrist_array = np.load('data/smplh_sequence/%d.npy' % data_number)\n",
    "        smplh_left_wrist_array = smplh_wrist_array[0,:,:]\n",
    "        smplh_right_wrist_array = smplh_wrist_array[1,:,:]\n",
    "\n",
    "        print(\"Processing data %d\" % data_number)\n",
    "        la, lb, ld = procrustes(smplh_left_wrist_array,robot_left_wrist_array)\n",
    "        ra, rb, rd = procrustes(smplh_right_wrist_array,robot_right_wrist_array)\n",
    "\n",
    "        # if ld > 0.3 or rd > 0.3:\n",
    "        #     scale_data = {\n",
    "        #         'data_number': data_number,\n",
    "        #         'left': ld,\n",
    "        #         'right': rd,\n",
    "        #         'SCALE_LEFT': True if ld > 0.3 else False,\n",
    "        #         'SCALE_RIGHT': True if rd > 0.3 else False\n",
    "        #     }\n",
    "\n",
    "        #     with open('data/scale_data/%d.pkl' % data_number, 'wb') as f:\n",
    "        #         pickle.dump(scale_data, f)\n",
    "\n",
    "        print(\"Left:\", ld)\n",
    "        print(\"Right:\", rd)\n",
    "\n",
    "        env.close_viewer()"
   ]
  },
  {
   "cell_type": "code",
   "execution_count": 28,
   "metadata": {},
   "outputs": [
    {
     "name": "stdout",
     "output_type": "stream",
     "text": [
      "Processing data 0\n"
     ]
    },
    {
     "name": "stderr",
     "output_type": "stream",
     "text": [
      "Processing: 100%|██████████| 150/150 [00:00<00:00, 364.23it/s]\n"
     ]
    },
    {
     "name": "stdout",
     "output_type": "stream",
     "text": [
      "Left: 0.0004021962519741894\n",
      "Right: 0.4526736156101447\n",
      "Processing data 2\n"
     ]
    },
    {
     "name": "stderr",
     "output_type": "stream",
     "text": [
      "Processing: 100%|██████████| 150/150 [00:00<00:00, 402.43it/s]\n"
     ]
    },
    {
     "name": "stdout",
     "output_type": "stream",
     "text": [
      "Left: 0.15751879526150214\n",
      "Right: 0.02734441510395552\n",
      "Processing data 3\n"
     ]
    },
    {
     "name": "stderr",
     "output_type": "stream",
     "text": [
      "Processing: 100%|██████████| 150/150 [00:00<00:00, 404.76it/s]\n"
     ]
    },
    {
     "name": "stdout",
     "output_type": "stream",
     "text": [
      "Left: -0.02606161229236781\n",
      "Right: -0.0008239373231885838\n",
      "Processing data 4\n"
     ]
    },
    {
     "name": "stderr",
     "output_type": "stream",
     "text": [
      "Processing: 100%|██████████| 150/150 [00:00<00:00, 398.29it/s]\n"
     ]
    },
    {
     "name": "stdout",
     "output_type": "stream",
     "text": [
      "Left: 0.40687110442379204\n",
      "Right: 0.036471725489331475\n",
      "Processing data 7\n"
     ]
    },
    {
     "name": "stderr",
     "output_type": "stream",
     "text": [
      "Processing: 100%|██████████| 210/210 [00:00<00:00, 336.48it/s]\n"
     ]
    },
    {
     "name": "stdout",
     "output_type": "stream",
     "text": [
      "Left: 0.07833649490554417\n",
      "Right: -0.039601606243522935\n",
      "Processing data 13\n"
     ]
    },
    {
     "name": "stderr",
     "output_type": "stream",
     "text": [
      "Processing: 100%|██████████| 180/180 [00:01<00:00, 166.25it/s]\n"
     ]
    },
    {
     "name": "stdout",
     "output_type": "stream",
     "text": [
      "Left: -0.012139935861072926\n",
      "Right: -0.10970295480102543\n",
      "Processing data 16\n"
     ]
    },
    {
     "name": "stderr",
     "output_type": "stream",
     "text": [
      "Processing: 100%|██████████| 150/150 [00:00<00:00, 386.29it/s]\n"
     ]
    },
    {
     "name": "stdout",
     "output_type": "stream",
     "text": [
      "Left: 1.3616864235066473e-06\n",
      "Right: 0.030872363519467594\n",
      "Processing data 17\n"
     ]
    },
    {
     "name": "stderr",
     "output_type": "stream",
     "text": [
      "Processing: 100%|██████████| 150/150 [00:00<00:00, 281.07it/s]\n"
     ]
    },
    {
     "name": "stdout",
     "output_type": "stream",
     "text": [
      "Left: 0.0036280740323602068\n",
      "Right: 0.23554190047386792\n",
      "Processing data 18\n"
     ]
    },
    {
     "name": "stderr",
     "output_type": "stream",
     "text": [
      "Processing: 100%|██████████| 150/150 [00:05<00:00, 25.88it/s]\n"
     ]
    },
    {
     "name": "stdout",
     "output_type": "stream",
     "text": [
      "Left: -0.25563533969275243\n",
      "Right: 0.542793786693965\n",
      "Processing data 19\n"
     ]
    },
    {
     "name": "stderr",
     "output_type": "stream",
     "text": [
      "Processing: 100%|██████████| 150/150 [00:04<00:00, 34.48it/s]\n"
     ]
    },
    {
     "name": "stdout",
     "output_type": "stream",
     "text": [
      "Left: -0.023879692392923535\n",
      "Right: 0.2308052955759945\n",
      "Processing data 25\n"
     ]
    },
    {
     "name": "stderr",
     "output_type": "stream",
     "text": [
      "Processing: 100%|██████████| 150/150 [00:02<00:00, 64.50it/s]\n"
     ]
    },
    {
     "name": "stdout",
     "output_type": "stream",
     "text": [
      "Left: -0.028942964232117396\n",
      "Right: -5.6382461849663335e-05\n",
      "Processing data 26\n"
     ]
    },
    {
     "name": "stderr",
     "output_type": "stream",
     "text": [
      "Processing: 100%|██████████| 150/150 [00:00<00:00, 329.21it/s]\n"
     ]
    },
    {
     "name": "stdout",
     "output_type": "stream",
     "text": [
      "Left: -0.030720655924145912\n",
      "Right: 2.5002487557577308e-05\n",
      "Processing data 29\n"
     ]
    },
    {
     "name": "stderr",
     "output_type": "stream",
     "text": [
      "Processing: 100%|██████████| 89/89 [00:00<00:00, 298.34it/s]\n"
     ]
    },
    {
     "name": "stdout",
     "output_type": "stream",
     "text": [
      "Left: -0.0035700315802547067\n",
      "Right: -0.036036235884906564\n",
      "Processing data 33\n"
     ]
    },
    {
     "name": "stderr",
     "output_type": "stream",
     "text": [
      "Processing: 100%|██████████| 150/150 [00:00<00:00, 170.38it/s]\n"
     ]
    },
    {
     "name": "stdout",
     "output_type": "stream",
     "text": [
      "Left: -0.009867489471857893\n",
      "Right: 0.05018608151289283\n",
      "Processing data 38\n"
     ]
    },
    {
     "name": "stderr",
     "output_type": "stream",
     "text": [
      "Processing: 100%|██████████| 60/60 [00:00<00:00, 116.12it/s]\n"
     ]
    },
    {
     "name": "stdout",
     "output_type": "stream",
     "text": [
      "Left: 0.45164328410131416\n",
      "Right: -0.007208732916120841\n",
      "Processing data 39\n"
     ]
    },
    {
     "name": "stderr",
     "output_type": "stream",
     "text": [
      "Processing: 100%|██████████| 150/150 [00:04<00:00, 30.05it/s]\n"
     ]
    },
    {
     "name": "stdout",
     "output_type": "stream",
     "text": [
      "Left: 0.2701951692867798\n",
      "Right: -0.0022398074509841423\n",
      "Processing data 40\n"
     ]
    },
    {
     "name": "stderr",
     "output_type": "stream",
     "text": [
      "Processing: 100%|██████████| 150/150 [00:04<00:00, 30.63it/s]\n"
     ]
    },
    {
     "name": "stdout",
     "output_type": "stream",
     "text": [
      "Left: 0.3006944021038552\n",
      "Right: 0.20184585692498713\n",
      "Processing data 42\n"
     ]
    },
    {
     "name": "stderr",
     "output_type": "stream",
     "text": [
      "Processing: 100%|██████████| 150/150 [00:03<00:00, 44.09it/s]\n"
     ]
    },
    {
     "name": "stdout",
     "output_type": "stream",
     "text": [
      "Left: -0.0011000199933460797\n",
      "Right: 0.015744330137135276\n",
      "Processing data 43\n"
     ]
    },
    {
     "name": "stderr",
     "output_type": "stream",
     "text": [
      "Processing: 100%|██████████| 60/60 [00:02<00:00, 27.22it/s]\n"
     ]
    },
    {
     "name": "stdout",
     "output_type": "stream",
     "text": [
      "Left: 0.006775925838970853\n",
      "Right: -0.0607698586241916\n",
      "Processing data 47\n"
     ]
    },
    {
     "name": "stderr",
     "output_type": "stream",
     "text": [
      "Processing: 100%|██████████| 150/150 [00:00<00:00, 159.38it/s]\n"
     ]
    },
    {
     "name": "stdout",
     "output_type": "stream",
     "text": [
      "Left: 0.005276216473198148\n",
      "Right: -0.06946880650628717\n",
      "Processing data 49\n"
     ]
    },
    {
     "name": "stderr",
     "output_type": "stream",
     "text": [
      "Processing: 100%|██████████| 150/150 [00:01<00:00, 125.96it/s]\n"
     ]
    },
    {
     "name": "stdout",
     "output_type": "stream",
     "text": [
      "Left: 0.2920731002891732\n",
      "Right: 0.000580174037502928\n",
      "Processing data 50\n"
     ]
    },
    {
     "name": "stderr",
     "output_type": "stream",
     "text": [
      "Processing: 100%|██████████| 150/150 [00:00<00:00, 188.59it/s]\n"
     ]
    },
    {
     "name": "stdout",
     "output_type": "stream",
     "text": [
      "Left: 0.3741577793614058\n",
      "Right: 0.0007325144453299275\n",
      "Processing data 51\n"
     ]
    },
    {
     "name": "stderr",
     "output_type": "stream",
     "text": [
      "Processing: 100%|██████████| 150/150 [00:00<00:00, 247.37it/s]\n"
     ]
    },
    {
     "name": "stdout",
     "output_type": "stream",
     "text": [
      "Left: -0.00808990025113454\n",
      "Right: -0.046154718232989334\n",
      "Processing data 53\n"
     ]
    },
    {
     "name": "stderr",
     "output_type": "stream",
     "text": [
      "Processing: 100%|██████████| 150/150 [00:04<00:00, 36.20it/s]\n"
     ]
    },
    {
     "name": "stdout",
     "output_type": "stream",
     "text": [
      "Left: -0.19197203083843278\n",
      "Right: 0.5813177748402777\n",
      "Processing data 54\n"
     ]
    },
    {
     "name": "stderr",
     "output_type": "stream",
     "text": [
      "Processing: 100%|██████████| 150/150 [00:01<00:00, 108.81it/s]\n"
     ]
    },
    {
     "name": "stdout",
     "output_type": "stream",
     "text": [
      "Left: 0.6324429495654871\n",
      "Right: -9.749700277975146e-05\n",
      "Processing data 57\n"
     ]
    },
    {
     "name": "stderr",
     "output_type": "stream",
     "text": [
      "Processing: 100%|██████████| 150/150 [00:02<00:00, 70.22it/s] \n"
     ]
    },
    {
     "name": "stdout",
     "output_type": "stream",
     "text": [
      "Left: -0.15879666363409672\n",
      "Right: 0.13612875736740193\n",
      "Processing data 58\n"
     ]
    },
    {
     "name": "stderr",
     "output_type": "stream",
     "text": [
      "Processing: 100%|██████████| 150/150 [00:00<00:00, 525.59it/s]\n"
     ]
    },
    {
     "name": "stdout",
     "output_type": "stream",
     "text": [
      "Left: 0.0038540381688748626\n",
      "Right: 1.6352470381397755e-06\n",
      "Processing data 60\n"
     ]
    },
    {
     "name": "stderr",
     "output_type": "stream",
     "text": [
      "Processing: 100%|██████████| 150/150 [00:00<00:00, 539.03it/s]\n"
     ]
    },
    {
     "name": "stdout",
     "output_type": "stream",
     "text": [
      "Left: -0.018736049397160726\n",
      "Right: 0.13630945472383615\n",
      "Processing data 61\n"
     ]
    },
    {
     "name": "stderr",
     "output_type": "stream",
     "text": [
      "Processing: 100%|██████████| 90/90 [00:01<00:00, 62.77it/s]\n"
     ]
    },
    {
     "name": "stdout",
     "output_type": "stream",
     "text": [
      "Left: 0.41855103225622947\n",
      "Right: 0.756191308812639\n",
      "Processing data 63\n"
     ]
    },
    {
     "name": "stderr",
     "output_type": "stream",
     "text": [
      "Processing: 100%|██████████| 150/150 [00:01<00:00, 88.88it/s]\n"
     ]
    },
    {
     "name": "stdout",
     "output_type": "stream",
     "text": [
      "Left: 0.00040867913138644546\n",
      "Right: 0.4541297201984788\n",
      "Processing data 65\n"
     ]
    },
    {
     "name": "stderr",
     "output_type": "stream",
     "text": [
      "Processing: 100%|██████████| 150/150 [00:03<00:00, 40.60it/s] \n"
     ]
    },
    {
     "name": "stdout",
     "output_type": "stream",
     "text": [
      "Left: 0.029205374734187994\n",
      "Right: -0.0007738200529552926\n",
      "Processing data 67\n"
     ]
    },
    {
     "name": "stderr",
     "output_type": "stream",
     "text": [
      "Processing: 100%|██████████| 150/150 [00:00<00:00, 195.05it/s]\n"
     ]
    },
    {
     "name": "stdout",
     "output_type": "stream",
     "text": [
      "Left: 0.44007417756912626\n",
      "Right: 0.013731513745101925\n",
      "Processing data 68\n"
     ]
    },
    {
     "name": "stderr",
     "output_type": "stream",
     "text": [
      "Processing: 100%|██████████| 150/150 [00:07<00:00, 19.00it/s]\n"
     ]
    },
    {
     "name": "stdout",
     "output_type": "stream",
     "text": [
      "Left: 0.360836328046529\n",
      "Right: 0.001155553633844647\n",
      "Processing data 69\n"
     ]
    },
    {
     "name": "stderr",
     "output_type": "stream",
     "text": [
      "Processing: 100%|██████████| 90/90 [00:00<00:00, 293.26it/s]\n"
     ]
    },
    {
     "name": "stdout",
     "output_type": "stream",
     "text": [
      "Left: -0.26113485138635817\n",
      "Right: -0.023914592085486186\n",
      "Processing data 73\n"
     ]
    },
    {
     "name": "stderr",
     "output_type": "stream",
     "text": [
      "Processing: 100%|██████████| 150/150 [00:00<00:00, 985.82it/s]\n"
     ]
    },
    {
     "name": "stdout",
     "output_type": "stream",
     "text": [
      "Left: 2.7442756279527636e-05\n",
      "Right: -0.014026468650240265\n",
      "Processing data 74\n"
     ]
    },
    {
     "name": "stderr",
     "output_type": "stream",
     "text": [
      "Processing: 100%|██████████| 150/150 [00:01<00:00, 130.55it/s]\n"
     ]
    },
    {
     "name": "stdout",
     "output_type": "stream",
     "text": [
      "Left: 0.32995424097234033\n",
      "Right: 8.796315985451497e-06\n",
      "Processing data 79\n"
     ]
    },
    {
     "name": "stderr",
     "output_type": "stream",
     "text": [
      "Processing: 100%|██████████| 150/150 [00:00<00:00, 733.87it/s]\n"
     ]
    },
    {
     "name": "stdout",
     "output_type": "stream",
     "text": [
      "Left: 0.08407377940807223\n",
      "Right: 0.4835378977269072\n",
      "Processing data 81\n"
     ]
    },
    {
     "name": "stderr",
     "output_type": "stream",
     "text": [
      "Processing: 100%|██████████| 150/150 [00:00<00:00, 468.47it/s]\n"
     ]
    },
    {
     "name": "stdout",
     "output_type": "stream",
     "text": [
      "Left: 0.006101899553129231\n",
      "Right: 9.558694877306873e-05\n",
      "Processing data 82\n"
     ]
    },
    {
     "name": "stderr",
     "output_type": "stream",
     "text": [
      "Processing: 100%|██████████| 180/180 [00:00<00:00, 286.65it/s]\n"
     ]
    },
    {
     "name": "stdout",
     "output_type": "stream",
     "text": [
      "Left: -1.9405430120396014e-05\n",
      "Right: 0.37307047557807327\n",
      "Processing data 86\n"
     ]
    },
    {
     "name": "stderr",
     "output_type": "stream",
     "text": [
      "Processing: 100%|██████████| 150/150 [00:04<00:00, 33.47it/s]\n"
     ]
    },
    {
     "name": "stdout",
     "output_type": "stream",
     "text": [
      "Left: -0.12183420400689193\n",
      "Right: 0.0006748135708260503\n",
      "Processing data 88\n"
     ]
    },
    {
     "name": "stderr",
     "output_type": "stream",
     "text": [
      "Processing: 100%|██████████| 150/150 [00:01<00:00, 139.18it/s]\n"
     ]
    },
    {
     "name": "stdout",
     "output_type": "stream",
     "text": [
      "Left: 0.3148250507761937\n",
      "Right: -0.009195886367964742\n",
      "Processing data 89\n"
     ]
    },
    {
     "name": "stderr",
     "output_type": "stream",
     "text": [
      "Processing: 100%|██████████| 150/150 [00:00<00:00, 395.18it/s]\n"
     ]
    },
    {
     "name": "stdout",
     "output_type": "stream",
     "text": [
      "Left: 0.2613902990858332\n",
      "Right: 0.03934000990341224\n",
      "Processing data 92\n"
     ]
    },
    {
     "name": "stderr",
     "output_type": "stream",
     "text": [
      "Processing: 100%|██████████| 150/150 [00:04<00:00, 31.83it/s]\n"
     ]
    },
    {
     "name": "stdout",
     "output_type": "stream",
     "text": [
      "Left: 0.4473413250649715\n",
      "Right: 0.3895618895161545\n",
      "Processing data 93\n"
     ]
    },
    {
     "name": "stderr",
     "output_type": "stream",
     "text": [
      "Processing: 100%|██████████| 150/150 [00:03<00:00, 43.57it/s]\n"
     ]
    },
    {
     "name": "stdout",
     "output_type": "stream",
     "text": [
      "Left: -0.0011106654650818934\n",
      "Right: 0.006184333652305307\n",
      "Processing data 94\n"
     ]
    },
    {
     "name": "stderr",
     "output_type": "stream",
     "text": [
      "Processing: 100%|██████████| 150/150 [00:01<00:00, 83.16it/s] \n"
     ]
    },
    {
     "name": "stdout",
     "output_type": "stream",
     "text": [
      "Left: 0.37548689284171294\n",
      "Right: 0.01058750362634392\n",
      "Processing data 95\n"
     ]
    },
    {
     "name": "stderr",
     "output_type": "stream",
     "text": [
      "Processing: 100%|██████████| 150/150 [00:00<00:00, 185.05it/s]\n"
     ]
    },
    {
     "name": "stdout",
     "output_type": "stream",
     "text": [
      "Left: -1.8879734548511717e-05\n",
      "Right: 0.3357104787756977\n",
      "Processing data 97\n"
     ]
    },
    {
     "name": "stderr",
     "output_type": "stream",
     "text": [
      "Processing: 100%|██████████| 120/120 [00:03<00:00, 36.20it/s]\n"
     ]
    },
    {
     "name": "stdout",
     "output_type": "stream",
     "text": [
      "Left: 0.1815966318359552\n",
      "Right: -0.35905191960240285\n",
      "Processing data 102\n"
     ]
    },
    {
     "name": "stderr",
     "output_type": "stream",
     "text": [
      "Processing: 100%|██████████| 150/150 [00:00<00:00, 683.36it/s]\n"
     ]
    },
    {
     "name": "stdout",
     "output_type": "stream",
     "text": [
      "Left: -0.1889913480497074\n",
      "Right: -0.067680599407137\n",
      "Processing data 104\n"
     ]
    },
    {
     "name": "stderr",
     "output_type": "stream",
     "text": [
      "Processing: 100%|██████████| 120/120 [00:00<00:00, 335.76it/s]\n"
     ]
    },
    {
     "name": "stdout",
     "output_type": "stream",
     "text": [
      "Left: -0.028917897052706032\n",
      "Right: -1.3777892094585242e-06\n",
      "Processing data 106\n"
     ]
    },
    {
     "name": "stderr",
     "output_type": "stream",
     "text": [
      "Processing: 100%|██████████| 150/150 [00:01<00:00, 105.66it/s]\n"
     ]
    },
    {
     "name": "stdout",
     "output_type": "stream",
     "text": [
      "Left: 0.002502851314508364\n",
      "Right: 0.7045936785710627\n",
      "Processing data 110\n"
     ]
    },
    {
     "name": "stderr",
     "output_type": "stream",
     "text": [
      "Processing: 100%|██████████| 150/150 [00:00<00:00, 347.45it/s]\n"
     ]
    },
    {
     "name": "stdout",
     "output_type": "stream",
     "text": [
      "Left: -9.101907621655858e-06\n",
      "Right: 0.03947364386727048\n",
      "Processing data 112\n"
     ]
    },
    {
     "name": "stderr",
     "output_type": "stream",
     "text": [
      "Processing: 100%|██████████| 90/90 [00:00<00:00, 99.25it/s] \n"
     ]
    },
    {
     "name": "stdout",
     "output_type": "stream",
     "text": [
      "Left: 0.2807238778994292\n",
      "Right: 3.9693416401864745e-05\n",
      "Processing data 119\n"
     ]
    },
    {
     "name": "stderr",
     "output_type": "stream",
     "text": [
      "Processing: 100%|██████████| 60/60 [00:00<00:00, 70.82it/s] \n"
     ]
    },
    {
     "name": "stdout",
     "output_type": "stream",
     "text": [
      "Left: 2.847577497328002e-05\n",
      "Right: -0.055750163127289754\n",
      "Processing data 120\n"
     ]
    },
    {
     "name": "stderr",
     "output_type": "stream",
     "text": [
      "Processing: 100%|██████████| 150/150 [00:00<00:00, 173.16it/s]\n"
     ]
    },
    {
     "name": "stdout",
     "output_type": "stream",
     "text": [
      "Left: 0.7270692135693333\n",
      "Right: 0.006201520258845225\n",
      "Processing data 121\n"
     ]
    },
    {
     "name": "stderr",
     "output_type": "stream",
     "text": [
      "Processing: 100%|██████████| 150/150 [00:02<00:00, 73.03it/s] \n"
     ]
    },
    {
     "name": "stdout",
     "output_type": "stream",
     "text": [
      "Left: 0.0017142562067626321\n",
      "Right: 0.30725161413793356\n",
      "Processing data 122\n"
     ]
    },
    {
     "name": "stderr",
     "output_type": "stream",
     "text": [
      "Processing: 100%|██████████| 180/180 [00:03<00:00, 47.84it/s] \n"
     ]
    },
    {
     "name": "stdout",
     "output_type": "stream",
     "text": [
      "Left: -0.23556080053027606\n",
      "Right: -0.005265767524916087\n",
      "Processing data 124\n"
     ]
    },
    {
     "name": "stderr",
     "output_type": "stream",
     "text": [
      "Processing: 100%|██████████| 150/150 [00:00<00:00, 341.31it/s]\n"
     ]
    },
    {
     "name": "stdout",
     "output_type": "stream",
     "text": [
      "Left: -0.04289363059194273\n",
      "Right: -0.0786639577897631\n",
      "Processing data 130\n"
     ]
    },
    {
     "name": "stderr",
     "output_type": "stream",
     "text": [
      "Processing: 100%|██████████| 90/90 [00:00<00:00, 143.71it/s]\n"
     ]
    },
    {
     "name": "stdout",
     "output_type": "stream",
     "text": [
      "Left: 0.5899432496504453\n",
      "Right: 0.0007304241393407381\n",
      "Processing data 131\n"
     ]
    },
    {
     "name": "stderr",
     "output_type": "stream",
     "text": [
      "Processing: 100%|██████████| 150/150 [00:03<00:00, 44.50it/s] \n"
     ]
    },
    {
     "name": "stdout",
     "output_type": "stream",
     "text": [
      "Left: -0.19504125043681042\n",
      "Right: -0.00039777143405065295\n",
      "Processing data 132\n"
     ]
    },
    {
     "name": "stderr",
     "output_type": "stream",
     "text": [
      "Processing: 100%|██████████| 150/150 [00:05<00:00, 25.90it/s]\n"
     ]
    },
    {
     "name": "stdout",
     "output_type": "stream",
     "text": [
      "Left: -0.000873580324175588\n",
      "Right: 0.3105266449163627\n",
      "Processing data 133\n"
     ]
    },
    {
     "name": "stderr",
     "output_type": "stream",
     "text": [
      "Processing: 100%|██████████| 150/150 [00:01<00:00, 101.08it/s]\n"
     ]
    },
    {
     "name": "stdout",
     "output_type": "stream",
     "text": [
      "Left: -0.00045525257304850075\n",
      "Right: 0.004436773090506607\n",
      "Processing data 136\n"
     ]
    },
    {
     "name": "stderr",
     "output_type": "stream",
     "text": [
      "Processing: 100%|██████████| 150/150 [00:00<00:00, 290.86it/s]\n"
     ]
    },
    {
     "name": "stdout",
     "output_type": "stream",
     "text": [
      "Left: 0.032620812285293066\n",
      "Right: -0.036985275865200895\n",
      "Processing data 139\n"
     ]
    },
    {
     "name": "stderr",
     "output_type": "stream",
     "text": [
      "Processing: 100%|██████████| 150/150 [00:01<00:00, 100.15it/s]\n"
     ]
    },
    {
     "name": "stdout",
     "output_type": "stream",
     "text": [
      "Left: -0.009688660952526212\n",
      "Right: 0.3393256782769754\n",
      "Processing data 141\n"
     ]
    },
    {
     "name": "stderr",
     "output_type": "stream",
     "text": [
      "Processing: 100%|██████████| 150/150 [00:00<00:00, 484.61it/s]\n"
     ]
    },
    {
     "name": "stdout",
     "output_type": "stream",
     "text": [
      "Left: 0.0013585912821639347\n",
      "Right: 0.3501501741961761\n",
      "Processing data 148\n"
     ]
    },
    {
     "name": "stderr",
     "output_type": "stream",
     "text": [
      "Processing: 100%|██████████| 150/150 [00:00<00:00, 554.35it/s]\n"
     ]
    },
    {
     "name": "stdout",
     "output_type": "stream",
     "text": [
      "Left: 0.36641075641248133\n",
      "Right: 0.0012598612865045086\n",
      "Processing data 149\n"
     ]
    },
    {
     "name": "stderr",
     "output_type": "stream",
     "text": [
      "Processing: 100%|██████████| 60/60 [00:00<00:00, 362.94it/s]\n"
     ]
    },
    {
     "name": "stdout",
     "output_type": "stream",
     "text": [
      "Left: 0.8535661245633934\n",
      "Right: 0.00301197561883305\n",
      "Processing data 151\n"
     ]
    },
    {
     "name": "stderr",
     "output_type": "stream",
     "text": [
      "Processing: 100%|██████████| 150/150 [00:00<00:00, 428.14it/s]\n"
     ]
    },
    {
     "name": "stdout",
     "output_type": "stream",
     "text": [
      "Left: 0.5279218434065592\n",
      "Right: 0.01876462841229738\n",
      "Processing data 163\n"
     ]
    },
    {
     "name": "stderr",
     "output_type": "stream",
     "text": [
      "Processing: 100%|██████████| 60/60 [00:00<00:00, 261.13it/s]\n"
     ]
    },
    {
     "name": "stdout",
     "output_type": "stream",
     "text": [
      "Left: 0.006829893290276282\n",
      "Right: 0.7631404572523822\n",
      "Processing data 165\n"
     ]
    },
    {
     "name": "stderr",
     "output_type": "stream",
     "text": [
      "Processing: 100%|██████████| 150/150 [00:01<00:00, 131.13it/s]\n"
     ]
    },
    {
     "name": "stdout",
     "output_type": "stream",
     "text": [
      "Left: 0.21168565753859125\n",
      "Right: -0.024125508084101327\n",
      "Processing data 168\n"
     ]
    },
    {
     "name": "stderr",
     "output_type": "stream",
     "text": [
      "Processing: 100%|██████████| 150/150 [00:00<00:00, 474.56it/s]\n"
     ]
    },
    {
     "name": "stdout",
     "output_type": "stream",
     "text": [
      "Left: 0.6831918378661052\n",
      "Right: -0.030798517998964325\n",
      "Processing data 169\n"
     ]
    },
    {
     "name": "stderr",
     "output_type": "stream",
     "text": [
      "Processing: 100%|██████████| 150/150 [00:00<00:00, 204.10it/s]\n"
     ]
    },
    {
     "name": "stdout",
     "output_type": "stream",
     "text": [
      "Left: 0.41897635962028784\n",
      "Right: 0.0011319967324808118\n",
      "Processing data 170\n"
     ]
    },
    {
     "name": "stderr",
     "output_type": "stream",
     "text": [
      "Processing: 100%|██████████| 120/120 [00:01<00:00, 60.87it/s]\n"
     ]
    },
    {
     "name": "stdout",
     "output_type": "stream",
     "text": [
      "Left: -0.5172943729998303\n",
      "Right: -0.0011584525398087853\n",
      "Processing data 172\n"
     ]
    },
    {
     "name": "stderr",
     "output_type": "stream",
     "text": [
      "Processing: 100%|██████████| 150/150 [00:02<00:00, 71.76it/s]\n"
     ]
    },
    {
     "name": "stdout",
     "output_type": "stream",
     "text": [
      "Left: -0.053504693517326785\n",
      "Right: 0.0005301908811482514\n",
      "Processing data 173\n"
     ]
    },
    {
     "name": "stderr",
     "output_type": "stream",
     "text": [
      "Processing: 100%|██████████| 150/150 [00:00<00:00, 702.24it/s]\n"
     ]
    },
    {
     "name": "stdout",
     "output_type": "stream",
     "text": [
      "Left: 0.00976550338884985\n",
      "Right: -2.2080684640046755e-05\n",
      "Processing data 174\n"
     ]
    },
    {
     "name": "stderr",
     "output_type": "stream",
     "text": [
      "Processing: 100%|██████████| 150/150 [00:00<00:00, 695.96it/s]\n"
     ]
    },
    {
     "name": "stdout",
     "output_type": "stream",
     "text": [
      "Left: 0.03814659773324852\n",
      "Right: 7.160225324487346e-06\n",
      "Processing data 176\n"
     ]
    },
    {
     "name": "stderr",
     "output_type": "stream",
     "text": [
      "Processing: 100%|██████████| 150/150 [00:00<00:00, 154.85it/s]\n"
     ]
    },
    {
     "name": "stdout",
     "output_type": "stream",
     "text": [
      "Left: 0.0868335199503924\n",
      "Right: 5.370577196017745e-06\n",
      "Processing data 179\n"
     ]
    },
    {
     "name": "stderr",
     "output_type": "stream",
     "text": [
      "Processing: 100%|██████████| 150/150 [00:01<00:00, 133.28it/s]\n"
     ]
    },
    {
     "name": "stdout",
     "output_type": "stream",
     "text": [
      "Left: -0.00032650057582825354\n",
      "Right: 0.13984570603832353\n",
      "Processing data 180\n"
     ]
    },
    {
     "name": "stderr",
     "output_type": "stream",
     "text": [
      "Processing: 100%|██████████| 150/150 [00:03<00:00, 42.85it/s]\n"
     ]
    },
    {
     "name": "stdout",
     "output_type": "stream",
     "text": [
      "Left: -0.0015948173491901751\n",
      "Right: 0.23814591360126064\n",
      "Processing data 181\n"
     ]
    },
    {
     "name": "stderr",
     "output_type": "stream",
     "text": [
      "Processing: 100%|██████████| 120/120 [00:00<00:00, 190.07it/s]\n"
     ]
    },
    {
     "name": "stdout",
     "output_type": "stream",
     "text": [
      "Left: 0.0008318845858680925\n",
      "Right: 0.2808247602001629\n",
      "Processing data 185\n"
     ]
    },
    {
     "name": "stderr",
     "output_type": "stream",
     "text": [
      "Processing: 100%|██████████| 150/150 [00:01<00:00, 130.45it/s]\n"
     ]
    },
    {
     "name": "stdout",
     "output_type": "stream",
     "text": [
      "Left: 0.5379519676758555\n",
      "Right: 0.0013569858245952027\n",
      "Processing data 187\n"
     ]
    },
    {
     "name": "stderr",
     "output_type": "stream",
     "text": [
      "Processing: 100%|██████████| 150/150 [00:00<00:00, 367.08it/s]\n"
     ]
    },
    {
     "name": "stdout",
     "output_type": "stream",
     "text": [
      "Left: 0.004112676656432066\n",
      "Right: 0.30995075404871014\n",
      "Processing data 188\n"
     ]
    },
    {
     "name": "stderr",
     "output_type": "stream",
     "text": [
      "Processing: 100%|██████████| 150/150 [00:00<00:00, 171.38it/s]\n"
     ]
    },
    {
     "name": "stdout",
     "output_type": "stream",
     "text": [
      "Left: -0.03443308758921948\n",
      "Right: 3.134787826597485e-06\n",
      "Processing data 194\n"
     ]
    },
    {
     "name": "stderr",
     "output_type": "stream",
     "text": [
      "Processing: 100%|██████████| 152/152 [00:03<00:00, 49.40it/s]\n"
     ]
    },
    {
     "name": "stdout",
     "output_type": "stream",
     "text": [
      "Left: 0.14752763178289308\n",
      "Right: 0.0005228398868180745\n",
      "Processing data 195\n"
     ]
    },
    {
     "name": "stderr",
     "output_type": "stream",
     "text": [
      "Processing: 100%|██████████| 150/150 [00:00<00:00, 176.37it/s]\n"
     ]
    },
    {
     "name": "stdout",
     "output_type": "stream",
     "text": [
      "Left: 0.26788878425001084\n",
      "Right: 0.0022387064609658185\n",
      "Processing data 197\n"
     ]
    },
    {
     "name": "stderr",
     "output_type": "stream",
     "text": [
      "Processing: 100%|██████████| 150/150 [00:01<00:00, 142.65it/s]\n"
     ]
    },
    {
     "name": "stdout",
     "output_type": "stream",
     "text": [
      "Left: -0.0007203160406205333\n",
      "Right: 0.0025234060694545035\n",
      "Processing data 202\n"
     ]
    },
    {
     "name": "stderr",
     "output_type": "stream",
     "text": [
      "Processing: 100%|██████████| 60/60 [00:00<00:00, 202.16it/s]\n"
     ]
    },
    {
     "name": "stdout",
     "output_type": "stream",
     "text": [
      "Left: 0.00225348035175244\n",
      "Right: 0.28834941328552366\n",
      "Processing data 204\n"
     ]
    },
    {
     "name": "stderr",
     "output_type": "stream",
     "text": [
      "Processing: 100%|██████████| 150/150 [00:00<00:00, 345.51it/s]\n"
     ]
    },
    {
     "name": "stdout",
     "output_type": "stream",
     "text": [
      "Left: 0.000766668542869952\n",
      "Right: 0.6630468145812082\n",
      "Processing data 206\n"
     ]
    },
    {
     "name": "stderr",
     "output_type": "stream",
     "text": [
      "Processing: 100%|██████████| 150/150 [00:00<00:00, 167.77it/s]\n"
     ]
    },
    {
     "name": "stdout",
     "output_type": "stream",
     "text": [
      "Left: -0.0022726749095577925\n",
      "Right: 0.4279342327361092\n",
      "Processing data 207\n"
     ]
    },
    {
     "name": "stderr",
     "output_type": "stream",
     "text": [
      "Processing: 100%|██████████| 150/150 [00:00<00:00, 229.23it/s]\n"
     ]
    },
    {
     "name": "stdout",
     "output_type": "stream",
     "text": [
      "Left: 0.0023258364022582583\n",
      "Right: 0.5237003111360004\n",
      "Processing data 208\n"
     ]
    },
    {
     "name": "stderr",
     "output_type": "stream",
     "text": [
      "Processing: 100%|██████████| 150/150 [00:06<00:00, 23.19it/s]\n"
     ]
    },
    {
     "name": "stdout",
     "output_type": "stream",
     "text": [
      "Left: 0.10745992217110889\n",
      "Right: 0.04027421237521017\n",
      "Processing data 209\n"
     ]
    },
    {
     "name": "stderr",
     "output_type": "stream",
     "text": [
      "Processing: 100%|██████████| 150/150 [00:01<00:00, 82.70it/s] \n"
     ]
    },
    {
     "name": "stdout",
     "output_type": "stream",
     "text": [
      "Left: 0.0006734280356977228\n",
      "Right: 0.6404401224937288\n",
      "Processing data 210\n"
     ]
    },
    {
     "name": "stderr",
     "output_type": "stream",
     "text": [
      "Processing: 100%|██████████| 150/150 [00:04<00:00, 34.76it/s]\n"
     ]
    },
    {
     "name": "stdout",
     "output_type": "stream",
     "text": [
      "Left: -0.0005238288540116709\n",
      "Right: -0.04483181584507656\n",
      "Processing data 211\n"
     ]
    },
    {
     "name": "stderr",
     "output_type": "stream",
     "text": [
      "Processing: 100%|██████████| 150/150 [00:00<00:00, 280.67it/s]\n"
     ]
    },
    {
     "name": "stdout",
     "output_type": "stream",
     "text": [
      "Left: -0.0008779004761313609\n",
      "Right: 0.7258531742150848\n",
      "Processing data 215\n"
     ]
    },
    {
     "name": "stderr",
     "output_type": "stream",
     "text": [
      "Processing: 100%|██████████| 150/150 [00:00<00:00, 415.62it/s]\n"
     ]
    },
    {
     "name": "stdout",
     "output_type": "stream",
     "text": [
      "Left: 2.492481823426762e-05\n",
      "Right: -0.17863305074120528\n",
      "Processing data 216\n"
     ]
    },
    {
     "name": "stderr",
     "output_type": "stream",
     "text": [
      "Processing: 100%|██████████| 150/150 [00:02<00:00, 69.56it/s] \n"
     ]
    },
    {
     "name": "stdout",
     "output_type": "stream",
     "text": [
      "Left: 0.09141402279652511\n",
      "Right: 0.1060156881233213\n",
      "Processing data 217\n"
     ]
    },
    {
     "name": "stderr",
     "output_type": "stream",
     "text": [
      "Processing: 100%|██████████| 180/180 [00:03<00:00, 57.96it/s] \n"
     ]
    },
    {
     "name": "stdout",
     "output_type": "stream",
     "text": [
      "Left: 0.11080972217215118\n",
      "Right: 0.4001464909955236\n",
      "Processing data 221\n"
     ]
    },
    {
     "name": "stderr",
     "output_type": "stream",
     "text": [
      "Processing: 100%|██████████| 150/150 [00:01<00:00, 123.58it/s]\n"
     ]
    },
    {
     "name": "stdout",
     "output_type": "stream",
     "text": [
      "Left: -0.003471202144224677\n",
      "Right: 0.2993847106418998\n",
      "Processing data 222\n"
     ]
    },
    {
     "name": "stderr",
     "output_type": "stream",
     "text": [
      "Processing: 100%|██████████| 150/150 [00:03<00:00, 49.71it/s] \n"
     ]
    },
    {
     "name": "stdout",
     "output_type": "stream",
     "text": [
      "Left: -0.4576274898510765\n",
      "Right: 0.09024581061935588\n",
      "Processing data 224\n"
     ]
    },
    {
     "name": "stderr",
     "output_type": "stream",
     "text": [
      "Processing: 100%|██████████| 150/150 [00:02<00:00, 65.21it/s]\n"
     ]
    },
    {
     "name": "stdout",
     "output_type": "stream",
     "text": [
      "Left: 0.0016817284509588748\n",
      "Right: -0.043522636137880044\n",
      "Processing data 230\n"
     ]
    },
    {
     "name": "stderr",
     "output_type": "stream",
     "text": [
      "Processing: 100%|██████████| 150/150 [00:01<00:00, 143.91it/s]\n"
     ]
    },
    {
     "name": "stdout",
     "output_type": "stream",
     "text": [
      "Left: 0.1413631706793383\n",
      "Right: -0.0003177784221220295\n",
      "Processing data 241\n"
     ]
    },
    {
     "name": "stderr",
     "output_type": "stream",
     "text": [
      "Processing: 100%|██████████| 180/180 [00:01<00:00, 135.49it/s]\n"
     ]
    },
    {
     "name": "stdout",
     "output_type": "stream",
     "text": [
      "Left: -0.01982536083749109\n",
      "Right: -0.0025449291622302583\n",
      "Processing data 242\n"
     ]
    },
    {
     "name": "stderr",
     "output_type": "stream",
     "text": [
      "Processing: 100%|██████████| 150/150 [00:02<00:00, 54.33it/s]\n"
     ]
    },
    {
     "name": "stdout",
     "output_type": "stream",
     "text": [
      "Left: 0.000576193073684117\n",
      "Right: 0.2855935076775167\n",
      "Processing data 244\n"
     ]
    },
    {
     "name": "stderr",
     "output_type": "stream",
     "text": [
      "Processing: 100%|██████████| 150/150 [00:01<00:00, 104.17it/s]\n"
     ]
    },
    {
     "name": "stdout",
     "output_type": "stream",
     "text": [
      "Left: 0.35510171860154854\n",
      "Right: 0.364666917328569\n",
      "Processing data 250\n"
     ]
    },
    {
     "name": "stderr",
     "output_type": "stream",
     "text": [
      "Processing: 100%|██████████| 150/150 [00:00<00:00, 800.52it/s]\n"
     ]
    },
    {
     "name": "stdout",
     "output_type": "stream",
     "text": [
      "Left: -0.021730297245782015\n",
      "Right: 0.19929224063559103\n",
      "Processing data 251\n"
     ]
    },
    {
     "name": "stderr",
     "output_type": "stream",
     "text": [
      "Processing: 100%|██████████| 150/150 [00:00<00:00, 787.26it/s]\n"
     ]
    },
    {
     "name": "stdout",
     "output_type": "stream",
     "text": [
      "Left: -0.01750173082656925\n",
      "Right: -0.015250668995719252\n",
      "Processing data 254\n"
     ]
    },
    {
     "name": "stderr",
     "output_type": "stream",
     "text": [
      "Processing: 100%|██████████| 180/180 [00:00<00:00, 209.39it/s]\n"
     ]
    },
    {
     "name": "stdout",
     "output_type": "stream",
     "text": [
      "Left: 0.3512702333405243\n",
      "Right: 0.0002802550855144142\n",
      "Processing data 257\n"
     ]
    },
    {
     "name": "stderr",
     "output_type": "stream",
     "text": [
      "Processing: 100%|██████████| 150/150 [00:00<00:00, 186.87it/s]\n"
     ]
    },
    {
     "name": "stdout",
     "output_type": "stream",
     "text": [
      "Left: -0.024194487674761844\n",
      "Right: 0.00013847063670291426\n",
      "Processing data 258\n"
     ]
    },
    {
     "name": "stderr",
     "output_type": "stream",
     "text": [
      "Processing: 100%|██████████| 150/150 [00:00<00:00, 634.51it/s]\n"
     ]
    },
    {
     "name": "stdout",
     "output_type": "stream",
     "text": [
      "Left: 0.02917732719254207\n",
      "Right: 0.027518824498099947\n",
      "Processing data 262\n"
     ]
    },
    {
     "name": "stderr",
     "output_type": "stream",
     "text": [
      "Processing: 100%|██████████| 59/59 [00:00<00:00, 115.32it/s]\n"
     ]
    },
    {
     "name": "stdout",
     "output_type": "stream",
     "text": [
      "Left: -0.032034886328997036\n",
      "Right: -0.0021400165989447495\n",
      "Processing data 265\n"
     ]
    },
    {
     "name": "stderr",
     "output_type": "stream",
     "text": [
      "Processing: 100%|██████████| 150/150 [00:00<00:00, 215.95it/s]\n"
     ]
    },
    {
     "name": "stdout",
     "output_type": "stream",
     "text": [
      "Left: 0.5270463822954264\n",
      "Right: 0.000593932842267518\n",
      "Processing data 266\n"
     ]
    },
    {
     "name": "stderr",
     "output_type": "stream",
     "text": [
      "Processing: 100%|██████████| 150/150 [00:00<00:00, 162.27it/s]\n"
     ]
    },
    {
     "name": "stdout",
     "output_type": "stream",
     "text": [
      "Left: 0.48085043354051565\n",
      "Right: 0.007149168087602173\n",
      "Processing data 268\n"
     ]
    },
    {
     "name": "stderr",
     "output_type": "stream",
     "text": [
      "Processing: 100%|██████████| 150/150 [00:00<00:00, 562.59it/s]\n"
     ]
    },
    {
     "name": "stdout",
     "output_type": "stream",
     "text": [
      "Left: 0.0014579530461512613\n",
      "Right: 1.4428102550895217e-06\n",
      "Processing data 272\n"
     ]
    },
    {
     "name": "stderr",
     "output_type": "stream",
     "text": [
      "Processing: 100%|██████████| 150/150 [00:02<00:00, 64.50it/s]\n"
     ]
    },
    {
     "name": "stdout",
     "output_type": "stream",
     "text": [
      "Left: -0.016244149652186124\n",
      "Right: 0.004054978113804494\n",
      "Processing data 284\n"
     ]
    },
    {
     "name": "stderr",
     "output_type": "stream",
     "text": [
      "Processing: 100%|██████████| 150/150 [00:01<00:00, 95.96it/s]\n"
     ]
    },
    {
     "name": "stdout",
     "output_type": "stream",
     "text": [
      "Left: -0.017928926393447897\n",
      "Right: -0.10893806103818515\n",
      "Processing data 286\n"
     ]
    },
    {
     "name": "stderr",
     "output_type": "stream",
     "text": [
      "Processing: 100%|██████████| 150/150 [00:01<00:00, 87.12it/s]\n"
     ]
    },
    {
     "name": "stdout",
     "output_type": "stream",
     "text": [
      "Left: 0.44990243095764154\n",
      "Right: -0.03820554223345307\n",
      "Processing data 288\n"
     ]
    },
    {
     "name": "stderr",
     "output_type": "stream",
     "text": [
      "Processing: 100%|██████████| 150/150 [00:01<00:00, 84.75it/s] \n"
     ]
    },
    {
     "name": "stdout",
     "output_type": "stream",
     "text": [
      "Left: -0.00022276229999051381\n",
      "Right: 0.09164300791815366\n",
      "Processing data 289\n"
     ]
    },
    {
     "name": "stderr",
     "output_type": "stream",
     "text": [
      "Processing: 100%|██████████| 150/150 [00:00<00:00, 204.50it/s]\n"
     ]
    },
    {
     "name": "stdout",
     "output_type": "stream",
     "text": [
      "Left: 0.5819066049471362\n",
      "Right: 0.4832788338680838\n",
      "Processing data 298\n"
     ]
    },
    {
     "name": "stderr",
     "output_type": "stream",
     "text": [
      "Processing: 100%|██████████| 150/150 [00:00<00:00, 226.80it/s]\n"
     ]
    },
    {
     "name": "stdout",
     "output_type": "stream",
     "text": [
      "Left: 3.742338602281958e-05\n",
      "Right: 0.019389698912498976\n",
      "Processing data 303\n"
     ]
    },
    {
     "name": "stderr",
     "output_type": "stream",
     "text": [
      "Processing: 100%|██████████| 180/180 [00:00<00:00, 399.00it/s]\n"
     ]
    },
    {
     "name": "stdout",
     "output_type": "stream",
     "text": [
      "Left: -0.017557843259035866\n",
      "Right: -0.013003629427409402\n",
      "Processing data 305\n"
     ]
    },
    {
     "name": "stderr",
     "output_type": "stream",
     "text": [
      "Processing: 100%|██████████| 150/150 [00:00<00:00, 280.22it/s]\n"
     ]
    },
    {
     "name": "stdout",
     "output_type": "stream",
     "text": [
      "Left: 0.39145072342770365\n",
      "Right: 0.013030007652898192\n",
      "Processing data 307\n"
     ]
    },
    {
     "name": "stderr",
     "output_type": "stream",
     "text": [
      "Processing: 100%|██████████| 30/30 [00:00<00:00, 224.66it/s]\n"
     ]
    },
    {
     "name": "stdout",
     "output_type": "stream",
     "text": [
      "Left: -0.03102431476270001\n",
      "Right: 0.0002856790926319963\n",
      "Processing data 308\n"
     ]
    },
    {
     "name": "stderr",
     "output_type": "stream",
     "text": [
      "Processing: 100%|██████████| 150/150 [00:03<00:00, 37.97it/s] \n"
     ]
    },
    {
     "name": "stdout",
     "output_type": "stream",
     "text": [
      "Left: -0.07975008590172317\n",
      "Right: 0.000416253968824179\n",
      "Processing data 310\n"
     ]
    },
    {
     "name": "stderr",
     "output_type": "stream",
     "text": [
      "Processing: 100%|██████████| 150/150 [00:00<00:00, 289.63it/s]\n"
     ]
    },
    {
     "name": "stdout",
     "output_type": "stream",
     "text": [
      "Left: 0.866548054838316\n",
      "Right: 0.060932838135103945\n",
      "Processing data 311\n"
     ]
    },
    {
     "name": "stderr",
     "output_type": "stream",
     "text": [
      "Processing: 100%|██████████| 180/180 [00:01<00:00, 94.72it/s] \n"
     ]
    },
    {
     "name": "stdout",
     "output_type": "stream",
     "text": [
      "Left: 0.755651066286561\n",
      "Right: 0.07437363130543523\n",
      "Processing data 314\n"
     ]
    },
    {
     "name": "stderr",
     "output_type": "stream",
     "text": [
      "Processing: 100%|██████████| 120/120 [00:00<00:00, 152.88it/s]\n"
     ]
    },
    {
     "name": "stdout",
     "output_type": "stream",
     "text": [
      "Left: 1.911282199108799e-05\n",
      "Right: 0.11656466812986233\n",
      "Processing data 317\n"
     ]
    },
    {
     "name": "stderr",
     "output_type": "stream",
     "text": [
      "Processing: 100%|██████████| 120/120 [00:00<00:00, 369.55it/s]\n"
     ]
    },
    {
     "name": "stdout",
     "output_type": "stream",
     "text": [
      "Left: -0.00019662121172349368\n",
      "Right: 0.38495625303349695\n",
      "Processing data 322\n"
     ]
    },
    {
     "name": "stderr",
     "output_type": "stream",
     "text": [
      "Processing: 100%|██████████| 150/150 [00:01<00:00, 96.00it/s]\n"
     ]
    },
    {
     "name": "stdout",
     "output_type": "stream",
     "text": [
      "Left: -0.00010342400842300314\n",
      "Right: 0.012673643722392436\n",
      "Processing data 323\n"
     ]
    },
    {
     "name": "stderr",
     "output_type": "stream",
     "text": [
      "Processing: 100%|██████████| 150/150 [00:03<00:00, 45.03it/s]\n"
     ]
    },
    {
     "name": "stdout",
     "output_type": "stream",
     "text": [
      "Left: 0.07690736023794542\n",
      "Right: 0.03108366132325735\n",
      "Processing data 326\n"
     ]
    },
    {
     "name": "stderr",
     "output_type": "stream",
     "text": [
      "Processing: 100%|██████████| 150/150 [00:02<00:00, 73.12it/s] \n"
     ]
    },
    {
     "name": "stdout",
     "output_type": "stream",
     "text": [
      "Left: -0.0006088970828499463\n",
      "Right: 0.0001052890454832367\n",
      "Processing data 327\n"
     ]
    },
    {
     "name": "stderr",
     "output_type": "stream",
     "text": [
      "Processing: 100%|██████████| 150/150 [00:05<00:00, 27.38it/s]\n"
     ]
    },
    {
     "name": "stdout",
     "output_type": "stream",
     "text": [
      "Left: -0.39477731758120915\n",
      "Right: 0.16728614985317258\n",
      "Processing data 328\n"
     ]
    },
    {
     "name": "stderr",
     "output_type": "stream",
     "text": [
      "Processing: 100%|██████████| 180/180 [00:02<00:00, 71.62it/s]\n"
     ]
    },
    {
     "name": "stdout",
     "output_type": "stream",
     "text": [
      "Left: 0.03312218173084469\n",
      "Right: 0.495958838911856\n",
      "Processing data 330\n"
     ]
    },
    {
     "name": "stderr",
     "output_type": "stream",
     "text": [
      "Processing: 100%|██████████| 150/150 [00:01<00:00, 102.03it/s]\n"
     ]
    },
    {
     "name": "stdout",
     "output_type": "stream",
     "text": [
      "Left: -0.1522358431726461\n",
      "Right: 0.08942434672082167\n",
      "Processing data 331\n"
     ]
    },
    {
     "name": "stderr",
     "output_type": "stream",
     "text": [
      "Processing: 100%|██████████| 60/60 [00:00<00:00, 383.85it/s]\n"
     ]
    },
    {
     "name": "stdout",
     "output_type": "stream",
     "text": [
      "Left: 0.4278888470737835\n",
      "Right: 0.29072848765739223\n",
      "Processing data 333\n"
     ]
    },
    {
     "name": "stderr",
     "output_type": "stream",
     "text": [
      "Processing: 100%|██████████| 150/150 [00:01<00:00, 124.86it/s]\n"
     ]
    },
    {
     "name": "stdout",
     "output_type": "stream",
     "text": [
      "Left: -0.03383663913263896\n",
      "Right: -8.750349174926897e-05\n",
      "Processing data 340\n"
     ]
    },
    {
     "name": "stderr",
     "output_type": "stream",
     "text": [
      "Processing: 100%|██████████| 180/180 [00:01<00:00, 162.93it/s]\n"
     ]
    },
    {
     "name": "stdout",
     "output_type": "stream",
     "text": [
      "Left: -0.03024974125127744\n",
      "Right: -8.120121091143018e-05\n",
      "Processing data 342\n"
     ]
    },
    {
     "name": "stderr",
     "output_type": "stream",
     "text": [
      "Processing: 100%|██████████| 150/150 [00:00<00:00, 245.60it/s]\n"
     ]
    },
    {
     "name": "stdout",
     "output_type": "stream",
     "text": [
      "Left: 0.9026977117268397\n",
      "Right: 0.9215229276501483\n",
      "Processing data 345\n"
     ]
    },
    {
     "name": "stderr",
     "output_type": "stream",
     "text": [
      "Processing: 100%|██████████| 150/150 [00:00<00:00, 401.51it/s]\n"
     ]
    },
    {
     "name": "stdout",
     "output_type": "stream",
     "text": [
      "Left: 0.31416489737970055\n",
      "Right: 0.004395497251486677\n",
      "Processing data 346\n"
     ]
    },
    {
     "name": "stderr",
     "output_type": "stream",
     "text": [
      "Processing: 100%|██████████| 150/150 [00:01<00:00, 77.33it/s] \n"
     ]
    },
    {
     "name": "stdout",
     "output_type": "stream",
     "text": [
      "Left: 0.04608604165484326\n",
      "Right: -0.0019469558697610134\n",
      "Processing data 356\n"
     ]
    },
    {
     "name": "stderr",
     "output_type": "stream",
     "text": [
      "Processing: 100%|██████████| 120/120 [00:03<00:00, 33.66it/s]\n"
     ]
    },
    {
     "name": "stdout",
     "output_type": "stream",
     "text": [
      "Left: 0.0030424223247303983\n",
      "Right: 0.001201672386576133\n",
      "Processing data 359\n"
     ]
    },
    {
     "name": "stderr",
     "output_type": "stream",
     "text": [
      "Processing: 100%|██████████| 150/150 [00:00<00:00, 332.24it/s]\n"
     ]
    },
    {
     "name": "stdout",
     "output_type": "stream",
     "text": [
      "Left: 0.00019256549990057104\n",
      "Right: 0.12327462447440007\n",
      "Processing data 360\n"
     ]
    },
    {
     "name": "stderr",
     "output_type": "stream",
     "text": [
      "Processing: 100%|██████████| 150/150 [00:02<00:00, 60.88it/s] \n"
     ]
    },
    {
     "name": "stdout",
     "output_type": "stream",
     "text": [
      "Left: 0.005628879030149303\n",
      "Right: 0.19444954241361245\n",
      "Processing data 362\n"
     ]
    },
    {
     "name": "stderr",
     "output_type": "stream",
     "text": [
      "Processing: 100%|██████████| 150/150 [00:02<00:00, 59.36it/s] \n"
     ]
    },
    {
     "name": "stdout",
     "output_type": "stream",
     "text": [
      "Left: 0.40210927960694487\n",
      "Right: 0.0019834090470412843\n",
      "Processing data 363\n"
     ]
    },
    {
     "name": "stderr",
     "output_type": "stream",
     "text": [
      "Processing: 100%|██████████| 60/60 [00:00<00:00, 428.20it/s]\n"
     ]
    },
    {
     "name": "stdout",
     "output_type": "stream",
     "text": [
      "Left: -2.3560033407532543e-07\n",
      "Right: -0.0006876870580312944\n",
      "Processing data 364\n"
     ]
    },
    {
     "name": "stderr",
     "output_type": "stream",
     "text": [
      "Processing: 100%|██████████| 150/150 [00:06<00:00, 23.21it/s]\n"
     ]
    },
    {
     "name": "stdout",
     "output_type": "stream",
     "text": [
      "Left: -0.0011952595348729278\n",
      "Right: -0.15000492081845285\n",
      "Processing data 365\n"
     ]
    },
    {
     "name": "stderr",
     "output_type": "stream",
     "text": [
      "Processing: 100%|██████████| 150/150 [00:02<00:00, 61.81it/s]\n"
     ]
    },
    {
     "name": "stdout",
     "output_type": "stream",
     "text": [
      "Left: 0.5390619363247022\n",
      "Right: -0.00027750676716702116\n",
      "Processing data 366\n"
     ]
    },
    {
     "name": "stderr",
     "output_type": "stream",
     "text": [
      "Processing: 100%|██████████| 177/177 [00:01<00:00, 114.32it/s]\n"
     ]
    },
    {
     "name": "stdout",
     "output_type": "stream",
     "text": [
      "Left: 0.5815839889584669\n",
      "Right: 0.5604390535147701\n",
      "Processing data 368\n"
     ]
    },
    {
     "name": "stderr",
     "output_type": "stream",
     "text": [
      "Processing: 100%|██████████| 150/150 [00:01<00:00, 75.52it/s]\n"
     ]
    },
    {
     "name": "stdout",
     "output_type": "stream",
     "text": [
      "Left: -0.028200840133016603\n",
      "Right: -0.0049921600200490135\n",
      "Processing data 369\n"
     ]
    },
    {
     "name": "stderr",
     "output_type": "stream",
     "text": [
      "Processing: 100%|██████████| 150/150 [00:02<00:00, 72.95it/s]\n"
     ]
    },
    {
     "name": "stdout",
     "output_type": "stream",
     "text": [
      "Left: 0.12971146954449508\n",
      "Right: 0.0029189087199833486\n",
      "Processing data 371\n"
     ]
    },
    {
     "name": "stderr",
     "output_type": "stream",
     "text": [
      "Processing: 100%|██████████| 150/150 [00:00<00:00, 267.31it/s]\n"
     ]
    },
    {
     "name": "stdout",
     "output_type": "stream",
     "text": [
      "Left: 0.10975635480222029\n",
      "Right: 0.00029731860087039985\n",
      "Processing data 372\n"
     ]
    },
    {
     "name": "stderr",
     "output_type": "stream",
     "text": [
      "Processing: 100%|██████████| 150/150 [00:01<00:00, 80.73it/s] \n"
     ]
    },
    {
     "name": "stdout",
     "output_type": "stream",
     "text": [
      "Left: 0.014960284427790738\n",
      "Right: 0.27429017421175284\n",
      "Processing data 374\n"
     ]
    },
    {
     "name": "stderr",
     "output_type": "stream",
     "text": [
      "Processing: 100%|██████████| 60/60 [00:00<00:00, 533.66it/s]\n"
     ]
    },
    {
     "name": "stdout",
     "output_type": "stream",
     "text": [
      "Left: 2.4634269976675505e-06\n",
      "Right: -0.12805841252997807\n",
      "Processing data 376\n"
     ]
    },
    {
     "name": "stderr",
     "output_type": "stream",
     "text": [
      "Processing: 100%|██████████| 150/150 [00:06<00:00, 24.47it/s]\n"
     ]
    },
    {
     "name": "stdout",
     "output_type": "stream",
     "text": [
      "Left: -3.803157821577474e-05\n",
      "Right: -0.013250317796168476\n",
      "Processing data 377\n"
     ]
    },
    {
     "name": "stderr",
     "output_type": "stream",
     "text": [
      "Processing: 100%|██████████| 150/150 [00:01<00:00, 83.34it/s] \n"
     ]
    },
    {
     "name": "stdout",
     "output_type": "stream",
     "text": [
      "Left: -0.056629074166185345\n",
      "Right: -0.001636925541513068\n",
      "Processing data 378\n"
     ]
    },
    {
     "name": "stderr",
     "output_type": "stream",
     "text": [
      "Processing: 100%|██████████| 210/210 [00:03<00:00, 57.96it/s] \n"
     ]
    },
    {
     "name": "stdout",
     "output_type": "stream",
     "text": [
      "Left: -0.007634600219871612\n",
      "Right: 0.470912988590981\n",
      "Processing data 382\n"
     ]
    },
    {
     "name": "stderr",
     "output_type": "stream",
     "text": [
      "Processing: 100%|██████████| 90/90 [00:00<00:00, 357.20it/s]\n"
     ]
    },
    {
     "name": "stdout",
     "output_type": "stream",
     "text": [
      "Left: 0.3013015880967881\n",
      "Right: 0.005997757958112249\n",
      "Processing data 387\n"
     ]
    },
    {
     "name": "stderr",
     "output_type": "stream",
     "text": [
      "Processing: 100%|██████████| 150/150 [00:06<00:00, 23.91it/s]\n"
     ]
    },
    {
     "name": "stdout",
     "output_type": "stream",
     "text": [
      "Left: 0.00037308161681647023\n",
      "Right: 0.018853982337287578\n",
      "Processing data 388\n"
     ]
    },
    {
     "name": "stderr",
     "output_type": "stream",
     "text": [
      "Processing: 100%|██████████| 150/150 [00:00<00:00, 170.97it/s]\n"
     ]
    },
    {
     "name": "stdout",
     "output_type": "stream",
     "text": [
      "Left: 0.015161725093614797\n",
      "Right: 2.2743495893623455e-05\n",
      "Processing data 389\n"
     ]
    },
    {
     "name": "stderr",
     "output_type": "stream",
     "text": [
      "Processing: 100%|██████████| 150/150 [00:01<00:00, 133.68it/s]\n"
     ]
    },
    {
     "name": "stdout",
     "output_type": "stream",
     "text": [
      "Left: 0.02727160686579666\n",
      "Right: -0.013920343229890664\n",
      "Processing data 390\n"
     ]
    },
    {
     "name": "stderr",
     "output_type": "stream",
     "text": [
      "Processing: 100%|██████████| 60/60 [00:00<00:00, 125.96it/s]\n"
     ]
    },
    {
     "name": "stdout",
     "output_type": "stream",
     "text": [
      "Left: 0.020891606293966247\n",
      "Right: 0.2967620210068527\n",
      "Processing data 392\n"
     ]
    },
    {
     "name": "stderr",
     "output_type": "stream",
     "text": [
      "Processing: 100%|██████████| 150/150 [00:00<00:00, 614.09it/s]\n"
     ]
    },
    {
     "name": "stdout",
     "output_type": "stream",
     "text": [
      "Left: 0.274374519785203\n",
      "Right: -0.1167717940335321\n",
      "Processing data 394\n"
     ]
    },
    {
     "name": "stderr",
     "output_type": "stream",
     "text": [
      "Processing: 100%|██████████| 150/150 [00:00<00:00, 309.68it/s]\n"
     ]
    },
    {
     "name": "stdout",
     "output_type": "stream",
     "text": [
      "Left: 0.006829620788495472\n",
      "Right: -0.010535153830673383\n",
      "Processing data 395\n"
     ]
    },
    {
     "name": "stderr",
     "output_type": "stream",
     "text": [
      "Processing: 100%|██████████| 60/60 [00:01<00:00, 47.24it/s]\n"
     ]
    },
    {
     "name": "stdout",
     "output_type": "stream",
     "text": [
      "Left: -0.00012620019967676116\n",
      "Right: 0.14054154588808876\n",
      "Processing data 402\n"
     ]
    },
    {
     "name": "stderr",
     "output_type": "stream",
     "text": [
      "Processing: 100%|██████████| 150/150 [00:00<00:00, 528.29it/s]\n"
     ]
    },
    {
     "name": "stdout",
     "output_type": "stream",
     "text": [
      "Left: 5.248504023808165e-06\n",
      "Right: -0.05517430660292871\n",
      "Processing data 406\n"
     ]
    },
    {
     "name": "stderr",
     "output_type": "stream",
     "text": [
      "Processing: 100%|██████████| 150/150 [00:02<00:00, 65.70it/s]\n"
     ]
    },
    {
     "name": "stdout",
     "output_type": "stream",
     "text": [
      "Left: -0.3125551516050735\n",
      "Right: -0.019444580871407866\n",
      "Processing data 417\n"
     ]
    },
    {
     "name": "stderr",
     "output_type": "stream",
     "text": [
      "Processing: 100%|██████████| 120/120 [00:00<00:00, 275.33it/s]\n"
     ]
    },
    {
     "name": "stdout",
     "output_type": "stream",
     "text": [
      "Left: -3.5626382356990227e-06\n",
      "Right: 0.032234837507304326\n",
      "Processing data 420\n"
     ]
    },
    {
     "name": "stderr",
     "output_type": "stream",
     "text": [
      "Processing: 100%|██████████| 150/150 [00:00<00:00, 174.40it/s]\n"
     ]
    },
    {
     "name": "stdout",
     "output_type": "stream",
     "text": [
      "Left: -0.014965287070532018\n",
      "Right: -0.003528879600694035\n",
      "Processing data 422\n"
     ]
    },
    {
     "name": "stderr",
     "output_type": "stream",
     "text": [
      "Processing: 100%|██████████| 150/150 [00:02<00:00, 65.23it/s]\n"
     ]
    },
    {
     "name": "stdout",
     "output_type": "stream",
     "text": [
      "Left: -0.013818608504183372\n",
      "Right: -0.05600841502912651\n",
      "Processing data 424\n"
     ]
    },
    {
     "name": "stderr",
     "output_type": "stream",
     "text": [
      "Processing: 100%|██████████| 150/150 [00:03<00:00, 38.55it/s]\n"
     ]
    },
    {
     "name": "stdout",
     "output_type": "stream",
     "text": [
      "Left: 0.0019862761803456364\n",
      "Right: 0.35132401642927036\n",
      "Processing data 425\n"
     ]
    },
    {
     "name": "stderr",
     "output_type": "stream",
     "text": [
      "Processing: 100%|██████████| 150/150 [00:00<00:00, 365.70it/s]\n"
     ]
    },
    {
     "name": "stdout",
     "output_type": "stream",
     "text": [
      "Left: -0.048044748837007156\n",
      "Right: 0.0012461065833559992\n",
      "Processing data 428\n"
     ]
    },
    {
     "name": "stderr",
     "output_type": "stream",
     "text": [
      "Processing: 100%|██████████| 150/150 [00:01<00:00, 128.18it/s]\n"
     ]
    },
    {
     "name": "stdout",
     "output_type": "stream",
     "text": [
      "Left: 0.43968735433546996\n",
      "Right: 0.3637313463870737\n",
      "Processing data 430\n"
     ]
    },
    {
     "name": "stderr",
     "output_type": "stream",
     "text": [
      "Processing: 100%|██████████| 150/150 [00:00<00:00, 368.45it/s]\n"
     ]
    },
    {
     "name": "stdout",
     "output_type": "stream",
     "text": [
      "Left: 0.5446654486972016\n",
      "Right: 7.691958307690138e-05\n",
      "Processing data 431\n"
     ]
    },
    {
     "name": "stderr",
     "output_type": "stream",
     "text": [
      "Processing: 100%|██████████| 150/150 [00:01<00:00, 115.34it/s]\n"
     ]
    },
    {
     "name": "stdout",
     "output_type": "stream",
     "text": [
      "Left: -0.03042132343780979\n",
      "Right: 4.663571180417436e-05\n",
      "Processing data 432\n"
     ]
    },
    {
     "name": "stderr",
     "output_type": "stream",
     "text": [
      "Processing: 100%|██████████| 150/150 [00:02<00:00, 53.69it/s]\n"
     ]
    },
    {
     "name": "stdout",
     "output_type": "stream",
     "text": [
      "Left: 0.4252511465968335\n",
      "Right: 0.0005375389269880425\n",
      "Processing data 433\n"
     ]
    },
    {
     "name": "stderr",
     "output_type": "stream",
     "text": [
      "Processing: 100%|██████████| 150/150 [00:00<00:00, 332.82it/s]\n"
     ]
    },
    {
     "name": "stdout",
     "output_type": "stream",
     "text": [
      "Left: 0.3780148851760279\n",
      "Right: 0.011340798849750604\n",
      "Processing data 435\n"
     ]
    },
    {
     "name": "stderr",
     "output_type": "stream",
     "text": [
      "Processing: 100%|██████████| 150/150 [00:00<00:00, 207.23it/s]\n"
     ]
    },
    {
     "name": "stdout",
     "output_type": "stream",
     "text": [
      "Left: 0.2566487424089537\n",
      "Right: -0.0030424222002153334\n",
      "Processing data 436\n"
     ]
    },
    {
     "name": "stderr",
     "output_type": "stream",
     "text": [
      "Processing: 100%|██████████| 150/150 [00:02<00:00, 65.59it/s]\n"
     ]
    },
    {
     "name": "stdout",
     "output_type": "stream",
     "text": [
      "Left: 0.3519069432697684\n",
      "Right: -0.011736719005969204\n",
      "Processing data 437\n"
     ]
    },
    {
     "name": "stderr",
     "output_type": "stream",
     "text": [
      "Processing: 100%|██████████| 60/60 [00:00<00:00, 279.95it/s]\n"
     ]
    },
    {
     "name": "stdout",
     "output_type": "stream",
     "text": [
      "Left: 0.0003171069268541604\n",
      "Right: 0.40840903912625964\n",
      "Processing data 438\n"
     ]
    },
    {
     "name": "stderr",
     "output_type": "stream",
     "text": [
      "Processing: 100%|██████████| 150/150 [00:00<00:00, 416.27it/s]\n"
     ]
    },
    {
     "name": "stdout",
     "output_type": "stream",
     "text": [
      "Left: 0.028193847329782418\n",
      "Right: 8.277473350439685e-06\n",
      "Processing data 439\n"
     ]
    },
    {
     "name": "stderr",
     "output_type": "stream",
     "text": [
      "Processing: 100%|██████████| 150/150 [00:00<00:00, 749.83it/s]\n"
     ]
    },
    {
     "name": "stdout",
     "output_type": "stream",
     "text": [
      "Left: 0.23068380567332253\n",
      "Right: -0.08325683543739915\n",
      "Processing data 440\n"
     ]
    },
    {
     "name": "stderr",
     "output_type": "stream",
     "text": [
      "Processing: 100%|██████████| 150/150 [00:00<00:00, 675.10it/s]\n"
     ]
    },
    {
     "name": "stdout",
     "output_type": "stream",
     "text": [
      "Left: 0.02557258077079605\n",
      "Right: 0.03141748912820341\n",
      "Processing data 443\n"
     ]
    },
    {
     "name": "stderr",
     "output_type": "stream",
     "text": [
      "Processing: 100%|██████████| 90/90 [00:00<00:00, 348.03it/s]\n"
     ]
    },
    {
     "name": "stdout",
     "output_type": "stream",
     "text": [
      "Left: 0.011913251506788625\n",
      "Right: 0.0024773018489821497\n",
      "Processing data 444\n"
     ]
    },
    {
     "name": "stderr",
     "output_type": "stream",
     "text": [
      "Processing: 100%|██████████| 150/150 [00:03<00:00, 47.58it/s]\n"
     ]
    },
    {
     "name": "stdout",
     "output_type": "stream",
     "text": [
      "Left: 0.3345852847175057\n",
      "Right: -0.0018180155083484459\n",
      "Processing data 445\n"
     ]
    },
    {
     "name": "stderr",
     "output_type": "stream",
     "text": [
      "Processing: 100%|██████████| 150/150 [00:02<00:00, 68.38it/s]\n"
     ]
    },
    {
     "name": "stdout",
     "output_type": "stream",
     "text": [
      "Left: -0.601867973307886\n",
      "Right: -0.0014817085266906529\n",
      "Processing data 446\n"
     ]
    },
    {
     "name": "stderr",
     "output_type": "stream",
     "text": [
      "Processing: 100%|██████████| 150/150 [00:01<00:00, 101.09it/s]\n"
     ]
    },
    {
     "name": "stdout",
     "output_type": "stream",
     "text": [
      "Left: 0.000709492539728334\n",
      "Right: 0.3227423668344828\n",
      "Processing data 451\n"
     ]
    },
    {
     "name": "stderr",
     "output_type": "stream",
     "text": [
      "Processing: 100%|██████████| 150/150 [00:00<00:00, 176.77it/s]\n"
     ]
    },
    {
     "name": "stdout",
     "output_type": "stream",
     "text": [
      "Left: 0.3074726526724555\n",
      "Right: 0.00037171106831159796\n",
      "Processing data 452\n"
     ]
    },
    {
     "name": "stderr",
     "output_type": "stream",
     "text": [
      "Processing: 100%|██████████| 150/150 [00:00<00:00, 179.36it/s]\n"
     ]
    },
    {
     "name": "stdout",
     "output_type": "stream",
     "text": [
      "Left: 0.6319174254865587\n",
      "Right: -0.0005465508576735327\n",
      "Processing data 453\n"
     ]
    },
    {
     "name": "stderr",
     "output_type": "stream",
     "text": [
      "Processing: 100%|██████████| 150/150 [00:00<00:00, 246.88it/s]\n"
     ]
    },
    {
     "name": "stdout",
     "output_type": "stream",
     "text": [
      "Left: 0.320664976904622\n",
      "Right: 1.5430183848483183e-05\n",
      "Processing data 454\n"
     ]
    },
    {
     "name": "stderr",
     "output_type": "stream",
     "text": [
      "Processing: 100%|██████████| 150/150 [00:03<00:00, 44.05it/s]\n"
     ]
    },
    {
     "name": "stdout",
     "output_type": "stream",
     "text": [
      "Left: 0.008107724922091858\n",
      "Right: 0.39097429986827315\n",
      "Processing data 459\n"
     ]
    },
    {
     "name": "stderr",
     "output_type": "stream",
     "text": [
      "Processing: 100%|██████████| 150/150 [00:00<00:00, 225.25it/s]\n"
     ]
    },
    {
     "name": "stdout",
     "output_type": "stream",
     "text": [
      "Left: 0.02873345305848518\n",
      "Right: -0.016372797517012372\n",
      "Processing data 460\n"
     ]
    },
    {
     "name": "stderr",
     "output_type": "stream",
     "text": [
      "Processing: 100%|██████████| 120/120 [00:00<00:00, 285.32it/s]\n"
     ]
    },
    {
     "name": "stdout",
     "output_type": "stream",
     "text": [
      "Left: 0.005407972399028682\n",
      "Right: -2.0830052366305196e-07\n",
      "Processing data 462\n"
     ]
    },
    {
     "name": "stderr",
     "output_type": "stream",
     "text": [
      "Processing: 100%|██████████| 150/150 [00:02<00:00, 62.55it/s]\n"
     ]
    },
    {
     "name": "stdout",
     "output_type": "stream",
     "text": [
      "Left: 0.710006379465578\n",
      "Right: 0.7292249698615384\n",
      "Processing data 465\n"
     ]
    },
    {
     "name": "stderr",
     "output_type": "stream",
     "text": [
      "Processing: 100%|██████████| 60/60 [00:00<00:00, 71.16it/s] \n"
     ]
    },
    {
     "name": "stdout",
     "output_type": "stream",
     "text": [
      "Left: -0.04136745086775251\n",
      "Right: 0.05310928262626491\n",
      "Processing data 469\n"
     ]
    },
    {
     "name": "stderr",
     "output_type": "stream",
     "text": [
      "Processing: 100%|██████████| 150/150 [00:00<00:00, 217.62it/s]\n"
     ]
    },
    {
     "name": "stdout",
     "output_type": "stream",
     "text": [
      "Left: -0.0028801517731094073\n",
      "Right: 0.6319615038748237\n",
      "Processing data 471\n"
     ]
    },
    {
     "name": "stderr",
     "output_type": "stream",
     "text": [
      "Processing: 100%|██████████| 150/150 [00:00<00:00, 190.30it/s]\n"
     ]
    },
    {
     "name": "stdout",
     "output_type": "stream",
     "text": [
      "Left: -0.0013181528817870214\n",
      "Right: 0.07425124391665372\n",
      "Processing data 477\n"
     ]
    },
    {
     "name": "stderr",
     "output_type": "stream",
     "text": [
      "Processing: 100%|██████████| 150/150 [00:00<00:00, 459.06it/s]\n"
     ]
    },
    {
     "name": "stdout",
     "output_type": "stream",
     "text": [
      "Left: -0.007476316296478713\n",
      "Right: 0.0176301637828552\n",
      "Processing data 478\n"
     ]
    },
    {
     "name": "stderr",
     "output_type": "stream",
     "text": [
      "Processing: 100%|██████████| 120/120 [00:00<00:00, 373.55it/s]\n"
     ]
    },
    {
     "name": "stdout",
     "output_type": "stream",
     "text": [
      "Left: -1.4877139996288813e-05\n",
      "Right: -0.03738228703730223\n",
      "Processing data 479\n"
     ]
    },
    {
     "name": "stderr",
     "output_type": "stream",
     "text": [
      "Processing: 100%|██████████| 150/150 [00:03<00:00, 47.99it/s]\n"
     ]
    },
    {
     "name": "stdout",
     "output_type": "stream",
     "text": [
      "Left: 0.37916275856172665\n",
      "Right: 0.00010197783350263112\n",
      "Processing data 481\n"
     ]
    },
    {
     "name": "stderr",
     "output_type": "stream",
     "text": [
      "Processing: 100%|██████████| 90/90 [00:00<00:00, 359.32it/s]\n"
     ]
    },
    {
     "name": "stdout",
     "output_type": "stream",
     "text": [
      "Left: 0.2086845410677937\n",
      "Right: -0.06480550093158838\n",
      "Processing data 485\n"
     ]
    },
    {
     "name": "stderr",
     "output_type": "stream",
     "text": [
      "Processing: 100%|██████████| 210/210 [00:02<00:00, 102.91it/s]\n"
     ]
    },
    {
     "name": "stdout",
     "output_type": "stream",
     "text": [
      "Left: 0.4121474034958153\n",
      "Right: 6.519658813051998e-05\n",
      "Processing data 488\n"
     ]
    },
    {
     "name": "stderr",
     "output_type": "stream",
     "text": [
      "Processing: 100%|██████████| 90/90 [00:00<00:00, 132.75it/s]\n"
     ]
    },
    {
     "name": "stdout",
     "output_type": "stream",
     "text": [
      "Left: -0.0602083979300469\n",
      "Right: -0.009859214282687712\n",
      "Processing data 491\n"
     ]
    },
    {
     "name": "stderr",
     "output_type": "stream",
     "text": [
      "Processing: 100%|██████████| 150/150 [00:02<00:00, 67.71it/s]\n"
     ]
    },
    {
     "name": "stdout",
     "output_type": "stream",
     "text": [
      "Left: 0.3632155866057851\n",
      "Right: 0.03737656944048018\n",
      "Processing data 495\n"
     ]
    },
    {
     "name": "stderr",
     "output_type": "stream",
     "text": [
      "Processing: 100%|██████████| 150/150 [00:00<00:00, 208.70it/s]\n"
     ]
    },
    {
     "name": "stdout",
     "output_type": "stream",
     "text": [
      "Left: -2.2052408646694444e-05\n",
      "Right: 0.0790248075306107\n",
      "Processing data 496\n"
     ]
    },
    {
     "name": "stderr",
     "output_type": "stream",
     "text": [
      "Processing: 100%|██████████| 150/150 [00:00<00:00, 515.15it/s]\n"
     ]
    },
    {
     "name": "stdout",
     "output_type": "stream",
     "text": [
      "Left: 0.1673848079840144\n",
      "Right: 0.02074431325434714\n",
      "Processing data 497\n"
     ]
    },
    {
     "name": "stderr",
     "output_type": "stream",
     "text": [
      "Processing: 100%|██████████| 150/150 [00:00<00:00, 530.67it/s]\n"
     ]
    },
    {
     "name": "stdout",
     "output_type": "stream",
     "text": [
      "Left: 0.4133605831522496\n",
      "Right: 0.013844157117194576\n",
      "Processing data 498\n"
     ]
    },
    {
     "name": "stderr",
     "output_type": "stream",
     "text": [
      "Processing: 100%|██████████| 90/90 [00:00<00:00, 522.21it/s]\n"
     ]
    },
    {
     "name": "stdout",
     "output_type": "stream",
     "text": [
      "Left: 0.3253823966930148\n",
      "Right: 0.018727711013280777\n",
      "Processing data 499\n"
     ]
    },
    {
     "name": "stderr",
     "output_type": "stream",
     "text": [
      "Processing: 100%|██████████| 150/150 [00:00<00:00, 196.50it/s]\n"
     ]
    },
    {
     "name": "stdout",
     "output_type": "stream",
     "text": [
      "Left: 0.2911114823502567\n",
      "Right: 0.0006330372899245357\n",
      "Processing data 500\n"
     ]
    },
    {
     "name": "stderr",
     "output_type": "stream",
     "text": [
      "Processing: 100%|██████████| 150/150 [00:00<00:00, 195.12it/s]\n"
     ]
    },
    {
     "name": "stdout",
     "output_type": "stream",
     "text": [
      "Left: 0.5046964946943546\n",
      "Right: 0.0003667165905489253\n",
      "Processing data 501\n"
     ]
    },
    {
     "name": "stderr",
     "output_type": "stream",
     "text": [
      "Processing: 100%|██████████| 150/150 [00:01<00:00, 131.15it/s]\n"
     ]
    },
    {
     "name": "stdout",
     "output_type": "stream",
     "text": [
      "Left: -0.006044418408066354\n",
      "Right: -0.00021205869664187027\n",
      "Processing data 502\n"
     ]
    },
    {
     "name": "stderr",
     "output_type": "stream",
     "text": [
      "Processing: 100%|██████████| 150/150 [00:01<00:00, 83.19it/s]\n"
     ]
    },
    {
     "name": "stdout",
     "output_type": "stream",
     "text": [
      "Left: -0.005762241205984009\n",
      "Right: 0.00014291179755238081\n",
      "Processing data 503\n"
     ]
    },
    {
     "name": "stderr",
     "output_type": "stream",
     "text": [
      "Processing: 100%|██████████| 150/150 [00:04<00:00, 30.81it/s]\n"
     ]
    },
    {
     "name": "stdout",
     "output_type": "stream",
     "text": [
      "Left: -0.0018934832407318108\n",
      "Right: 0.0763928877316482\n",
      "Processing data 504\n"
     ]
    },
    {
     "name": "stderr",
     "output_type": "stream",
     "text": [
      "Processing: 100%|██████████| 90/90 [00:00<00:00, 322.48it/s]\n"
     ]
    },
    {
     "name": "stdout",
     "output_type": "stream",
     "text": [
      "Left: 0.0002082517123097288\n",
      "Right: 0.6697445754041338\n",
      "Processing data 505\n"
     ]
    },
    {
     "name": "stderr",
     "output_type": "stream",
     "text": [
      "Processing: 100%|██████████| 150/150 [00:05<00:00, 27.84it/s]\n"
     ]
    },
    {
     "name": "stdout",
     "output_type": "stream",
     "text": [
      "Left: -0.22428711756112063\n",
      "Right: 0.009430204230137629\n",
      "Processing data 512\n"
     ]
    },
    {
     "name": "stderr",
     "output_type": "stream",
     "text": [
      "Processing: 100%|██████████| 150/150 [00:01<00:00, 83.55it/s]\n"
     ]
    },
    {
     "name": "stdout",
     "output_type": "stream",
     "text": [
      "Left: -0.003980740437565321\n",
      "Right: 0.47343661429359857\n",
      "Processing data 513\n"
     ]
    },
    {
     "name": "stderr",
     "output_type": "stream",
     "text": [
      "Processing: 100%|██████████| 150/150 [00:06<00:00, 22.76it/s]\n"
     ]
    },
    {
     "name": "stdout",
     "output_type": "stream",
     "text": [
      "Left: -0.05935507240521817\n",
      "Right: 0.3989683251270264\n",
      "Processing data 514\n"
     ]
    },
    {
     "name": "stderr",
     "output_type": "stream",
     "text": [
      "Processing: 100%|██████████| 150/150 [00:04<00:00, 34.43it/s]\n"
     ]
    },
    {
     "name": "stdout",
     "output_type": "stream",
     "text": [
      "Left: -0.039860159476785006\n",
      "Right: -0.05552569843993016\n",
      "Processing data 517\n"
     ]
    },
    {
     "name": "stderr",
     "output_type": "stream",
     "text": [
      "Processing: 100%|██████████| 150/150 [00:03<00:00, 39.29it/s]\n"
     ]
    },
    {
     "name": "stdout",
     "output_type": "stream",
     "text": [
      "Left: 0.0007307622871182695\n",
      "Right: 0.20726603948806352\n",
      "Processing data 518\n"
     ]
    },
    {
     "name": "stderr",
     "output_type": "stream",
     "text": [
      "Processing: 100%|██████████| 150/150 [00:01<00:00, 123.52it/s]\n"
     ]
    },
    {
     "name": "stdout",
     "output_type": "stream",
     "text": [
      "Left: 0.2926804357771054\n",
      "Right: 0.000169938404654488\n",
      "Processing data 520\n"
     ]
    },
    {
     "name": "stderr",
     "output_type": "stream",
     "text": [
      "Processing: 100%|██████████| 150/150 [00:00<00:00, 272.09it/s]\n"
     ]
    },
    {
     "name": "stdout",
     "output_type": "stream",
     "text": [
      "Left: 0.32137852069973993\n",
      "Right: 0.28628438862908473\n",
      "Processing data 522\n"
     ]
    },
    {
     "name": "stderr",
     "output_type": "stream",
     "text": [
      "Processing: 100%|██████████| 150/150 [00:04<00:00, 30.36it/s]\n"
     ]
    },
    {
     "name": "stdout",
     "output_type": "stream",
     "text": [
      "Left: 0.24299837289619797\n",
      "Right: 7.281135476838729e-05\n",
      "Processing data 523\n"
     ]
    },
    {
     "name": "stderr",
     "output_type": "stream",
     "text": [
      "Processing: 100%|██████████| 150/150 [00:01<00:00, 105.59it/s]\n"
     ]
    },
    {
     "name": "stdout",
     "output_type": "stream",
     "text": [
      "Left: 0.0008629135260708742\n",
      "Right: -6.665147220047407e-05\n",
      "Processing data 524\n"
     ]
    },
    {
     "name": "stderr",
     "output_type": "stream",
     "text": [
      "Processing: 100%|██████████| 150/150 [00:00<00:00, 402.86it/s]\n"
     ]
    },
    {
     "name": "stdout",
     "output_type": "stream",
     "text": [
      "Left: 6.289303777551325e-06\n",
      "Right: -0.008444322662706838\n",
      "Processing data 527\n"
     ]
    },
    {
     "name": "stderr",
     "output_type": "stream",
     "text": [
      "Processing: 100%|██████████| 150/150 [00:00<00:00, 221.59it/s]\n"
     ]
    },
    {
     "name": "stdout",
     "output_type": "stream",
     "text": [
      "Left: -0.0739836613519218\n",
      "Right: -0.1031597496513822\n",
      "Processing data 529\n"
     ]
    },
    {
     "name": "stderr",
     "output_type": "stream",
     "text": [
      "Processing: 100%|██████████| 150/150 [00:00<00:00, 254.74it/s]\n"
     ]
    },
    {
     "name": "stdout",
     "output_type": "stream",
     "text": [
      "Left: 0.008441986271372992\n",
      "Right: -0.0032287714795813383\n",
      "Processing data 530\n"
     ]
    },
    {
     "name": "stderr",
     "output_type": "stream",
     "text": [
      "Processing: 100%|██████████| 90/90 [00:00<00:00, 207.76it/s]\n"
     ]
    },
    {
     "name": "stdout",
     "output_type": "stream",
     "text": [
      "Left: -0.07905976423840233\n",
      "Right: 7.488830363472365e-07\n",
      "Processing data 535\n"
     ]
    },
    {
     "name": "stderr",
     "output_type": "stream",
     "text": [
      "Processing: 100%|██████████| 150/150 [00:00<00:00, 255.55it/s]\n"
     ]
    },
    {
     "name": "stdout",
     "output_type": "stream",
     "text": [
      "Left: 0.1165425042615254\n",
      "Right: -0.07006772485225818\n",
      "Processing data 536\n"
     ]
    },
    {
     "name": "stderr",
     "output_type": "stream",
     "text": [
      "Processing: 100%|██████████| 150/150 [00:00<00:00, 196.10it/s]\n"
     ]
    },
    {
     "name": "stdout",
     "output_type": "stream",
     "text": [
      "Left: 0.34888931316667904\n",
      "Right: 0.09892761918715315\n",
      "Processing data 538\n"
     ]
    },
    {
     "name": "stderr",
     "output_type": "stream",
     "text": [
      "Processing: 100%|██████████| 150/150 [00:00<00:00, 379.54it/s]\n"
     ]
    },
    {
     "name": "stdout",
     "output_type": "stream",
     "text": [
      "Left: -1.0059135929912921e-05\n",
      "Right: -0.049145324846538774\n",
      "Processing data 547\n"
     ]
    },
    {
     "name": "stderr",
     "output_type": "stream",
     "text": [
      "Processing: 100%|██████████| 90/90 [00:04<00:00, 21.92it/s]\n"
     ]
    },
    {
     "name": "stdout",
     "output_type": "stream",
     "text": [
      "Left: -0.10073432560603246\n",
      "Right: 0.4547273399369328\n",
      "Processing data 548\n"
     ]
    },
    {
     "name": "stderr",
     "output_type": "stream",
     "text": [
      "Processing: 100%|██████████| 150/150 [00:07<00:00, 19.72it/s]\n"
     ]
    },
    {
     "name": "stdout",
     "output_type": "stream",
     "text": [
      "Left: -0.0321674889974054\n",
      "Right: 0.23047877695942193\n",
      "Processing data 549\n"
     ]
    },
    {
     "name": "stderr",
     "output_type": "stream",
     "text": [
      "Processing: 100%|██████████| 150/150 [00:01<00:00, 126.49it/s]\n"
     ]
    },
    {
     "name": "stdout",
     "output_type": "stream",
     "text": [
      "Left: 0.0006045415177812208\n",
      "Right: -0.0761039060510374\n",
      "Processing data 550\n"
     ]
    },
    {
     "name": "stderr",
     "output_type": "stream",
     "text": [
      "Processing: 100%|██████████| 150/150 [00:01<00:00, 93.13it/s] \n"
     ]
    },
    {
     "name": "stdout",
     "output_type": "stream",
     "text": [
      "Left: 0.06627705815367438\n",
      "Right: -0.0017127089419057273\n",
      "Processing data 557\n"
     ]
    },
    {
     "name": "stderr",
     "output_type": "stream",
     "text": [
      "Processing: 100%|██████████| 150/150 [00:00<00:00, 457.45it/s]\n"
     ]
    },
    {
     "name": "stdout",
     "output_type": "stream",
     "text": [
      "Left: -0.11499301985399213\n",
      "Right: -6.464762738947472e-05\n",
      "Processing data 562\n"
     ]
    },
    {
     "name": "stderr",
     "output_type": "stream",
     "text": [
      "Processing: 100%|██████████| 150/150 [00:00<00:00, 805.82it/s]\n"
     ]
    },
    {
     "name": "stdout",
     "output_type": "stream",
     "text": [
      "Left: 0.029684251395842298\n",
      "Right: 0.08907721729901441\n",
      "Processing data 563\n"
     ]
    },
    {
     "name": "stderr",
     "output_type": "stream",
     "text": [
      "Processing: 100%|██████████| 150/150 [00:00<00:00, 567.59it/s]\n"
     ]
    },
    {
     "name": "stdout",
     "output_type": "stream",
     "text": [
      "Left: 5.995508023382001e-07\n",
      "Right: 0.019154528690241257\n",
      "Processing data 569\n"
     ]
    },
    {
     "name": "stderr",
     "output_type": "stream",
     "text": [
      "Processing: 100%|██████████| 150/150 [00:01<00:00, 134.67it/s]\n"
     ]
    },
    {
     "name": "stdout",
     "output_type": "stream",
     "text": [
      "Left: 0.3044361099702182\n",
      "Right: 0.0015269811039298016\n",
      "Processing data 570\n"
     ]
    },
    {
     "name": "stderr",
     "output_type": "stream",
     "text": [
      "Processing: 100%|██████████| 150/150 [00:00<00:00, 875.08it/s]\n"
     ]
    },
    {
     "name": "stdout",
     "output_type": "stream",
     "text": [
      "Left: -0.10421704649313879\n",
      "Right: -0.09079334129262029\n",
      "Processing data 573\n"
     ]
    },
    {
     "name": "stderr",
     "output_type": "stream",
     "text": [
      "Processing: 100%|██████████| 150/150 [00:01<00:00, 80.76it/s] \n"
     ]
    },
    {
     "name": "stdout",
     "output_type": "stream",
     "text": [
      "Left: 0.5917442504377508\n",
      "Right: 0.021757722512405847\n",
      "Processing data 575\n"
     ]
    },
    {
     "name": "stderr",
     "output_type": "stream",
     "text": [
      "Processing: 100%|██████████| 150/150 [00:02<00:00, 58.72it/s]\n"
     ]
    },
    {
     "name": "stdout",
     "output_type": "stream",
     "text": [
      "Left: 0.000529200807038277\n",
      "Right: -0.016565528158325904\n",
      "Processing data 576\n"
     ]
    },
    {
     "name": "stderr",
     "output_type": "stream",
     "text": [
      "Processing: 100%|██████████| 120/120 [00:03<00:00, 35.88it/s]\n"
     ]
    },
    {
     "name": "stdout",
     "output_type": "stream",
     "text": [
      "Left: 0.7429232427240149\n",
      "Right: 0.004015546949096033\n",
      "Processing data 578\n"
     ]
    },
    {
     "name": "stderr",
     "output_type": "stream",
     "text": [
      "Processing: 100%|██████████| 150/150 [00:00<00:00, 378.70it/s]\n"
     ]
    },
    {
     "name": "stdout",
     "output_type": "stream",
     "text": [
      "Left: 0.07821657815461036\n",
      "Right: 0.0028225764463420955\n",
      "Processing data 579\n"
     ]
    },
    {
     "name": "stderr",
     "output_type": "stream",
     "text": [
      "Processing: 100%|██████████| 180/180 [00:04<00:00, 39.64it/s] \n"
     ]
    },
    {
     "name": "stdout",
     "output_type": "stream",
     "text": [
      "Left: -0.14771321011386873\n",
      "Right: -0.08968440267043598\n",
      "Processing data 583\n"
     ]
    },
    {
     "name": "stderr",
     "output_type": "stream",
     "text": [
      "Processing: 100%|██████████| 150/150 [00:00<00:00, 271.06it/s]\n"
     ]
    },
    {
     "name": "stdout",
     "output_type": "stream",
     "text": [
      "Left: -0.015777988755999783\n",
      "Right: 0.16085105984793158\n",
      "Processing data 584\n"
     ]
    },
    {
     "name": "stderr",
     "output_type": "stream",
     "text": [
      "Processing: 100%|██████████| 150/150 [00:00<00:00, 197.89it/s]\n"
     ]
    },
    {
     "name": "stdout",
     "output_type": "stream",
     "text": [
      "Left: 0.2663915002778191\n",
      "Right: 0.555980541473353\n",
      "Processing data 586\n"
     ]
    },
    {
     "name": "stderr",
     "output_type": "stream",
     "text": [
      "Processing: 100%|██████████| 150/150 [00:01<00:00, 136.25it/s]\n"
     ]
    },
    {
     "name": "stdout",
     "output_type": "stream",
     "text": [
      "Left: 0.00020283696505657423\n",
      "Right: 0.06623606680662325\n",
      "Processing data 588\n"
     ]
    },
    {
     "name": "stderr",
     "output_type": "stream",
     "text": [
      "Processing: 100%|██████████| 150/150 [00:01<00:00, 99.49it/s]\n"
     ]
    },
    {
     "name": "stdout",
     "output_type": "stream",
     "text": [
      "Left: 0.5713509269822425\n",
      "Right: -0.6457898500303031\n",
      "Processing data 590\n"
     ]
    },
    {
     "name": "stderr",
     "output_type": "stream",
     "text": [
      "Processing: 100%|██████████| 150/150 [00:02<00:00, 53.98it/s] \n"
     ]
    },
    {
     "name": "stdout",
     "output_type": "stream",
     "text": [
      "Left: 0.15674050119932098\n",
      "Right: 0.005750434498604212\n",
      "Processing data 591\n"
     ]
    },
    {
     "name": "stderr",
     "output_type": "stream",
     "text": [
      "Processing: 100%|██████████| 120/120 [00:00<00:00, 357.89it/s]\n"
     ]
    },
    {
     "name": "stdout",
     "output_type": "stream",
     "text": [
      "Left: -0.012477496231001403\n",
      "Right: 0.3181561868919285\n",
      "Processing data 595\n"
     ]
    },
    {
     "name": "stderr",
     "output_type": "stream",
     "text": [
      "Processing: 100%|██████████| 150/150 [00:01<00:00, 95.49it/s] \n"
     ]
    },
    {
     "name": "stdout",
     "output_type": "stream",
     "text": [
      "Left: -0.0008973107798880275\n",
      "Right: 0.41001417139282337\n",
      "Processing data 601\n"
     ]
    },
    {
     "name": "stderr",
     "output_type": "stream",
     "text": [
      "Processing: 100%|██████████| 150/150 [00:02<00:00, 55.85it/s]\n"
     ]
    },
    {
     "name": "stdout",
     "output_type": "stream",
     "text": [
      "Left: 0.474682411940317\n",
      "Right: -0.02614877883528821\n",
      "Processing data 602\n"
     ]
    },
    {
     "name": "stderr",
     "output_type": "stream",
     "text": [
      "Processing: 100%|██████████| 150/150 [00:01<00:00, 83.39it/s]\n"
     ]
    },
    {
     "name": "stdout",
     "output_type": "stream",
     "text": [
      "Left: 0.8224932278667619\n",
      "Right: -0.014067511300580426\n",
      "Processing data 604\n"
     ]
    },
    {
     "name": "stderr",
     "output_type": "stream",
     "text": [
      "Processing: 100%|██████████| 150/150 [00:00<00:00, 194.55it/s]\n"
     ]
    },
    {
     "name": "stdout",
     "output_type": "stream",
     "text": [
      "Left: -0.07865716220121799\n",
      "Right: 0.06173829314635276\n",
      "Processing data 607\n"
     ]
    },
    {
     "name": "stderr",
     "output_type": "stream",
     "text": [
      "Processing: 100%|██████████| 150/150 [00:00<00:00, 690.14it/s]\n"
     ]
    },
    {
     "name": "stdout",
     "output_type": "stream",
     "text": [
      "Left: 0.027263941002188208\n",
      "Right: -0.006436931443311811\n",
      "Processing data 608\n"
     ]
    },
    {
     "name": "stderr",
     "output_type": "stream",
     "text": [
      "Processing: 100%|██████████| 150/150 [00:02<00:00, 53.01it/s]\n"
     ]
    },
    {
     "name": "stdout",
     "output_type": "stream",
     "text": [
      "Left: 0.004829059064407226\n",
      "Right: 0.001928001017490244\n",
      "Processing data 612\n"
     ]
    },
    {
     "name": "stderr",
     "output_type": "stream",
     "text": [
      "Processing: 100%|██████████| 120/120 [00:00<00:00, 677.02it/s]\n"
     ]
    },
    {
     "name": "stdout",
     "output_type": "stream",
     "text": [
      "Left: -3.3509884527133105e-05\n",
      "Right: 0.09356550952136533\n",
      "Processing data 616\n"
     ]
    },
    {
     "name": "stderr",
     "output_type": "stream",
     "text": [
      "Processing: 100%|██████████| 150/150 [00:03<00:00, 40.37it/s]\n"
     ]
    },
    {
     "name": "stdout",
     "output_type": "stream",
     "text": [
      "Left: 0.08832183560904427\n",
      "Right: 0.2918816780307093\n",
      "Processing data 617\n"
     ]
    },
    {
     "name": "stderr",
     "output_type": "stream",
     "text": [
      "Processing: 100%|██████████| 150/150 [00:03<00:00, 46.36it/s]\n"
     ]
    },
    {
     "name": "stdout",
     "output_type": "stream",
     "text": [
      "Left: -0.0643291985083807\n",
      "Right: -0.10100947912131075\n",
      "Processing data 631\n"
     ]
    },
    {
     "name": "stderr",
     "output_type": "stream",
     "text": [
      "Processing: 100%|██████████| 150/150 [00:01<00:00, 138.12it/s]\n"
     ]
    },
    {
     "name": "stdout",
     "output_type": "stream",
     "text": [
      "Left: 0.08008229501481412\n",
      "Right: 0.23771912359240255\n",
      "Processing data 635\n"
     ]
    },
    {
     "name": "stderr",
     "output_type": "stream",
     "text": [
      "Processing: 100%|██████████| 150/150 [00:02<00:00, 72.36it/s] \n"
     ]
    },
    {
     "name": "stdout",
     "output_type": "stream",
     "text": [
      "Left: 0.0003674002603131707\n",
      "Right: 0.46220016617429377\n",
      "Processing data 639\n"
     ]
    },
    {
     "name": "stderr",
     "output_type": "stream",
     "text": [
      "Processing: 100%|██████████| 150/150 [00:00<00:00, 262.91it/s]\n"
     ]
    },
    {
     "name": "stdout",
     "output_type": "stream",
     "text": [
      "Left: 0.3782602078797614\n",
      "Right: 0.0008785506632395471\n",
      "Processing data 640\n"
     ]
    },
    {
     "name": "stderr",
     "output_type": "stream",
     "text": [
      "Processing: 100%|██████████| 150/150 [00:02<00:00, 69.89it/s] \n"
     ]
    },
    {
     "name": "stdout",
     "output_type": "stream",
     "text": [
      "Left: 0.3279425906476562\n",
      "Right: -0.0007865254974289415\n",
      "Processing data 654\n"
     ]
    },
    {
     "name": "stderr",
     "output_type": "stream",
     "text": [
      "Processing: 100%|██████████| 90/90 [00:00<00:00, 474.04it/s]\n"
     ]
    },
    {
     "name": "stdout",
     "output_type": "stream",
     "text": [
      "Left: 0.05643743971268145\n",
      "Right: 3.512630897928304e-06\n",
      "Processing data 655\n"
     ]
    },
    {
     "name": "stderr",
     "output_type": "stream",
     "text": [
      "Processing: 100%|██████████| 150/150 [00:02<00:00, 56.14it/s] \n"
     ]
    },
    {
     "name": "stdout",
     "output_type": "stream",
     "text": [
      "Left: 4.207663452492766e-05\n",
      "Right: 0.309120668980242\n",
      "Processing data 656\n"
     ]
    },
    {
     "name": "stderr",
     "output_type": "stream",
     "text": [
      "Processing: 100%|██████████| 150/150 [00:01<00:00, 105.44it/s]\n"
     ]
    },
    {
     "name": "stdout",
     "output_type": "stream",
     "text": [
      "Left: 0.052597871813184205\n",
      "Right: 0.022737821089749977\n",
      "Processing data 660\n"
     ]
    },
    {
     "name": "stderr",
     "output_type": "stream",
     "text": [
      "Processing: 100%|██████████| 150/150 [00:02<00:00, 52.17it/s]\n"
     ]
    },
    {
     "name": "stdout",
     "output_type": "stream",
     "text": [
      "Left: 0.2793108317533558\n",
      "Right: 0.0017215430956934537\n",
      "Processing data 662\n"
     ]
    },
    {
     "name": "stderr",
     "output_type": "stream",
     "text": [
      "Processing: 100%|██████████| 150/150 [00:00<00:00, 334.77it/s]\n"
     ]
    },
    {
     "name": "stdout",
     "output_type": "stream",
     "text": [
      "Left: 0.005480264438478821\n",
      "Right: -3.055821200942388e-08\n",
      "Processing data 665\n"
     ]
    },
    {
     "name": "stderr",
     "output_type": "stream",
     "text": [
      "Processing: 100%|██████████| 90/90 [00:00<00:00, 267.76it/s]\n"
     ]
    },
    {
     "name": "stdout",
     "output_type": "stream",
     "text": [
      "Left: 0.7658219887787144\n",
      "Right: -0.0012457214279296257\n",
      "Processing data 667\n"
     ]
    },
    {
     "name": "stderr",
     "output_type": "stream",
     "text": [
      "Processing: 100%|██████████| 150/150 [00:00<00:00, 316.97it/s]\n"
     ]
    },
    {
     "name": "stdout",
     "output_type": "stream",
     "text": [
      "Left: -0.009322192313378164\n",
      "Right: 8.837064065514433e-07\n",
      "Processing data 668\n"
     ]
    },
    {
     "name": "stderr",
     "output_type": "stream",
     "text": [
      "Processing: 100%|██████████| 150/150 [00:00<00:00, 367.29it/s]\n"
     ]
    },
    {
     "name": "stdout",
     "output_type": "stream",
     "text": [
      "Left: 0.09273927100880547\n",
      "Right: -0.06317574633245082\n",
      "Processing data 672\n"
     ]
    },
    {
     "name": "stderr",
     "output_type": "stream",
     "text": [
      "Processing: 100%|██████████| 150/150 [00:04<00:00, 36.00it/s]\n"
     ]
    },
    {
     "name": "stdout",
     "output_type": "stream",
     "text": [
      "Left: -0.10387976690282019\n",
      "Right: -0.0034338637979337006\n",
      "Processing data 676\n"
     ]
    },
    {
     "name": "stderr",
     "output_type": "stream",
     "text": [
      "Processing: 100%|██████████| 150/150 [00:00<00:00, 473.69it/s]\n"
     ]
    },
    {
     "name": "stdout",
     "output_type": "stream",
     "text": [
      "Left: -0.013151564397229754\n",
      "Right: -0.06225130052379718\n",
      "Processing data 677\n"
     ]
    },
    {
     "name": "stderr",
     "output_type": "stream",
     "text": [
      "Processing: 100%|██████████| 60/60 [00:00<00:00, 244.63it/s]\n"
     ]
    },
    {
     "name": "stdout",
     "output_type": "stream",
     "text": [
      "Left: 0.15655758770577222\n",
      "Right: 4.419442915283567e-05\n",
      "Processing data 679\n"
     ]
    },
    {
     "name": "stderr",
     "output_type": "stream",
     "text": [
      "Processing: 100%|██████████| 150/150 [00:00<00:00, 607.36it/s]\n"
     ]
    },
    {
     "name": "stdout",
     "output_type": "stream",
     "text": [
      "Left: -0.010059200568425686\n",
      "Right: 0.012206417758618415\n",
      "Processing data 684\n"
     ]
    },
    {
     "name": "stderr",
     "output_type": "stream",
     "text": [
      "Processing: 100%|██████████| 150/150 [00:00<00:00, 211.00it/s]\n"
     ]
    },
    {
     "name": "stdout",
     "output_type": "stream",
     "text": [
      "Left: 0.05457242182037114\n",
      "Right: 0.19946596978921294\n",
      "Processing data 687\n"
     ]
    },
    {
     "name": "stderr",
     "output_type": "stream",
     "text": [
      "Processing: 100%|██████████| 30/30 [00:00<00:00, 319.39it/s]\n"
     ]
    },
    {
     "name": "stdout",
     "output_type": "stream",
     "text": [
      "Left: 0.16083648478700505\n",
      "Right: 0.17769563053059323\n",
      "Processing data 690\n"
     ]
    },
    {
     "name": "stderr",
     "output_type": "stream",
     "text": [
      "Processing: 100%|██████████| 90/90 [00:00<00:00, 115.73it/s]\n"
     ]
    },
    {
     "name": "stdout",
     "output_type": "stream",
     "text": [
      "Left: 0.0038069342080698657\n",
      "Right: 0.651143399625051\n",
      "Processing data 692\n"
     ]
    },
    {
     "name": "stderr",
     "output_type": "stream",
     "text": [
      "Processing: 100%|██████████| 150/150 [00:00<00:00, 159.20it/s]\n"
     ]
    },
    {
     "name": "stdout",
     "output_type": "stream",
     "text": [
      "Left: 0.000258257410172269\n",
      "Right: -0.0021634553051146366\n",
      "Processing data 694\n"
     ]
    },
    {
     "name": "stderr",
     "output_type": "stream",
     "text": [
      "Processing: 100%|██████████| 150/150 [00:00<00:00, 336.01it/s]\n"
     ]
    },
    {
     "name": "stdout",
     "output_type": "stream",
     "text": [
      "Left: -7.360051537674828e-07\n",
      "Right: -0.016223105721064\n",
      "Processing data 696\n"
     ]
    },
    {
     "name": "stderr",
     "output_type": "stream",
     "text": [
      "Processing: 100%|██████████| 150/150 [00:00<00:00, 328.50it/s]\n"
     ]
    },
    {
     "name": "stdout",
     "output_type": "stream",
     "text": [
      "Left: 0.8816994221521922\n",
      "Right: -0.0031025174837440266\n",
      "Processing data 705\n"
     ]
    },
    {
     "name": "stderr",
     "output_type": "stream",
     "text": [
      "Processing: 100%|██████████| 150/150 [00:01<00:00, 82.86it/s] \n"
     ]
    },
    {
     "name": "stdout",
     "output_type": "stream",
     "text": [
      "Left: -0.004808311987472502\n",
      "Right: -0.0011472677254928398\n",
      "Processing data 707\n"
     ]
    },
    {
     "name": "stderr",
     "output_type": "stream",
     "text": [
      "Processing: 100%|██████████| 150/150 [00:01<00:00, 110.57it/s]\n"
     ]
    },
    {
     "name": "stdout",
     "output_type": "stream",
     "text": [
      "Left: 0.4029148331615471\n",
      "Right: 0.00034371929013488067\n",
      "Processing data 708\n"
     ]
    },
    {
     "name": "stderr",
     "output_type": "stream",
     "text": [
      "Processing: 100%|██████████| 150/150 [00:00<00:00, 455.36it/s]\n"
     ]
    },
    {
     "name": "stdout",
     "output_type": "stream",
     "text": [
      "Left: 0.005345229582672917\n",
      "Right: 4.085454594099369e-06\n",
      "Processing data 710\n"
     ]
    },
    {
     "name": "stderr",
     "output_type": "stream",
     "text": [
      "Processing: 100%|██████████| 90/90 [00:00<00:00, 457.86it/s]\n"
     ]
    },
    {
     "name": "stdout",
     "output_type": "stream",
     "text": [
      "Left: -3.0153080841921476e-06\n",
      "Right: 0.10709537762033583\n",
      "Processing data 711\n"
     ]
    },
    {
     "name": "stderr",
     "output_type": "stream",
     "text": [
      "Processing: 100%|██████████| 150/150 [00:04<00:00, 32.44it/s]\n"
     ]
    },
    {
     "name": "stdout",
     "output_type": "stream",
     "text": [
      "Left: 0.0009565913593182207\n",
      "Right: 0.07605878609279737\n",
      "Processing data 712\n"
     ]
    },
    {
     "name": "stderr",
     "output_type": "stream",
     "text": [
      "Processing: 100%|██████████| 150/150 [00:01<00:00, 77.67it/s]\n"
     ]
    },
    {
     "name": "stdout",
     "output_type": "stream",
     "text": [
      "Left: 6.590541185053089e-05\n",
      "Right: 0.0024287464723083407\n",
      "Processing data 713\n"
     ]
    },
    {
     "name": "stderr",
     "output_type": "stream",
     "text": [
      "Processing: 100%|██████████| 120/120 [00:02<00:00, 47.39it/s]\n"
     ]
    },
    {
     "name": "stdout",
     "output_type": "stream",
     "text": [
      "Left: 0.0001351559330376017\n",
      "Right: -0.0647610259302302\n",
      "Processing data 715\n"
     ]
    },
    {
     "name": "stderr",
     "output_type": "stream",
     "text": [
      "Processing: 100%|██████████| 150/150 [00:00<00:00, 694.55it/s]\n"
     ]
    },
    {
     "name": "stdout",
     "output_type": "stream",
     "text": [
      "Left: -0.0054943681829240365\n",
      "Right: 2.713291130870821e-07\n",
      "Processing data 718\n"
     ]
    },
    {
     "name": "stderr",
     "output_type": "stream",
     "text": [
      "Processing: 100%|██████████| 150/150 [00:00<00:00, 617.06it/s]\n"
     ]
    },
    {
     "name": "stdout",
     "output_type": "stream",
     "text": [
      "Left: 0.07678559074802271\n",
      "Right: -0.10549290405993261\n",
      "Processing data 719\n"
     ]
    },
    {
     "name": "stderr",
     "output_type": "stream",
     "text": [
      "Processing: 100%|██████████| 150/150 [00:00<00:00, 463.68it/s]\n"
     ]
    },
    {
     "name": "stdout",
     "output_type": "stream",
     "text": [
      "Left: 0.3798603850966608\n",
      "Right: -0.006502426640312642\n",
      "Processing data 723\n"
     ]
    },
    {
     "name": "stderr",
     "output_type": "stream",
     "text": [
      "Processing: 100%|██████████| 150/150 [00:01<00:00, 119.98it/s]\n"
     ]
    },
    {
     "name": "stdout",
     "output_type": "stream",
     "text": [
      "Left: 0.008330927055009651\n",
      "Right: -0.04845260763008341\n",
      "Processing data 725\n"
     ]
    },
    {
     "name": "stderr",
     "output_type": "stream",
     "text": [
      "Processing: 100%|██████████| 150/150 [00:00<00:00, 398.42it/s]\n"
     ]
    },
    {
     "name": "stdout",
     "output_type": "stream",
     "text": [
      "Left: 0.0030829299845303026\n",
      "Right: -0.08953220749264668\n",
      "Processing data 726\n"
     ]
    },
    {
     "name": "stderr",
     "output_type": "stream",
     "text": [
      "Processing: 100%|██████████| 120/120 [00:02<00:00, 55.06it/s]\n"
     ]
    },
    {
     "name": "stdout",
     "output_type": "stream",
     "text": [
      "Left: 0.0003345873801178234\n",
      "Right: -0.06082972416869192\n",
      "Processing data 727\n"
     ]
    },
    {
     "name": "stderr",
     "output_type": "stream",
     "text": [
      "Processing: 100%|██████████| 150/150 [00:00<00:00, 258.80it/s]\n"
     ]
    },
    {
     "name": "stdout",
     "output_type": "stream",
     "text": [
      "Left: 0.5429316164592147\n",
      "Right: 0.0006329242939163108\n",
      "Processing data 735\n"
     ]
    },
    {
     "name": "stderr",
     "output_type": "stream",
     "text": [
      "Processing: 100%|██████████| 90/90 [00:00<00:00, 571.81it/s]\n"
     ]
    },
    {
     "name": "stdout",
     "output_type": "stream",
     "text": [
      "Left: -0.001528605634893987\n",
      "Right: -0.04941114841281474\n",
      "Processing data 737\n"
     ]
    },
    {
     "name": "stderr",
     "output_type": "stream",
     "text": [
      "Processing: 100%|██████████| 150/150 [00:00<00:00, 635.85it/s]\n"
     ]
    },
    {
     "name": "stdout",
     "output_type": "stream",
     "text": [
      "Left: 0.011640391679641482\n",
      "Right: -9.3788538269024e-07\n",
      "Processing data 738\n"
     ]
    },
    {
     "name": "stderr",
     "output_type": "stream",
     "text": [
      "Processing: 100%|██████████| 150/150 [00:01<00:00, 91.94it/s] \n"
     ]
    },
    {
     "name": "stdout",
     "output_type": "stream",
     "text": [
      "Left: -0.01706199572071243\n",
      "Right: -0.00023332296130558483\n",
      "Processing data 742\n"
     ]
    },
    {
     "name": "stderr",
     "output_type": "stream",
     "text": [
      "Processing: 100%|██████████| 180/180 [00:04<00:00, 41.97it/s]\n"
     ]
    },
    {
     "name": "stdout",
     "output_type": "stream",
     "text": [
      "Left: 0.0006244070973863841\n",
      "Right: 0.13346577730793963\n",
      "Processing data 747\n"
     ]
    },
    {
     "name": "stderr",
     "output_type": "stream",
     "text": [
      "Processing: 100%|██████████| 150/150 [00:03<00:00, 47.31it/s] \n"
     ]
    },
    {
     "name": "stdout",
     "output_type": "stream",
     "text": [
      "Left: 0.07388162968777745\n",
      "Right: 0.00020644611294056564\n",
      "Processing data 748\n"
     ]
    },
    {
     "name": "stderr",
     "output_type": "stream",
     "text": [
      "Processing: 100%|██████████| 120/120 [00:02<00:00, 47.31it/s]\n"
     ]
    },
    {
     "name": "stdout",
     "output_type": "stream",
     "text": [
      "Left: 0.09491576279337244\n",
      "Right: 0.003638546338163559\n",
      "Processing data 749\n"
     ]
    },
    {
     "name": "stderr",
     "output_type": "stream",
     "text": [
      "Processing: 100%|██████████| 150/150 [00:01<00:00, 98.43it/s] \n"
     ]
    },
    {
     "name": "stdout",
     "output_type": "stream",
     "text": [
      "Left: -0.00021882987835389334\n",
      "Right: 0.33772437953660644\n",
      "Processing data 751\n"
     ]
    },
    {
     "name": "stderr",
     "output_type": "stream",
     "text": [
      "Processing: 100%|██████████| 90/90 [00:00<00:00, 239.34it/s]\n"
     ]
    },
    {
     "name": "stdout",
     "output_type": "stream",
     "text": [
      "Left: 0.008838254956471794\n",
      "Right: 0.5855285480152125\n",
      "Processing data 755\n"
     ]
    },
    {
     "name": "stderr",
     "output_type": "stream",
     "text": [
      "Processing: 100%|██████████| 150/150 [00:00<00:00, 263.87it/s]\n"
     ]
    },
    {
     "name": "stdout",
     "output_type": "stream",
     "text": [
      "Left: 0.000629233433745748\n",
      "Right: 0.2821164947486134\n",
      "Processing data 756\n"
     ]
    },
    {
     "name": "stderr",
     "output_type": "stream",
     "text": [
      "Processing: 100%|██████████| 150/150 [00:00<00:00, 447.31it/s]\n"
     ]
    },
    {
     "name": "stdout",
     "output_type": "stream",
     "text": [
      "Left: -0.005443034506325495\n",
      "Right: 0.20337692853351508\n",
      "Processing data 757\n"
     ]
    },
    {
     "name": "stderr",
     "output_type": "stream",
     "text": [
      "Processing: 100%|██████████| 150/150 [00:00<00:00, 421.12it/s]\n"
     ]
    },
    {
     "name": "stdout",
     "output_type": "stream",
     "text": [
      "Left: -0.03412386646647769\n",
      "Right: -0.07725936629261676\n",
      "Processing data 764\n"
     ]
    },
    {
     "name": "stderr",
     "output_type": "stream",
     "text": [
      "Processing: 100%|██████████| 150/150 [00:01<00:00, 85.44it/s]\n"
     ]
    },
    {
     "name": "stdout",
     "output_type": "stream",
     "text": [
      "Left: 0.0004374056913038493\n",
      "Right: 0.290173953402585\n",
      "Processing data 773\n"
     ]
    },
    {
     "name": "stderr",
     "output_type": "stream",
     "text": [
      "Processing: 100%|██████████| 90/90 [00:00<00:00, 391.62it/s]\n"
     ]
    },
    {
     "name": "stdout",
     "output_type": "stream",
     "text": [
      "Left: 0.09779159341205423\n",
      "Right: 0.018630443633796956\n",
      "Processing data 776\n"
     ]
    },
    {
     "name": "stderr",
     "output_type": "stream",
     "text": [
      "Processing: 100%|██████████| 150/150 [00:05<00:00, 28.79it/s]\n"
     ]
    },
    {
     "name": "stdout",
     "output_type": "stream",
     "text": [
      "Left: -0.18652716344857845\n",
      "Right: -0.0005976853310769858\n",
      "Processing data 777\n"
     ]
    },
    {
     "name": "stderr",
     "output_type": "stream",
     "text": [
      "Processing: 100%|██████████| 150/150 [00:06<00:00, 22.14it/s]\n"
     ]
    },
    {
     "name": "stdout",
     "output_type": "stream",
     "text": [
      "Left: 0.01656996872666061\n",
      "Right: 0.11478479671492514\n",
      "Processing data 778\n"
     ]
    },
    {
     "name": "stderr",
     "output_type": "stream",
     "text": [
      "Processing: 100%|██████████| 60/60 [00:03<00:00, 19.60it/s]\n"
     ]
    },
    {
     "name": "stdout",
     "output_type": "stream",
     "text": [
      "Left: -0.1526711866826459\n",
      "Right: 0.05222279305038491\n",
      "Processing data 781\n"
     ]
    },
    {
     "name": "stderr",
     "output_type": "stream",
     "text": [
      "Processing: 100%|██████████| 90/90 [00:00<00:00, 231.13it/s]\n"
     ]
    },
    {
     "name": "stdout",
     "output_type": "stream",
     "text": [
      "Left: 0.22183513626026147\n",
      "Right: 0.014675543059815166\n",
      "Processing data 784\n"
     ]
    },
    {
     "name": "stderr",
     "output_type": "stream",
     "text": [
      "Processing: 100%|██████████| 150/150 [00:00<00:00, 307.75it/s]\n"
     ]
    },
    {
     "name": "stdout",
     "output_type": "stream",
     "text": [
      "Left: 0.3287682832302047\n",
      "Right: 0.000208545990459795\n",
      "Processing data 785\n"
     ]
    },
    {
     "name": "stderr",
     "output_type": "stream",
     "text": [
      "Processing: 100%|██████████| 150/150 [00:00<00:00, 326.73it/s]\n"
     ]
    },
    {
     "name": "stdout",
     "output_type": "stream",
     "text": [
      "Left: 0.484498151119465\n",
      "Right: 0.0004400297717198614\n",
      "Processing data 787\n"
     ]
    },
    {
     "name": "stderr",
     "output_type": "stream",
     "text": [
      "Processing: 100%|██████████| 150/150 [00:00<00:00, 303.92it/s]\n"
     ]
    },
    {
     "name": "stdout",
     "output_type": "stream",
     "text": [
      "Left: 0.5327293701242704\n",
      "Right: 0.004523462595813166\n",
      "Processing data 790\n"
     ]
    },
    {
     "name": "stderr",
     "output_type": "stream",
     "text": [
      "Processing: 100%|██████████| 120/120 [00:01<00:00, 64.68it/s] \n"
     ]
    },
    {
     "name": "stdout",
     "output_type": "stream",
     "text": [
      "Left: 0.0011022470669235368\n",
      "Right: 0.1748262583632073\n",
      "Processing data 792\n"
     ]
    },
    {
     "name": "stderr",
     "output_type": "stream",
     "text": [
      "Processing: 100%|██████████| 150/150 [00:01<00:00, 126.00it/s]\n"
     ]
    },
    {
     "name": "stdout",
     "output_type": "stream",
     "text": [
      "Left: 3.959933886482636e-05\n",
      "Right: -0.03214955761476179\n",
      "Processing data 793\n"
     ]
    },
    {
     "name": "stderr",
     "output_type": "stream",
     "text": [
      "Processing: 100%|██████████| 120/120 [00:00<00:00, 319.54it/s]\n"
     ]
    },
    {
     "name": "stdout",
     "output_type": "stream",
     "text": [
      "Left: -0.028126683124093943\n",
      "Right: 0.005097620816951309\n",
      "Processing data 796\n"
     ]
    },
    {
     "name": "stderr",
     "output_type": "stream",
     "text": [
      "Processing: 100%|██████████| 150/150 [00:00<00:00, 318.93it/s]\n"
     ]
    },
    {
     "name": "stdout",
     "output_type": "stream",
     "text": [
      "Left: -0.03208302847750888\n",
      "Right: 0.02449367680958142\n",
      "Processing data 800\n"
     ]
    },
    {
     "name": "stderr",
     "output_type": "stream",
     "text": [
      "Processing: 100%|██████████| 29/29 [00:00<00:00, 209.89it/s]\n"
     ]
    },
    {
     "name": "stdout",
     "output_type": "stream",
     "text": [
      "Left: 0.6215962335972931\n",
      "Right: -0.017069876600118078\n",
      "Processing data 813\n"
     ]
    },
    {
     "name": "stderr",
     "output_type": "stream",
     "text": [
      "Processing: 100%|██████████| 150/150 [00:00<00:00, 171.83it/s]\n"
     ]
    },
    {
     "name": "stdout",
     "output_type": "stream",
     "text": [
      "Left: 0.00855547979383986\n",
      "Right: 0.016492289016062367\n",
      "Processing data 822\n"
     ]
    },
    {
     "name": "stderr",
     "output_type": "stream",
     "text": [
      "Processing: 100%|██████████| 150/150 [00:00<00:00, 765.23it/s]\n"
     ]
    },
    {
     "name": "stdout",
     "output_type": "stream",
     "text": [
      "Left: -0.011753079258941201\n",
      "Right: -0.23822015115608186\n",
      "Processing data 823\n"
     ]
    },
    {
     "name": "stderr",
     "output_type": "stream",
     "text": [
      "Processing: 100%|██████████| 120/120 [00:00<00:00, 236.80it/s]\n"
     ]
    },
    {
     "name": "stdout",
     "output_type": "stream",
     "text": [
      "Left: 0.21830367415200364\n",
      "Right: -0.045268074404305025\n",
      "Processing data 825\n"
     ]
    },
    {
     "name": "stderr",
     "output_type": "stream",
     "text": [
      "Processing: 100%|██████████| 150/150 [00:00<00:00, 198.90it/s]\n"
     ]
    },
    {
     "name": "stdout",
     "output_type": "stream",
     "text": [
      "Left: 0.00024925637438571275\n",
      "Right: 0.27691894104211345\n",
      "Processing data 827\n"
     ]
    },
    {
     "name": "stderr",
     "output_type": "stream",
     "text": [
      "Processing: 100%|██████████| 150/150 [00:01<00:00, 106.95it/s]\n"
     ]
    },
    {
     "name": "stdout",
     "output_type": "stream",
     "text": [
      "Left: 0.015704345687177157\n",
      "Right: 0.12001907079740792\n",
      "Processing data 828\n"
     ]
    },
    {
     "name": "stderr",
     "output_type": "stream",
     "text": [
      "Processing: 100%|██████████| 150/150 [00:05<00:00, 27.13it/s]\n"
     ]
    },
    {
     "name": "stdout",
     "output_type": "stream",
     "text": [
      "Left: 0.4909566635593977\n",
      "Right: 0.1010235746311905\n",
      "Processing data 830\n"
     ]
    },
    {
     "name": "stderr",
     "output_type": "stream",
     "text": [
      "Processing: 100%|██████████| 150/150 [00:00<00:00, 196.50it/s]\n"
     ]
    },
    {
     "name": "stdout",
     "output_type": "stream",
     "text": [
      "Left: -0.05655360739250803\n",
      "Right: 9.611460183507961e-05\n",
      "Processing data 831\n"
     ]
    },
    {
     "name": "stderr",
     "output_type": "stream",
     "text": [
      "Processing: 100%|██████████| 150/150 [00:02<00:00, 50.99it/s]\n"
     ]
    },
    {
     "name": "stdout",
     "output_type": "stream",
     "text": [
      "Left: 0.45866941477303014\n",
      "Right: 0.012435645874276896\n",
      "Processing data 834\n"
     ]
    },
    {
     "name": "stderr",
     "output_type": "stream",
     "text": [
      "Processing: 100%|██████████| 150/150 [00:02<00:00, 63.86it/s] \n"
     ]
    },
    {
     "name": "stdout",
     "output_type": "stream",
     "text": [
      "Left: 0.07227314701459714\n",
      "Right: -0.001546774993302663\n",
      "Processing data 837\n"
     ]
    },
    {
     "name": "stderr",
     "output_type": "stream",
     "text": [
      "Processing: 100%|██████████| 150/150 [00:01<00:00, 143.41it/s]\n"
     ]
    },
    {
     "name": "stdout",
     "output_type": "stream",
     "text": [
      "Left: 0.02511509096961273\n",
      "Right: -1.3278927147520464e-05\n",
      "Processing data 840\n"
     ]
    },
    {
     "name": "stderr",
     "output_type": "stream",
     "text": [
      "Processing: 100%|██████████| 120/120 [00:00<00:00, 603.07it/s]\n"
     ]
    },
    {
     "name": "stdout",
     "output_type": "stream",
     "text": [
      "Left: -0.06500813117860715\n",
      "Right: -9.776982558079572e-06\n",
      "Processing data 841\n"
     ]
    },
    {
     "name": "stderr",
     "output_type": "stream",
     "text": [
      "Processing: 100%|██████████| 150/150 [00:03<00:00, 44.75it/s] \n"
     ]
    },
    {
     "name": "stdout",
     "output_type": "stream",
     "text": [
      "Left: 0.1621836649284779\n",
      "Right: -0.0011584267965041861\n",
      "Processing data 846\n"
     ]
    },
    {
     "name": "stderr",
     "output_type": "stream",
     "text": [
      "Processing: 100%|██████████| 150/150 [00:01<00:00, 118.51it/s]\n"
     ]
    },
    {
     "name": "stdout",
     "output_type": "stream",
     "text": [
      "Left: -0.04931846731069511\n",
      "Right: -0.22367783247363898\n",
      "Processing data 847\n"
     ]
    },
    {
     "name": "stderr",
     "output_type": "stream",
     "text": [
      "Processing: 100%|██████████| 150/150 [00:04<00:00, 30.13it/s]\n"
     ]
    },
    {
     "name": "stdout",
     "output_type": "stream",
     "text": [
      "Left: 0.2294884617566956\n",
      "Right: -0.03979489493015387\n",
      "Processing data 848\n"
     ]
    },
    {
     "name": "stderr",
     "output_type": "stream",
     "text": [
      "Processing: 100%|██████████| 150/150 [00:00<00:00, 307.23it/s]\n"
     ]
    },
    {
     "name": "stdout",
     "output_type": "stream",
     "text": [
      "Left: 5.974520152718377e-06\n",
      "Right: -0.030767448324932944\n",
      "Processing data 849\n"
     ]
    },
    {
     "name": "stderr",
     "output_type": "stream",
     "text": [
      "Processing: 100%|██████████| 90/90 [00:01<00:00, 82.73it/s] \n"
     ]
    },
    {
     "name": "stdout",
     "output_type": "stream",
     "text": [
      "Left: 0.04852286621621249\n",
      "Right: -3.613414189718167e-05\n",
      "Processing data 851\n"
     ]
    },
    {
     "name": "stderr",
     "output_type": "stream",
     "text": [
      "Processing: 100%|██████████| 150/150 [00:00<00:00, 609.73it/s]\n"
     ]
    },
    {
     "name": "stdout",
     "output_type": "stream",
     "text": [
      "Left: -0.03844712186802679\n",
      "Right: 0.012321649694099435\n",
      "Processing data 853\n"
     ]
    },
    {
     "name": "stderr",
     "output_type": "stream",
     "text": [
      "Processing: 100%|██████████| 150/150 [00:01<00:00, 97.79it/s] \n"
     ]
    },
    {
     "name": "stdout",
     "output_type": "stream",
     "text": [
      "Left: 0.1628633903269524\n",
      "Right: -0.0003603455121509178\n",
      "Processing data 855\n"
     ]
    },
    {
     "name": "stderr",
     "output_type": "stream",
     "text": [
      "Processing: 100%|██████████| 150/150 [00:01<00:00, 79.95it/s] \n"
     ]
    },
    {
     "name": "stdout",
     "output_type": "stream",
     "text": [
      "Left: 0.31911667062312676\n",
      "Right: -0.00021592419368393623\n",
      "Processing data 856\n"
     ]
    },
    {
     "name": "stderr",
     "output_type": "stream",
     "text": [
      "Processing: 100%|██████████| 150/150 [00:00<00:00, 299.15it/s]\n"
     ]
    },
    {
     "name": "stdout",
     "output_type": "stream",
     "text": [
      "Left: 0.012814879651428135\n",
      "Right: -0.10504918298161198\n",
      "Processing data 859\n"
     ]
    },
    {
     "name": "stderr",
     "output_type": "stream",
     "text": [
      "Processing: 100%|██████████| 150/150 [00:01<00:00, 122.04it/s]\n"
     ]
    },
    {
     "name": "stdout",
     "output_type": "stream",
     "text": [
      "Left: -0.03430209515345328\n",
      "Right: -0.0003458240676330604\n",
      "Processing data 860\n"
     ]
    },
    {
     "name": "stderr",
     "output_type": "stream",
     "text": [
      "Processing: 100%|██████████| 150/150 [00:03<00:00, 40.86it/s]\n"
     ]
    },
    {
     "name": "stdout",
     "output_type": "stream",
     "text": [
      "Left: -0.04924060530382468\n",
      "Right: -0.03644610734652476\n",
      "Processing data 861\n"
     ]
    },
    {
     "name": "stderr",
     "output_type": "stream",
     "text": [
      "Processing: 100%|██████████| 150/150 [00:01<00:00, 106.58it/s]\n"
     ]
    },
    {
     "name": "stdout",
     "output_type": "stream",
     "text": [
      "Left: 0.002281313681792352\n",
      "Right: -0.08079554061226835\n",
      "Processing data 862\n"
     ]
    },
    {
     "name": "stderr",
     "output_type": "stream",
     "text": [
      "Processing: 100%|██████████| 150/150 [00:03<00:00, 45.43it/s]\n"
     ]
    },
    {
     "name": "stdout",
     "output_type": "stream",
     "text": [
      "Left: 0.049909601487269084\n",
      "Right: 0.037704584327209245\n",
      "Processing data 863\n"
     ]
    },
    {
     "name": "stderr",
     "output_type": "stream",
     "text": [
      "Processing: 100%|██████████| 120/120 [00:02<00:00, 50.68it/s]\n"
     ]
    },
    {
     "name": "stdout",
     "output_type": "stream",
     "text": [
      "Left: 0.07169350495376314\n",
      "Right: 0.01949473047424588\n",
      "Processing data 864\n"
     ]
    },
    {
     "name": "stderr",
     "output_type": "stream",
     "text": [
      "Processing: 100%|██████████| 150/150 [00:03<00:00, 42.10it/s]\n"
     ]
    },
    {
     "name": "stdout",
     "output_type": "stream",
     "text": [
      "Left: 0.00039693997168085624\n",
      "Right: -0.2726371549244748\n",
      "Processing data 865\n"
     ]
    },
    {
     "name": "stderr",
     "output_type": "stream",
     "text": [
      "Processing: 100%|██████████| 180/180 [00:03<00:00, 57.73it/s] \n"
     ]
    },
    {
     "name": "stdout",
     "output_type": "stream",
     "text": [
      "Left: 0.12578607396799113\n",
      "Right: -0.005808709226826192\n",
      "Processing data 869\n"
     ]
    },
    {
     "name": "stderr",
     "output_type": "stream",
     "text": [
      "Processing: 100%|██████████| 180/180 [00:00<00:00, 414.23it/s]\n"
     ]
    },
    {
     "name": "stdout",
     "output_type": "stream",
     "text": [
      "Left: 0.5000829969929865\n",
      "Right: 0.4794727613695835\n",
      "Processing data 871\n"
     ]
    },
    {
     "name": "stderr",
     "output_type": "stream",
     "text": [
      "Processing: 100%|██████████| 150/150 [00:03<00:00, 44.20it/s]\n"
     ]
    },
    {
     "name": "stdout",
     "output_type": "stream",
     "text": [
      "Left: -0.0012452535874747095\n",
      "Right: 0.008398000656275717\n",
      "Processing data 874\n"
     ]
    },
    {
     "name": "stderr",
     "output_type": "stream",
     "text": [
      "Processing: 100%|██████████| 150/150 [00:00<00:00, 155.67it/s]\n"
     ]
    },
    {
     "name": "stdout",
     "output_type": "stream",
     "text": [
      "Left: 0.49634943161086686\n",
      "Right: -0.0006562848827063664\n",
      "Processing data 875\n"
     ]
    },
    {
     "name": "stderr",
     "output_type": "stream",
     "text": [
      "Processing: 100%|██████████| 150/150 [00:01<00:00, 136.92it/s]\n"
     ]
    },
    {
     "name": "stdout",
     "output_type": "stream",
     "text": [
      "Left: 0.6311009354038548\n",
      "Right: 0.0039986946129750185\n",
      "Processing data 876\n"
     ]
    },
    {
     "name": "stderr",
     "output_type": "stream",
     "text": [
      "Processing: 100%|██████████| 150/150 [00:03<00:00, 39.51it/s]\n"
     ]
    },
    {
     "name": "stdout",
     "output_type": "stream",
     "text": [
      "Left: 0.49015715659700226\n",
      "Right: -0.003284833869837911\n",
      "Processing data 878\n"
     ]
    },
    {
     "name": "stderr",
     "output_type": "stream",
     "text": [
      "Processing: 100%|██████████| 90/90 [00:02<00:00, 30.48it/s]\n"
     ]
    },
    {
     "name": "stdout",
     "output_type": "stream",
     "text": [
      "Left: -0.4322323383872452\n",
      "Right: -0.001836275597671938\n",
      "Processing data 879\n"
     ]
    },
    {
     "name": "stderr",
     "output_type": "stream",
     "text": [
      "Processing: 100%|██████████| 120/120 [00:00<00:00, 214.84it/s]\n"
     ]
    },
    {
     "name": "stdout",
     "output_type": "stream",
     "text": [
      "Left: 0.3943253145067624\n",
      "Right: 0.000460693163976577\n",
      "Processing data 884\n"
     ]
    },
    {
     "name": "stderr",
     "output_type": "stream",
     "text": [
      "Processing: 100%|██████████| 150/150 [00:02<00:00, 50.38it/s] \n"
     ]
    },
    {
     "name": "stdout",
     "output_type": "stream",
     "text": [
      "Left: 0.08720396497730132\n",
      "Right: -0.3021089676229068\n",
      "Processing data 886\n"
     ]
    },
    {
     "name": "stderr",
     "output_type": "stream",
     "text": [
      "Processing: 100%|██████████| 150/150 [00:00<00:00, 731.36it/s]\n"
     ]
    },
    {
     "name": "stdout",
     "output_type": "stream",
     "text": [
      "Left: -0.05222591833086865\n",
      "Right: 0.09056930142860409\n",
      "Processing data 889\n"
     ]
    },
    {
     "name": "stderr",
     "output_type": "stream",
     "text": [
      "Processing: 100%|██████████| 60/60 [00:00<00:00, 89.82it/s] \n"
     ]
    },
    {
     "name": "stdout",
     "output_type": "stream",
     "text": [
      "Left: 0.0003060459128942294\n",
      "Right: 0.25043567262464794\n",
      "Processing data 894\n"
     ]
    },
    {
     "name": "stderr",
     "output_type": "stream",
     "text": [
      "Processing: 100%|██████████| 150/150 [00:00<00:00, 423.89it/s]\n"
     ]
    },
    {
     "name": "stdout",
     "output_type": "stream",
     "text": [
      "Left: 0.8821306513132704\n",
      "Right: 0.0005479270755205587\n",
      "Processing data 895\n"
     ]
    },
    {
     "name": "stderr",
     "output_type": "stream",
     "text": [
      "Processing: 100%|██████████| 150/150 [00:00<00:00, 389.00it/s]\n"
     ]
    },
    {
     "name": "stdout",
     "output_type": "stream",
     "text": [
      "Left: 0.709249069642464\n",
      "Right: 0.0012094840806313144\n",
      "Processing data 896\n"
     ]
    },
    {
     "name": "stderr",
     "output_type": "stream",
     "text": [
      "Processing: 100%|██████████| 150/150 [00:00<00:00, 423.03it/s]\n"
     ]
    },
    {
     "name": "stdout",
     "output_type": "stream",
     "text": [
      "Left: 0.8311267378986034\n",
      "Right: 0.015414987721726246\n",
      "Processing data 903\n"
     ]
    },
    {
     "name": "stderr",
     "output_type": "stream",
     "text": [
      "Processing: 100%|██████████| 90/90 [00:00<00:00, 302.75it/s]\n"
     ]
    },
    {
     "name": "stdout",
     "output_type": "stream",
     "text": [
      "Left: 9.76907475613853e-06\n",
      "Right: -0.049729963480400485\n",
      "Processing data 904\n"
     ]
    },
    {
     "name": "stderr",
     "output_type": "stream",
     "text": [
      "Processing: 100%|██████████| 150/150 [00:04<00:00, 32.86it/s]\n"
     ]
    },
    {
     "name": "stdout",
     "output_type": "stream",
     "text": [
      "Left: 0.5755838160891703\n",
      "Right: 0.11276461191606058\n",
      "Processing data 905\n"
     ]
    },
    {
     "name": "stderr",
     "output_type": "stream",
     "text": [
      "Processing: 100%|██████████| 150/150 [00:05<00:00, 28.98it/s]\n"
     ]
    },
    {
     "name": "stdout",
     "output_type": "stream",
     "text": [
      "Left: -0.022601426121459323\n",
      "Right: -0.0005183238738322438\n",
      "Processing data 906\n"
     ]
    },
    {
     "name": "stderr",
     "output_type": "stream",
     "text": [
      "Processing: 100%|██████████| 180/180 [00:01<00:00, 174.56it/s]\n"
     ]
    },
    {
     "name": "stdout",
     "output_type": "stream",
     "text": [
      "Left: 0.8245575868137257\n",
      "Right: 0.0020136717065009253\n",
      "Processing data 909\n"
     ]
    },
    {
     "name": "stderr",
     "output_type": "stream",
     "text": [
      "Processing: 100%|██████████| 150/150 [00:01<00:00, 148.49it/s]\n"
     ]
    },
    {
     "name": "stdout",
     "output_type": "stream",
     "text": [
      "Left: -0.00040153064651860665\n",
      "Right: 0.3149196510184343\n",
      "Processing data 910\n"
     ]
    },
    {
     "name": "stderr",
     "output_type": "stream",
     "text": [
      "Processing: 100%|██████████| 150/150 [00:01<00:00, 147.23it/s]\n"
     ]
    },
    {
     "name": "stdout",
     "output_type": "stream",
     "text": [
      "Left: 0.38025687705216815\n",
      "Right: 0.0005995333805372538\n",
      "Processing data 911\n"
     ]
    },
    {
     "name": "stderr",
     "output_type": "stream",
     "text": [
      "Processing: 100%|██████████| 150/150 [00:02<00:00, 71.44it/s] \n"
     ]
    },
    {
     "name": "stdout",
     "output_type": "stream",
     "text": [
      "Left: 1.2757000023649878e-05\n",
      "Right: -0.009288751636940984\n",
      "Processing data 914\n"
     ]
    },
    {
     "name": "stderr",
     "output_type": "stream",
     "text": [
      "Processing: 100%|██████████| 150/150 [00:03<00:00, 49.61it/s]\n"
     ]
    },
    {
     "name": "stdout",
     "output_type": "stream",
     "text": [
      "Left: 0.33919382155224487\n",
      "Right: -0.0235169664317523\n",
      "Processing data 919\n"
     ]
    },
    {
     "name": "stderr",
     "output_type": "stream",
     "text": [
      "Processing: 100%|██████████| 150/150 [00:00<00:00, 644.37it/s]\n"
     ]
    },
    {
     "name": "stdout",
     "output_type": "stream",
     "text": [
      "Left: 2.5547673801959436e-06\n",
      "Right: -0.06930082906188106\n",
      "Processing data 920\n"
     ]
    },
    {
     "name": "stderr",
     "output_type": "stream",
     "text": [
      "Processing: 100%|██████████| 150/150 [00:00<00:00, 671.86it/s]\n"
     ]
    },
    {
     "name": "stdout",
     "output_type": "stream",
     "text": [
      "Left: -0.00019682718136607158\n",
      "Right: 0.041653649076830224\n",
      "Processing data 921\n"
     ]
    },
    {
     "name": "stderr",
     "output_type": "stream",
     "text": [
      "Processing: 100%|██████████| 150/150 [00:01<00:00, 82.07it/s] \n"
     ]
    },
    {
     "name": "stdout",
     "output_type": "stream",
     "text": [
      "Left: -0.0018862157301041335\n",
      "Right: 0.10251913431409465\n",
      "Processing data 922\n"
     ]
    },
    {
     "name": "stderr",
     "output_type": "stream",
     "text": [
      "Processing: 100%|██████████| 90/90 [00:00<00:00, 115.51it/s]\n"
     ]
    },
    {
     "name": "stdout",
     "output_type": "stream",
     "text": [
      "Left: -0.1421083806078286\n",
      "Right: 0.0004520992798433543\n",
      "Processing data 927\n"
     ]
    },
    {
     "name": "stderr",
     "output_type": "stream",
     "text": [
      "Processing: 100%|██████████| 150/150 [00:00<00:00, 690.25it/s]\n"
     ]
    },
    {
     "name": "stdout",
     "output_type": "stream",
     "text": [
      "Left: -1.5861936430994206e-07\n",
      "Right: -0.13593736760572572\n",
      "Processing data 929\n"
     ]
    },
    {
     "name": "stderr",
     "output_type": "stream",
     "text": [
      "Processing: 100%|██████████| 150/150 [00:00<00:00, 336.81it/s]\n"
     ]
    },
    {
     "name": "stdout",
     "output_type": "stream",
     "text": [
      "Left: 0.31142188371457274\n",
      "Right: -0.11391346205221353\n",
      "Processing data 931\n"
     ]
    },
    {
     "name": "stderr",
     "output_type": "stream",
     "text": [
      "Processing: 100%|██████████| 150/150 [00:02<00:00, 56.65it/s] \n"
     ]
    },
    {
     "name": "stdout",
     "output_type": "stream",
     "text": [
      "Left: -0.01164070819639107\n",
      "Right: 0.3389028786184362\n",
      "Processing data 933\n"
     ]
    },
    {
     "name": "stderr",
     "output_type": "stream",
     "text": [
      "Processing: 100%|██████████| 150/150 [00:00<00:00, 164.84it/s]\n"
     ]
    },
    {
     "name": "stdout",
     "output_type": "stream",
     "text": [
      "Left: 0.690624672840984\n",
      "Right: 0.28628749995823033\n",
      "Processing data 935\n"
     ]
    },
    {
     "name": "stderr",
     "output_type": "stream",
     "text": [
      "Processing: 100%|██████████| 150/150 [00:00<00:00, 179.99it/s]\n"
     ]
    },
    {
     "name": "stdout",
     "output_type": "stream",
     "text": [
      "Left: 0.036272909709109236\n",
      "Right: -0.0025635762057143463\n",
      "Processing data 936\n"
     ]
    },
    {
     "name": "stderr",
     "output_type": "stream",
     "text": [
      "Processing: 100%|██████████| 150/150 [00:01<00:00, 130.20it/s]\n"
     ]
    },
    {
     "name": "stdout",
     "output_type": "stream",
     "text": [
      "Left: 0.1671740952459656\n",
      "Right: 0.04150698649150951\n",
      "Processing data 937\n"
     ]
    },
    {
     "name": "stderr",
     "output_type": "stream",
     "text": [
      "Processing: 100%|██████████| 150/150 [00:00<00:00, 212.61it/s]\n"
     ]
    },
    {
     "name": "stdout",
     "output_type": "stream",
     "text": [
      "Left: -0.015948317802264245\n",
      "Right: -0.004939196988819783\n",
      "Processing data 938\n"
     ]
    },
    {
     "name": "stderr",
     "output_type": "stream",
     "text": [
      "Processing: 100%|██████████| 150/150 [00:04<00:00, 32.28it/s]\n"
     ]
    },
    {
     "name": "stdout",
     "output_type": "stream",
     "text": [
      "Left: -0.08184902784568282\n",
      "Right: 0.0003448181986419885\n",
      "Processing data 939\n"
     ]
    },
    {
     "name": "stderr",
     "output_type": "stream",
     "text": [
      "Processing: 100%|██████████| 150/150 [00:00<00:00, 407.35it/s]\n"
     ]
    },
    {
     "name": "stdout",
     "output_type": "stream",
     "text": [
      "Left: -0.00013929391134493135\n",
      "Right: 0.5024275404056917\n",
      "Processing data 940\n"
     ]
    },
    {
     "name": "stderr",
     "output_type": "stream",
     "text": [
      "Processing: 100%|██████████| 150/150 [00:00<00:00, 519.92it/s]\n"
     ]
    },
    {
     "name": "stdout",
     "output_type": "stream",
     "text": [
      "Left: 0.017296161408012545\n",
      "Right: 8.019499537423314e-07\n",
      "Processing data 945\n"
     ]
    },
    {
     "name": "stderr",
     "output_type": "stream",
     "text": [
      "Processing: 100%|██████████| 150/150 [00:00<00:00, 266.68it/s]\n"
     ]
    },
    {
     "name": "stdout",
     "output_type": "stream",
     "text": [
      "Left: 0.010577118120360884\n",
      "Right: -0.004643301308028924\n",
      "Processing data 946\n"
     ]
    },
    {
     "name": "stderr",
     "output_type": "stream",
     "text": [
      "Processing: 100%|██████████| 150/150 [00:00<00:00, 233.38it/s]\n"
     ]
    },
    {
     "name": "stdout",
     "output_type": "stream",
     "text": [
      "Left: 0.013401341805734823\n",
      "Right: -0.04560926292372791\n",
      "Processing data 951\n"
     ]
    },
    {
     "name": "stderr",
     "output_type": "stream",
     "text": [
      "Processing: 100%|██████████| 150/150 [00:00<00:00, 446.25it/s]\n"
     ]
    },
    {
     "name": "stdout",
     "output_type": "stream",
     "text": [
      "Left: 0.001992216516745143\n",
      "Right: 0.3311040337971677\n",
      "Processing data 957\n"
     ]
    },
    {
     "name": "stderr",
     "output_type": "stream",
     "text": [
      "Processing: 100%|██████████| 150/150 [00:01<00:00, 108.52it/s]\n"
     ]
    },
    {
     "name": "stdout",
     "output_type": "stream",
     "text": [
      "Left: -8.905247289581197e-08\n",
      "Right: -0.048084242815468414\n",
      "Processing data 959\n"
     ]
    },
    {
     "name": "stderr",
     "output_type": "stream",
     "text": [
      "Processing: 100%|██████████| 150/150 [00:00<00:00, 497.96it/s]\n"
     ]
    },
    {
     "name": "stdout",
     "output_type": "stream",
     "text": [
      "Left: 0.09498873711663491\n",
      "Right: -0.04515933591162535\n",
      "Processing data 960\n"
     ]
    },
    {
     "name": "stderr",
     "output_type": "stream",
     "text": [
      "Processing: 100%|██████████| 150/150 [00:00<00:00, 449.16it/s]\n"
     ]
    },
    {
     "name": "stdout",
     "output_type": "stream",
     "text": [
      "Left: -0.005965632512439423\n",
      "Right: -0.022861144465467276\n",
      "Processing data 963\n"
     ]
    },
    {
     "name": "stderr",
     "output_type": "stream",
     "text": [
      "Processing: 100%|██████████| 150/150 [00:00<00:00, 369.13it/s]\n"
     ]
    },
    {
     "name": "stdout",
     "output_type": "stream",
     "text": [
      "Left: -0.02357764235135884\n",
      "Right: -2.0899217156783445e-05\n",
      "Processing data 964\n"
     ]
    },
    {
     "name": "stderr",
     "output_type": "stream",
     "text": [
      "Processing: 100%|██████████| 150/150 [00:00<00:00, 150.86it/s]\n"
     ]
    },
    {
     "name": "stdout",
     "output_type": "stream",
     "text": [
      "Left: -0.00028382070177485064\n",
      "Right: 0.02399426383177522\n",
      "Processing data 972\n"
     ]
    },
    {
     "name": "stderr",
     "output_type": "stream",
     "text": [
      "Processing: 100%|██████████| 150/150 [00:00<00:00, 394.56it/s]\n"
     ]
    },
    {
     "name": "stdout",
     "output_type": "stream",
     "text": [
      "Left: 0.05559582781253275\n",
      "Right: -2.0343792414029283e-05\n",
      "Processing data 973\n"
     ]
    },
    {
     "name": "stderr",
     "output_type": "stream",
     "text": [
      "Processing: 100%|██████████| 150/150 [00:00<00:00, 434.62it/s]\n"
     ]
    },
    {
     "name": "stdout",
     "output_type": "stream",
     "text": [
      "Left: -0.09578016419086582\n",
      "Right: 0.18798092861096666\n",
      "Processing data 988\n"
     ]
    },
    {
     "name": "stderr",
     "output_type": "stream",
     "text": [
      "Processing: 100%|██████████| 150/150 [00:00<00:00, 407.61it/s]\n"
     ]
    },
    {
     "name": "stdout",
     "output_type": "stream",
     "text": [
      "Left: -2.7117254370462307e-05\n",
      "Right: 0.01398892218393194\n",
      "Processing data 989\n"
     ]
    },
    {
     "name": "stderr",
     "output_type": "stream",
     "text": [
      "Processing: 100%|██████████| 150/150 [00:05<00:00, 25.69it/s]\n"
     ]
    },
    {
     "name": "stdout",
     "output_type": "stream",
     "text": [
      "Left: -0.24580767147656662\n",
      "Right: -0.00040500952116567183\n",
      "Processing data 991\n"
     ]
    },
    {
     "name": "stderr",
     "output_type": "stream",
     "text": [
      "Processing: 100%|██████████| 150/150 [00:01<00:00, 117.76it/s]\n"
     ]
    },
    {
     "name": "stdout",
     "output_type": "stream",
     "text": [
      "Left: 0.002336292308426871\n",
      "Right: 0.3093334749380978\n",
      "Processing data 992\n"
     ]
    },
    {
     "name": "stderr",
     "output_type": "stream",
     "text": [
      "Processing: 100%|██████████| 60/60 [00:00<00:00, 74.69it/s]\n"
     ]
    },
    {
     "name": "stdout",
     "output_type": "stream",
     "text": [
      "Left: 0.4713781077384447\n",
      "Right: 0.4955471469061791\n",
      "Processing data 1003\n"
     ]
    },
    {
     "name": "stderr",
     "output_type": "stream",
     "text": [
      "Processing: 100%|██████████| 180/180 [00:00<00:00, 371.31it/s]\n"
     ]
    },
    {
     "name": "stdout",
     "output_type": "stream",
     "text": [
      "Left: 2.1668257356971532e-05\n",
      "Right: -0.04505127856703345\n",
      "Processing data 1008\n"
     ]
    },
    {
     "name": "stderr",
     "output_type": "stream",
     "text": [
      "Processing: 100%|██████████| 150/150 [00:00<00:00, 533.17it/s]\n"
     ]
    },
    {
     "name": "stdout",
     "output_type": "stream",
     "text": [
      "Left: -1.0166229626601408e-06\n",
      "Right: -0.01698586610276681\n",
      "Processing data 1014\n"
     ]
    },
    {
     "name": "stderr",
     "output_type": "stream",
     "text": [
      "Processing: 100%|██████████| 150/150 [00:00<00:00, 194.06it/s]\n"
     ]
    },
    {
     "name": "stdout",
     "output_type": "stream",
     "text": [
      "Left: -0.042064261407431525\n",
      "Right: 8.494872673014964e-06\n",
      "Processing data 1019\n"
     ]
    },
    {
     "name": "stderr",
     "output_type": "stream",
     "text": [
      "Processing: 100%|██████████| 150/150 [00:03<00:00, 38.22it/s]\n"
     ]
    },
    {
     "name": "stdout",
     "output_type": "stream",
     "text": [
      "Left: 0.243295012320689\n",
      "Right: 0.005977675493456125\n",
      "Processing data 1024\n"
     ]
    },
    {
     "name": "stderr",
     "output_type": "stream",
     "text": [
      "Processing: 100%|██████████| 90/90 [00:00<00:00, 135.14it/s]\n"
     ]
    },
    {
     "name": "stdout",
     "output_type": "stream",
     "text": [
      "Left: -0.00021819253309941777\n",
      "Right: -0.016664118264518746\n",
      "Processing data 1029\n"
     ]
    },
    {
     "name": "stderr",
     "output_type": "stream",
     "text": [
      "Processing: 100%|██████████| 150/150 [00:00<00:00, 615.50it/s]\n"
     ]
    },
    {
     "name": "stdout",
     "output_type": "stream",
     "text": [
      "Left: 1.2732224931311098e-07\n",
      "Right: -0.03421006650618469\n",
      "Processing data 1031\n"
     ]
    },
    {
     "name": "stderr",
     "output_type": "stream",
     "text": [
      "Processing: 100%|██████████| 120/120 [00:00<00:00, 520.23it/s]\n"
     ]
    },
    {
     "name": "stdout",
     "output_type": "stream",
     "text": [
      "Left: 0.00042859993178773204\n",
      "Right: -6.2342305303352e-08\n",
      "Processing data 1033\n"
     ]
    },
    {
     "name": "stderr",
     "output_type": "stream",
     "text": [
      "Processing: 100%|██████████| 150/150 [00:01<00:00, 121.48it/s]\n"
     ]
    },
    {
     "name": "stdout",
     "output_type": "stream",
     "text": [
      "Left: 0.05498536897365092\n",
      "Right: 0.19554008691021862\n",
      "Processing data 1035\n"
     ]
    },
    {
     "name": "stderr",
     "output_type": "stream",
     "text": [
      "Processing: 100%|██████████| 150/150 [00:02<00:00, 72.19it/s] \n"
     ]
    },
    {
     "name": "stdout",
     "output_type": "stream",
     "text": [
      "Left: -0.058666883762373445\n",
      "Right: 0.00030019493360859337\n",
      "Processing data 1041\n"
     ]
    },
    {
     "name": "stderr",
     "output_type": "stream",
     "text": [
      "Processing: 100%|██████████| 180/180 [00:07<00:00, 25.26it/s]\n"
     ]
    },
    {
     "name": "stdout",
     "output_type": "stream",
     "text": [
      "Left: 0.2561855641328054\n",
      "Right: 0.009972688943622535\n",
      "Processing data 1043\n"
     ]
    },
    {
     "name": "stderr",
     "output_type": "stream",
     "text": [
      "Processing: 100%|██████████| 120/120 [00:00<00:00, 226.21it/s]\n"
     ]
    },
    {
     "name": "stdout",
     "output_type": "stream",
     "text": [
      "Left: 0.21174097503895278\n",
      "Right: 5.219526527951157e-05\n",
      "Processing data 1046\n"
     ]
    },
    {
     "name": "stderr",
     "output_type": "stream",
     "text": [
      "Processing: 100%|██████████| 150/150 [00:00<00:00, 293.30it/s]\n"
     ]
    },
    {
     "name": "stdout",
     "output_type": "stream",
     "text": [
      "Left: 0.0007057661451159592\n",
      "Right: 0.3653833455714904\n",
      "Processing data 1048\n"
     ]
    },
    {
     "name": "stderr",
     "output_type": "stream",
     "text": [
      "Processing: 100%|██████████| 180/180 [00:01<00:00, 109.45it/s]\n"
     ]
    },
    {
     "name": "stdout",
     "output_type": "stream",
     "text": [
      "Left: -0.07702499542647445\n",
      "Right: 0.002905176520783842\n",
      "Processing data 1049\n"
     ]
    },
    {
     "name": "stderr",
     "output_type": "stream",
     "text": [
      "Processing: 100%|██████████| 150/150 [00:00<00:00, 387.95it/s]\n"
     ]
    },
    {
     "name": "stdout",
     "output_type": "stream",
     "text": [
      "Left: -0.002121272160191097\n",
      "Right: 0.2914599903895738\n",
      "Processing data 1059\n"
     ]
    },
    {
     "name": "stderr",
     "output_type": "stream",
     "text": [
      "Processing: 100%|██████████| 150/150 [00:00<00:00, 460.31it/s]\n"
     ]
    },
    {
     "name": "stdout",
     "output_type": "stream",
     "text": [
      "Left: 0.04123957596649086\n",
      "Right: 0.02147037380483513\n",
      "Processing data 1061\n"
     ]
    },
    {
     "name": "stderr",
     "output_type": "stream",
     "text": [
      "Processing: 100%|██████████| 90/90 [00:00<00:00, 485.15it/s]\n"
     ]
    },
    {
     "name": "stdout",
     "output_type": "stream",
     "text": [
      "Left: 1.7845500718816076e-07\n",
      "Right: 0.09530153830588095\n",
      "Processing data 1065\n"
     ]
    },
    {
     "name": "stderr",
     "output_type": "stream",
     "text": [
      "Processing: 100%|██████████| 150/150 [00:01<00:00, 105.70it/s]\n"
     ]
    },
    {
     "name": "stdout",
     "output_type": "stream",
     "text": [
      "Left: -0.052464724447476296\n",
      "Right: 0.0002596338174835622\n",
      "Processing data 1066\n"
     ]
    },
    {
     "name": "stderr",
     "output_type": "stream",
     "text": [
      "Processing: 100%|██████████| 210/210 [00:01<00:00, 108.87it/s]\n"
     ]
    },
    {
     "name": "stdout",
     "output_type": "stream",
     "text": [
      "Left: 0.3329863810399834\n",
      "Right: 0.14992715074415133\n",
      "Processing data 1068\n"
     ]
    },
    {
     "name": "stderr",
     "output_type": "stream",
     "text": [
      "Processing: 100%|██████████| 150/150 [00:03<00:00, 48.08it/s]\n"
     ]
    },
    {
     "name": "stdout",
     "output_type": "stream",
     "text": [
      "Left: -0.00255634951814232\n",
      "Right: -0.0004322084340964705\n",
      "Processing data 1070\n"
     ]
    },
    {
     "name": "stderr",
     "output_type": "stream",
     "text": [
      "Processing: 100%|██████████| 90/90 [00:00<00:00, 349.52it/s]\n"
     ]
    },
    {
     "name": "stdout",
     "output_type": "stream",
     "text": [
      "Left: -0.013460610358272063\n",
      "Right: 0.13666677195014318\n",
      "Processing data 1072\n"
     ]
    },
    {
     "name": "stderr",
     "output_type": "stream",
     "text": [
      "Processing: 100%|██████████| 150/150 [00:02<00:00, 59.31it/s]\n"
     ]
    },
    {
     "name": "stdout",
     "output_type": "stream",
     "text": [
      "Left: -0.13816600476987495\n",
      "Right: -0.13010323818406766\n",
      "Processing data 1075\n"
     ]
    },
    {
     "name": "stderr",
     "output_type": "stream",
     "text": [
      "Processing: 100%|██████████| 150/150 [00:01<00:00, 108.78it/s]\n"
     ]
    },
    {
     "name": "stdout",
     "output_type": "stream",
     "text": [
      "Left: 0.7236718963746449\n",
      "Right: 0.6964574777498785\n",
      "Processing data 1076\n"
     ]
    },
    {
     "name": "stderr",
     "output_type": "stream",
     "text": [
      "Processing: 100%|██████████| 150/150 [00:00<00:00, 466.87it/s]\n"
     ]
    },
    {
     "name": "stdout",
     "output_type": "stream",
     "text": [
      "Left: 0.06316652817821677\n",
      "Right: 0.4758561214061492\n",
      "Processing data 1079\n"
     ]
    },
    {
     "name": "stderr",
     "output_type": "stream",
     "text": [
      "Processing: 100%|██████████| 120/120 [00:00<00:00, 159.44it/s]\n"
     ]
    },
    {
     "name": "stdout",
     "output_type": "stream",
     "text": [
      "Left: 0.13639877592392835\n",
      "Right: 0.025936011771447665\n",
      "Processing data 1084\n"
     ]
    },
    {
     "name": "stderr",
     "output_type": "stream",
     "text": [
      "Processing: 100%|██████████| 120/120 [00:00<00:00, 208.71it/s]\n"
     ]
    },
    {
     "name": "stdout",
     "output_type": "stream",
     "text": [
      "Left: 0.3552837272624844\n",
      "Right: 0.003813309645987241\n",
      "Processing data 1087\n"
     ]
    },
    {
     "name": "stderr",
     "output_type": "stream",
     "text": [
      "Processing: 100%|██████████| 150/150 [00:01<00:00, 117.02it/s]\n"
     ]
    },
    {
     "name": "stdout",
     "output_type": "stream",
     "text": [
      "Left: 0.22395752263345975\n",
      "Right: 0.18705378180818788\n",
      "Processing data 1094\n"
     ]
    },
    {
     "name": "stderr",
     "output_type": "stream",
     "text": [
      "Processing: 100%|██████████| 150/150 [00:01<00:00, 76.66it/s] \n"
     ]
    },
    {
     "name": "stdout",
     "output_type": "stream",
     "text": [
      "Left: -0.009106481421617185\n",
      "Right: -0.000892426374437788\n",
      "Processing data 1097\n"
     ]
    },
    {
     "name": "stderr",
     "output_type": "stream",
     "text": [
      "Processing: 100%|██████████| 150/150 [00:07<00:00, 20.39it/s]\n"
     ]
    },
    {
     "name": "stdout",
     "output_type": "stream",
     "text": [
      "Left: 0.11276720398354742\n",
      "Right: 0.0015024129193345892\n",
      "Processing data 1100\n"
     ]
    },
    {
     "name": "stderr",
     "output_type": "stream",
     "text": [
      "Processing: 100%|██████████| 150/150 [00:03<00:00, 37.98it/s] \n"
     ]
    },
    {
     "name": "stdout",
     "output_type": "stream",
     "text": [
      "Left: -0.03643280337205579\n",
      "Right: 0.00037426618348764115\n",
      "Processing data 1101\n"
     ]
    },
    {
     "name": "stderr",
     "output_type": "stream",
     "text": [
      "Processing: 100%|██████████| 150/150 [00:01<00:00, 92.79it/s] \n"
     ]
    },
    {
     "name": "stdout",
     "output_type": "stream",
     "text": [
      "Left: 4.197014778944963e-05\n",
      "Right: 0.039500133659037096\n",
      "Processing data 1102\n"
     ]
    },
    {
     "name": "stderr",
     "output_type": "stream",
     "text": [
      "Processing: 100%|██████████| 120/120 [00:02<00:00, 55.20it/s]\n"
     ]
    },
    {
     "name": "stdout",
     "output_type": "stream",
     "text": [
      "Left: 0.2515019026386479\n",
      "Right: -0.03230114431379927\n",
      "Processing data 1104\n"
     ]
    },
    {
     "name": "stderr",
     "output_type": "stream",
     "text": [
      "Processing: 100%|██████████| 150/150 [00:00<00:00, 677.91it/s]\n"
     ]
    },
    {
     "name": "stdout",
     "output_type": "stream",
     "text": [
      "Left: -0.016108914134996266\n",
      "Right: -0.0859298271973149\n",
      "Processing data 1106\n"
     ]
    },
    {
     "name": "stderr",
     "output_type": "stream",
     "text": [
      "Processing: 100%|██████████| 90/90 [00:00<00:00, 144.29it/s]\n"
     ]
    },
    {
     "name": "stdout",
     "output_type": "stream",
     "text": [
      "Left: 0.27833583576486365\n",
      "Right: 0.0018442888777945587\n",
      "Processing data 1110\n"
     ]
    },
    {
     "name": "stderr",
     "output_type": "stream",
     "text": [
      "Processing: 100%|██████████| 150/150 [00:01<00:00, 91.98it/s] \n"
     ]
    },
    {
     "name": "stdout",
     "output_type": "stream",
     "text": [
      "Left: 0.13265914401859435\n",
      "Right: 0.04675263301725541\n",
      "Processing data 1111\n"
     ]
    },
    {
     "name": "stderr",
     "output_type": "stream",
     "text": [
      "Processing: 100%|██████████| 150/150 [00:00<00:00, 162.46it/s]\n"
     ]
    },
    {
     "name": "stdout",
     "output_type": "stream",
     "text": [
      "Left: -0.06746877383999517\n",
      "Right: 0.018946325330461145\n",
      "Processing data 1114\n"
     ]
    },
    {
     "name": "stderr",
     "output_type": "stream",
     "text": [
      "Processing: 100%|██████████| 150/150 [00:01<00:00, 85.60it/s] \n"
     ]
    },
    {
     "name": "stdout",
     "output_type": "stream",
     "text": [
      "Left: 0.0579893699388937\n",
      "Right: 0.0015304783391774102\n",
      "Processing data 1116\n"
     ]
    },
    {
     "name": "stderr",
     "output_type": "stream",
     "text": [
      "Processing: 100%|██████████| 120/120 [00:00<00:00, 206.56it/s]\n"
     ]
    },
    {
     "name": "stdout",
     "output_type": "stream",
     "text": [
      "Left: -0.0008036130447748313\n",
      "Right: 0.0007130268107096438\n",
      "Processing data 1118\n"
     ]
    },
    {
     "name": "stderr",
     "output_type": "stream",
     "text": [
      "Processing: 100%|██████████| 150/150 [00:00<00:00, 701.65it/s]\n"
     ]
    },
    {
     "name": "stdout",
     "output_type": "stream",
     "text": [
      "Left: 0.001992208702667586\n",
      "Right: -1.3300225660983767e-05\n",
      "Processing data 1121\n"
     ]
    },
    {
     "name": "stderr",
     "output_type": "stream",
     "text": [
      "Processing: 100%|██████████| 150/150 [00:01<00:00, 128.84it/s]\n"
     ]
    },
    {
     "name": "stdout",
     "output_type": "stream",
     "text": [
      "Left: 0.38916250231461225\n",
      "Right: 0.30346166070720415\n",
      "Processing data 1122\n"
     ]
    },
    {
     "name": "stderr",
     "output_type": "stream",
     "text": [
      "Processing: 100%|██████████| 150/150 [00:03<00:00, 43.25it/s]\n"
     ]
    },
    {
     "name": "stdout",
     "output_type": "stream",
     "text": [
      "Left: -0.15153086300740082\n",
      "Right: -0.025048209088814832\n",
      "Processing data 1123\n"
     ]
    },
    {
     "name": "stderr",
     "output_type": "stream",
     "text": [
      "Processing: 100%|██████████| 90/90 [00:00<00:00, 125.84it/s]\n"
     ]
    },
    {
     "name": "stdout",
     "output_type": "stream",
     "text": [
      "Left: 0.0026314347027271423\n",
      "Right: -8.524487666263653e-05\n",
      "Processing data 1125\n"
     ]
    },
    {
     "name": "stderr",
     "output_type": "stream",
     "text": [
      "Processing: 100%|██████████| 150/150 [00:00<00:00, 384.32it/s]\n"
     ]
    },
    {
     "name": "stdout",
     "output_type": "stream",
     "text": [
      "Left: -3.234505220209294e-05\n",
      "Right: 0.005343676147504084\n",
      "Processing data 1128\n"
     ]
    },
    {
     "name": "stderr",
     "output_type": "stream",
     "text": [
      "Processing: 100%|██████████| 150/150 [00:00<00:00, 257.42it/s]\n"
     ]
    },
    {
     "name": "stdout",
     "output_type": "stream",
     "text": [
      "Left: -0.01847917980841074\n",
      "Right: -0.04876885668876524\n",
      "Processing data 1133\n"
     ]
    },
    {
     "name": "stderr",
     "output_type": "stream",
     "text": [
      "Processing: 100%|██████████| 210/210 [00:04<00:00, 50.49it/s]\n"
     ]
    },
    {
     "name": "stdout",
     "output_type": "stream",
     "text": [
      "Left: 0.00033745192053200035\n",
      "Right: 0.04063596406942832\n",
      "Processing data 1134\n"
     ]
    },
    {
     "name": "stderr",
     "output_type": "stream",
     "text": [
      "Processing: 100%|██████████| 150/150 [00:02<00:00, 61.10it/s]\n"
     ]
    },
    {
     "name": "stdout",
     "output_type": "stream",
     "text": [
      "Left: 0.42235849333472636\n",
      "Right: -0.00018385374029503132\n",
      "Processing data 1135\n"
     ]
    },
    {
     "name": "stderr",
     "output_type": "stream",
     "text": [
      "Processing: 100%|██████████| 150/150 [00:00<00:00, 190.08it/s]\n"
     ]
    },
    {
     "name": "stdout",
     "output_type": "stream",
     "text": [
      "Left: -0.06992714916375065\n",
      "Right: -0.0001225805107862854\n",
      "Processing data 1136\n"
     ]
    },
    {
     "name": "stderr",
     "output_type": "stream",
     "text": [
      "Processing: 100%|██████████| 60/60 [00:00<00:00, 375.89it/s]\n"
     ]
    },
    {
     "name": "stdout",
     "output_type": "stream",
     "text": [
      "Left: 0.15859795993252424\n",
      "Right: -0.00013182763511801476\n",
      "Processing data 1144\n"
     ]
    },
    {
     "name": "stderr",
     "output_type": "stream",
     "text": [
      "Processing: 100%|██████████| 150/150 [00:00<00:00, 622.81it/s]\n"
     ]
    },
    {
     "name": "stdout",
     "output_type": "stream",
     "text": [
      "Left: 0.0035215037457332543\n",
      "Right: 0.36122587829966524\n",
      "Processing data 1152\n"
     ]
    },
    {
     "name": "stderr",
     "output_type": "stream",
     "text": [
      "Processing: 100%|██████████| 150/150 [00:00<00:00, 574.92it/s]\n"
     ]
    },
    {
     "name": "stdout",
     "output_type": "stream",
     "text": [
      "Left: 0.6965548453371198\n",
      "Right: 0.044968929634173566\n",
      "Processing data 1154\n"
     ]
    },
    {
     "name": "stderr",
     "output_type": "stream",
     "text": [
      "Processing: 100%|██████████| 150/150 [00:00<00:00, 425.48it/s]\n"
     ]
    },
    {
     "name": "stdout",
     "output_type": "stream",
     "text": [
      "Left: 0.0064383472184129376\n",
      "Right: 0.7916025454631755\n",
      "Processing data 1161\n"
     ]
    },
    {
     "name": "stderr",
     "output_type": "stream",
     "text": [
      "Processing: 100%|██████████| 60/60 [00:00<00:00, 222.70it/s]\n"
     ]
    },
    {
     "name": "stdout",
     "output_type": "stream",
     "text": [
      "Left: 0.5421697662050144\n",
      "Right: 0.0039031415114372326\n",
      "Processing data 1163\n"
     ]
    },
    {
     "name": "stderr",
     "output_type": "stream",
     "text": [
      "Processing: 100%|██████████| 150/150 [00:00<00:00, 181.32it/s]\n"
     ]
    },
    {
     "name": "stdout",
     "output_type": "stream",
     "text": [
      "Left: 0.11133041027965396\n",
      "Right: -0.04636522480625782\n",
      "Processing data 1166\n"
     ]
    },
    {
     "name": "stderr",
     "output_type": "stream",
     "text": [
      "Processing: 100%|██████████| 150/150 [00:00<00:00, 177.88it/s]\n"
     ]
    },
    {
     "name": "stdout",
     "output_type": "stream",
     "text": [
      "Left: 0.2631067168394756\n",
      "Right: 2.623274212706396e-05\n",
      "Processing data 1172\n"
     ]
    },
    {
     "name": "stderr",
     "output_type": "stream",
     "text": [
      "Processing: 100%|██████████| 150/150 [00:01<00:00, 116.62it/s]\n"
     ]
    },
    {
     "name": "stdout",
     "output_type": "stream",
     "text": [
      "Left: 0.4275846378098036\n",
      "Right: -7.039791191346297e-07\n",
      "Processing data 1185\n"
     ]
    },
    {
     "name": "stderr",
     "output_type": "stream",
     "text": [
      "Processing: 100%|██████████| 150/150 [00:01<00:00, 119.26it/s]\n"
     ]
    },
    {
     "name": "stdout",
     "output_type": "stream",
     "text": [
      "Left: -0.002640974559063869\n",
      "Right: -0.07305978144835334\n",
      "Processing data 1186\n"
     ]
    },
    {
     "name": "stderr",
     "output_type": "stream",
     "text": [
      "Processing: 100%|██████████| 150/150 [00:00<00:00, 169.68it/s]\n"
     ]
    },
    {
     "name": "stdout",
     "output_type": "stream",
     "text": [
      "Left: -0.03481204146149508\n",
      "Right: 3.6879983113025094e-05\n",
      "Processing data 1187\n"
     ]
    },
    {
     "name": "stderr",
     "output_type": "stream",
     "text": [
      "Processing: 100%|██████████| 150/150 [00:01<00:00, 103.18it/s]\n"
     ]
    },
    {
     "name": "stdout",
     "output_type": "stream",
     "text": [
      "Left: 0.014395025240964476\n",
      "Right: -0.17336830700476646\n",
      "Processing data 1188\n"
     ]
    },
    {
     "name": "stderr",
     "output_type": "stream",
     "text": [
      "Processing: 100%|██████████| 120/120 [00:00<00:00, 140.51it/s]\n"
     ]
    },
    {
     "name": "stdout",
     "output_type": "stream",
     "text": [
      "Left: -0.048233284177533475\n",
      "Right: -0.05188299442559374\n",
      "Processing data 1198\n"
     ]
    },
    {
     "name": "stderr",
     "output_type": "stream",
     "text": [
      "Processing: 100%|██████████| 150/150 [00:05<00:00, 29.94it/s]\n"
     ]
    },
    {
     "name": "stdout",
     "output_type": "stream",
     "text": [
      "Left: -0.00015007423030292608\n",
      "Right: -0.2894815433348157\n",
      "Processing data 1199\n"
     ]
    },
    {
     "name": "stderr",
     "output_type": "stream",
     "text": [
      "Processing: 100%|██████████| 150/150 [00:01<00:00, 97.26it/s]\n"
     ]
    },
    {
     "name": "stdout",
     "output_type": "stream",
     "text": [
      "Left: 0.14419688973905165\n",
      "Right: -0.04687040836477885\n",
      "Processing data 1200\n"
     ]
    },
    {
     "name": "stderr",
     "output_type": "stream",
     "text": [
      "Processing: 100%|██████████| 90/90 [00:00<00:00, 102.36it/s]\n"
     ]
    },
    {
     "name": "stdout",
     "output_type": "stream",
     "text": [
      "Left: -0.10689146461481047\n",
      "Right: 0.018667268613174748\n",
      "Processing data 1205\n"
     ]
    },
    {
     "name": "stderr",
     "output_type": "stream",
     "text": [
      "Processing: 100%|██████████| 90/90 [00:00<00:00, 182.98it/s]\n"
     ]
    },
    {
     "name": "stdout",
     "output_type": "stream",
     "text": [
      "Left: 0.0025370212121378667\n",
      "Right: 0.3557165389556804\n",
      "Processing data 1206\n"
     ]
    },
    {
     "name": "stderr",
     "output_type": "stream",
     "text": [
      "Processing: 100%|██████████| 150/150 [00:01<00:00, 93.86it/s]\n"
     ]
    },
    {
     "name": "stdout",
     "output_type": "stream",
     "text": [
      "Left: 0.5368347775104513\n",
      "Right: 0.636440836836902\n",
      "Processing data 1208\n"
     ]
    },
    {
     "name": "stderr",
     "output_type": "stream",
     "text": [
      "Processing: 100%|██████████| 150/150 [00:00<00:00, 219.93it/s]\n"
     ]
    },
    {
     "name": "stdout",
     "output_type": "stream",
     "text": [
      "Left: -4.0567052963208505e-05\n",
      "Right: 0.023568629615673076\n",
      "Processing data 1214\n"
     ]
    },
    {
     "name": "stderr",
     "output_type": "stream",
     "text": [
      "Processing: 100%|██████████| 150/150 [00:03<00:00, 49.37it/s]\n"
     ]
    },
    {
     "name": "stdout",
     "output_type": "stream",
     "text": [
      "Left: 0.015629307347651833\n",
      "Right: 0.48660405149560415\n",
      "Processing data 1217\n"
     ]
    },
    {
     "name": "stderr",
     "output_type": "stream",
     "text": [
      "Processing: 100%|██████████| 150/150 [00:00<00:00, 556.54it/s]\n"
     ]
    },
    {
     "name": "stdout",
     "output_type": "stream",
     "text": [
      "Left: -0.046208027296049115\n",
      "Right: 0.20096727267298065\n",
      "Processing data 1220\n"
     ]
    },
    {
     "name": "stderr",
     "output_type": "stream",
     "text": [
      "Processing: 100%|██████████| 150/150 [00:00<00:00, 638.00it/s]\n"
     ]
    },
    {
     "name": "stdout",
     "output_type": "stream",
     "text": [
      "Left: 0.007865875610480499\n",
      "Right: 0.3239712176692776\n",
      "Processing data 1222\n"
     ]
    },
    {
     "name": "stderr",
     "output_type": "stream",
     "text": [
      "Processing: 100%|██████████| 150/150 [00:00<00:00, 315.01it/s]\n"
     ]
    },
    {
     "name": "stdout",
     "output_type": "stream",
     "text": [
      "Left: 0.7499839496920823\n",
      "Right: 0.20187090678444108\n",
      "Processing data 1224\n"
     ]
    },
    {
     "name": "stderr",
     "output_type": "stream",
     "text": [
      "Processing: 100%|██████████| 150/150 [00:03<00:00, 49.17it/s]\n"
     ]
    },
    {
     "name": "stdout",
     "output_type": "stream",
     "text": [
      "Left: 0.33447371136564\n",
      "Right: 4.2308033369525475e-05\n",
      "Processing data 1225\n"
     ]
    },
    {
     "name": "stderr",
     "output_type": "stream",
     "text": [
      "Processing: 100%|██████████| 120/120 [00:06<00:00, 17.94it/s]\n"
     ]
    },
    {
     "name": "stdout",
     "output_type": "stream",
     "text": [
      "Left: 0.3052852554874327\n",
      "Right: 0.4050919076952003\n",
      "Processing data 1226\n"
     ]
    },
    {
     "name": "stderr",
     "output_type": "stream",
     "text": [
      "Processing: 100%|██████████| 150/150 [00:00<00:00, 229.46it/s]\n"
     ]
    },
    {
     "name": "stdout",
     "output_type": "stream",
     "text": [
      "Left: 0.29756714562949416\n",
      "Right: -0.0006938606131996032\n",
      "Processing data 1227\n"
     ]
    },
    {
     "name": "stderr",
     "output_type": "stream",
     "text": [
      "Processing: 100%|██████████| 150/150 [00:00<00:00, 542.25it/s]\n"
     ]
    },
    {
     "name": "stdout",
     "output_type": "stream",
     "text": [
      "Left: 0.029825944313862207\n",
      "Right: -0.018860329805155618\n",
      "Processing data 1230\n"
     ]
    },
    {
     "name": "stderr",
     "output_type": "stream",
     "text": [
      "Processing: 100%|██████████| 150/150 [00:01<00:00, 110.11it/s]\n"
     ]
    },
    {
     "name": "stdout",
     "output_type": "stream",
     "text": [
      "Left: -0.009965317474679325\n",
      "Right: 9.588440823368738e-05\n",
      "Processing data 1232\n"
     ]
    },
    {
     "name": "stderr",
     "output_type": "stream",
     "text": [
      "Processing: 100%|██████████| 150/150 [00:00<00:00, 185.65it/s]\n"
     ]
    },
    {
     "name": "stdout",
     "output_type": "stream",
     "text": [
      "Left: 0.0029764740600173945\n",
      "Right: 0.8237030648583831\n",
      "Processing data 1233\n"
     ]
    },
    {
     "name": "stderr",
     "output_type": "stream",
     "text": [
      "Processing: 100%|██████████| 150/150 [00:01<00:00, 134.58it/s]\n"
     ]
    },
    {
     "name": "stdout",
     "output_type": "stream",
     "text": [
      "Left: 0.034144167111659754\n",
      "Right: 0.6532985041939972\n",
      "Processing data 1240\n"
     ]
    },
    {
     "name": "stderr",
     "output_type": "stream",
     "text": [
      "Processing: 100%|██████████| 150/150 [00:05<00:00, 29.28it/s]\n"
     ]
    },
    {
     "name": "stdout",
     "output_type": "stream",
     "text": [
      "Left: 0.0023509924534146354\n",
      "Right: -0.13511216116030633\n",
      "Processing data 1242\n"
     ]
    },
    {
     "name": "stderr",
     "output_type": "stream",
     "text": [
      "Processing: 100%|██████████| 150/150 [00:01<00:00, 80.94it/s] \n"
     ]
    },
    {
     "name": "stdout",
     "output_type": "stream",
     "text": [
      "Left: -0.00021661809777753522\n",
      "Right: 0.2622633513231818\n",
      "Processing data 1247\n"
     ]
    },
    {
     "name": "stderr",
     "output_type": "stream",
     "text": [
      "Processing: 100%|██████████| 150/150 [00:01<00:00, 75.39it/s]\n"
     ]
    },
    {
     "name": "stdout",
     "output_type": "stream",
     "text": [
      "Left: -0.006922301334328029\n",
      "Right: 0.4836525512047698\n",
      "Processing data 1250\n"
     ]
    },
    {
     "name": "stderr",
     "output_type": "stream",
     "text": [
      "Processing: 100%|██████████| 120/120 [00:01<00:00, 93.71it/s]\n"
     ]
    },
    {
     "name": "stdout",
     "output_type": "stream",
     "text": [
      "Left: 0.0005217061801501832\n",
      "Right: 0.2819304175827029\n",
      "Processing data 1254\n"
     ]
    },
    {
     "name": "stderr",
     "output_type": "stream",
     "text": [
      "Processing: 100%|██████████| 150/150 [00:01<00:00, 88.97it/s]\n"
     ]
    },
    {
     "name": "stdout",
     "output_type": "stream",
     "text": [
      "Left: 0.03012187948863032\n",
      "Right: 6.598161347626252e-06\n",
      "Processing data 1255\n"
     ]
    },
    {
     "name": "stderr",
     "output_type": "stream",
     "text": [
      "Processing: 100%|██████████| 90/90 [00:02<00:00, 42.08it/s]\n"
     ]
    },
    {
     "name": "stdout",
     "output_type": "stream",
     "text": [
      "Left: 0.046752959258405086\n",
      "Right: -0.07030077054371398\n",
      "Processing data 1258\n"
     ]
    },
    {
     "name": "stderr",
     "output_type": "stream",
     "text": [
      "Processing: 100%|██████████| 150/150 [00:00<00:00, 177.07it/s]\n"
     ]
    },
    {
     "name": "stdout",
     "output_type": "stream",
     "text": [
      "Left: 0.0013023893699245156\n",
      "Right: 0.40358981068840194\n",
      "Processing data 1262\n"
     ]
    },
    {
     "name": "stderr",
     "output_type": "stream",
     "text": [
      "Processing: 100%|██████████| 180/180 [00:00<00:00, 493.42it/s]\n"
     ]
    },
    {
     "name": "stdout",
     "output_type": "stream",
     "text": [
      "Left: 0.21131603408246163\n",
      "Right: 0.00380826236359158\n",
      "Processing data 1263\n"
     ]
    },
    {
     "name": "stderr",
     "output_type": "stream",
     "text": [
      "Processing: 100%|██████████| 150/150 [00:02<00:00, 51.88it/s] \n"
     ]
    },
    {
     "name": "stdout",
     "output_type": "stream",
     "text": [
      "Left: 0.2880596851227759\n",
      "Right: -0.008218415585379613\n",
      "Processing data 1264\n"
     ]
    },
    {
     "name": "stderr",
     "output_type": "stream",
     "text": [
      "Processing: 100%|██████████| 150/150 [00:03<00:00, 37.74it/s]\n"
     ]
    },
    {
     "name": "stdout",
     "output_type": "stream",
     "text": [
      "Left: 0.00018712675738271484\n",
      "Right: -0.09532635351515828\n",
      "Processing data 1267\n"
     ]
    },
    {
     "name": "stderr",
     "output_type": "stream",
     "text": [
      "Processing: 100%|██████████| 150/150 [00:02<00:00, 54.72it/s]\n"
     ]
    },
    {
     "name": "stdout",
     "output_type": "stream",
     "text": [
      "Left: -0.026584082286667754\n",
      "Right: -0.32478563524640813\n",
      "Processing data 1268\n"
     ]
    },
    {
     "name": "stderr",
     "output_type": "stream",
     "text": [
      "Processing: 100%|██████████| 180/180 [00:01<00:00, 127.85it/s]\n"
     ]
    },
    {
     "name": "stdout",
     "output_type": "stream",
     "text": [
      "Left: 0.0021103115631745106\n",
      "Right: 0.2577740118674099\n",
      "Processing data 1270\n"
     ]
    },
    {
     "name": "stderr",
     "output_type": "stream",
     "text": [
      "Processing: 100%|██████████| 150/150 [00:02<00:00, 54.21it/s]\n"
     ]
    },
    {
     "name": "stdout",
     "output_type": "stream",
     "text": [
      "Left: 0.38034971851431554\n",
      "Right: 0.041505318520537016\n",
      "Processing data 1271\n"
     ]
    },
    {
     "name": "stderr",
     "output_type": "stream",
     "text": [
      "Processing: 100%|██████████| 150/150 [00:00<00:00, 154.51it/s]\n"
     ]
    },
    {
     "name": "stdout",
     "output_type": "stream",
     "text": [
      "Left: 0.5415828957413432\n",
      "Right: 0.0006376954890338071\n",
      "Processing data 1275\n"
     ]
    },
    {
     "name": "stderr",
     "output_type": "stream",
     "text": [
      "Processing: 100%|██████████| 90/90 [00:00<00:00, 472.83it/s]\n"
     ]
    },
    {
     "name": "stdout",
     "output_type": "stream",
     "text": [
      "Left: -0.04374382727482917\n",
      "Right: 0.14165395738565484\n",
      "Processing data 1276\n"
     ]
    },
    {
     "name": "stderr",
     "output_type": "stream",
     "text": [
      "Processing: 100%|██████████| 150/150 [00:01<00:00, 106.90it/s]\n"
     ]
    },
    {
     "name": "stdout",
     "output_type": "stream",
     "text": [
      "Left: 0.44116930578447194\n",
      "Right: 0.0012024703047752593\n",
      "Processing data 1280\n"
     ]
    },
    {
     "name": "stderr",
     "output_type": "stream",
     "text": [
      "Processing: 100%|██████████| 150/150 [00:00<00:00, 456.21it/s]\n"
     ]
    },
    {
     "name": "stdout",
     "output_type": "stream",
     "text": [
      "Left: -0.019560301060577157\n",
      "Right: -0.018890230095582605\n",
      "Processing data 1281\n"
     ]
    },
    {
     "name": "stderr",
     "output_type": "stream",
     "text": [
      "Processing: 100%|██████████| 150/150 [00:00<00:00, 346.22it/s]\n"
     ]
    },
    {
     "name": "stdout",
     "output_type": "stream",
     "text": [
      "Left: 0.03187278697751894\n",
      "Right: -0.001460107707485614\n",
      "Processing data 1282\n"
     ]
    },
    {
     "name": "stderr",
     "output_type": "stream",
     "text": [
      "Processing: 100%|██████████| 150/150 [00:00<00:00, 226.59it/s]\n"
     ]
    },
    {
     "name": "stdout",
     "output_type": "stream",
     "text": [
      "Left: -0.0029346117690695617\n",
      "Right: -0.046901235259960095\n",
      "Processing data 1284\n"
     ]
    },
    {
     "name": "stderr",
     "output_type": "stream",
     "text": [
      "Processing: 100%|██████████| 150/150 [00:03<00:00, 40.27it/s]\n"
     ]
    },
    {
     "name": "stdout",
     "output_type": "stream",
     "text": [
      "Left: 0.00018941279590576135\n",
      "Right: 0.17917222691238188\n",
      "Processing data 1285\n"
     ]
    },
    {
     "name": "stderr",
     "output_type": "stream",
     "text": [
      "Processing: 100%|██████████| 150/150 [00:01<00:00, 142.52it/s]\n"
     ]
    },
    {
     "name": "stdout",
     "output_type": "stream",
     "text": [
      "Left: -0.14226036442268342\n",
      "Right: 0.0014526160298860558\n",
      "Processing data 1288\n"
     ]
    },
    {
     "name": "stderr",
     "output_type": "stream",
     "text": [
      "Processing: 100%|██████████| 150/150 [00:02<00:00, 57.48it/s]\n"
     ]
    },
    {
     "name": "stdout",
     "output_type": "stream",
     "text": [
      "Left: 0.0010637296092332882\n",
      "Right: 0.32178601513296773\n",
      "Processing data 1289\n"
     ]
    },
    {
     "name": "stderr",
     "output_type": "stream",
     "text": [
      "Processing: 100%|██████████| 120/120 [00:00<00:00, 339.96it/s]\n"
     ]
    },
    {
     "name": "stdout",
     "output_type": "stream",
     "text": [
      "Left: 0.6902567586367618\n",
      "Right: 0.00020050427083436167\n",
      "Processing data 1294\n"
     ]
    },
    {
     "name": "stderr",
     "output_type": "stream",
     "text": [
      "Processing: 100%|██████████| 150/150 [00:02<00:00, 50.76it/s]\n"
     ]
    },
    {
     "name": "stdout",
     "output_type": "stream",
     "text": [
      "Left: -0.0016425302338557365\n",
      "Right: -0.25076105567656837\n",
      "Processing data 1296\n"
     ]
    },
    {
     "name": "stderr",
     "output_type": "stream",
     "text": [
      "Processing: 100%|██████████| 150/150 [00:00<00:00, 201.90it/s]\n"
     ]
    },
    {
     "name": "stdout",
     "output_type": "stream",
     "text": [
      "Left: 0.007730062746292121\n",
      "Right: 0.26644691562314904\n",
      "Processing data 1298\n"
     ]
    },
    {
     "name": "stderr",
     "output_type": "stream",
     "text": [
      "Processing: 100%|██████████| 119/119 [00:00<00:00, 283.92it/s]\n"
     ]
    },
    {
     "name": "stdout",
     "output_type": "stream",
     "text": [
      "Left: -0.004323079036173794\n",
      "Right: -5.752093589970336e-06\n",
      "Processing data 1308\n"
     ]
    },
    {
     "name": "stderr",
     "output_type": "stream",
     "text": [
      "Processing: 100%|██████████| 150/150 [00:00<00:00, 345.05it/s]\n"
     ]
    },
    {
     "name": "stdout",
     "output_type": "stream",
     "text": [
      "Left: 0.6899028215922844\n",
      "Right: 0.04613071101137063\n",
      "Processing data 1311\n"
     ]
    },
    {
     "name": "stderr",
     "output_type": "stream",
     "text": [
      "Processing: 100%|██████████| 150/150 [00:00<00:00, 151.14it/s]\n"
     ]
    },
    {
     "name": "stdout",
     "output_type": "stream",
     "text": [
      "Left: 0.00046365190194253003\n",
      "Right: -0.0003277379036021322\n",
      "Processing data 1316\n"
     ]
    },
    {
     "name": "stderr",
     "output_type": "stream",
     "text": [
      "Processing: 100%|██████████| 150/150 [00:01<00:00, 118.04it/s]\n"
     ]
    },
    {
     "name": "stdout",
     "output_type": "stream",
     "text": [
      "Left: 0.09608492305559874\n",
      "Right: -0.04508529261971128\n",
      "Processing data 1317\n"
     ]
    },
    {
     "name": "stderr",
     "output_type": "stream",
     "text": [
      "Processing: 100%|██████████| 150/150 [00:02<00:00, 51.61it/s]\n"
     ]
    },
    {
     "name": "stdout",
     "output_type": "stream",
     "text": [
      "Left: 0.00019193841108350318\n",
      "Right: 0.09917472952053549\n",
      "Processing data 1319\n"
     ]
    },
    {
     "name": "stderr",
     "output_type": "stream",
     "text": [
      "Processing: 100%|██████████| 180/180 [00:08<00:00, 20.54it/s]\n"
     ]
    },
    {
     "name": "stdout",
     "output_type": "stream",
     "text": [
      "Left: -0.01858884993952503\n",
      "Right: -0.3493946565553265\n",
      "Processing data 1320\n"
     ]
    },
    {
     "name": "stderr",
     "output_type": "stream",
     "text": [
      "Processing: 100%|██████████| 150/150 [00:03<00:00, 38.42it/s]\n"
     ]
    },
    {
     "name": "stdout",
     "output_type": "stream",
     "text": [
      "Left: 0.3050812518375231\n",
      "Right: 0.021114402408450528\n",
      "Processing data 1325\n"
     ]
    },
    {
     "name": "stderr",
     "output_type": "stream",
     "text": [
      "Processing: 100%|██████████| 150/150 [00:03<00:00, 44.50it/s]\n"
     ]
    },
    {
     "name": "stdout",
     "output_type": "stream",
     "text": [
      "Left: 0.6333336200088602\n",
      "Right: 0.028995701002482138\n",
      "Processing data 1328\n"
     ]
    },
    {
     "name": "stderr",
     "output_type": "stream",
     "text": [
      "Processing: 100%|██████████| 150/150 [00:00<00:00, 235.86it/s]\n"
     ]
    },
    {
     "name": "stdout",
     "output_type": "stream",
     "text": [
      "Left: 0.024989229982917194\n",
      "Right: 0.05579036010451588\n",
      "Processing data 1332\n"
     ]
    },
    {
     "name": "stderr",
     "output_type": "stream",
     "text": [
      "Processing: 100%|██████████| 150/150 [00:00<00:00, 391.78it/s]\n"
     ]
    },
    {
     "name": "stdout",
     "output_type": "stream",
     "text": [
      "Left: 0.7922652818103372\n",
      "Right: 0.005960247273128673\n",
      "Processing data 1333\n"
     ]
    },
    {
     "name": "stderr",
     "output_type": "stream",
     "text": [
      "Processing: 100%|██████████| 150/150 [00:00<00:00, 456.59it/s]\n"
     ]
    },
    {
     "name": "stdout",
     "output_type": "stream",
     "text": [
      "Left: 0.8540547657241053\n",
      "Right: 0.027931025785086543\n",
      "Processing data 1335\n"
     ]
    },
    {
     "name": "stderr",
     "output_type": "stream",
     "text": [
      "Processing: 100%|██████████| 60/60 [00:00<00:00, 321.52it/s]\n"
     ]
    },
    {
     "name": "stdout",
     "output_type": "stream",
     "text": [
      "Left: 0.3327226200342967\n",
      "Right: 0.4703028437827934\n",
      "Processing data 1336\n"
     ]
    },
    {
     "name": "stderr",
     "output_type": "stream",
     "text": [
      "Processing: 100%|██████████| 150/150 [00:00<00:00, 192.02it/s]\n"
     ]
    },
    {
     "name": "stdout",
     "output_type": "stream",
     "text": [
      "Left: -0.0005286884286134687\n",
      "Right: 0.42556980208563316\n",
      "Processing data 1337\n"
     ]
    },
    {
     "name": "stderr",
     "output_type": "stream",
     "text": [
      "Processing: 100%|██████████| 180/180 [00:00<00:00, 208.54it/s]\n"
     ]
    },
    {
     "name": "stdout",
     "output_type": "stream",
     "text": [
      "Left: 1.3616949626760189e-05\n",
      "Right: 0.02523284412335569\n",
      "Processing data 1347\n"
     ]
    },
    {
     "name": "stderr",
     "output_type": "stream",
     "text": [
      "Processing: 100%|██████████| 150/150 [00:00<00:00, 355.06it/s]\n"
     ]
    },
    {
     "name": "stdout",
     "output_type": "stream",
     "text": [
      "Left: 0.2498402622694197\n",
      "Right: 0.15654956973100348\n",
      "Processing data 1348\n"
     ]
    },
    {
     "name": "stderr",
     "output_type": "stream",
     "text": [
      "Processing: 100%|██████████| 150/150 [00:00<00:00, 194.82it/s]\n"
     ]
    },
    {
     "name": "stdout",
     "output_type": "stream",
     "text": [
      "Left: -0.01791027777831522\n",
      "Right: -0.0002549166325320207\n",
      "Processing data 1349\n"
     ]
    },
    {
     "name": "stderr",
     "output_type": "stream",
     "text": [
      "Processing: 100%|██████████| 330/330 [00:02<00:00, 147.63it/s]\n"
     ]
    },
    {
     "name": "stdout",
     "output_type": "stream",
     "text": [
      "Left: 0.2851209396741998\n",
      "Right: 0.33720590568697584\n",
      "Processing data 1355\n"
     ]
    },
    {
     "name": "stderr",
     "output_type": "stream",
     "text": [
      "Processing: 100%|██████████| 150/150 [00:00<00:00, 202.45it/s]\n"
     ]
    },
    {
     "name": "stdout",
     "output_type": "stream",
     "text": [
      "Left: -0.039932462435387284\n",
      "Right: 0.02272957675664866\n",
      "Processing data 1356\n"
     ]
    },
    {
     "name": "stderr",
     "output_type": "stream",
     "text": [
      "Processing: 100%|██████████| 150/150 [00:00<00:00, 201.35it/s]\n"
     ]
    },
    {
     "name": "stdout",
     "output_type": "stream",
     "text": [
      "Left: -0.02973675392955949\n",
      "Right: -0.00019037725600473676\n",
      "Processing data 1358\n"
     ]
    },
    {
     "name": "stderr",
     "output_type": "stream",
     "text": [
      "Processing: 100%|██████████| 90/90 [00:00<00:00, 136.26it/s]\n"
     ]
    },
    {
     "name": "stdout",
     "output_type": "stream",
     "text": [
      "Left: 0.0008126854332002817\n",
      "Right: 0.11407453452951205\n",
      "Processing data 1360\n"
     ]
    },
    {
     "name": "stderr",
     "output_type": "stream",
     "text": [
      "Processing: 100%|██████████| 150/150 [00:03<00:00, 49.35it/s] \n"
     ]
    },
    {
     "name": "stdout",
     "output_type": "stream",
     "text": [
      "Left: 0.032314292741747186\n",
      "Right: -0.024493229609494183\n",
      "Processing data 1364\n"
     ]
    },
    {
     "name": "stderr",
     "output_type": "stream",
     "text": [
      "Processing: 100%|██████████| 90/90 [00:00<00:00, 410.53it/s]\n"
     ]
    },
    {
     "name": "stdout",
     "output_type": "stream",
     "text": [
      "Left: 8.407372819110859e-07\n",
      "Right: 0.07643555155138076\n",
      "Processing data 1365\n"
     ]
    },
    {
     "name": "stderr",
     "output_type": "stream",
     "text": [
      "Processing: 100%|██████████| 150/150 [00:00<00:00, 206.70it/s]\n"
     ]
    },
    {
     "name": "stdout",
     "output_type": "stream",
     "text": [
      "Left: 0.49067943002635966\n",
      "Right: 0.0003062144479826969\n",
      "Processing data 1372\n"
     ]
    },
    {
     "name": "stderr",
     "output_type": "stream",
     "text": [
      "Processing: 100%|██████████| 150/150 [00:00<00:00, 221.72it/s]\n"
     ]
    },
    {
     "name": "stdout",
     "output_type": "stream",
     "text": [
      "Left: -8.036021350577016e-07\n",
      "Right: 0.01333688266014843\n",
      "Processing data 1374\n"
     ]
    },
    {
     "name": "stderr",
     "output_type": "stream",
     "text": [
      "Processing: 100%|██████████| 150/150 [00:02<00:00, 57.24it/s] \n"
     ]
    },
    {
     "name": "stdout",
     "output_type": "stream",
     "text": [
      "Left: 0.4379762150876064\n",
      "Right: -0.00037512299944347793\n",
      "Processing data 1376\n"
     ]
    },
    {
     "name": "stderr",
     "output_type": "stream",
     "text": [
      "Processing: 100%|██████████| 150/150 [00:05<00:00, 29.62it/s]\n"
     ]
    },
    {
     "name": "stdout",
     "output_type": "stream",
     "text": [
      "Left: -0.0006176333632658682\n",
      "Right: 0.14242795557910076\n",
      "Processing data 1379\n"
     ]
    },
    {
     "name": "stderr",
     "output_type": "stream",
     "text": [
      "Processing: 100%|██████████| 150/150 [00:02<00:00, 74.78it/s] \n"
     ]
    },
    {
     "name": "stdout",
     "output_type": "stream",
     "text": [
      "Left: 0.062109682616473205\n",
      "Right: 0.019754919938525406\n",
      "Processing data 1380\n"
     ]
    },
    {
     "name": "stderr",
     "output_type": "stream",
     "text": [
      "Processing: 100%|██████████| 180/180 [00:01<00:00, 106.72it/s]\n"
     ]
    },
    {
     "name": "stdout",
     "output_type": "stream",
     "text": [
      "Left: 7.948128355828032e-05\n",
      "Right: 0.000630702926224469\n",
      "Processing data 1382\n"
     ]
    },
    {
     "name": "stderr",
     "output_type": "stream",
     "text": [
      "Processing: 100%|██████████| 150/150 [00:00<00:00, 594.12it/s]\n"
     ]
    },
    {
     "name": "stdout",
     "output_type": "stream",
     "text": [
      "Left: -0.02083095680673075\n",
      "Right: 0.03505261799542503\n",
      "Processing data 1384\n"
     ]
    },
    {
     "name": "stderr",
     "output_type": "stream",
     "text": [
      "Processing: 100%|██████████| 60/60 [00:00<00:00, 205.06it/s]\n"
     ]
    },
    {
     "name": "stdout",
     "output_type": "stream",
     "text": [
      "Left: 0.000500947433259588\n",
      "Right: 0.37102768104901285\n",
      "Processing data 1386\n"
     ]
    },
    {
     "name": "stderr",
     "output_type": "stream",
     "text": [
      "Processing: 100%|██████████| 150/150 [00:00<00:00, 531.26it/s]\n"
     ]
    },
    {
     "name": "stdout",
     "output_type": "stream",
     "text": [
      "Left: -0.0006455151471868074\n",
      "Right: 0.2439896588659527\n",
      "Processing data 1389\n"
     ]
    },
    {
     "name": "stderr",
     "output_type": "stream",
     "text": [
      "Processing: 100%|██████████| 180/180 [00:02<00:00, 64.29it/s]\n"
     ]
    },
    {
     "name": "stdout",
     "output_type": "stream",
     "text": [
      "Left: -0.05063216215684985\n",
      "Right: -0.00648307323922237\n",
      "Processing data 1392\n"
     ]
    },
    {
     "name": "stderr",
     "output_type": "stream",
     "text": [
      "Processing: 100%|██████████| 150/150 [00:00<00:00, 319.87it/s]\n"
     ]
    },
    {
     "name": "stdout",
     "output_type": "stream",
     "text": [
      "Left: -0.020767906399643987\n",
      "Right: -5.29729692277936e-07\n",
      "Processing data 1394\n"
     ]
    },
    {
     "name": "stderr",
     "output_type": "stream",
     "text": [
      "Processing: 100%|██████████| 150/150 [00:00<00:00, 450.66it/s]\n"
     ]
    },
    {
     "name": "stdout",
     "output_type": "stream",
     "text": [
      "Left: -0.003273303421586382\n",
      "Right: 1.3975930399923175e-06\n",
      "Processing data 1398\n"
     ]
    },
    {
     "name": "stderr",
     "output_type": "stream",
     "text": [
      "Processing: 100%|██████████| 150/150 [00:00<00:00, 179.96it/s]\n"
     ]
    },
    {
     "name": "stdout",
     "output_type": "stream",
     "text": [
      "Left: 0.0013261988156258678\n",
      "Right: 0.31620046053676937\n",
      "Processing data 1403\n"
     ]
    },
    {
     "name": "stderr",
     "output_type": "stream",
     "text": [
      "Processing: 100%|██████████| 120/120 [00:00<00:00, 241.72it/s]\n"
     ]
    },
    {
     "name": "stdout",
     "output_type": "stream",
     "text": [
      "Left: 0.3140973265620697\n",
      "Right: 0.043530075999515805\n",
      "Processing data 1405\n"
     ]
    },
    {
     "name": "stderr",
     "output_type": "stream",
     "text": [
      "Processing: 100%|██████████| 150/150 [00:00<00:00, 522.51it/s]\n"
     ]
    },
    {
     "name": "stdout",
     "output_type": "stream",
     "text": [
      "Left: -0.0019686355322218185\n",
      "Right: -4.204177707772816e-07\n",
      "Processing data 1409\n"
     ]
    },
    {
     "name": "stderr",
     "output_type": "stream",
     "text": [
      "Processing: 100%|██████████| 150/150 [00:00<00:00, 263.37it/s]\n"
     ]
    },
    {
     "name": "stdout",
     "output_type": "stream",
     "text": [
      "Left: 0.38728406804753934\n",
      "Right: 0.00500590669419565\n",
      "Processing data 1410\n"
     ]
    },
    {
     "name": "stderr",
     "output_type": "stream",
     "text": [
      "Processing: 100%|██████████| 150/150 [00:02<00:00, 67.06it/s]\n"
     ]
    },
    {
     "name": "stdout",
     "output_type": "stream",
     "text": [
      "Left: 0.021841930589392988\n",
      "Right: -0.052585989319288484\n",
      "Processing data 1418\n"
     ]
    },
    {
     "name": "stderr",
     "output_type": "stream",
     "text": [
      "Processing: 100%|██████████| 150/150 [00:00<00:00, 416.19it/s]\n"
     ]
    },
    {
     "name": "stdout",
     "output_type": "stream",
     "text": [
      "Left: -0.01906108833470499\n",
      "Right: 6.4363886803642245e-06\n",
      "Processing data 1420\n"
     ]
    },
    {
     "name": "stderr",
     "output_type": "stream",
     "text": [
      "Processing: 100%|██████████| 150/150 [00:00<00:00, 175.76it/s]\n"
     ]
    },
    {
     "name": "stdout",
     "output_type": "stream",
     "text": [
      "Left: 0.4290844663223889\n",
      "Right: 0.000216597073475943\n",
      "Processing data 1421\n"
     ]
    },
    {
     "name": "stderr",
     "output_type": "stream",
     "text": [
      "Processing: 100%|██████████| 150/150 [00:00<00:00, 163.03it/s]\n"
     ]
    },
    {
     "name": "stdout",
     "output_type": "stream",
     "text": [
      "Left: 0.06463731495432873\n",
      "Right: 0.00017713045850203946\n",
      "Processing data 1422\n"
     ]
    },
    {
     "name": "stderr",
     "output_type": "stream",
     "text": [
      "Processing: 100%|██████████| 150/150 [00:00<00:00, 370.12it/s]\n"
     ]
    },
    {
     "name": "stdout",
     "output_type": "stream",
     "text": [
      "Left: -0.0017192457444266118\n",
      "Right: 0.0613494898350595\n",
      "Processing data 1423\n"
     ]
    },
    {
     "name": "stderr",
     "output_type": "stream",
     "text": [
      "Processing: 100%|██████████| 150/150 [00:00<00:00, 180.56it/s]\n"
     ]
    },
    {
     "name": "stdout",
     "output_type": "stream",
     "text": [
      "Left: -0.009496113898096459\n",
      "Right: -0.042725121326017135\n",
      "Processing data 1425\n"
     ]
    },
    {
     "name": "stderr",
     "output_type": "stream",
     "text": [
      "Processing: 100%|██████████| 150/150 [00:06<00:00, 22.47it/s]\n"
     ]
    },
    {
     "name": "stdout",
     "output_type": "stream",
     "text": [
      "Left: -0.47932431658318014\n",
      "Right: -0.006245686016972174\n",
      "Processing data 1426\n"
     ]
    },
    {
     "name": "stderr",
     "output_type": "stream",
     "text": [
      "Processing: 100%|██████████| 150/150 [00:02<00:00, 50.29it/s]\n"
     ]
    },
    {
     "name": "stdout",
     "output_type": "stream",
     "text": [
      "Left: 0.16832671043558733\n",
      "Right: -0.09284500686728148\n",
      "Processing data 1427\n"
     ]
    },
    {
     "name": "stderr",
     "output_type": "stream",
     "text": [
      "Processing: 100%|██████████| 150/150 [00:03<00:00, 46.26it/s]\n"
     ]
    },
    {
     "name": "stdout",
     "output_type": "stream",
     "text": [
      "Left: -0.09034876997181196\n",
      "Right: 0.00910664175164727\n",
      "Processing data 1428\n"
     ]
    },
    {
     "name": "stderr",
     "output_type": "stream",
     "text": [
      "Processing: 100%|██████████| 150/150 [00:04<00:00, 33.16it/s]\n"
     ]
    },
    {
     "name": "stdout",
     "output_type": "stream",
     "text": [
      "Left: 0.1477373967708857\n",
      "Right: -0.17404142053713223\n",
      "Processing data 1429\n"
     ]
    },
    {
     "name": "stderr",
     "output_type": "stream",
     "text": [
      "Processing: 100%|██████████| 150/150 [00:02<00:00, 51.61it/s]\n"
     ]
    },
    {
     "name": "stdout",
     "output_type": "stream",
     "text": [
      "Left: 1.0387424713053511e-05\n",
      "Right: 0.047315910444388654\n",
      "Processing data 1434\n"
     ]
    },
    {
     "name": "stderr",
     "output_type": "stream",
     "text": [
      "Processing: 100%|██████████| 150/150 [00:00<00:00, 523.87it/s]\n"
     ]
    },
    {
     "name": "stdout",
     "output_type": "stream",
     "text": [
      "Left: 0.6803180519212324\n",
      "Right: 0.02102170089088307\n",
      "Processing data 1435\n"
     ]
    },
    {
     "name": "stderr",
     "output_type": "stream",
     "text": [
      "Processing: 100%|██████████| 180/180 [00:00<00:00, 531.22it/s]\n"
     ]
    },
    {
     "name": "stdout",
     "output_type": "stream",
     "text": [
      "Left: 0.260610357114182\n",
      "Right: 0.060640645362055594\n",
      "Processing data 1437\n"
     ]
    },
    {
     "name": "stderr",
     "output_type": "stream",
     "text": [
      "Processing: 100%|██████████| 150/150 [00:00<00:00, 457.61it/s]\n"
     ]
    },
    {
     "name": "stdout",
     "output_type": "stream",
     "text": [
      "Left: -1.7362988230344711e-07\n",
      "Right: -0.04347186810916587\n",
      "Processing data 1440\n"
     ]
    },
    {
     "name": "stderr",
     "output_type": "stream",
     "text": [
      "Processing: 100%|██████████| 150/150 [00:00<00:00, 188.23it/s]\n"
     ]
    },
    {
     "name": "stdout",
     "output_type": "stream",
     "text": [
      "Left: 0.41956743665107477\n",
      "Right: 0.0022582301985826676\n",
      "Processing data 1442\n"
     ]
    },
    {
     "name": "stderr",
     "output_type": "stream",
     "text": [
      "Processing: 100%|██████████| 120/120 [00:00<00:00, 225.35it/s]\n"
     ]
    },
    {
     "name": "stdout",
     "output_type": "stream",
     "text": [
      "Left: 0.4767173632911081\n",
      "Right: -0.002631742606355264\n",
      "Processing data 1444\n"
     ]
    },
    {
     "name": "stderr",
     "output_type": "stream",
     "text": [
      "Processing: 100%|██████████| 150/150 [00:00<00:00, 362.13it/s]\n"
     ]
    },
    {
     "name": "stdout",
     "output_type": "stream",
     "text": [
      "Left: 0.2709760731429055\n",
      "Right: 0.33665572228682145\n",
      "Processing data 1445\n"
     ]
    },
    {
     "name": "stderr",
     "output_type": "stream",
     "text": [
      "Processing: 100%|██████████| 120/120 [00:00<00:00, 155.72it/s]\n"
     ]
    },
    {
     "name": "stdout",
     "output_type": "stream",
     "text": [
      "Left: 0.4708533153626686\n",
      "Right: 0.002604757768586763\n",
      "Processing data 1447\n"
     ]
    },
    {
     "name": "stderr",
     "output_type": "stream",
     "text": [
      "Processing: 100%|██████████| 150/150 [00:02<00:00, 54.95it/s]\n"
     ]
    },
    {
     "name": "stdout",
     "output_type": "stream",
     "text": [
      "Left: 0.007078823873442053\n",
      "Right: 0.01825870743262703\n",
      "Processing data 1448\n"
     ]
    },
    {
     "name": "stderr",
     "output_type": "stream",
     "text": [
      "Processing: 100%|██████████| 60/60 [00:00<00:00, 96.62it/s] \n"
     ]
    },
    {
     "name": "stdout",
     "output_type": "stream",
     "text": [
      "Left: 0.04031370439901111\n",
      "Right: -0.0015896251756176427\n",
      "Processing data 1450\n"
     ]
    },
    {
     "name": "stderr",
     "output_type": "stream",
     "text": [
      "Processing: 100%|██████████| 150/150 [00:01<00:00, 97.67it/s] \n"
     ]
    },
    {
     "name": "stdout",
     "output_type": "stream",
     "text": [
      "Left: 0.1005635517182154\n",
      "Right: 0.462058783867609\n",
      "Processing data 1452\n"
     ]
    },
    {
     "name": "stderr",
     "output_type": "stream",
     "text": [
      "Processing: 100%|██████████| 150/150 [00:01<00:00, 113.78it/s]\n"
     ]
    },
    {
     "name": "stdout",
     "output_type": "stream",
     "text": [
      "Left: 0.00018745049345833542\n",
      "Right: 0.04975188963576416\n",
      "Processing data 1455\n"
     ]
    },
    {
     "name": "stderr",
     "output_type": "stream",
     "text": [
      "Processing: 100%|██████████| 150/150 [00:00<00:00, 548.46it/s]\n"
     ]
    },
    {
     "name": "stdout",
     "output_type": "stream",
     "text": [
      "Left: 0.08903560774704106\n",
      "Right: -0.0706266227408614\n",
      "Processing data 1460\n"
     ]
    },
    {
     "name": "stderr",
     "output_type": "stream",
     "text": [
      "Processing: 100%|██████████| 150/150 [00:00<00:00, 378.55it/s]\n"
     ]
    },
    {
     "name": "stdout",
     "output_type": "stream",
     "text": [
      "Left: 0.06095530958091766\n",
      "Right: 0.06146647202579392\n",
      "Processing data 1462\n"
     ]
    },
    {
     "name": "stderr",
     "output_type": "stream",
     "text": [
      "Processing: 100%|██████████| 180/180 [00:00<00:00, 217.76it/s]\n"
     ]
    },
    {
     "name": "stdout",
     "output_type": "stream",
     "text": [
      "Left: 0.4756635399728299\n",
      "Right: -0.012500792992518772\n",
      "Processing data 1465\n"
     ]
    },
    {
     "name": "stderr",
     "output_type": "stream",
     "text": [
      "Processing: 100%|██████████| 150/150 [00:01<00:00, 110.72it/s]\n"
     ]
    },
    {
     "name": "stdout",
     "output_type": "stream",
     "text": [
      "Left: -0.0009771141545711348\n",
      "Right: 0.12059068736788159\n",
      "Processing data 1466\n"
     ]
    },
    {
     "name": "stderr",
     "output_type": "stream",
     "text": [
      "Processing: 100%|██████████| 120/120 [00:00<00:00, 496.79it/s]\n"
     ]
    },
    {
     "name": "stdout",
     "output_type": "stream",
     "text": [
      "Left: 0.009711023116862783\n",
      "Right: 3.2896507765750593e-07\n",
      "Processing data 1468\n"
     ]
    },
    {
     "name": "stderr",
     "output_type": "stream",
     "text": [
      "Processing: 100%|██████████| 150/150 [00:04<00:00, 36.33it/s] \n"
     ]
    },
    {
     "name": "stdout",
     "output_type": "stream",
     "text": [
      "Left: 0.3165226291613654\n",
      "Right: 0.0013101523714558194\n",
      "Processing data 1472\n"
     ]
    },
    {
     "name": "stderr",
     "output_type": "stream",
     "text": [
      "Processing: 100%|██████████| 150/150 [00:00<00:00, 257.70it/s]\n"
     ]
    },
    {
     "name": "stdout",
     "output_type": "stream",
     "text": [
      "Left: -0.031233703134807222\n",
      "Right: 0.0009559485168725498\n",
      "Processing data 1473\n"
     ]
    },
    {
     "name": "stderr",
     "output_type": "stream",
     "text": [
      "Processing: 100%|██████████| 30/30 [00:00<00:00, 147.08it/s]\n"
     ]
    },
    {
     "name": "stdout",
     "output_type": "stream",
     "text": [
      "Left: 0.3020690468251675\n",
      "Right: 0.0035128718440106625\n",
      "Processing data 1477\n"
     ]
    },
    {
     "name": "stderr",
     "output_type": "stream",
     "text": [
      "Processing: 100%|██████████| 60/60 [00:00<00:00, 339.74it/s]\n"
     ]
    },
    {
     "name": "stdout",
     "output_type": "stream",
     "text": [
      "Left: 0.38832984994433434\n",
      "Right: -0.01090658847281989\n",
      "Processing data 1479\n"
     ]
    },
    {
     "name": "stderr",
     "output_type": "stream",
     "text": [
      "Processing: 100%|██████████| 150/150 [00:02<00:00, 63.22it/s] \n"
     ]
    },
    {
     "name": "stdout",
     "output_type": "stream",
     "text": [
      "Left: -0.10591467898282825\n",
      "Right: 0.0005819748123210844\n",
      "Processing data 1480\n"
     ]
    },
    {
     "name": "stderr",
     "output_type": "stream",
     "text": [
      "Processing: 100%|██████████| 120/120 [00:02<00:00, 53.56it/s]\n"
     ]
    },
    {
     "name": "stdout",
     "output_type": "stream",
     "text": [
      "Left: -0.011247998049526253\n",
      "Right: -0.00014981025162949524\n",
      "Processing data 1483\n"
     ]
    },
    {
     "name": "stderr",
     "output_type": "stream",
     "text": [
      "Processing: 100%|██████████| 150/150 [00:00<00:00, 214.35it/s]\n"
     ]
    },
    {
     "name": "stdout",
     "output_type": "stream",
     "text": [
      "Left: 0.0001743157864847189\n",
      "Right: -0.10059041930394214\n",
      "Processing data 1484\n"
     ]
    },
    {
     "name": "stderr",
     "output_type": "stream",
     "text": [
      "Processing: 100%|██████████| 150/150 [00:00<00:00, 452.57it/s]\n"
     ]
    },
    {
     "name": "stdout",
     "output_type": "stream",
     "text": [
      "Left: 1.180221118249336e-05\n",
      "Right: 0.0038370360975799045\n",
      "Processing data 1485\n"
     ]
    },
    {
     "name": "stderr",
     "output_type": "stream",
     "text": [
      "Processing: 100%|██████████| 120/120 [00:00<00:00, 200.24it/s]\n"
     ]
    },
    {
     "name": "stdout",
     "output_type": "stream",
     "text": [
      "Left: -0.03278421137688242\n",
      "Right: 0.022575503584740975\n",
      "Processing data 1487\n"
     ]
    },
    {
     "name": "stderr",
     "output_type": "stream",
     "text": [
      "Processing: 100%|██████████| 150/150 [00:01<00:00, 94.64it/s] \n"
     ]
    },
    {
     "name": "stdout",
     "output_type": "stream",
     "text": [
      "Left: -0.012049617102258825\n",
      "Right: 0.013998804201304726\n",
      "Processing data 1488\n"
     ]
    },
    {
     "name": "stderr",
     "output_type": "stream",
     "text": [
      "Processing: 100%|██████████| 150/150 [00:03<00:00, 45.10it/s]\n"
     ]
    },
    {
     "name": "stdout",
     "output_type": "stream",
     "text": [
      "Left: 0.42655711684173975\n",
      "Right: 0.2126681171182293\n",
      "Processing data 1490\n"
     ]
    },
    {
     "name": "stderr",
     "output_type": "stream",
     "text": [
      "Processing: 100%|██████████| 150/150 [00:00<00:00, 155.04it/s]\n"
     ]
    },
    {
     "name": "stdout",
     "output_type": "stream",
     "text": [
      "Left: -0.00016622776127493731\n",
      "Right: 0.3623260178663971\n",
      "Processing data 1500\n"
     ]
    },
    {
     "name": "stderr",
     "output_type": "stream",
     "text": [
      "Processing: 100%|██████████| 60/60 [00:00<00:00, 356.17it/s]\n"
     ]
    },
    {
     "name": "stdout",
     "output_type": "stream",
     "text": [
      "Left: 0.0008474276078245802\n",
      "Right: -1.0082140636039072e-06\n",
      "Processing data 1501\n"
     ]
    },
    {
     "name": "stderr",
     "output_type": "stream",
     "text": [
      "Processing: 100%|██████████| 150/150 [00:00<00:00, 402.15it/s]\n"
     ]
    },
    {
     "name": "stdout",
     "output_type": "stream",
     "text": [
      "Left: 0.00010379107200978333\n",
      "Right: 0.28795956127149736\n",
      "Processing data 1505\n"
     ]
    },
    {
     "name": "stderr",
     "output_type": "stream",
     "text": [
      "Processing: 100%|██████████| 150/150 [00:06<00:00, 24.39it/s]\n"
     ]
    },
    {
     "name": "stdout",
     "output_type": "stream",
     "text": [
      "Left: 0.5274095678147956\n",
      "Right: 0.3018674800789821\n",
      "Processing data 1506\n"
     ]
    },
    {
     "name": "stderr",
     "output_type": "stream",
     "text": [
      "Processing: 100%|██████████| 150/150 [00:00<00:00, 265.61it/s]\n"
     ]
    },
    {
     "name": "stdout",
     "output_type": "stream",
     "text": [
      "Left: 0.45326505360392216\n",
      "Right: 0.5976162006950593\n",
      "Processing data 1508\n"
     ]
    },
    {
     "name": "stderr",
     "output_type": "stream",
     "text": [
      "Processing: 100%|██████████| 150/150 [00:03<00:00, 40.22it/s]\n"
     ]
    },
    {
     "name": "stdout",
     "output_type": "stream",
     "text": [
      "Left: 0.5635599530318223\n",
      "Right: 0.00788836698317713\n",
      "Processing data 1511\n"
     ]
    },
    {
     "name": "stderr",
     "output_type": "stream",
     "text": [
      "Processing: 100%|██████████| 60/60 [00:00<00:00, 246.70it/s]\n"
     ]
    },
    {
     "name": "stdout",
     "output_type": "stream",
     "text": [
      "Left: 0.6812670051409273\n",
      "Right: 0.002301606030791001\n",
      "Processing data 1513\n"
     ]
    },
    {
     "name": "stderr",
     "output_type": "stream",
     "text": [
      "Processing: 100%|██████████| 150/150 [00:01<00:00, 106.05it/s]\n"
     ]
    },
    {
     "name": "stdout",
     "output_type": "stream",
     "text": [
      "Left: 0.06352955010201833\n",
      "Right: -0.00011964380132753472\n",
      "Processing data 1514\n"
     ]
    },
    {
     "name": "stderr",
     "output_type": "stream",
     "text": [
      "Processing: 100%|██████████| 150/150 [00:01<00:00, 143.33it/s]\n"
     ]
    },
    {
     "name": "stdout",
     "output_type": "stream",
     "text": [
      "Left: -0.02252161578100309\n",
      "Right: 0.01102140432327342\n",
      "Processing data 1515\n"
     ]
    },
    {
     "name": "stderr",
     "output_type": "stream",
     "text": [
      "Processing: 100%|██████████| 150/150 [00:00<00:00, 289.33it/s]\n"
     ]
    },
    {
     "name": "stdout",
     "output_type": "stream",
     "text": [
      "Left: -0.0038642149985705435\n",
      "Right: 0.037543928620494826\n",
      "Processing data 1516\n"
     ]
    },
    {
     "name": "stderr",
     "output_type": "stream",
     "text": [
      "Processing: 100%|██████████| 150/150 [00:00<00:00, 219.48it/s]\n"
     ]
    },
    {
     "name": "stdout",
     "output_type": "stream",
     "text": [
      "Left: 0.000522405623435529\n",
      "Right: -0.02379027297107994\n",
      "Processing data 1526\n"
     ]
    },
    {
     "name": "stderr",
     "output_type": "stream",
     "text": [
      "Processing: 100%|██████████| 150/150 [00:00<00:00, 225.40it/s]\n"
     ]
    },
    {
     "name": "stdout",
     "output_type": "stream",
     "text": [
      "Left: 0.30733840338530705\n",
      "Right: 0.008646361209484116\n",
      "Processing data 1528\n"
     ]
    },
    {
     "name": "stderr",
     "output_type": "stream",
     "text": [
      "Processing: 100%|██████████| 60/60 [00:01<00:00, 41.90it/s]\n"
     ]
    },
    {
     "name": "stdout",
     "output_type": "stream",
     "text": [
      "Left: -0.0795858237875865\n",
      "Right: 0.0012617064252208876\n",
      "Processing data 1541\n"
     ]
    },
    {
     "name": "stderr",
     "output_type": "stream",
     "text": [
      "Processing: 100%|██████████| 150/150 [00:05<00:00, 25.14it/s]\n"
     ]
    },
    {
     "name": "stdout",
     "output_type": "stream",
     "text": [
      "Left: 0.282709351668034\n",
      "Right: -0.03253620327604129\n",
      "Processing data 1544\n"
     ]
    },
    {
     "name": "stderr",
     "output_type": "stream",
     "text": [
      "Processing: 100%|██████████| 150/150 [00:00<00:00, 654.07it/s]\n"
     ]
    },
    {
     "name": "stdout",
     "output_type": "stream",
     "text": [
      "Left: 0.2847937553644824\n",
      "Right: -0.021970227739871062\n",
      "Processing data 1546\n"
     ]
    },
    {
     "name": "stderr",
     "output_type": "stream",
     "text": [
      "Processing: 100%|██████████| 90/90 [00:00<00:00, 492.78it/s]\n"
     ]
    },
    {
     "name": "stdout",
     "output_type": "stream",
     "text": [
      "Left: -7.620413768755219e-08\n",
      "Right: -0.02115081757011028\n",
      "Processing data 1547\n"
     ]
    },
    {
     "name": "stderr",
     "output_type": "stream",
     "text": [
      "Processing: 100%|██████████| 150/150 [00:02<00:00, 61.94it/s]\n"
     ]
    },
    {
     "name": "stdout",
     "output_type": "stream",
     "text": [
      "Left: 0.9585295664314731\n",
      "Right: 0.9186731131348067\n",
      "Processing data 1548\n"
     ]
    },
    {
     "name": "stderr",
     "output_type": "stream",
     "text": [
      "Processing: 100%|██████████| 150/150 [00:09<00:00, 16.48it/s]\n"
     ]
    },
    {
     "name": "stdout",
     "output_type": "stream",
     "text": [
      "Left: 0.6411949982585752\n",
      "Right: 0.4761099365475541\n",
      "Processing data 1551\n"
     ]
    },
    {
     "name": "stderr",
     "output_type": "stream",
     "text": [
      "Processing: 100%|██████████| 150/150 [00:03<00:00, 40.92it/s]\n"
     ]
    },
    {
     "name": "stdout",
     "output_type": "stream",
     "text": [
      "Left: -0.1378182715303488\n",
      "Right: 0.0014301202778560645\n",
      "Processing data 1552\n"
     ]
    },
    {
     "name": "stderr",
     "output_type": "stream",
     "text": [
      "Processing: 100%|██████████| 150/150 [00:00<00:00, 472.59it/s]\n"
     ]
    },
    {
     "name": "stdout",
     "output_type": "stream",
     "text": [
      "Left: 0.8346778356894122\n",
      "Right: -0.002831742937525014\n",
      "Processing data 1560\n"
     ]
    },
    {
     "name": "stderr",
     "output_type": "stream",
     "text": [
      "Processing: 100%|██████████| 150/150 [00:03<00:00, 42.52it/s]\n"
     ]
    },
    {
     "name": "stdout",
     "output_type": "stream",
     "text": [
      "Left: -0.05292707506900496\n",
      "Right: -0.029501747116061003\n",
      "Processing data 1563\n"
     ]
    },
    {
     "name": "stderr",
     "output_type": "stream",
     "text": [
      "Processing: 100%|██████████| 150/150 [00:00<00:00, 195.22it/s]\n"
     ]
    },
    {
     "name": "stdout",
     "output_type": "stream",
     "text": [
      "Left: -0.0027770219703522336\n",
      "Right: -0.00478328029234848\n",
      "Processing data 1564\n"
     ]
    },
    {
     "name": "stderr",
     "output_type": "stream",
     "text": [
      "Processing: 100%|██████████| 150/150 [00:00<00:00, 194.83it/s]\n"
     ]
    },
    {
     "name": "stdout",
     "output_type": "stream",
     "text": [
      "Left: -0.03607522443945255\n",
      "Right: -0.0005062622288834473\n",
      "Processing data 1567\n"
     ]
    },
    {
     "name": "stderr",
     "output_type": "stream",
     "text": [
      "Processing: 100%|██████████| 60/60 [00:00<00:00, 224.17it/s]\n"
     ]
    },
    {
     "name": "stdout",
     "output_type": "stream",
     "text": [
      "Left: -0.0006635129446723453\n",
      "Right: 0.5819866601111889\n",
      "Processing data 1568\n"
     ]
    },
    {
     "name": "stderr",
     "output_type": "stream",
     "text": [
      "Processing: 100%|██████████| 150/150 [00:01<00:00, 114.69it/s]\n"
     ]
    },
    {
     "name": "stdout",
     "output_type": "stream",
     "text": [
      "Left: 0.42949854964058487\n",
      "Right: 0.0003315095412804803\n",
      "Processing data 1573\n"
     ]
    },
    {
     "name": "stderr",
     "output_type": "stream",
     "text": [
      "Processing: 100%|██████████| 150/150 [00:02<00:00, 64.33it/s]\n"
     ]
    },
    {
     "name": "stdout",
     "output_type": "stream",
     "text": [
      "Left: 0.4614337612648732\n",
      "Right: 0.0019078550407385722\n",
      "Processing data 1577\n"
     ]
    },
    {
     "name": "stderr",
     "output_type": "stream",
     "text": [
      "Processing: 100%|██████████| 150/150 [00:01<00:00, 110.30it/s]\n"
     ]
    },
    {
     "name": "stdout",
     "output_type": "stream",
     "text": [
      "Left: 0.1595581690888\n",
      "Right: 0.09732377626878502\n",
      "Processing data 1578\n"
     ]
    },
    {
     "name": "stderr",
     "output_type": "stream",
     "text": [
      "Processing: 100%|██████████| 150/150 [00:01<00:00, 145.77it/s]\n"
     ]
    },
    {
     "name": "stdout",
     "output_type": "stream",
     "text": [
      "Left: 0.005880631333455982\n",
      "Right: 0.6932020919317086\n",
      "Processing data 1580\n"
     ]
    },
    {
     "name": "stderr",
     "output_type": "stream",
     "text": [
      "Processing: 100%|██████████| 150/150 [00:02<00:00, 54.84it/s]\n"
     ]
    },
    {
     "name": "stdout",
     "output_type": "stream",
     "text": [
      "Left: -0.004746603295826823\n",
      "Right: 0.6196080111481183\n",
      "Processing data 1581\n"
     ]
    },
    {
     "name": "stderr",
     "output_type": "stream",
     "text": [
      "Processing: 100%|██████████| 150/150 [00:04<00:00, 36.29it/s]\n"
     ]
    },
    {
     "name": "stdout",
     "output_type": "stream",
     "text": [
      "Left: -0.009444109919067911\n",
      "Right: 0.41626149416773695\n",
      "Processing data 1588\n"
     ]
    },
    {
     "name": "stderr",
     "output_type": "stream",
     "text": [
      "Processing: 100%|██████████| 150/150 [00:00<00:00, 387.27it/s]\n"
     ]
    },
    {
     "name": "stdout",
     "output_type": "stream",
     "text": [
      "Left: 0.015365320501802848\n",
      "Right: 0.7696390306492589\n",
      "Processing data 1589\n"
     ]
    },
    {
     "name": "stderr",
     "output_type": "stream",
     "text": [
      "Processing: 100%|██████████| 60/60 [00:00<00:00, 78.21it/s] \n"
     ]
    },
    {
     "name": "stdout",
     "output_type": "stream",
     "text": [
      "Left: 0.00010546669488920024\n",
      "Right: 0.42069972881160617\n",
      "Processing data 1597\n"
     ]
    },
    {
     "name": "stderr",
     "output_type": "stream",
     "text": [
      "Processing: 100%|██████████| 150/150 [00:02<00:00, 74.41it/s] \n"
     ]
    },
    {
     "name": "stdout",
     "output_type": "stream",
     "text": [
      "Left: 0.2850447717566355\n",
      "Right: 0.0010676662202304312\n",
      "Processing data 1607\n"
     ]
    },
    {
     "name": "stderr",
     "output_type": "stream",
     "text": [
      "Processing: 100%|██████████| 150/150 [00:04<00:00, 37.03it/s]\n"
     ]
    },
    {
     "name": "stdout",
     "output_type": "stream",
     "text": [
      "Left: 0.0005207805482155131\n",
      "Right: -0.19677160188373977\n",
      "Processing data 1608\n"
     ]
    },
    {
     "name": "stderr",
     "output_type": "stream",
     "text": [
      "Processing: 100%|██████████| 120/120 [00:00<00:00, 443.33it/s]\n"
     ]
    },
    {
     "name": "stdout",
     "output_type": "stream",
     "text": [
      "Left: 6.517672641870309e-08\n",
      "Right: -0.06738900072162723\n",
      "Processing data 1610\n"
     ]
    },
    {
     "name": "stderr",
     "output_type": "stream",
     "text": [
      "Processing: 100%|██████████| 150/150 [00:01<00:00, 126.55it/s]\n"
     ]
    },
    {
     "name": "stdout",
     "output_type": "stream",
     "text": [
      "Left: -0.07688422585271493\n",
      "Right: 0.0008704597407020176\n",
      "Processing data 1611\n"
     ]
    },
    {
     "name": "stderr",
     "output_type": "stream",
     "text": [
      "Processing: 100%|██████████| 150/150 [00:00<00:00, 195.65it/s]\n"
     ]
    },
    {
     "name": "stdout",
     "output_type": "stream",
     "text": [
      "Left: -0.0676723884228907\n",
      "Right: -1.0928809754853774e-05\n",
      "Processing data 1613\n"
     ]
    },
    {
     "name": "stderr",
     "output_type": "stream",
     "text": [
      "Processing: 100%|██████████| 150/150 [00:02<00:00, 64.32it/s] \n"
     ]
    },
    {
     "name": "stdout",
     "output_type": "stream",
     "text": [
      "Left: 0.33767103428078804\n",
      "Right: -0.004076534123193587\n",
      "Processing data 1616\n"
     ]
    },
    {
     "name": "stderr",
     "output_type": "stream",
     "text": [
      "Processing: 100%|██████████| 150/150 [00:00<00:00, 660.28it/s]\n"
     ]
    },
    {
     "name": "stdout",
     "output_type": "stream",
     "text": [
      "Left: 0.00931261348936313\n",
      "Right: 9.019302571883214e-07\n",
      "Processing data 1619\n"
     ]
    },
    {
     "name": "stderr",
     "output_type": "stream",
     "text": [
      "Processing: 100%|██████████| 150/150 [00:02<00:00, 55.63it/s]\n"
     ]
    },
    {
     "name": "stdout",
     "output_type": "stream",
     "text": [
      "Left: -0.005053758905142647\n",
      "Right: -0.029423542537147074\n",
      "Processing data 1620\n"
     ]
    },
    {
     "name": "stderr",
     "output_type": "stream",
     "text": [
      "Processing: 100%|██████████| 210/210 [00:00<00:00, 218.21it/s]\n"
     ]
    },
    {
     "name": "stdout",
     "output_type": "stream",
     "text": [
      "Left: 0.04217027567977549\n",
      "Right: 0.036673612602328265\n",
      "Processing data 1622\n"
     ]
    },
    {
     "name": "stderr",
     "output_type": "stream",
     "text": [
      "Processing: 100%|██████████| 150/150 [00:00<00:00, 729.72it/s]\n"
     ]
    },
    {
     "name": "stdout",
     "output_type": "stream",
     "text": [
      "Left: 0.326082237360921\n",
      "Right: 0.033474495639128354\n",
      "Processing data 1627\n"
     ]
    },
    {
     "name": "stderr",
     "output_type": "stream",
     "text": [
      "Processing: 100%|██████████| 150/150 [00:00<00:00, 417.88it/s]\n"
     ]
    },
    {
     "name": "stdout",
     "output_type": "stream",
     "text": [
      "Left: 0.4396273192221079\n",
      "Right: -0.0008453275085215893\n",
      "Processing data 1629\n"
     ]
    },
    {
     "name": "stderr",
     "output_type": "stream",
     "text": [
      "Processing: 100%|██████████| 60/60 [00:01<00:00, 39.56it/s]\n"
     ]
    },
    {
     "name": "stdout",
     "output_type": "stream",
     "text": [
      "Left: 0.004428335889373747\n",
      "Right: 0.3091702016205989\n",
      "Processing data 1632\n"
     ]
    },
    {
     "name": "stderr",
     "output_type": "stream",
     "text": [
      "Processing: 100%|██████████| 150/150 [00:01<00:00, 132.73it/s]\n"
     ]
    },
    {
     "name": "stdout",
     "output_type": "stream",
     "text": [
      "Left: -0.05468725258750473\n",
      "Right: -0.03383149960218185\n",
      "Processing data 1639\n"
     ]
    },
    {
     "name": "stderr",
     "output_type": "stream",
     "text": [
      "Processing: 100%|██████████| 150/150 [00:01<00:00, 140.72it/s]\n"
     ]
    },
    {
     "name": "stdout",
     "output_type": "stream",
     "text": [
      "Left: 0.28110648172674796\n",
      "Right: 0.40733977969775037\n",
      "Processing data 1641\n"
     ]
    },
    {
     "name": "stderr",
     "output_type": "stream",
     "text": [
      "Processing: 100%|██████████| 60/60 [00:01<00:00, 37.27it/s]\n"
     ]
    },
    {
     "name": "stdout",
     "output_type": "stream",
     "text": [
      "Left: 0.3218905141778766\n",
      "Right: 0.0033711236252744192\n",
      "Processing data 1643\n"
     ]
    },
    {
     "name": "stderr",
     "output_type": "stream",
     "text": [
      "Processing: 100%|██████████| 150/150 [00:02<00:00, 69.43it/s]\n"
     ]
    },
    {
     "name": "stdout",
     "output_type": "stream",
     "text": [
      "Left: 0.00029480880362685313\n",
      "Right: 0.19628198339243663\n",
      "Processing data 1647\n"
     ]
    },
    {
     "name": "stderr",
     "output_type": "stream",
     "text": [
      "Processing: 100%|██████████| 150/150 [00:00<00:00, 321.01it/s]\n"
     ]
    },
    {
     "name": "stdout",
     "output_type": "stream",
     "text": [
      "Left: 0.08337346500932763\n",
      "Right: -0.013015222688898459\n",
      "Processing data 1648\n"
     ]
    },
    {
     "name": "stderr",
     "output_type": "stream",
     "text": [
      "Processing: 100%|██████████| 90/90 [00:01<00:00, 85.02it/s] \n"
     ]
    },
    {
     "name": "stdout",
     "output_type": "stream",
     "text": [
      "Left: 0.520536975728402\n",
      "Right: 0.026848634754019635\n",
      "Processing data 1650\n"
     ]
    },
    {
     "name": "stderr",
     "output_type": "stream",
     "text": [
      "Processing: 100%|██████████| 150/150 [00:00<00:00, 161.57it/s]\n"
     ]
    },
    {
     "name": "stdout",
     "output_type": "stream",
     "text": [
      "Left: 0.029474408549697628\n",
      "Right: -1.3473623627996423e-05\n",
      "Processing data 1651\n"
     ]
    },
    {
     "name": "stderr",
     "output_type": "stream",
     "text": [
      "Processing: 100%|██████████| 150/150 [00:03<00:00, 39.69it/s]\n"
     ]
    },
    {
     "name": "stdout",
     "output_type": "stream",
     "text": [
      "Left: 0.2815837135320871\n",
      "Right: 0.2781372209730654\n",
      "Processing data 1654\n"
     ]
    },
    {
     "name": "stderr",
     "output_type": "stream",
     "text": [
      "Processing: 100%|██████████| 150/150 [00:05<00:00, 28.04it/s]\n"
     ]
    },
    {
     "name": "stdout",
     "output_type": "stream",
     "text": [
      "Left: 0.09190382478830084\n",
      "Right: 0.005312223122326348\n",
      "Processing data 1655\n"
     ]
    },
    {
     "name": "stderr",
     "output_type": "stream",
     "text": [
      "Processing: 100%|██████████| 150/150 [00:02<00:00, 57.06it/s] \n"
     ]
    },
    {
     "name": "stdout",
     "output_type": "stream",
     "text": [
      "Left: 0.8991520536660828\n",
      "Right: 0.8239561602639408\n",
      "Processing data 1659\n"
     ]
    },
    {
     "name": "stderr",
     "output_type": "stream",
     "text": [
      "Processing: 100%|██████████| 150/150 [00:00<00:00, 551.54it/s]\n"
     ]
    },
    {
     "name": "stdout",
     "output_type": "stream",
     "text": [
      "Left: -0.01183674832917414\n",
      "Right: -5.7025845791036645e-06\n",
      "Processing data 1660\n"
     ]
    },
    {
     "name": "stderr",
     "output_type": "stream",
     "text": [
      "Processing: 100%|██████████| 60/60 [00:00<00:00, 218.74it/s]\n"
     ]
    },
    {
     "name": "stdout",
     "output_type": "stream",
     "text": [
      "Left: 0.030676936886481432\n",
      "Right: 0.02514279269735553\n",
      "Processing data 1662\n"
     ]
    },
    {
     "name": "stderr",
     "output_type": "stream",
     "text": [
      "Processing: 100%|██████████| 90/90 [00:00<00:00, 115.58it/s]\n"
     ]
    },
    {
     "name": "stdout",
     "output_type": "stream",
     "text": [
      "Left: 0.6970516063185574\n",
      "Right: 0.5313170358540638\n",
      "Processing data 1676\n"
     ]
    },
    {
     "name": "stderr",
     "output_type": "stream",
     "text": [
      "Processing: 100%|██████████| 150/150 [00:00<00:00, 376.78it/s]\n"
     ]
    },
    {
     "name": "stdout",
     "output_type": "stream",
     "text": [
      "Left: 0.8127926053025019\n",
      "Right: 0.0029336936943721065\n",
      "Processing data 1684\n"
     ]
    },
    {
     "name": "stderr",
     "output_type": "stream",
     "text": [
      "Processing: 100%|██████████| 150/150 [00:01<00:00, 87.38it/s] \n"
     ]
    },
    {
     "name": "stdout",
     "output_type": "stream",
     "text": [
      "Left: 0.13832355446139644\n",
      "Right: 6.673229475253478e-05\n",
      "Processing data 1685\n"
     ]
    },
    {
     "name": "stderr",
     "output_type": "stream",
     "text": [
      "Processing: 100%|██████████| 150/150 [00:02<00:00, 66.56it/s]\n"
     ]
    },
    {
     "name": "stdout",
     "output_type": "stream",
     "text": [
      "Left: 0.674171856401038\n",
      "Right: 0.2390203883476869\n",
      "Processing data 1687\n"
     ]
    },
    {
     "name": "stderr",
     "output_type": "stream",
     "text": [
      "Processing: 100%|██████████| 150/150 [00:00<00:00, 352.37it/s]\n"
     ]
    },
    {
     "name": "stdout",
     "output_type": "stream",
     "text": [
      "Left: -0.001675253584140779\n",
      "Right: -0.04054161174707094\n",
      "Processing data 1689\n"
     ]
    },
    {
     "name": "stderr",
     "output_type": "stream",
     "text": [
      "Processing: 100%|██████████| 150/150 [00:06<00:00, 21.78it/s]\n"
     ]
    },
    {
     "name": "stdout",
     "output_type": "stream",
     "text": [
      "Left: -0.5006155661031819\n",
      "Right: -0.009731893741506459\n",
      "Processing data 1692\n"
     ]
    },
    {
     "name": "stderr",
     "output_type": "stream",
     "text": [
      "Processing: 100%|██████████| 120/120 [00:00<00:00, 200.94it/s]\n"
     ]
    },
    {
     "name": "stdout",
     "output_type": "stream",
     "text": [
      "Left: -0.010361812968106232\n",
      "Right: 0.056087273108003544\n",
      "Processing data 1694\n"
     ]
    },
    {
     "name": "stderr",
     "output_type": "stream",
     "text": [
      "Processing: 100%|██████████| 150/150 [00:03<00:00, 44.29it/s]\n"
     ]
    },
    {
     "name": "stdout",
     "output_type": "stream",
     "text": [
      "Left: -0.13830813651123375\n",
      "Right: -0.0009514012787689569\n",
      "Processing data 1695\n"
     ]
    },
    {
     "name": "stderr",
     "output_type": "stream",
     "text": [
      "Processing: 100%|██████████| 240/240 [00:01<00:00, 155.09it/s]\n"
     ]
    },
    {
     "name": "stdout",
     "output_type": "stream",
     "text": [
      "Left: 0.002665151256346865\n",
      "Right: -0.014860836893772267\n",
      "Processing data 1696\n"
     ]
    },
    {
     "name": "stderr",
     "output_type": "stream",
     "text": [
      "Processing: 100%|██████████| 150/150 [00:01<00:00, 148.98it/s]\n"
     ]
    },
    {
     "name": "stdout",
     "output_type": "stream",
     "text": [
      "Left: 0.6663179727057459\n",
      "Right: 0.0010433924468842212\n",
      "Processing data 1699\n"
     ]
    },
    {
     "name": "stderr",
     "output_type": "stream",
     "text": [
      "Processing: 100%|██████████| 150/150 [00:00<00:00, 600.80it/s]\n"
     ]
    },
    {
     "name": "stdout",
     "output_type": "stream",
     "text": [
      "Left: 0.0045049670446636325\n",
      "Right: 0.18649380983715735\n",
      "Processing data 1701\n"
     ]
    },
    {
     "name": "stderr",
     "output_type": "stream",
     "text": [
      "Processing: 100%|██████████| 90/90 [00:00<00:00, 128.06it/s]\n"
     ]
    },
    {
     "name": "stdout",
     "output_type": "stream",
     "text": [
      "Left: 0.7106087670410173\n",
      "Right: 0.006630154187541379\n",
      "Processing data 1705\n"
     ]
    },
    {
     "name": "stderr",
     "output_type": "stream",
     "text": [
      "Processing: 100%|██████████| 150/150 [00:00<00:00, 822.64it/s]\n"
     ]
    },
    {
     "name": "stdout",
     "output_type": "stream",
     "text": [
      "Left: 0.00285731907453024\n",
      "Right: -0.04734431589338217\n",
      "Processing data 1710\n"
     ]
    },
    {
     "name": "stderr",
     "output_type": "stream",
     "text": [
      "Processing: 100%|██████████| 150/150 [00:00<00:00, 739.97it/s]\n"
     ]
    },
    {
     "name": "stdout",
     "output_type": "stream",
     "text": [
      "Left: 0.0024400718220252138\n",
      "Right: -2.0232570672518158e-05\n",
      "Processing data 1713\n"
     ]
    },
    {
     "name": "stderr",
     "output_type": "stream",
     "text": [
      "Processing: 100%|██████████| 120/120 [00:00<00:00, 668.25it/s]\n"
     ]
    },
    {
     "name": "stdout",
     "output_type": "stream",
     "text": [
      "Left: -0.0095281176011065\n",
      "Right: 0.0534721301262196\n",
      "Processing data 1714\n"
     ]
    },
    {
     "name": "stderr",
     "output_type": "stream",
     "text": [
      "Processing: 100%|██████████| 150/150 [00:02<00:00, 70.96it/s] \n"
     ]
    },
    {
     "name": "stdout",
     "output_type": "stream",
     "text": [
      "Left: 0.0007193395715020456\n",
      "Right: 0.41357188649930854\n",
      "Processing data 1715\n"
     ]
    },
    {
     "name": "stderr",
     "output_type": "stream",
     "text": [
      "Processing: 100%|██████████| 150/150 [00:05<00:00, 27.54it/s]\n"
     ]
    },
    {
     "name": "stdout",
     "output_type": "stream",
     "text": [
      "Left: 0.09056085316559859\n",
      "Right: -0.05820675896354477\n",
      "Processing data 1716\n"
     ]
    },
    {
     "name": "stderr",
     "output_type": "stream",
     "text": [
      "Processing: 100%|██████████| 150/150 [00:01<00:00, 118.43it/s]\n"
     ]
    },
    {
     "name": "stdout",
     "output_type": "stream",
     "text": [
      "Left: 0.00014531388118410593\n",
      "Right: 0.00013853515880601908\n",
      "Processing data 1722\n"
     ]
    },
    {
     "name": "stderr",
     "output_type": "stream",
     "text": [
      "Processing: 100%|██████████| 150/150 [00:02<00:00, 58.80it/s]\n"
     ]
    },
    {
     "name": "stdout",
     "output_type": "stream",
     "text": [
      "Left: 0.2590813854938316\n",
      "Right: 0.005835862761886357\n",
      "Processing data 1723\n"
     ]
    },
    {
     "name": "stderr",
     "output_type": "stream",
     "text": [
      "Processing: 100%|██████████| 150/150 [00:00<00:00, 168.17it/s]\n"
     ]
    },
    {
     "name": "stdout",
     "output_type": "stream",
     "text": [
      "Left: -0.04344390841172796\n",
      "Right: 0.0688538090745997\n",
      "Processing data 1729\n"
     ]
    },
    {
     "name": "stderr",
     "output_type": "stream",
     "text": [
      "Processing: 100%|██████████| 120/120 [00:00<00:00, 137.22it/s]\n"
     ]
    },
    {
     "name": "stdout",
     "output_type": "stream",
     "text": [
      "Left: -0.2227776648578823\n",
      "Right: 0.01682885080243879\n",
      "Processing data 1730\n"
     ]
    },
    {
     "name": "stderr",
     "output_type": "stream",
     "text": [
      "Processing: 100%|██████████| 150/150 [00:03<00:00, 42.85it/s] \n"
     ]
    },
    {
     "name": "stdout",
     "output_type": "stream",
     "text": [
      "Left: 0.06869032624072935\n",
      "Right: -0.03148082697965332\n",
      "Processing data 1733\n"
     ]
    },
    {
     "name": "stderr",
     "output_type": "stream",
     "text": [
      "Processing: 100%|██████████| 150/150 [00:00<00:00, 263.48it/s]\n"
     ]
    },
    {
     "name": "stdout",
     "output_type": "stream",
     "text": [
      "Left: 0.5340235976260896\n",
      "Right: 0.264065503346972\n",
      "Processing data 1734\n"
     ]
    },
    {
     "name": "stderr",
     "output_type": "stream",
     "text": [
      "Processing: 100%|██████████| 150/150 [00:02<00:00, 72.88it/s]\n"
     ]
    },
    {
     "name": "stdout",
     "output_type": "stream",
     "text": [
      "Left: -0.06093439754226071\n",
      "Right: 0.012070987209006012\n",
      "Processing data 1736\n"
     ]
    },
    {
     "name": "stderr",
     "output_type": "stream",
     "text": [
      "Processing: 100%|██████████| 150/150 [00:02<00:00, 68.65it/s] \n"
     ]
    },
    {
     "name": "stdout",
     "output_type": "stream",
     "text": [
      "Left: 0.0008520194660923625\n",
      "Right: 0.2190631090678834\n",
      "Processing data 1738\n"
     ]
    },
    {
     "name": "stderr",
     "output_type": "stream",
     "text": [
      "Processing: 100%|██████████| 150/150 [00:03<00:00, 44.21it/s] \n"
     ]
    },
    {
     "name": "stdout",
     "output_type": "stream",
     "text": [
      "Left: 0.013970508824323935\n",
      "Right: 0.0004498203600010169\n",
      "Processing data 1741\n"
     ]
    },
    {
     "name": "stderr",
     "output_type": "stream",
     "text": [
      "Processing: 100%|██████████| 150/150 [00:01<00:00, 117.52it/s]\n"
     ]
    },
    {
     "name": "stdout",
     "output_type": "stream",
     "text": [
      "Left: 0.3573130204364611\n",
      "Right: 0.00041634406164226673\n",
      "Processing data 1742\n"
     ]
    },
    {
     "name": "stderr",
     "output_type": "stream",
     "text": [
      "Processing: 100%|██████████| 150/150 [00:01<00:00, 124.90it/s]\n"
     ]
    },
    {
     "name": "stdout",
     "output_type": "stream",
     "text": [
      "Left: -0.013270578527072252\n",
      "Right: -0.00011129624639444335\n",
      "Processing data 1745\n"
     ]
    },
    {
     "name": "stderr",
     "output_type": "stream",
     "text": [
      "Processing: 100%|██████████| 90/90 [00:00<00:00, 180.86it/s]\n"
     ]
    },
    {
     "name": "stdout",
     "output_type": "stream",
     "text": [
      "Left: 4.253904312273571e-07\n",
      "Right: -0.04401304433239395\n",
      "Processing data 1746\n"
     ]
    },
    {
     "name": "stderr",
     "output_type": "stream",
     "text": [
      "Processing: 100%|██████████| 150/150 [00:01<00:00, 95.55it/s]\n"
     ]
    },
    {
     "name": "stdout",
     "output_type": "stream",
     "text": [
      "Left: -0.005429968834739368\n",
      "Right: 0.2775935552712505\n",
      "Processing data 1750\n"
     ]
    },
    {
     "name": "stderr",
     "output_type": "stream",
     "text": [
      "Processing: 100%|██████████| 150/150 [00:00<00:00, 637.57it/s]\n"
     ]
    },
    {
     "name": "stdout",
     "output_type": "stream",
     "text": [
      "Left: 0.031371180474462634\n",
      "Right: 0.062017779949794294\n",
      "Processing data 1751\n"
     ]
    },
    {
     "name": "stderr",
     "output_type": "stream",
     "text": [
      "Processing: 100%|██████████| 90/90 [00:00<00:00, 664.60it/s]\n"
     ]
    },
    {
     "name": "stdout",
     "output_type": "stream",
     "text": [
      "Left: 0.01290335290872252\n",
      "Right: -0.009168787402587197\n",
      "Processing data 1765\n"
     ]
    },
    {
     "name": "stderr",
     "output_type": "stream",
     "text": [
      "Processing: 100%|██████████| 150/150 [00:00<00:00, 166.21it/s]\n"
     ]
    },
    {
     "name": "stdout",
     "output_type": "stream",
     "text": [
      "Left: -0.04986886806896135\n",
      "Right: -0.006450697331863514\n",
      "Processing data 1774\n"
     ]
    },
    {
     "name": "stderr",
     "output_type": "stream",
     "text": [
      "Processing: 100%|██████████| 150/150 [00:00<00:00, 176.58it/s]\n"
     ]
    },
    {
     "name": "stdout",
     "output_type": "stream",
     "text": [
      "Left: 0.10885105958643565\n",
      "Right: -0.06380434813262303\n",
      "Processing data 1775\n"
     ]
    },
    {
     "name": "stderr",
     "output_type": "stream",
     "text": [
      "Processing: 100%|██████████| 150/150 [00:02<00:00, 60.08it/s] \n"
     ]
    },
    {
     "name": "stdout",
     "output_type": "stream",
     "text": [
      "Left: 0.029130273922154504\n",
      "Right: -0.013658354276271018\n",
      "Processing data 1776\n"
     ]
    },
    {
     "name": "stderr",
     "output_type": "stream",
     "text": [
      "Processing: 100%|██████████| 150/150 [00:02<00:00, 62.94it/s]\n"
     ]
    },
    {
     "name": "stdout",
     "output_type": "stream",
     "text": [
      "Left: 0.482899841954776\n",
      "Right: -0.00031026745233270203\n",
      "Processing data 1781\n"
     ]
    },
    {
     "name": "stderr",
     "output_type": "stream",
     "text": [
      "Processing: 100%|██████████| 150/150 [00:00<00:00, 244.78it/s]\n"
     ]
    },
    {
     "name": "stdout",
     "output_type": "stream",
     "text": [
      "Left: 0.4288285640095058\n",
      "Right: -0.004021640660209935\n",
      "Processing data 1783\n"
     ]
    },
    {
     "name": "stderr",
     "output_type": "stream",
     "text": [
      "Processing: 100%|██████████| 60/60 [00:00<00:00, 346.51it/s]\n"
     ]
    },
    {
     "name": "stdout",
     "output_type": "stream",
     "text": [
      "Left: 1.5936989546661007e-06\n",
      "Right: 0.005395366825456049\n",
      "Processing data 1785\n"
     ]
    },
    {
     "name": "stderr",
     "output_type": "stream",
     "text": [
      "Processing: 100%|██████████| 120/120 [00:00<00:00, 329.83it/s]\n"
     ]
    },
    {
     "name": "stdout",
     "output_type": "stream",
     "text": [
      "Left: 1.7805572257029167e-06\n",
      "Right: 0.12559486072538606\n",
      "Processing data 1787\n"
     ]
    },
    {
     "name": "stderr",
     "output_type": "stream",
     "text": [
      "Processing: 100%|██████████| 150/150 [00:00<00:00, 192.41it/s]\n"
     ]
    },
    {
     "name": "stdout",
     "output_type": "stream",
     "text": [
      "Left: 0.00085554592188955\n",
      "Right: -0.006913379164390054\n",
      "Processing data 1788\n"
     ]
    },
    {
     "name": "stderr",
     "output_type": "stream",
     "text": [
      "Processing: 100%|██████████| 120/120 [00:00<00:00, 244.45it/s]\n"
     ]
    },
    {
     "name": "stdout",
     "output_type": "stream",
     "text": [
      "Left: 0.021977396907001512\n",
      "Right: 0.08858842883467866\n",
      "Processing data 1789\n"
     ]
    },
    {
     "name": "stderr",
     "output_type": "stream",
     "text": [
      "Processing: 100%|██████████| 150/150 [00:01<00:00, 117.18it/s]\n"
     ]
    },
    {
     "name": "stdout",
     "output_type": "stream",
     "text": [
      "Left: 0.36912154409110104\n",
      "Right: 0.0006047407442616873\n",
      "Processing data 1796\n"
     ]
    },
    {
     "name": "stderr",
     "output_type": "stream",
     "text": [
      "Processing: 100%|██████████| 150/150 [00:00<00:00, 373.04it/s]\n"
     ]
    },
    {
     "name": "stdout",
     "output_type": "stream",
     "text": [
      "Left: 0.010238361428196341\n",
      "Right: 4.5545211085809556e-05\n",
      "Processing data 1797\n"
     ]
    },
    {
     "name": "stderr",
     "output_type": "stream",
     "text": [
      "Processing: 100%|██████████| 150/150 [00:00<00:00, 286.56it/s]\n"
     ]
    },
    {
     "name": "stdout",
     "output_type": "stream",
     "text": [
      "Left: -0.017217600049332038\n",
      "Right: 0.002476972798226118\n",
      "Processing data 1800\n"
     ]
    },
    {
     "name": "stderr",
     "output_type": "stream",
     "text": [
      "Processing: 100%|██████████| 150/150 [00:00<00:00, 525.78it/s]\n"
     ]
    },
    {
     "name": "stdout",
     "output_type": "stream",
     "text": [
      "Left: -0.002209928682865736\n",
      "Right: 2.9832621474979587e-07\n",
      "Processing data 1801\n"
     ]
    },
    {
     "name": "stderr",
     "output_type": "stream",
     "text": [
      "Processing: 100%|██████████| 150/150 [00:00<00:00, 584.10it/s]\n"
     ]
    },
    {
     "name": "stdout",
     "output_type": "stream",
     "text": [
      "Left: -0.017710378262480786\n",
      "Right: 3.022228580520925e-07\n",
      "Processing data 1804\n"
     ]
    },
    {
     "name": "stderr",
     "output_type": "stream",
     "text": [
      "Processing: 100%|██████████| 150/150 [00:00<00:00, 703.36it/s]\n"
     ]
    },
    {
     "name": "stdout",
     "output_type": "stream",
     "text": [
      "Left: 2.3521734046627607e-06\n",
      "Right: -0.0257903238764855\n",
      "Processing data 1805\n"
     ]
    },
    {
     "name": "stderr",
     "output_type": "stream",
     "text": [
      "Processing: 100%|██████████| 30/30 [00:00<00:00, 365.56it/s]\n"
     ]
    },
    {
     "name": "stdout",
     "output_type": "stream",
     "text": [
      "Left: -0.1496867489447069\n",
      "Right: -0.04823298610488069\n",
      "Processing data 1808\n"
     ]
    },
    {
     "name": "stderr",
     "output_type": "stream",
     "text": [
      "Processing: 100%|██████████| 30/30 [00:00<00:00, 480.32it/s]\n"
     ]
    },
    {
     "name": "stdout",
     "output_type": "stream",
     "text": [
      "Left: 0.0\n",
      "Right: -0.16725984641735747\n",
      "Processing data 1811\n"
     ]
    },
    {
     "name": "stderr",
     "output_type": "stream",
     "text": [
      "Processing: 100%|██████████| 150/150 [00:00<00:00, 600.24it/s]\n"
     ]
    },
    {
     "name": "stdout",
     "output_type": "stream",
     "text": [
      "Left: -0.0144334982170089\n",
      "Right: -0.00531315768880769\n",
      "Processing data 1812\n"
     ]
    },
    {
     "name": "stderr",
     "output_type": "stream",
     "text": [
      "Processing: 100%|██████████| 150/150 [00:01<00:00, 112.05it/s]\n"
     ]
    },
    {
     "name": "stdout",
     "output_type": "stream",
     "text": [
      "Left: -8.987344718613954e-05\n",
      "Right: -0.03306743228075337\n",
      "Processing data 1819\n"
     ]
    },
    {
     "name": "stderr",
     "output_type": "stream",
     "text": [
      "Processing: 100%|██████████| 60/60 [00:00<00:00, 395.87it/s]\n"
     ]
    },
    {
     "name": "stdout",
     "output_type": "stream",
     "text": [
      "Left: 0.00027319101110645505\n",
      "Right: 4.818403312040198e-07\n",
      "Processing data 1822\n"
     ]
    },
    {
     "name": "stderr",
     "output_type": "stream",
     "text": [
      "Processing: 100%|██████████| 150/150 [00:00<00:00, 214.37it/s]\n"
     ]
    },
    {
     "name": "stdout",
     "output_type": "stream",
     "text": [
      "Left: -0.00028034081637704107\n",
      "Right: 0.344937125315862\n",
      "Processing data 1824\n"
     ]
    },
    {
     "name": "stderr",
     "output_type": "stream",
     "text": [
      "Processing: 100%|██████████| 150/150 [00:00<00:00, 420.09it/s]\n"
     ]
    },
    {
     "name": "stdout",
     "output_type": "stream",
     "text": [
      "Left: 0.04532737238755474\n",
      "Right: 0.0068998101332632955\n",
      "Processing data 1827\n"
     ]
    },
    {
     "name": "stderr",
     "output_type": "stream",
     "text": [
      "Processing: 100%|██████████| 150/150 [00:02<00:00, 52.50it/s]\n"
     ]
    },
    {
     "name": "stdout",
     "output_type": "stream",
     "text": [
      "Left: 0.0022036825432918405\n",
      "Right: 0.11508590117487966\n",
      "Processing data 1828\n"
     ]
    },
    {
     "name": "stderr",
     "output_type": "stream",
     "text": [
      "Processing: 100%|██████████| 60/60 [00:00<00:00, 299.19it/s]\n"
     ]
    },
    {
     "name": "stdout",
     "output_type": "stream",
     "text": [
      "Left: -0.0019778132340376453\n",
      "Right: 0.1478267361710366\n",
      "Processing data 1833\n"
     ]
    },
    {
     "name": "stderr",
     "output_type": "stream",
     "text": [
      "Processing: 100%|██████████| 150/150 [00:00<00:00, 477.22it/s]\n"
     ]
    },
    {
     "name": "stdout",
     "output_type": "stream",
     "text": [
      "Left: 0.0006452677747224177\n",
      "Right: 0.3941982698048522\n",
      "Processing data 1834\n"
     ]
    },
    {
     "name": "stderr",
     "output_type": "stream",
     "text": [
      "Processing: 100%|██████████| 150/150 [00:00<00:00, 660.89it/s]\n"
     ]
    },
    {
     "name": "stdout",
     "output_type": "stream",
     "text": [
      "Left: -0.0005345601668865219\n",
      "Right: 0.09742630862830703\n",
      "Processing data 1837\n"
     ]
    },
    {
     "name": "stderr",
     "output_type": "stream",
     "text": [
      "Processing: 100%|██████████| 150/150 [00:00<00:00, 432.30it/s]\n"
     ]
    },
    {
     "name": "stdout",
     "output_type": "stream",
     "text": [
      "Left: 0.011017755067460056\n",
      "Right: -2.554159783077492e-06\n",
      "Processing data 1839\n"
     ]
    },
    {
     "name": "stderr",
     "output_type": "stream",
     "text": [
      "Processing: 100%|██████████| 150/150 [00:01<00:00, 84.55it/s]\n"
     ]
    },
    {
     "name": "stdout",
     "output_type": "stream",
     "text": [
      "Left: -0.03500086644174527\n",
      "Right: 0.2669093532961109\n",
      "Processing data 1840\n"
     ]
    },
    {
     "name": "stderr",
     "output_type": "stream",
     "text": [
      "Processing: 100%|██████████| 60/60 [00:00<00:00, 117.74it/s]\n"
     ]
    },
    {
     "name": "stdout",
     "output_type": "stream",
     "text": [
      "Left: 0.001889746952644121\n",
      "Right: 0.6218377444204806\n",
      "Processing data 1842\n"
     ]
    },
    {
     "name": "stderr",
     "output_type": "stream",
     "text": [
      "Processing: 100%|██████████| 150/150 [00:02<00:00, 62.99it/s] \n"
     ]
    },
    {
     "name": "stdout",
     "output_type": "stream",
     "text": [
      "Left: -0.00015678585210299884\n",
      "Right: 0.038888079500423944\n",
      "Processing data 1846\n"
     ]
    },
    {
     "name": "stderr",
     "output_type": "stream",
     "text": [
      "Processing: 100%|██████████| 150/150 [00:02<00:00, 51.17it/s]\n"
     ]
    },
    {
     "name": "stdout",
     "output_type": "stream",
     "text": [
      "Left: -0.013047545836909952\n",
      "Right: 0.32582959093535674\n",
      "Processing data 1848\n"
     ]
    },
    {
     "name": "stderr",
     "output_type": "stream",
     "text": [
      "Processing: 100%|██████████| 150/150 [00:01<00:00, 78.94it/s] \n"
     ]
    },
    {
     "name": "stdout",
     "output_type": "stream",
     "text": [
      "Left: 0.26993081707688865\n",
      "Right: 0.004331718595437298\n",
      "Processing data 1852\n"
     ]
    },
    {
     "name": "stderr",
     "output_type": "stream",
     "text": [
      "Processing: 100%|██████████| 90/90 [00:01<00:00, 47.20it/s]\n"
     ]
    },
    {
     "name": "stdout",
     "output_type": "stream",
     "text": [
      "Left: -0.0062446410513474215\n",
      "Right: 0.5420436829850783\n",
      "Processing data 1854\n"
     ]
    },
    {
     "name": "stderr",
     "output_type": "stream",
     "text": [
      "Processing: 100%|██████████| 150/150 [00:01<00:00, 139.66it/s]\n"
     ]
    },
    {
     "name": "stdout",
     "output_type": "stream",
     "text": [
      "Left: 0.0023910544710804282\n",
      "Right: 0.18225037958195145\n",
      "Processing data 1858\n"
     ]
    },
    {
     "name": "stderr",
     "output_type": "stream",
     "text": [
      "Processing: 100%|██████████| 150/150 [00:00<00:00, 585.65it/s]\n"
     ]
    },
    {
     "name": "stdout",
     "output_type": "stream",
     "text": [
      "Left: 0.9306845228066704\n",
      "Right: 0.11417302558095746\n",
      "Processing data 1863\n"
     ]
    },
    {
     "name": "stderr",
     "output_type": "stream",
     "text": [
      "Processing: 100%|██████████| 150/150 [00:02<00:00, 61.27it/s] \n"
     ]
    },
    {
     "name": "stdout",
     "output_type": "stream",
     "text": [
      "Left: 0.35400266967005967\n",
      "Right: -0.4590880446433665\n",
      "Processing data 1864\n"
     ]
    },
    {
     "name": "stderr",
     "output_type": "stream",
     "text": [
      "Processing: 100%|██████████| 150/150 [00:00<00:00, 292.30it/s]\n"
     ]
    },
    {
     "name": "stdout",
     "output_type": "stream",
     "text": [
      "Left: 3.3037746469122276e-07\n",
      "Right: 0.005529932444425345\n",
      "Processing data 1865\n"
     ]
    },
    {
     "name": "stderr",
     "output_type": "stream",
     "text": [
      "Processing: 100%|██████████| 150/150 [00:00<00:00, 565.76it/s]\n"
     ]
    },
    {
     "name": "stdout",
     "output_type": "stream",
     "text": [
      "Left: -0.026785216433542258\n",
      "Right: 0.0020957400959756844\n",
      "Processing data 1867\n"
     ]
    },
    {
     "name": "stderr",
     "output_type": "stream",
     "text": [
      "Processing: 100%|██████████| 150/150 [00:00<00:00, 434.42it/s]\n"
     ]
    },
    {
     "name": "stdout",
     "output_type": "stream",
     "text": [
      "Left: 0.00039911824924009857\n",
      "Right: 0.2753437895900192\n",
      "Processing data 1871\n"
     ]
    },
    {
     "name": "stderr",
     "output_type": "stream",
     "text": [
      "Processing: 100%|██████████| 150/150 [00:04<00:00, 36.28it/s]\n"
     ]
    },
    {
     "name": "stdout",
     "output_type": "stream",
     "text": [
      "Left: 0.3663056277338629\n",
      "Right: 0.002772143801940352\n",
      "Processing data 1875\n"
     ]
    },
    {
     "name": "stderr",
     "output_type": "stream",
     "text": [
      "Processing: 100%|██████████| 150/150 [00:00<00:00, 261.26it/s]\n"
     ]
    },
    {
     "name": "stdout",
     "output_type": "stream",
     "text": [
      "Left: 0.10416933476107473\n",
      "Right: -2.812158932136155e-06\n",
      "Processing data 1877\n"
     ]
    },
    {
     "name": "stderr",
     "output_type": "stream",
     "text": [
      "Processing: 100%|██████████| 150/150 [00:00<00:00, 462.19it/s]\n"
     ]
    },
    {
     "name": "stdout",
     "output_type": "stream",
     "text": [
      "Left: 0.0020761308692389254\n",
      "Right: 0.31892397494733643\n",
      "Processing data 1879\n"
     ]
    },
    {
     "name": "stderr",
     "output_type": "stream",
     "text": [
      "Processing: 100%|██████████| 150/150 [00:00<00:00, 398.45it/s]\n"
     ]
    },
    {
     "name": "stdout",
     "output_type": "stream",
     "text": [
      "Left: 0.0007489562378714121\n",
      "Right: -7.91066429962628e-05\n",
      "Processing data 1882\n"
     ]
    },
    {
     "name": "stderr",
     "output_type": "stream",
     "text": [
      "Processing: 100%|██████████| 150/150 [00:00<00:00, 280.51it/s]\n"
     ]
    },
    {
     "name": "stdout",
     "output_type": "stream",
     "text": [
      "Left: 0.7531934370780122\n",
      "Right: 0.008003672196259477\n",
      "Processing data 1887\n"
     ]
    },
    {
     "name": "stderr",
     "output_type": "stream",
     "text": [
      "Processing: 100%|██████████| 150/150 [00:01<00:00, 77.91it/s]\n"
     ]
    },
    {
     "name": "stdout",
     "output_type": "stream",
     "text": [
      "Left: 0.6762193183109911\n",
      "Right: -0.1698933688742288\n",
      "Processing data 1891\n"
     ]
    },
    {
     "name": "stderr",
     "output_type": "stream",
     "text": [
      "Processing: 100%|██████████| 120/120 [00:01<00:00, 66.14it/s]\n"
     ]
    },
    {
     "name": "stdout",
     "output_type": "stream",
     "text": [
      "Left: 0.2945505357280943\n",
      "Right: -5.431336325013164e-05\n",
      "Processing data 1892\n"
     ]
    },
    {
     "name": "stderr",
     "output_type": "stream",
     "text": [
      "Processing: 100%|██████████| 150/150 [00:01<00:00, 136.37it/s]\n"
     ]
    },
    {
     "name": "stdout",
     "output_type": "stream",
     "text": [
      "Left: 0.34004435108585157\n",
      "Right: -0.0018510890010392522\n",
      "Processing data 1897\n"
     ]
    },
    {
     "name": "stderr",
     "output_type": "stream",
     "text": [
      "Processing: 100%|██████████| 150/150 [00:00<00:00, 357.52it/s]\n"
     ]
    },
    {
     "name": "stdout",
     "output_type": "stream",
     "text": [
      "Left: 0.05012261594722356\n",
      "Right: 8.31052196045845e-07\n",
      "Processing data 1898\n"
     ]
    },
    {
     "name": "stderr",
     "output_type": "stream",
     "text": [
      "Processing: 100%|██████████| 180/180 [00:03<00:00, 55.32it/s] \n"
     ]
    },
    {
     "name": "stdout",
     "output_type": "stream",
     "text": [
      "Left: 0.007593158445887704\n",
      "Right: -4.9015137475397295e-05\n",
      "Processing data 1901\n"
     ]
    },
    {
     "name": "stderr",
     "output_type": "stream",
     "text": [
      "Processing: 100%|██████████| 150/150 [00:02<00:00, 50.32it/s]\n"
     ]
    },
    {
     "name": "stdout",
     "output_type": "stream",
     "text": [
      "Left: -0.00023924650491054461\n",
      "Right: 0.15035652921174725\n",
      "Processing data 1902\n"
     ]
    },
    {
     "name": "stderr",
     "output_type": "stream",
     "text": [
      "Processing: 100%|██████████| 150/150 [00:00<00:00, 418.48it/s]\n"
     ]
    },
    {
     "name": "stdout",
     "output_type": "stream",
     "text": [
      "Left: -0.0012325827991198635\n",
      "Right: 0.3106221380548291\n",
      "Processing data 1909\n"
     ]
    },
    {
     "name": "stderr",
     "output_type": "stream",
     "text": [
      "Processing: 100%|██████████| 150/150 [00:00<00:00, 920.90it/s]\n"
     ]
    },
    {
     "name": "stdout",
     "output_type": "stream",
     "text": [
      "Left: -0.047870200948004316\n",
      "Right: -0.011661440742468221\n",
      "Processing data 1910\n"
     ]
    },
    {
     "name": "stderr",
     "output_type": "stream",
     "text": [
      "Processing: 100%|██████████| 150/150 [00:00<00:00, 867.83it/s]\n"
     ]
    },
    {
     "name": "stdout",
     "output_type": "stream",
     "text": [
      "Left: -5.208401383882677e-05\n",
      "Right: 0.034704947218025084\n",
      "Processing data 1911\n"
     ]
    },
    {
     "name": "stderr",
     "output_type": "stream",
     "text": [
      "Processing: 100%|██████████| 180/180 [00:00<00:00, 895.16it/s]\n"
     ]
    },
    {
     "name": "stdout",
     "output_type": "stream",
     "text": [
      "Left: 2.53937179911512e-06\n",
      "Right: 0.011409277000051898\n",
      "Processing data 1913\n"
     ]
    },
    {
     "name": "stderr",
     "output_type": "stream",
     "text": [
      "Processing: 100%|██████████| 180/180 [00:00<00:00, 211.26it/s]\n"
     ]
    },
    {
     "name": "stdout",
     "output_type": "stream",
     "text": [
      "Left: -0.029966597514352378\n",
      "Right: -0.032115921033278816\n",
      "Processing data 1919\n"
     ]
    },
    {
     "name": "stderr",
     "output_type": "stream",
     "text": [
      "Processing: 100%|██████████| 150/150 [00:03<00:00, 37.78it/s]\n"
     ]
    },
    {
     "name": "stdout",
     "output_type": "stream",
     "text": [
      "Left: 0.14290638661411592\n",
      "Right: 0.32684208329334474\n",
      "Processing data 1925\n"
     ]
    },
    {
     "name": "stderr",
     "output_type": "stream",
     "text": [
      "Processing: 100%|██████████| 150/150 [00:00<00:00, 519.60it/s]\n"
     ]
    },
    {
     "name": "stdout",
     "output_type": "stream",
     "text": [
      "Left: -0.0012246696449174643\n",
      "Right: 1.5200564306792202e-06\n",
      "Processing data 1928\n"
     ]
    },
    {
     "name": "stderr",
     "output_type": "stream",
     "text": [
      "Processing: 100%|██████████| 150/150 [00:01<00:00, 127.97it/s]\n"
     ]
    },
    {
     "name": "stdout",
     "output_type": "stream",
     "text": [
      "Left: 0.5651200854013256\n",
      "Right: -0.0007991240253124917\n",
      "Processing data 1936\n"
     ]
    },
    {
     "name": "stderr",
     "output_type": "stream",
     "text": [
      "Processing: 100%|██████████| 150/150 [00:02<00:00, 63.75it/s] \n"
     ]
    },
    {
     "name": "stdout",
     "output_type": "stream",
     "text": [
      "Left: -0.03987415335986233\n",
      "Right: -0.039986049300339666\n",
      "Processing data 1937\n"
     ]
    },
    {
     "name": "stderr",
     "output_type": "stream",
     "text": [
      "Processing: 100%|██████████| 60/60 [00:00<00:00, 162.85it/s]\n"
     ]
    },
    {
     "name": "stdout",
     "output_type": "stream",
     "text": [
      "Left: 0.03635203184186442\n",
      "Right: 0.013304602029845014\n",
      "Processing data 1939\n"
     ]
    },
    {
     "name": "stderr",
     "output_type": "stream",
     "text": [
      "Processing: 100%|██████████| 150/150 [00:00<00:00, 342.72it/s]\n"
     ]
    },
    {
     "name": "stdout",
     "output_type": "stream",
     "text": [
      "Left: 0.5333682663070806\n",
      "Right: -0.004671667227205412\n",
      "Processing data 1940\n"
     ]
    },
    {
     "name": "stderr",
     "output_type": "stream",
     "text": [
      "Processing: 100%|██████████| 150/150 [00:00<00:00, 401.55it/s]\n"
     ]
    },
    {
     "name": "stdout",
     "output_type": "stream",
     "text": [
      "Left: -0.007242081759921359\n",
      "Right: -2.2389800874433874e-08\n",
      "Processing data 1943\n"
     ]
    },
    {
     "name": "stderr",
     "output_type": "stream",
     "text": [
      "Processing: 100%|██████████| 150/150 [00:04<00:00, 30.39it/s]\n"
     ]
    },
    {
     "name": "stdout",
     "output_type": "stream",
     "text": [
      "Left: 0.2876569674932983\n",
      "Right: 0.34355343722651965\n",
      "Processing data 1944\n"
     ]
    },
    {
     "name": "stderr",
     "output_type": "stream",
     "text": [
      "Processing: 100%|██████████| 150/150 [00:02<00:00, 69.37it/s]\n"
     ]
    },
    {
     "name": "stdout",
     "output_type": "stream",
     "text": [
      "Left: 0.06415149416488541\n",
      "Right: -0.0041631491255699205\n",
      "Processing data 1945\n"
     ]
    },
    {
     "name": "stderr",
     "output_type": "stream",
     "text": [
      "Processing: 100%|██████████| 90/90 [00:00<00:00, 96.96it/s] \n"
     ]
    },
    {
     "name": "stdout",
     "output_type": "stream",
     "text": [
      "Left: 0.005054085759329446\n",
      "Right: 0.4968899585319096\n",
      "Processing data 1947\n"
     ]
    },
    {
     "name": "stderr",
     "output_type": "stream",
     "text": [
      "Processing: 100%|██████████| 150/150 [00:03<00:00, 49.41it/s]\n"
     ]
    },
    {
     "name": "stdout",
     "output_type": "stream",
     "text": [
      "Left: 0.14612618366271257\n",
      "Right: 0.0003680739395919008\n",
      "Processing data 1948\n"
     ]
    },
    {
     "name": "stderr",
     "output_type": "stream",
     "text": [
      "Processing: 100%|██████████| 150/150 [00:00<00:00, 269.38it/s]\n"
     ]
    },
    {
     "name": "stdout",
     "output_type": "stream",
     "text": [
      "Left: -0.017705272056722676\n",
      "Right: -0.1973977378271311\n",
      "Processing data 1951\n"
     ]
    },
    {
     "name": "stderr",
     "output_type": "stream",
     "text": [
      "Processing: 100%|██████████| 150/150 [00:02<00:00, 56.98it/s]\n"
     ]
    },
    {
     "name": "stdout",
     "output_type": "stream",
     "text": [
      "Left: -0.40902559317488185\n",
      "Right: 0.4961162772872577\n",
      "Processing data 1953\n"
     ]
    },
    {
     "name": "stderr",
     "output_type": "stream",
     "text": [
      "Processing: 100%|██████████| 90/90 [00:00<00:00, 199.24it/s]\n"
     ]
    },
    {
     "name": "stdout",
     "output_type": "stream",
     "text": [
      "Left: -0.047949877994847845\n",
      "Right: 8.279307350658738e-05\n",
      "Processing data 1958\n"
     ]
    },
    {
     "name": "stderr",
     "output_type": "stream",
     "text": [
      "Processing: 100%|██████████| 90/90 [00:00<00:00, 338.56it/s]\n"
     ]
    },
    {
     "name": "stdout",
     "output_type": "stream",
     "text": [
      "Left: 0.00801563186154941\n",
      "Right: -2.213478800638935e-06\n",
      "Processing data 1960\n"
     ]
    },
    {
     "name": "stderr",
     "output_type": "stream",
     "text": [
      "Processing: 100%|██████████| 150/150 [00:00<00:00, 150.38it/s]\n"
     ]
    },
    {
     "name": "stdout",
     "output_type": "stream",
     "text": [
      "Left: 0.42345117970777424\n",
      "Right: -0.001409490788260059\n",
      "Processing data 1964\n"
     ]
    },
    {
     "name": "stderr",
     "output_type": "stream",
     "text": [
      "Processing: 100%|██████████| 150/150 [00:03<00:00, 40.24it/s]\n"
     ]
    },
    {
     "name": "stdout",
     "output_type": "stream",
     "text": [
      "Left: 0.00045520208217483815\n",
      "Right: -0.010018340905286083\n",
      "Processing data 1965\n"
     ]
    },
    {
     "name": "stderr",
     "output_type": "stream",
     "text": [
      "Processing: 100%|██████████| 150/150 [00:02<00:00, 71.81it/s]\n"
     ]
    },
    {
     "name": "stdout",
     "output_type": "stream",
     "text": [
      "Left: -0.07633912149348632\n",
      "Right: -0.018874068328663562\n",
      "Processing data 1966\n"
     ]
    },
    {
     "name": "stderr",
     "output_type": "stream",
     "text": [
      "Processing: 100%|██████████| 150/150 [00:02<00:00, 57.27it/s]\n"
     ]
    },
    {
     "name": "stdout",
     "output_type": "stream",
     "text": [
      "Left: 0.00862912550409195\n",
      "Right: -0.15365269358390965\n",
      "Processing data 1967\n"
     ]
    },
    {
     "name": "stderr",
     "output_type": "stream",
     "text": [
      "Processing: 100%|██████████| 150/150 [00:01<00:00, 96.41it/s]\n"
     ]
    },
    {
     "name": "stdout",
     "output_type": "stream",
     "text": [
      "Left: 0.004165367870694436\n",
      "Right: 0.000714577449072773\n",
      "Processing data 1974\n"
     ]
    },
    {
     "name": "stderr",
     "output_type": "stream",
     "text": [
      "Processing: 100%|██████████| 150/150 [00:02<00:00, 57.53it/s]\n"
     ]
    },
    {
     "name": "stdout",
     "output_type": "stream",
     "text": [
      "Left: 0.5171624956316276\n",
      "Right: 0.0058790615019507775\n",
      "Processing data 1976\n"
     ]
    },
    {
     "name": "stderr",
     "output_type": "stream",
     "text": [
      "Processing: 100%|██████████| 150/150 [00:03<00:00, 40.78it/s]\n"
     ]
    },
    {
     "name": "stdout",
     "output_type": "stream",
     "text": [
      "Left: -0.049758485788693574\n",
      "Right: 0.0008230460923207179\n",
      "Processing data 1978\n"
     ]
    },
    {
     "name": "stderr",
     "output_type": "stream",
     "text": [
      "Processing: 100%|██████████| 30/30 [00:01<00:00, 26.26it/s]\n"
     ]
    },
    {
     "name": "stdout",
     "output_type": "stream",
     "text": [
      "Left: 0.16547736993495732\n",
      "Right: -0.07823691015080347\n",
      "Processing data 1980\n"
     ]
    },
    {
     "name": "stderr",
     "output_type": "stream",
     "text": [
      "Processing: 100%|██████████| 150/150 [00:01<00:00, 105.06it/s]\n"
     ]
    },
    {
     "name": "stdout",
     "output_type": "stream",
     "text": [
      "Left: 0.5713765334935332\n",
      "Right: -0.034449274013160114\n",
      "Processing data 1982\n"
     ]
    },
    {
     "name": "stderr",
     "output_type": "stream",
     "text": [
      "Processing: 100%|██████████| 150/150 [00:00<00:00, 553.14it/s]\n"
     ]
    },
    {
     "name": "stdout",
     "output_type": "stream",
     "text": [
      "Left: -0.02695893544995298\n",
      "Right: -5.316824087331362e-06\n",
      "Processing data 1983\n"
     ]
    },
    {
     "name": "stderr",
     "output_type": "stream",
     "text": [
      "Processing: 100%|██████████| 150/150 [00:00<00:00, 575.55it/s]\n"
     ]
    },
    {
     "name": "stdout",
     "output_type": "stream",
     "text": [
      "Left: -0.01321717600245309\n",
      "Right: -2.3924690812637817e-06\n",
      "Processing data 1991\n"
     ]
    },
    {
     "name": "stderr",
     "output_type": "stream",
     "text": [
      "Processing: 100%|██████████| 120/120 [00:02<00:00, 53.73it/s]\n"
     ]
    },
    {
     "name": "stdout",
     "output_type": "stream",
     "text": [
      "Left: 0.20870858308683637\n",
      "Right: -0.023741601052452307\n",
      "Processing data 1993\n"
     ]
    },
    {
     "name": "stderr",
     "output_type": "stream",
     "text": [
      "Processing: 100%|██████████| 150/150 [00:01<00:00, 90.87it/s] \n"
     ]
    },
    {
     "name": "stdout",
     "output_type": "stream",
     "text": [
      "Left: -0.00031657115521168365\n",
      "Right: 0.2692584786941453\n",
      "Processing data 1996\n"
     ]
    },
    {
     "name": "stderr",
     "output_type": "stream",
     "text": [
      "Processing: 100%|██████████| 150/150 [00:00<00:00, 521.38it/s]\n"
     ]
    },
    {
     "name": "stdout",
     "output_type": "stream",
     "text": [
      "Left: 0.04184904409795631\n",
      "Right: -0.11044808961725694\n",
      "Processing data 1997\n"
     ]
    },
    {
     "name": "stderr",
     "output_type": "stream",
     "text": [
      "Processing: 100%|██████████| 150/150 [00:00<00:00, 411.09it/s]\n"
     ]
    },
    {
     "name": "stdout",
     "output_type": "stream",
     "text": [
      "Left: 0.33298621173815407\n",
      "Right: 6.245126263661194e-05\n",
      "Processing data 1998\n"
     ]
    },
    {
     "name": "stderr",
     "output_type": "stream",
     "text": [
      "Processing: 100%|██████████| 150/150 [00:00<00:00, 237.97it/s]\n"
     ]
    },
    {
     "name": "stdout",
     "output_type": "stream",
     "text": [
      "Left: 0.005946972092207181\n",
      "Right: -0.01666094630151793\n",
      "Processing data 1999\n"
     ]
    },
    {
     "name": "stderr",
     "output_type": "stream",
     "text": [
      "Processing: 100%|██████████| 180/180 [00:00<00:00, 278.21it/s]\n"
     ]
    },
    {
     "name": "stdout",
     "output_type": "stream",
     "text": [
      "Left: 0.00016246313928358624\n",
      "Right: 0.028554077242953113\n",
      "Processing data 2002\n"
     ]
    },
    {
     "name": "stderr",
     "output_type": "stream",
     "text": [
      "Processing: 100%|██████████| 150/150 [00:01<00:00, 121.76it/s]\n"
     ]
    },
    {
     "name": "stdout",
     "output_type": "stream",
     "text": [
      "Left: -0.06159984653330175\n",
      "Right: 0.09124356002252287\n",
      "Processing data 2003\n"
     ]
    },
    {
     "name": "stderr",
     "output_type": "stream",
     "text": [
      "Processing: 100%|██████████| 150/150 [00:00<00:00, 271.14it/s]\n"
     ]
    },
    {
     "name": "stdout",
     "output_type": "stream",
     "text": [
      "Left: -0.00013600876355936153\n",
      "Right: 0.03673179104610835\n",
      "Processing data 2004\n"
     ]
    },
    {
     "name": "stderr",
     "output_type": "stream",
     "text": [
      "Processing: 100%|██████████| 150/150 [00:01<00:00, 94.32it/s] \n"
     ]
    },
    {
     "name": "stdout",
     "output_type": "stream",
     "text": [
      "Left: 0.36573326943820716\n",
      "Right: -0.06756928825827091\n",
      "Processing data 2005\n"
     ]
    },
    {
     "name": "stderr",
     "output_type": "stream",
     "text": [
      "Processing: 100%|██████████| 150/150 [00:00<00:00, 675.63it/s]\n"
     ]
    },
    {
     "name": "stdout",
     "output_type": "stream",
     "text": [
      "Left: -0.011841619190892216\n",
      "Right: 4.704465105961897e-06\n",
      "Processing data 2006\n"
     ]
    },
    {
     "name": "stderr",
     "output_type": "stream",
     "text": [
      "Processing: 100%|██████████| 210/210 [00:03<00:00, 55.12it/s] \n"
     ]
    },
    {
     "name": "stdout",
     "output_type": "stream",
     "text": [
      "Left: 0.016900719431661382\n",
      "Right: -0.0002486048992769163\n",
      "Processing data 2008\n"
     ]
    },
    {
     "name": "stderr",
     "output_type": "stream",
     "text": [
      "Processing: 100%|██████████| 150/150 [00:00<00:00, 507.18it/s]\n"
     ]
    },
    {
     "name": "stdout",
     "output_type": "stream",
     "text": [
      "Left: 0.027621319297929214\n",
      "Right: 0.0009175930709439672\n",
      "Processing data 2009\n"
     ]
    },
    {
     "name": "stderr",
     "output_type": "stream",
     "text": [
      "Processing: 100%|██████████| 150/150 [00:00<00:00, 519.91it/s]\n"
     ]
    },
    {
     "name": "stdout",
     "output_type": "stream",
     "text": [
      "Left: -2.3816138139398646e-07\n",
      "Right: -0.13158858355963776\n",
      "Processing data 2012\n"
     ]
    },
    {
     "name": "stderr",
     "output_type": "stream",
     "text": [
      "Processing: 100%|██████████| 150/150 [00:01<00:00, 101.09it/s]\n"
     ]
    },
    {
     "name": "stdout",
     "output_type": "stream",
     "text": [
      "Left: -0.07985902562135216\n",
      "Right: 0.1400411046236253\n",
      "Processing data 2013\n"
     ]
    },
    {
     "name": "stderr",
     "output_type": "stream",
     "text": [
      "Processing: 100%|██████████| 210/210 [00:01<00:00, 158.23it/s]\n"
     ]
    },
    {
     "name": "stdout",
     "output_type": "stream",
     "text": [
      "Left: -0.00031675055810872\n",
      "Right: 0.4279087758054028\n",
      "Processing data 2015\n"
     ]
    },
    {
     "name": "stderr",
     "output_type": "stream",
     "text": [
      "Processing: 100%|██████████| 60/60 [00:00<00:00, 497.24it/s]\n"
     ]
    },
    {
     "name": "stdout",
     "output_type": "stream",
     "text": [
      "Left: 1.4852181119129337e-05\n",
      "Right: 0.025292610140397964\n",
      "Processing data 2017\n"
     ]
    },
    {
     "name": "stderr",
     "output_type": "stream",
     "text": [
      "Processing: 100%|██████████| 180/180 [00:03<00:00, 50.97it/s]\n"
     ]
    },
    {
     "name": "stdout",
     "output_type": "stream",
     "text": [
      "Left: 0.8345963479143063\n",
      "Right: 0.3395986275146472\n",
      "Processing data 2019\n"
     ]
    },
    {
     "name": "stderr",
     "output_type": "stream",
     "text": [
      "Processing: 100%|██████████| 150/150 [00:02<00:00, 70.43it/s]\n"
     ]
    },
    {
     "name": "stdout",
     "output_type": "stream",
     "text": [
      "Left: 0.22847004759063672\n",
      "Right: 0.817596238572514\n",
      "Processing data 2023\n"
     ]
    },
    {
     "name": "stderr",
     "output_type": "stream",
     "text": [
      "Processing: 100%|██████████| 60/60 [00:00<00:00, 166.21it/s]\n"
     ]
    },
    {
     "name": "stdout",
     "output_type": "stream",
     "text": [
      "Left: 0.001502831644782725\n",
      "Right: 0.5282036134250722\n",
      "Processing data 2024\n"
     ]
    },
    {
     "name": "stderr",
     "output_type": "stream",
     "text": [
      "Processing: 100%|██████████| 150/150 [00:00<00:00, 197.68it/s]\n"
     ]
    },
    {
     "name": "stdout",
     "output_type": "stream",
     "text": [
      "Left: 0.514809854406531\n",
      "Right: 0.3216418569096711\n",
      "Processing data 2025\n"
     ]
    },
    {
     "name": "stderr",
     "output_type": "stream",
     "text": [
      "Processing: 100%|██████████| 150/150 [00:06<00:00, 24.56it/s]\n"
     ]
    },
    {
     "name": "stdout",
     "output_type": "stream",
     "text": [
      "Left: 0.0004378320914582706\n",
      "Right: 0.09136674745865392\n",
      "Processing data 2026\n"
     ]
    },
    {
     "name": "stderr",
     "output_type": "stream",
     "text": [
      "Processing: 100%|██████████| 60/60 [00:00<00:00, 125.66it/s]\n"
     ]
    },
    {
     "name": "stdout",
     "output_type": "stream",
     "text": [
      "Left: -0.012385621583950346\n",
      "Right: 0.0011046851003916613\n",
      "Processing data 2028\n"
     ]
    },
    {
     "name": "stderr",
     "output_type": "stream",
     "text": [
      "Processing: 100%|██████████| 150/150 [00:01<00:00, 90.44it/s] \n"
     ]
    },
    {
     "name": "stdout",
     "output_type": "stream",
     "text": [
      "Left: 0.009184155042104791\n",
      "Right: 0.30793169271993037\n",
      "Processing data 2031\n"
     ]
    },
    {
     "name": "stderr",
     "output_type": "stream",
     "text": [
      "Processing: 100%|██████████| 150/150 [00:00<00:00, 494.07it/s]\n"
     ]
    },
    {
     "name": "stdout",
     "output_type": "stream",
     "text": [
      "Left: -3.558157268823692e-08\n",
      "Right: 0.04598393205096957\n",
      "Processing data 2032\n"
     ]
    },
    {
     "name": "stderr",
     "output_type": "stream",
     "text": [
      "Processing: 100%|██████████| 150/150 [00:00<00:00, 156.21it/s]\n"
     ]
    },
    {
     "name": "stdout",
     "output_type": "stream",
     "text": [
      "Left: -0.01991940439950013\n",
      "Right: -0.04515960784800588\n",
      "Processing data 2033\n"
     ]
    },
    {
     "name": "stderr",
     "output_type": "stream",
     "text": [
      "Processing: 100%|██████████| 120/120 [00:00<00:00, 601.51it/s]\n"
     ]
    },
    {
     "name": "stdout",
     "output_type": "stream",
     "text": [
      "Left: 0.008760935852615948\n",
      "Right: 0.04189081548623008\n",
      "Processing data 2035\n"
     ]
    },
    {
     "name": "stderr",
     "output_type": "stream",
     "text": [
      "Processing: 100%|██████████| 150/150 [00:00<00:00, 226.30it/s]\n"
     ]
    },
    {
     "name": "stdout",
     "output_type": "stream",
     "text": [
      "Left: 0.4817916273464399\n",
      "Right: 0.0015284635140165245\n",
      "Processing data 2036\n"
     ]
    },
    {
     "name": "stderr",
     "output_type": "stream",
     "text": [
      "Processing: 100%|██████████| 60/60 [00:00<00:00, 238.67it/s]\n"
     ]
    },
    {
     "name": "stdout",
     "output_type": "stream",
     "text": [
      "Left: 0.45460562859135173\n",
      "Right: 0.3727879044731561\n",
      "Processing data 2037\n"
     ]
    },
    {
     "name": "stderr",
     "output_type": "stream",
     "text": [
      "Processing: 100%|██████████| 150/150 [00:02<00:00, 63.31it/s] \n"
     ]
    },
    {
     "name": "stdout",
     "output_type": "stream",
     "text": [
      "Left: 0.2113951300101013\n",
      "Right: 0.2684616933769546\n",
      "Processing data 2038\n"
     ]
    },
    {
     "name": "stderr",
     "output_type": "stream",
     "text": [
      "Processing: 100%|██████████| 120/120 [00:01<00:00, 64.77it/s] \n"
     ]
    },
    {
     "name": "stdout",
     "output_type": "stream",
     "text": [
      "Left: -0.0015451634587366758\n",
      "Right: 0.047550038417566776\n",
      "Processing data 2041\n"
     ]
    },
    {
     "name": "stderr",
     "output_type": "stream",
     "text": [
      "Processing: 100%|██████████| 150/150 [00:00<00:00, 630.23it/s]\n"
     ]
    },
    {
     "name": "stdout",
     "output_type": "stream",
     "text": [
      "Left: 6.436475740549674e-07\n",
      "Right: 0.11016502465933675\n",
      "Processing data 2050\n"
     ]
    },
    {
     "name": "stderr",
     "output_type": "stream",
     "text": [
      "Processing: 100%|██████████| 150/150 [00:00<00:00, 557.49it/s]\n"
     ]
    },
    {
     "name": "stdout",
     "output_type": "stream",
     "text": [
      "Left: 0.010263507550122064\n",
      "Right: 0.014583643960370263\n",
      "Processing data 2053\n"
     ]
    },
    {
     "name": "stderr",
     "output_type": "stream",
     "text": [
      "Processing: 100%|██████████| 150/150 [00:02<00:00, 66.17it/s] \n"
     ]
    },
    {
     "name": "stdout",
     "output_type": "stream",
     "text": [
      "Left: 0.00025891148505767514\n",
      "Right: 0.21352965815611424\n",
      "Processing data 2057\n"
     ]
    },
    {
     "name": "stderr",
     "output_type": "stream",
     "text": [
      "Processing: 100%|██████████| 150/150 [00:00<00:00, 540.35it/s]\n"
     ]
    },
    {
     "name": "stdout",
     "output_type": "stream",
     "text": [
      "Left: 0.011734719250348495\n",
      "Right: 0.32961609950882853\n",
      "Processing data 2060\n"
     ]
    },
    {
     "name": "stderr",
     "output_type": "stream",
     "text": [
      "Processing: 100%|██████████| 150/150 [00:00<00:00, 220.36it/s]\n"
     ]
    },
    {
     "name": "stdout",
     "output_type": "stream",
     "text": [
      "Left: -0.0062244412684303654\n",
      "Right: 0.4097114461678178\n",
      "Processing data 2065\n"
     ]
    },
    {
     "name": "stderr",
     "output_type": "stream",
     "text": [
      "Processing: 100%|██████████| 150/150 [00:00<00:00, 315.43it/s]\n"
     ]
    },
    {
     "name": "stdout",
     "output_type": "stream",
     "text": [
      "Left: 0.3779138071107184\n",
      "Right: -0.030025598052019653\n",
      "Processing data 2078\n"
     ]
    },
    {
     "name": "stderr",
     "output_type": "stream",
     "text": [
      "Processing: 100%|██████████| 150/150 [00:00<00:00, 243.38it/s]\n"
     ]
    },
    {
     "name": "stdout",
     "output_type": "stream",
     "text": [
      "Left: -0.042473769633586844\n",
      "Right: -0.019329522306223645\n",
      "Processing data 2079\n"
     ]
    },
    {
     "name": "stderr",
     "output_type": "stream",
     "text": [
      "Processing: 100%|██████████| 180/180 [00:03<00:00, 45.14it/s]\n"
     ]
    },
    {
     "name": "stdout",
     "output_type": "stream",
     "text": [
      "Left: -0.0015699842346867943\n",
      "Right: -0.050531441459889415\n",
      "Processing data 2084\n"
     ]
    },
    {
     "name": "stderr",
     "output_type": "stream",
     "text": [
      "Processing: 100%|██████████| 150/150 [00:00<00:00, 206.93it/s]\n"
     ]
    },
    {
     "name": "stdout",
     "output_type": "stream",
     "text": [
      "Left: 0.38776200007976636\n",
      "Right: 0.01264779227925604\n",
      "Processing data 2094\n"
     ]
    },
    {
     "name": "stderr",
     "output_type": "stream",
     "text": [
      "Processing: 100%|██████████| 150/150 [00:00<00:00, 359.05it/s]\n"
     ]
    },
    {
     "name": "stdout",
     "output_type": "stream",
     "text": [
      "Left: 0.2990151074329513\n",
      "Right: 0.28620153030513745\n",
      "Processing data 2095\n"
     ]
    },
    {
     "name": "stderr",
     "output_type": "stream",
     "text": [
      "Processing: 100%|██████████| 150/150 [00:03<00:00, 42.13it/s] \n"
     ]
    },
    {
     "name": "stdout",
     "output_type": "stream",
     "text": [
      "Left: -0.21486619976711685\n",
      "Right: 0.3690897714441901\n",
      "Processing data 2096\n"
     ]
    },
    {
     "name": "stderr",
     "output_type": "stream",
     "text": [
      "Processing: 100%|██████████| 150/150 [00:02<00:00, 56.50it/s]\n"
     ]
    },
    {
     "name": "stdout",
     "output_type": "stream",
     "text": [
      "Left: -0.04961576717800059\n",
      "Right: 0.5830781645718084\n",
      "Processing data 2098\n"
     ]
    },
    {
     "name": "stderr",
     "output_type": "stream",
     "text": [
      "Processing: 100%|██████████| 90/90 [00:00<00:00, 174.22it/s]\n"
     ]
    },
    {
     "name": "stdout",
     "output_type": "stream",
     "text": [
      "Left: 0.5542797282013056\n",
      "Right: 0.017438597299742675\n",
      "Processing data 2100\n"
     ]
    },
    {
     "name": "stderr",
     "output_type": "stream",
     "text": [
      "Processing: 100%|██████████| 150/150 [00:00<00:00, 178.39it/s]\n"
     ]
    },
    {
     "name": "stdout",
     "output_type": "stream",
     "text": [
      "Left: 0.5939952025305076\n",
      "Right: 0.348825179010185\n",
      "Processing data 2105\n"
     ]
    },
    {
     "name": "stderr",
     "output_type": "stream",
     "text": [
      "Processing: 100%|██████████| 150/150 [00:00<00:00, 181.26it/s]\n"
     ]
    },
    {
     "name": "stdout",
     "output_type": "stream",
     "text": [
      "Left: 0.00043518037685668027\n",
      "Right: 0.38859255169004003\n",
      "Processing data 2106\n"
     ]
    },
    {
     "name": "stderr",
     "output_type": "stream",
     "text": [
      "Processing: 100%|██████████| 150/150 [00:00<00:00, 263.51it/s]\n"
     ]
    },
    {
     "name": "stdout",
     "output_type": "stream",
     "text": [
      "Left: 0.27173567699907775\n",
      "Right: -0.0022030572846749308\n",
      "Processing data 2114\n"
     ]
    },
    {
     "name": "stderr",
     "output_type": "stream",
     "text": [
      "Processing: 100%|██████████| 150/150 [00:01<00:00, 88.25it/s] \n"
     ]
    },
    {
     "name": "stdout",
     "output_type": "stream",
     "text": [
      "Left: 0.5663754576642436\n",
      "Right: 0.00038740381754473127\n",
      "Processing data 2119\n"
     ]
    },
    {
     "name": "stderr",
     "output_type": "stream",
     "text": [
      "Processing: 100%|██████████| 150/150 [00:00<00:00, 409.58it/s]\n"
     ]
    },
    {
     "name": "stdout",
     "output_type": "stream",
     "text": [
      "Left: 0.0007136672387751562\n",
      "Right: 0.5628143977078924\n",
      "Processing data 2122\n"
     ]
    },
    {
     "name": "stderr",
     "output_type": "stream",
     "text": [
      "Processing: 100%|██████████| 150/150 [00:00<00:00, 355.63it/s]\n"
     ]
    },
    {
     "name": "stdout",
     "output_type": "stream",
     "text": [
      "Left: 0.7213944288694469\n",
      "Right: 0.78008925209765\n",
      "Processing data 2123\n"
     ]
    },
    {
     "name": "stderr",
     "output_type": "stream",
     "text": [
      "Processing: 100%|██████████| 150/150 [00:02<00:00, 61.36it/s] \n"
     ]
    },
    {
     "name": "stdout",
     "output_type": "stream",
     "text": [
      "Left: -0.23554756966914914\n",
      "Right: 0.0016667270857369382\n",
      "Processing data 2125\n"
     ]
    },
    {
     "name": "stderr",
     "output_type": "stream",
     "text": [
      "Processing: 100%|██████████| 150/150 [00:00<00:00, 484.66it/s]\n"
     ]
    },
    {
     "name": "stdout",
     "output_type": "stream",
     "text": [
      "Left: 0.0025781023978166057\n",
      "Right: 0.39221859403879933\n",
      "Processing data 2126\n"
     ]
    },
    {
     "name": "stderr",
     "output_type": "stream",
     "text": [
      "Processing: 100%|██████████| 150/150 [00:00<00:00, 251.73it/s]\n"
     ]
    },
    {
     "name": "stdout",
     "output_type": "stream",
     "text": [
      "Left: 0.7493481591627293\n",
      "Right: 0.01892929533328147\n",
      "Processing data 2128\n"
     ]
    },
    {
     "name": "stderr",
     "output_type": "stream",
     "text": [
      "Processing: 100%|██████████| 150/150 [00:02<00:00, 74.77it/s]\n"
     ]
    },
    {
     "name": "stdout",
     "output_type": "stream",
     "text": [
      "Left: 0.5019163445373517\n",
      "Right: -0.001460856842010777\n",
      "Processing data 2130\n"
     ]
    },
    {
     "name": "stderr",
     "output_type": "stream",
     "text": [
      "Processing: 100%|██████████| 150/150 [00:01<00:00, 81.65it/s] \n"
     ]
    },
    {
     "name": "stdout",
     "output_type": "stream",
     "text": [
      "Left: 0.5694626302919852\n",
      "Right: 0.008869758974099189\n",
      "Processing data 2132\n"
     ]
    },
    {
     "name": "stderr",
     "output_type": "stream",
     "text": [
      "Processing: 100%|██████████| 120/120 [00:00<00:00, 472.92it/s]\n"
     ]
    },
    {
     "name": "stdout",
     "output_type": "stream",
     "text": [
      "Left: 0.9003782463149357\n",
      "Right: 0.08944133038551089\n",
      "Processing data 2138\n"
     ]
    },
    {
     "name": "stderr",
     "output_type": "stream",
     "text": [
      "Processing: 100%|██████████| 150/150 [00:02<00:00, 57.11it/s]\n"
     ]
    },
    {
     "name": "stdout",
     "output_type": "stream",
     "text": [
      "Left: -0.005082141812462103\n",
      "Right: -0.024256397966844756\n",
      "Processing data 2140\n"
     ]
    },
    {
     "name": "stderr",
     "output_type": "stream",
     "text": [
      "Processing: 100%|██████████| 150/150 [00:01<00:00, 104.90it/s]\n"
     ]
    },
    {
     "name": "stdout",
     "output_type": "stream",
     "text": [
      "Left: 0.0017152095375934885\n",
      "Right: 0.31715495569510177\n",
      "Processing data 2144\n"
     ]
    },
    {
     "name": "stderr",
     "output_type": "stream",
     "text": [
      "Processing: 100%|██████████| 120/120 [00:04<00:00, 24.86it/s]\n"
     ]
    },
    {
     "name": "stdout",
     "output_type": "stream",
     "text": [
      "Left: -0.013272941829743312\n",
      "Right: 0.09624837920014073\n",
      "Processing data 2150\n"
     ]
    },
    {
     "name": "stderr",
     "output_type": "stream",
     "text": [
      "Processing: 100%|██████████| 150/150 [00:00<00:00, 569.72it/s]\n"
     ]
    },
    {
     "name": "stdout",
     "output_type": "stream",
     "text": [
      "Left: 1.8755103824213623e-05\n",
      "Right: 0.7314761394359823\n",
      "Processing data 2153\n"
     ]
    },
    {
     "name": "stderr",
     "output_type": "stream",
     "text": [
      "Processing: 100%|██████████| 150/150 [00:04<00:00, 37.41it/s]\n"
     ]
    },
    {
     "name": "stdout",
     "output_type": "stream",
     "text": [
      "Left: -0.10002611655984772\n",
      "Right: 0.004470061756371185\n",
      "Processing data 2159\n"
     ]
    },
    {
     "name": "stderr",
     "output_type": "stream",
     "text": [
      "Processing: 100%|██████████| 150/150 [00:00<00:00, 367.56it/s]\n"
     ]
    },
    {
     "name": "stdout",
     "output_type": "stream",
     "text": [
      "Left: -0.009681569950808044\n",
      "Right: -0.13737231959165708\n",
      "Processing data 2160\n"
     ]
    },
    {
     "name": "stderr",
     "output_type": "stream",
     "text": [
      "Processing: 100%|██████████| 150/150 [00:00<00:00, 288.22it/s]\n"
     ]
    },
    {
     "name": "stdout",
     "output_type": "stream",
     "text": [
      "Left: 0.22709916314109002\n",
      "Right: -0.0035818492450784556\n",
      "Processing data 2172\n"
     ]
    },
    {
     "name": "stderr",
     "output_type": "stream",
     "text": [
      "Processing: 100%|██████████| 150/150 [00:00<00:00, 208.00it/s]\n"
     ]
    },
    {
     "name": "stdout",
     "output_type": "stream",
     "text": [
      "Left: 0.05838129959282168\n",
      "Right: -3.4325029225457104e-05\n",
      "Processing data 2175\n"
     ]
    },
    {
     "name": "stderr",
     "output_type": "stream",
     "text": [
      "Processing: 100%|██████████| 150/150 [00:00<00:00, 355.32it/s]\n"
     ]
    },
    {
     "name": "stdout",
     "output_type": "stream",
     "text": [
      "Left: -0.018913462778716417\n",
      "Right: -6.691903766675722e-06\n",
      "Processing data 2176\n"
     ]
    },
    {
     "name": "stderr",
     "output_type": "stream",
     "text": [
      "Processing: 100%|██████████| 120/120 [00:00<00:00, 225.78it/s]\n"
     ]
    },
    {
     "name": "stdout",
     "output_type": "stream",
     "text": [
      "Left: 0.15762915880462913\n",
      "Right: -0.08068311736004918\n",
      "Processing data 2182\n"
     ]
    },
    {
     "name": "stderr",
     "output_type": "stream",
     "text": [
      "Processing: 100%|██████████| 180/180 [00:01<00:00, 160.67it/s]\n"
     ]
    },
    {
     "name": "stdout",
     "output_type": "stream",
     "text": [
      "Left: -0.051861947560436605\n",
      "Right: 3.985233051317927e-05\n",
      "Processing data 2191\n"
     ]
    },
    {
     "name": "stderr",
     "output_type": "stream",
     "text": [
      "Processing: 100%|██████████| 150/150 [00:01<00:00, 118.94it/s]\n"
     ]
    },
    {
     "name": "stdout",
     "output_type": "stream",
     "text": [
      "Left: -0.014383283097338051\n",
      "Right: 0.03623527874203625\n",
      "Processing data 2193\n"
     ]
    },
    {
     "name": "stderr",
     "output_type": "stream",
     "text": [
      "Processing: 100%|██████████| 150/150 [00:00<00:00, 260.94it/s]\n"
     ]
    },
    {
     "name": "stdout",
     "output_type": "stream",
     "text": [
      "Left: 0.5385714334879146\n",
      "Right: 0.0012446489175303825\n",
      "Processing data 2198\n"
     ]
    },
    {
     "name": "stderr",
     "output_type": "stream",
     "text": [
      "Processing: 100%|██████████| 150/150 [00:01<00:00, 85.01it/s] \n"
     ]
    },
    {
     "name": "stdout",
     "output_type": "stream",
     "text": [
      "Left: -0.008327438781436602\n",
      "Right: -0.0020396844444905415\n",
      "Processing data 2201\n"
     ]
    },
    {
     "name": "stderr",
     "output_type": "stream",
     "text": [
      "Processing: 100%|██████████| 150/150 [00:00<00:00, 321.75it/s]\n"
     ]
    },
    {
     "name": "stdout",
     "output_type": "stream",
     "text": [
      "Left: 0.5928303619646824\n",
      "Right: -7.982757054276124e-05\n",
      "Processing data 2206\n"
     ]
    },
    {
     "name": "stderr",
     "output_type": "stream",
     "text": [
      "Processing: 100%|██████████| 150/150 [00:00<00:00, 209.01it/s]\n"
     ]
    },
    {
     "name": "stdout",
     "output_type": "stream",
     "text": [
      "Left: 0.019441213676078872\n",
      "Right: 0.03254455162394909\n",
      "Processing data 2212\n"
     ]
    },
    {
     "name": "stderr",
     "output_type": "stream",
     "text": [
      "Processing: 100%|██████████| 90/90 [00:00<00:00, 332.37it/s]\n"
     ]
    },
    {
     "name": "stdout",
     "output_type": "stream",
     "text": [
      "Left: -0.07921766071611891\n",
      "Right: -0.011433778295909192\n",
      "Processing data 2214\n"
     ]
    },
    {
     "name": "stderr",
     "output_type": "stream",
     "text": [
      "Processing: 100%|██████████| 150/150 [00:00<00:00, 362.35it/s]\n"
     ]
    },
    {
     "name": "stdout",
     "output_type": "stream",
     "text": [
      "Left: -0.02449464489947739\n",
      "Right: 0.03785371671932636\n",
      "Processing data 2221\n"
     ]
    },
    {
     "name": "stderr",
     "output_type": "stream",
     "text": [
      "Processing: 100%|██████████| 150/150 [00:02<00:00, 56.37it/s]\n"
     ]
    },
    {
     "name": "stdout",
     "output_type": "stream",
     "text": [
      "Left: -0.022594527763424632\n",
      "Right: -0.000900115436703857\n",
      "Processing data 2222\n"
     ]
    },
    {
     "name": "stderr",
     "output_type": "stream",
     "text": [
      "Processing: 100%|██████████| 150/150 [00:02<00:00, 66.91it/s] \n"
     ]
    },
    {
     "name": "stdout",
     "output_type": "stream",
     "text": [
      "Left: 0.04428732538004987\n",
      "Right: -0.0028264496911448956\n",
      "Processing data 2226\n"
     ]
    },
    {
     "name": "stderr",
     "output_type": "stream",
     "text": [
      "Processing: 100%|██████████| 180/180 [00:00<00:00, 445.02it/s]\n"
     ]
    },
    {
     "name": "stdout",
     "output_type": "stream",
     "text": [
      "Left: 0.0065490102355219015\n",
      "Right: -0.07679596286800733\n",
      "Processing data 2228\n"
     ]
    },
    {
     "name": "stderr",
     "output_type": "stream",
     "text": [
      "Processing: 100%|██████████| 150/150 [00:00<00:00, 230.09it/s]\n"
     ]
    },
    {
     "name": "stdout",
     "output_type": "stream",
     "text": [
      "Left: 0.012611521078382815\n",
      "Right: 0.0005924691023257989\n",
      "Processing data 2232\n"
     ]
    },
    {
     "name": "stderr",
     "output_type": "stream",
     "text": [
      "Processing: 100%|██████████| 150/150 [00:00<00:00, 163.04it/s]\n"
     ]
    },
    {
     "name": "stdout",
     "output_type": "stream",
     "text": [
      "Left: 0.31664400246987046\n",
      "Right: 0.0002899965868058442\n",
      "Processing data 2233\n"
     ]
    },
    {
     "name": "stderr",
     "output_type": "stream",
     "text": [
      "Processing: 100%|██████████| 150/150 [00:03<00:00, 37.70it/s]\n"
     ]
    },
    {
     "name": "stdout",
     "output_type": "stream",
     "text": [
      "Left: 0.02787372760258633\n",
      "Right: -0.0008620229177968806\n",
      "Processing data 2235\n"
     ]
    },
    {
     "name": "stderr",
     "output_type": "stream",
     "text": [
      "Processing: 100%|██████████| 150/150 [00:02<00:00, 50.76it/s]\n"
     ]
    },
    {
     "name": "stdout",
     "output_type": "stream",
     "text": [
      "Left: 0.5683976340743567\n",
      "Right: -0.0011902882484160493\n",
      "Processing data 2237\n"
     ]
    },
    {
     "name": "stderr",
     "output_type": "stream",
     "text": [
      "Processing: 100%|██████████| 60/60 [00:01<00:00, 56.18it/s]\n"
     ]
    },
    {
     "name": "stdout",
     "output_type": "stream",
     "text": [
      "Left: -0.03828405357119513\n",
      "Right: -0.003352517737951418\n",
      "Processing data 2239\n"
     ]
    },
    {
     "name": "stderr",
     "output_type": "stream",
     "text": [
      "Processing: 100%|██████████| 150/150 [00:04<00:00, 30.41it/s]\n"
     ]
    },
    {
     "name": "stdout",
     "output_type": "stream",
     "text": [
      "Left: -0.05745421630219233\n",
      "Right: -0.015137710243376457\n",
      "Processing data 2240\n"
     ]
    },
    {
     "name": "stderr",
     "output_type": "stream",
     "text": [
      "Processing: 100%|██████████| 150/150 [00:02<00:00, 66.69it/s] \n"
     ]
    },
    {
     "name": "stdout",
     "output_type": "stream",
     "text": [
      "Left: -0.018599600523379056\n",
      "Right: -2.8949822032848377e-05\n",
      "Processing data 2241\n"
     ]
    },
    {
     "name": "stderr",
     "output_type": "stream",
     "text": [
      "Processing: 100%|██████████| 60/60 [00:00<00:00, 132.76it/s]\n"
     ]
    },
    {
     "name": "stdout",
     "output_type": "stream",
     "text": [
      "Left: -0.06450945980520695\n",
      "Right: -0.08361275560565379\n",
      "Processing data 2243\n"
     ]
    },
    {
     "name": "stderr",
     "output_type": "stream",
     "text": [
      "Processing: 100%|██████████| 150/150 [00:00<00:00, 540.27it/s]\n"
     ]
    },
    {
     "name": "stdout",
     "output_type": "stream",
     "text": [
      "Left: -0.018362272907642252\n",
      "Right: 0.006781701232086934\n",
      "Processing data 2244\n"
     ]
    },
    {
     "name": "stderr",
     "output_type": "stream",
     "text": [
      "Processing: 100%|██████████| 90/90 [00:00<00:00, 336.78it/s]\n"
     ]
    },
    {
     "name": "stdout",
     "output_type": "stream",
     "text": [
      "Left: -0.21810349578780475\n",
      "Right: -4.019669073096477e-06\n",
      "Processing data 2246\n"
     ]
    },
    {
     "name": "stderr",
     "output_type": "stream",
     "text": [
      "Processing: 100%|██████████| 150/150 [00:01<00:00, 147.55it/s]\n"
     ]
    },
    {
     "name": "stdout",
     "output_type": "stream",
     "text": [
      "Left: 0.33734428996082555\n",
      "Right: 0.0012682451222008097\n",
      "Processing data 2248\n"
     ]
    },
    {
     "name": "stderr",
     "output_type": "stream",
     "text": [
      "Processing: 100%|██████████| 180/180 [00:01<00:00, 142.28it/s]\n"
     ]
    },
    {
     "name": "stdout",
     "output_type": "stream",
     "text": [
      "Left: -0.00216996340317252\n",
      "Right: 0.4992310319528041\n",
      "Processing data 2250\n"
     ]
    },
    {
     "name": "stderr",
     "output_type": "stream",
     "text": [
      "Processing: 100%|██████████| 150/150 [00:00<00:00, 268.90it/s]\n"
     ]
    },
    {
     "name": "stdout",
     "output_type": "stream",
     "text": [
      "Left: 0.5090197995305283\n",
      "Right: -8.51020158060406e-05\n",
      "Processing data 2251\n"
     ]
    },
    {
     "name": "stderr",
     "output_type": "stream",
     "text": [
      "Processing: 100%|██████████| 90/90 [00:00<00:00, 262.45it/s]\n"
     ]
    },
    {
     "name": "stdout",
     "output_type": "stream",
     "text": [
      "Left: -0.41524851553924536\n",
      "Right: 0.001326179674423958\n",
      "Processing data 2254\n"
     ]
    },
    {
     "name": "stderr",
     "output_type": "stream",
     "text": [
      "Processing: 100%|██████████| 150/150 [00:01<00:00, 94.23it/s] \n"
     ]
    },
    {
     "name": "stdout",
     "output_type": "stream",
     "text": [
      "Left: 1.6099038228092888e-05\n",
      "Right: -0.002733193494508346\n",
      "Processing data 2256\n"
     ]
    },
    {
     "name": "stderr",
     "output_type": "stream",
     "text": [
      "Processing: 100%|██████████| 150/150 [00:00<00:00, 210.20it/s]\n"
     ]
    },
    {
     "name": "stdout",
     "output_type": "stream",
     "text": [
      "Left: -9.915314807559458e-06\n",
      "Right: 0.01223053779900729\n",
      "Processing data 2261\n"
     ]
    },
    {
     "name": "stderr",
     "output_type": "stream",
     "text": [
      "Processing: 100%|██████████| 150/150 [00:00<00:00, 385.61it/s]\n"
     ]
    },
    {
     "name": "stdout",
     "output_type": "stream",
     "text": [
      "Left: -0.020014308586165264\n",
      "Right: 0.16463678338650123\n",
      "Processing data 2273\n"
     ]
    },
    {
     "name": "stderr",
     "output_type": "stream",
     "text": [
      "Processing: 100%|██████████| 150/150 [00:00<00:00, 372.09it/s]\n"
     ]
    },
    {
     "name": "stdout",
     "output_type": "stream",
     "text": [
      "Left: 0.010395638436148436\n",
      "Right: 0.03007183544549319\n",
      "Processing data 2279\n"
     ]
    },
    {
     "name": "stderr",
     "output_type": "stream",
     "text": [
      "Processing: 100%|██████████| 120/120 [00:00<00:00, 295.24it/s]\n"
     ]
    },
    {
     "name": "stdout",
     "output_type": "stream",
     "text": [
      "Left: 0.4089217744615697\n",
      "Right: 0.002956334605465955\n",
      "Processing data 2281\n"
     ]
    },
    {
     "name": "stderr",
     "output_type": "stream",
     "text": [
      "Processing: 100%|██████████| 150/150 [00:00<00:00, 216.14it/s]\n"
     ]
    },
    {
     "name": "stdout",
     "output_type": "stream",
     "text": [
      "Left: 0.5244892635190105\n",
      "Right: 0.002242896327871193\n",
      "Processing data 2287\n"
     ]
    },
    {
     "name": "stderr",
     "output_type": "stream",
     "text": [
      "Processing: 100%|██████████| 150/150 [00:03<00:00, 49.36it/s]\n"
     ]
    },
    {
     "name": "stdout",
     "output_type": "stream",
     "text": [
      "Left: 0.001272383714594122\n",
      "Right: 0.3338715086157531\n",
      "Processing data 2292\n"
     ]
    },
    {
     "name": "stderr",
     "output_type": "stream",
     "text": [
      "Processing: 100%|██████████| 150/150 [00:00<00:00, 484.64it/s]\n"
     ]
    },
    {
     "name": "stdout",
     "output_type": "stream",
     "text": [
      "Left: 8.836084857133386e-07\n",
      "Right: 0.019208550148125836\n",
      "Processing data 2293\n"
     ]
    },
    {
     "name": "stderr",
     "output_type": "stream",
     "text": [
      "Processing: 100%|██████████| 180/180 [00:00<00:00, 651.93it/s]\n"
     ]
    },
    {
     "name": "stdout",
     "output_type": "stream",
     "text": [
      "Left: 0.002474087038147277\n",
      "Right: -1.3174712640284802e-09\n",
      "Processing data 2301\n"
     ]
    },
    {
     "name": "stderr",
     "output_type": "stream",
     "text": [
      "Processing: 100%|██████████| 150/150 [00:00<00:00, 733.47it/s]\n"
     ]
    },
    {
     "name": "stdout",
     "output_type": "stream",
     "text": [
      "Left: -4.1313964082440036e-06\n",
      "Right: -0.13492797723653044\n",
      "Processing data 2305\n"
     ]
    },
    {
     "name": "stderr",
     "output_type": "stream",
     "text": [
      "Processing: 100%|██████████| 150/150 [00:00<00:00, 369.19it/s]\n"
     ]
    },
    {
     "name": "stdout",
     "output_type": "stream",
     "text": [
      "Left: -2.1910418289416977e-06\n",
      "Right: 0.008232467742620209\n",
      "Processing data 2311\n"
     ]
    },
    {
     "name": "stderr",
     "output_type": "stream",
     "text": [
      "Processing: 100%|██████████| 60/60 [00:00<00:00, 344.55it/s]\n"
     ]
    },
    {
     "name": "stdout",
     "output_type": "stream",
     "text": [
      "Left: 0.6933861643504948\n",
      "Right: 0.002449194245588323\n",
      "Processing data 2313\n"
     ]
    },
    {
     "name": "stderr",
     "output_type": "stream",
     "text": [
      "Processing: 100%|██████████| 150/150 [00:00<00:00, 264.50it/s]\n"
     ]
    },
    {
     "name": "stdout",
     "output_type": "stream",
     "text": [
      "Left: 0.5875587533830097\n",
      "Right: 0.0014033582134527819\n",
      "Processing data 2321\n"
     ]
    },
    {
     "name": "stderr",
     "output_type": "stream",
     "text": [
      "Processing: 100%|██████████| 120/120 [00:00<00:00, 539.99it/s]\n"
     ]
    },
    {
     "name": "stdout",
     "output_type": "stream",
     "text": [
      "Left: 0.079085391960795\n",
      "Right: -1.4999179930308415e-06\n",
      "Processing data 2325\n"
     ]
    },
    {
     "name": "stderr",
     "output_type": "stream",
     "text": [
      "Processing: 100%|██████████| 150/150 [00:01<00:00, 139.91it/s]\n"
     ]
    },
    {
     "name": "stdout",
     "output_type": "stream",
     "text": [
      "Left: 0.008050497977431514\n",
      "Right: 5.298599737646459e-05\n",
      "Processing data 2326\n"
     ]
    },
    {
     "name": "stderr",
     "output_type": "stream",
     "text": [
      "Processing: 100%|██████████| 60/60 [00:00<00:00, 68.12it/s] \n"
     ]
    },
    {
     "name": "stdout",
     "output_type": "stream",
     "text": [
      "Left: -0.01362179520113449\n",
      "Right: -0.0008907732824478543\n",
      "Processing data 2330\n"
     ]
    },
    {
     "name": "stderr",
     "output_type": "stream",
     "text": [
      "Processing: 100%|██████████| 150/150 [00:00<00:00, 400.75it/s]\n"
     ]
    },
    {
     "name": "stdout",
     "output_type": "stream",
     "text": [
      "Left: 0.015480183793186816\n",
      "Right: 0.4694474139115783\n",
      "Processing data 2333\n"
     ]
    },
    {
     "name": "stderr",
     "output_type": "stream",
     "text": [
      "Processing: 100%|██████████| 150/150 [00:00<00:00, 309.47it/s]\n"
     ]
    },
    {
     "name": "stdout",
     "output_type": "stream",
     "text": [
      "Left: -0.032044411363382874\n",
      "Right: -0.0033205400809785957\n",
      "Processing data 2334\n"
     ]
    },
    {
     "name": "stderr",
     "output_type": "stream",
     "text": [
      "Processing: 100%|██████████| 120/120 [00:00<00:00, 289.48it/s]\n"
     ]
    },
    {
     "name": "stdout",
     "output_type": "stream",
     "text": [
      "Left: -0.018644010242771902\n",
      "Right: -0.01925128088966299\n",
      "Processing data 2336\n"
     ]
    },
    {
     "name": "stderr",
     "output_type": "stream",
     "text": [
      "Processing: 100%|██████████| 150/150 [00:01<00:00, 122.36it/s]\n"
     ]
    },
    {
     "name": "stdout",
     "output_type": "stream",
     "text": [
      "Left: 0.6149988297332537\n",
      "Right: 0.00025713433948377183\n",
      "Processing data 2340\n"
     ]
    },
    {
     "name": "stderr",
     "output_type": "stream",
     "text": [
      "Processing: 100%|██████████| 150/150 [00:00<00:00, 769.57it/s]\n"
     ]
    },
    {
     "name": "stdout",
     "output_type": "stream",
     "text": [
      "Left: 0.29114957041993417\n",
      "Right: 0.05342430155533985\n",
      "Processing data 2346\n"
     ]
    },
    {
     "name": "stderr",
     "output_type": "stream",
     "text": [
      "Processing: 100%|██████████| 150/150 [00:05<00:00, 29.21it/s]\n"
     ]
    },
    {
     "name": "stdout",
     "output_type": "stream",
     "text": [
      "Left: 0.038954065433449314\n",
      "Right: -0.03308838414385433\n",
      "Processing data 2351\n"
     ]
    },
    {
     "name": "stderr",
     "output_type": "stream",
     "text": [
      "Processing: 100%|██████████| 150/150 [00:00<00:00, 452.28it/s]\n"
     ]
    },
    {
     "name": "stdout",
     "output_type": "stream",
     "text": [
      "Left: -1.7374964224169814e-05\n",
      "Right: -0.020790759964665728\n",
      "Processing data 2352\n"
     ]
    },
    {
     "name": "stderr",
     "output_type": "stream",
     "text": [
      "Processing: 100%|██████████| 180/180 [00:00<00:00, 586.51it/s]\n"
     ]
    },
    {
     "name": "stdout",
     "output_type": "stream",
     "text": [
      "Left: 0.36252493192870117\n",
      "Right: 0.003167680620561752\n",
      "Processing data 2354\n"
     ]
    },
    {
     "name": "stderr",
     "output_type": "stream",
     "text": [
      "Processing: 100%|██████████| 150/150 [00:01<00:00, 143.02it/s]\n"
     ]
    },
    {
     "name": "stdout",
     "output_type": "stream",
     "text": [
      "Left: 0.5816959831346149\n",
      "Right: 0.00026566260108786465\n",
      "Processing data 2358\n"
     ]
    },
    {
     "name": "stderr",
     "output_type": "stream",
     "text": [
      "Processing: 100%|██████████| 150/150 [00:00<00:00, 635.54it/s]\n"
     ]
    },
    {
     "name": "stdout",
     "output_type": "stream",
     "text": [
      "Left: 0.0002798315911719529\n",
      "Right: 0.020328019006059073\n",
      "Processing data 2364\n"
     ]
    },
    {
     "name": "stderr",
     "output_type": "stream",
     "text": [
      "Processing: 100%|██████████| 150/150 [00:01<00:00, 113.46it/s]\n"
     ]
    },
    {
     "name": "stdout",
     "output_type": "stream",
     "text": [
      "Left: 0.6932086007945218\n",
      "Right: 0.002655494429441071\n",
      "Processing data 2365\n"
     ]
    },
    {
     "name": "stderr",
     "output_type": "stream",
     "text": [
      "Processing: 100%|██████████| 180/180 [00:01<00:00, 157.83it/s]\n"
     ]
    },
    {
     "name": "stdout",
     "output_type": "stream",
     "text": [
      "Left: 0.8154428659721566\n",
      "Right: 0.003859088639792663\n",
      "Processing data 2371\n"
     ]
    },
    {
     "name": "stderr",
     "output_type": "stream",
     "text": [
      "Processing: 100%|██████████| 150/150 [00:00<00:00, 240.10it/s]\n"
     ]
    },
    {
     "name": "stdout",
     "output_type": "stream",
     "text": [
      "Left: 0.24882591500892093\n",
      "Right: 0.23887774909040044\n",
      "Processing data 2372\n"
     ]
    },
    {
     "name": "stderr",
     "output_type": "stream",
     "text": [
      "Processing: 100%|██████████| 150/150 [00:01<00:00, 119.44it/s]\n"
     ]
    },
    {
     "name": "stdout",
     "output_type": "stream",
     "text": [
      "Left: 0.15731049064578062\n",
      "Right: -0.020562053434491953\n",
      "Processing data 2375\n"
     ]
    },
    {
     "name": "stderr",
     "output_type": "stream",
     "text": [
      "Processing: 100%|██████████| 150/150 [00:00<00:00, 834.98it/s]\n"
     ]
    },
    {
     "name": "stdout",
     "output_type": "stream",
     "text": [
      "Left: -0.0013290390490626747\n",
      "Right: -0.0495202608805444\n",
      "Processing data 2379\n"
     ]
    },
    {
     "name": "stderr",
     "output_type": "stream",
     "text": [
      "Processing: 100%|██████████| 150/150 [00:00<00:00, 597.73it/s]\n"
     ]
    },
    {
     "name": "stdout",
     "output_type": "stream",
     "text": [
      "Left: 0.5608001676480131\n",
      "Right: 0.009781392909405521\n",
      "Processing data 2380\n"
     ]
    },
    {
     "name": "stderr",
     "output_type": "stream",
     "text": [
      "Processing: 100%|██████████| 150/150 [00:00<00:00, 679.04it/s]\n"
     ]
    },
    {
     "name": "stdout",
     "output_type": "stream",
     "text": [
      "Left: 0.8375360584851201\n",
      "Right: 0.006117009308511551\n",
      "Processing data 2382\n"
     ]
    },
    {
     "name": "stderr",
     "output_type": "stream",
     "text": [
      "Processing: 100%|██████████| 60/60 [00:00<00:00, 362.13it/s]\n"
     ]
    },
    {
     "name": "stdout",
     "output_type": "stream",
     "text": [
      "Left: 0.7901816549885665\n",
      "Right: 0.0036582306471455717\n",
      "Processing data 2385\n"
     ]
    },
    {
     "name": "stderr",
     "output_type": "stream",
     "text": [
      "Processing: 100%|██████████| 150/150 [00:00<00:00, 438.41it/s]\n"
     ]
    },
    {
     "name": "stdout",
     "output_type": "stream",
     "text": [
      "Left: 0.0010371577967530354\n",
      "Right: -0.017419973156959645\n",
      "Processing data 2387\n"
     ]
    },
    {
     "name": "stderr",
     "output_type": "stream",
     "text": [
      "Processing: 100%|██████████| 150/150 [00:03<00:00, 38.64it/s]\n"
     ]
    },
    {
     "name": "stdout",
     "output_type": "stream",
     "text": [
      "Left: -0.10572631530548514\n",
      "Right: 0.34710831431886646\n",
      "Processing data 2388\n"
     ]
    },
    {
     "name": "stderr",
     "output_type": "stream",
     "text": [
      "Processing: 100%|██████████| 150/150 [00:00<00:00, 172.28it/s]\n"
     ]
    },
    {
     "name": "stdout",
     "output_type": "stream",
     "text": [
      "Left: 0.022822171736979424\n",
      "Right: 0.026526307529069926\n",
      "Processing data 2394\n"
     ]
    },
    {
     "name": "stderr",
     "output_type": "stream",
     "text": [
      "Processing: 100%|██████████| 150/150 [00:01<00:00, 126.25it/s]\n"
     ]
    },
    {
     "name": "stdout",
     "output_type": "stream",
     "text": [
      "Left: -0.09163983560528333\n",
      "Right: -0.061249539251685164\n",
      "Processing data 2395\n"
     ]
    },
    {
     "name": "stderr",
     "output_type": "stream",
     "text": [
      "Processing: 100%|██████████| 150/150 [00:01<00:00, 131.93it/s]\n"
     ]
    },
    {
     "name": "stdout",
     "output_type": "stream",
     "text": [
      "Left: -0.04399723417320789\n",
      "Right: -0.030028951383680343\n",
      "Processing data 2396\n"
     ]
    },
    {
     "name": "stderr",
     "output_type": "stream",
     "text": [
      "Processing: 100%|██████████| 150/150 [00:01<00:00, 102.25it/s]\n"
     ]
    },
    {
     "name": "stdout",
     "output_type": "stream",
     "text": [
      "Left: -0.023183045056971774\n",
      "Right: -0.04869429761852249\n",
      "Processing data 2397\n"
     ]
    },
    {
     "name": "stderr",
     "output_type": "stream",
     "text": [
      "Processing: 100%|██████████| 150/150 [00:03<00:00, 42.70it/s]\n"
     ]
    },
    {
     "name": "stdout",
     "output_type": "stream",
     "text": [
      "Left: -0.02523601697082034\n",
      "Right: -0.004276681152045292\n",
      "Processing data 2398\n"
     ]
    },
    {
     "name": "stderr",
     "output_type": "stream",
     "text": [
      "Processing: 100%|██████████| 180/180 [00:01<00:00, 119.54it/s]\n"
     ]
    },
    {
     "name": "stdout",
     "output_type": "stream",
     "text": [
      "Left: -0.3265401869074279\n",
      "Right: -0.011612749873292246\n",
      "Processing data 2401\n"
     ]
    },
    {
     "name": "stderr",
     "output_type": "stream",
     "text": [
      "Processing: 100%|██████████| 150/150 [00:00<00:00, 407.13it/s]\n"
     ]
    },
    {
     "name": "stdout",
     "output_type": "stream",
     "text": [
      "Left: -0.011053392984092247\n",
      "Right: -0.1367418273949903\n",
      "Processing data 2402\n"
     ]
    },
    {
     "name": "stderr",
     "output_type": "stream",
     "text": [
      "Processing: 100%|██████████| 150/150 [00:00<00:00, 367.43it/s]\n"
     ]
    },
    {
     "name": "stdout",
     "output_type": "stream",
     "text": [
      "Left: 0.024249519523606544\n",
      "Right: 0.15381011387802956\n",
      "Processing data 2403\n"
     ]
    },
    {
     "name": "stderr",
     "output_type": "stream",
     "text": [
      "Processing: 100%|██████████| 150/150 [00:00<00:00, 377.57it/s]\n"
     ]
    },
    {
     "name": "stdout",
     "output_type": "stream",
     "text": [
      "Left: 0.04459315700717331\n",
      "Right: 0.15284538533450998\n",
      "Processing data 2404\n"
     ]
    },
    {
     "name": "stderr",
     "output_type": "stream",
     "text": [
      "Processing: 100%|██████████| 90/90 [00:00<00:00, 424.75it/s]\n"
     ]
    },
    {
     "name": "stdout",
     "output_type": "stream",
     "text": [
      "Left: -0.29159696373312893\n",
      "Right: 0.33329206180788384\n",
      "Processing data 2407\n"
     ]
    },
    {
     "name": "stderr",
     "output_type": "stream",
     "text": [
      "Processing: 100%|██████████| 150/150 [00:00<00:00, 205.81it/s]\n"
     ]
    },
    {
     "name": "stdout",
     "output_type": "stream",
     "text": [
      "Left: 0.1172826996610622\n",
      "Right: 0.7681089192618977\n",
      "Processing data 2408\n"
     ]
    },
    {
     "name": "stderr",
     "output_type": "stream",
     "text": [
      "Processing: 100%|██████████| 150/150 [00:01<00:00, 118.37it/s]\n"
     ]
    },
    {
     "name": "stdout",
     "output_type": "stream",
     "text": [
      "Left: 0.15522135800500825\n",
      "Right: -0.15894056574982585\n",
      "Processing data 2409\n"
     ]
    },
    {
     "name": "stderr",
     "output_type": "stream",
     "text": [
      "Processing: 100%|██████████| 150/150 [00:00<00:00, 164.45it/s]\n"
     ]
    },
    {
     "name": "stdout",
     "output_type": "stream",
     "text": [
      "Left: -0.013081639759486008\n",
      "Right: 0.2238431164008776\n",
      "Processing data 2410\n"
     ]
    },
    {
     "name": "stderr",
     "output_type": "stream",
     "text": [
      "Processing: 100%|██████████| 150/150 [00:01<00:00, 98.90it/s] \n"
     ]
    },
    {
     "name": "stdout",
     "output_type": "stream",
     "text": [
      "Left: 0.21373963293476572\n",
      "Right: 0.07158003556565562\n",
      "Processing data 2411\n"
     ]
    },
    {
     "name": "stderr",
     "output_type": "stream",
     "text": [
      "Processing: 100%|██████████| 90/90 [00:01<00:00, 48.22it/s] \n"
     ]
    },
    {
     "name": "stdout",
     "output_type": "stream",
     "text": [
      "Left: 0.001202585660883826\n",
      "Right: 0.3472218797141561\n",
      "Processing data 2413\n"
     ]
    },
    {
     "name": "stderr",
     "output_type": "stream",
     "text": [
      "Processing: 100%|██████████| 150/150 [00:00<00:00, 161.70it/s]\n"
     ]
    },
    {
     "name": "stdout",
     "output_type": "stream",
     "text": [
      "Left: 0.29468347550532514\n",
      "Right: 0.5064568346478736\n",
      "Processing data 2419\n"
     ]
    },
    {
     "name": "stderr",
     "output_type": "stream",
     "text": [
      "Processing: 100%|██████████| 150/150 [00:01<00:00, 89.48it/s]\n"
     ]
    },
    {
     "name": "stdout",
     "output_type": "stream",
     "text": [
      "Left: -0.043233045848927176\n",
      "Right: -0.15961921671509183\n",
      "Processing data 2420\n"
     ]
    },
    {
     "name": "stderr",
     "output_type": "stream",
     "text": [
      "Processing: 100%|██████████| 150/150 [00:00<00:00, 346.08it/s]\n"
     ]
    },
    {
     "name": "stdout",
     "output_type": "stream",
     "text": [
      "Left: -0.0143204272927\n",
      "Right: -0.022797796374925294\n",
      "Processing data 2421\n"
     ]
    },
    {
     "name": "stderr",
     "output_type": "stream",
     "text": [
      "Processing: 100%|██████████| 150/150 [00:00<00:00, 616.13it/s]\n"
     ]
    },
    {
     "name": "stdout",
     "output_type": "stream",
     "text": [
      "Left: -0.02886299701704026\n",
      "Right: -0.07443458288562188\n",
      "Processing data 2423\n"
     ]
    },
    {
     "name": "stderr",
     "output_type": "stream",
     "text": [
      "Processing: 100%|██████████| 150/150 [00:01<00:00, 90.47it/s] \n"
     ]
    },
    {
     "name": "stdout",
     "output_type": "stream",
     "text": [
      "Left: 0.6345649197646528\n",
      "Right: 0.2906616370331442\n",
      "Processing data 2426\n"
     ]
    },
    {
     "name": "stderr",
     "output_type": "stream",
     "text": [
      "Processing: 100%|██████████| 60/60 [00:00<00:00, 114.46it/s]\n"
     ]
    },
    {
     "name": "stdout",
     "output_type": "stream",
     "text": [
      "Left: 0.278313962074361\n",
      "Right: 0.0005736165649587281\n",
      "Processing data 2428\n"
     ]
    },
    {
     "name": "stderr",
     "output_type": "stream",
     "text": [
      "Processing: 100%|██████████| 150/150 [00:02<00:00, 58.46it/s]\n"
     ]
    },
    {
     "name": "stdout",
     "output_type": "stream",
     "text": [
      "Left: 0.05421104041365876\n",
      "Right: 0.20778842305713147\n",
      "Processing data 2429\n"
     ]
    },
    {
     "name": "stderr",
     "output_type": "stream",
     "text": [
      "Processing: 100%|██████████| 150/150 [00:01<00:00, 143.26it/s]\n"
     ]
    },
    {
     "name": "stdout",
     "output_type": "stream",
     "text": [
      "Left: 0.022131724722795565\n",
      "Right: 0.21775538928996552\n",
      "Processing data 2432\n"
     ]
    },
    {
     "name": "stderr",
     "output_type": "stream",
     "text": [
      "Processing: 100%|██████████| 150/150 [00:03<00:00, 46.52it/s]\n"
     ]
    },
    {
     "name": "stdout",
     "output_type": "stream",
     "text": [
      "Left: -0.04897624346597895\n",
      "Right: -0.04690714078320257\n",
      "Processing data 2433\n"
     ]
    },
    {
     "name": "stderr",
     "output_type": "stream",
     "text": [
      "Processing: 100%|██████████| 150/150 [00:00<00:00, 235.00it/s]\n"
     ]
    },
    {
     "name": "stdout",
     "output_type": "stream",
     "text": [
      "Left: 0.25180260774378127\n",
      "Right: 0.01894290392037551\n",
      "Processing data 2434\n"
     ]
    },
    {
     "name": "stderr",
     "output_type": "stream",
     "text": [
      "Processing: 100%|██████████| 150/150 [00:03<00:00, 44.80it/s]\n"
     ]
    },
    {
     "name": "stdout",
     "output_type": "stream",
     "text": [
      "Left: -0.03327411367674282\n",
      "Right: 0.06229967773117717\n",
      "Processing data 2435\n"
     ]
    },
    {
     "name": "stderr",
     "output_type": "stream",
     "text": [
      "Processing: 100%|██████████| 150/150 [00:00<00:00, 156.12it/s]\n"
     ]
    },
    {
     "name": "stdout",
     "output_type": "stream",
     "text": [
      "Left: 0.012389086339158362\n",
      "Right: 0.2026143575715812\n",
      "Processing data 2436\n"
     ]
    },
    {
     "name": "stderr",
     "output_type": "stream",
     "text": [
      "Processing: 100%|██████████| 60/60 [00:00<00:00, 84.51it/s] \n"
     ]
    },
    {
     "name": "stdout",
     "output_type": "stream",
     "text": [
      "Left: 0.03255083903306194\n",
      "Right: 0.19895929661874634\n",
      "Processing data 2439\n"
     ]
    },
    {
     "name": "stderr",
     "output_type": "stream",
     "text": [
      "Processing: 100%|██████████| 150/150 [00:00<00:00, 534.87it/s]\n"
     ]
    },
    {
     "name": "stdout",
     "output_type": "stream",
     "text": [
      "Left: 0.0008086433456147013\n",
      "Right: -3.117546855460618e-07\n",
      "Processing data 2440\n"
     ]
    },
    {
     "name": "stderr",
     "output_type": "stream",
     "text": [
      "Processing: 100%|██████████| 150/150 [00:01<00:00, 108.93it/s]\n"
     ]
    },
    {
     "name": "stdout",
     "output_type": "stream",
     "text": [
      "Left: -0.027681869296876993\n",
      "Right: -0.0005703411994984336\n",
      "Processing data 2441\n"
     ]
    },
    {
     "name": "stderr",
     "output_type": "stream",
     "text": [
      "Processing: 100%|██████████| 150/150 [00:03<00:00, 40.28it/s]\n"
     ]
    },
    {
     "name": "stdout",
     "output_type": "stream",
     "text": [
      "Left: -0.090043801956187\n",
      "Right: -0.007328436720048542\n",
      "Processing data 2443\n"
     ]
    },
    {
     "name": "stderr",
     "output_type": "stream",
     "text": [
      "Processing: 100%|██████████| 150/150 [00:01<00:00, 100.57it/s]\n"
     ]
    },
    {
     "name": "stdout",
     "output_type": "stream",
     "text": [
      "Left: -0.00022018008399875277\n",
      "Right: 0.08156717478514375\n",
      "Processing data 2446\n"
     ]
    },
    {
     "name": "stderr",
     "output_type": "stream",
     "text": [
      "Processing: 100%|██████████| 150/150 [00:01<00:00, 122.17it/s]\n"
     ]
    },
    {
     "name": "stdout",
     "output_type": "stream",
     "text": [
      "Left: -0.12343704010172546\n",
      "Right: 0.30045517190157933\n",
      "Processing data 2447\n"
     ]
    },
    {
     "name": "stderr",
     "output_type": "stream",
     "text": [
      "Processing: 100%|██████████| 150/150 [00:01<00:00, 97.34it/s] \n"
     ]
    },
    {
     "name": "stdout",
     "output_type": "stream",
     "text": [
      "Left: 0.43513728294563087\n",
      "Right: 0.0036166508595113778\n",
      "Processing data 2448\n"
     ]
    },
    {
     "name": "stderr",
     "output_type": "stream",
     "text": [
      "Processing: 100%|██████████| 90/90 [00:01<00:00, 58.61it/s]\n"
     ]
    },
    {
     "name": "stdout",
     "output_type": "stream",
     "text": [
      "Left: 0.18811575049055596\n",
      "Right: -0.188378502037435\n",
      "Processing data 2449\n"
     ]
    },
    {
     "name": "stderr",
     "output_type": "stream",
     "text": [
      "Processing: 100%|██████████| 150/150 [00:01<00:00, 107.85it/s]\n"
     ]
    },
    {
     "name": "stdout",
     "output_type": "stream",
     "text": [
      "Left: 0.6683156059579614\n",
      "Right: 0.5287291131652289\n",
      "Processing data 2450\n"
     ]
    },
    {
     "name": "stderr",
     "output_type": "stream",
     "text": [
      "Processing: 100%|██████████| 150/150 [00:00<00:00, 319.01it/s]\n"
     ]
    },
    {
     "name": "stdout",
     "output_type": "stream",
     "text": [
      "Left: 0.00692260689209366\n",
      "Right: -0.030843626052695028\n",
      "Processing data 2451\n"
     ]
    },
    {
     "name": "stderr",
     "output_type": "stream",
     "text": [
      "Processing: 100%|██████████| 90/90 [00:00<00:00, 147.46it/s]\n"
     ]
    },
    {
     "name": "stdout",
     "output_type": "stream",
     "text": [
      "Left: 0.002706151221751829\n",
      "Right: 0.31394663130641876\n",
      "Processing data 2454\n"
     ]
    },
    {
     "name": "stderr",
     "output_type": "stream",
     "text": [
      "Processing: 100%|██████████| 150/150 [00:03<00:00, 41.23it/s]\n"
     ]
    },
    {
     "name": "stdout",
     "output_type": "stream",
     "text": [
      "Left: -0.004199787862967513\n",
      "Right: 0.4788421733746441\n",
      "Processing data 2455\n"
     ]
    },
    {
     "name": "stderr",
     "output_type": "stream",
     "text": [
      "Processing: 100%|██████████| 60/60 [00:00<00:00, 227.20it/s]\n"
     ]
    },
    {
     "name": "stdout",
     "output_type": "stream",
     "text": [
      "Left: 0.47325041259875883\n",
      "Right: 0.25940405881500733\n",
      "Processing data 2461\n"
     ]
    },
    {
     "name": "stderr",
     "output_type": "stream",
     "text": [
      "Processing: 100%|██████████| 150/150 [00:01<00:00, 117.19it/s]\n"
     ]
    },
    {
     "name": "stdout",
     "output_type": "stream",
     "text": [
      "Left: 0.000283409687392492\n",
      "Right: 0.3078321346285471\n",
      "Processing data 2462\n"
     ]
    },
    {
     "name": "stderr",
     "output_type": "stream",
     "text": [
      "Processing: 100%|██████████| 150/150 [00:01<00:00, 82.06it/s] \n"
     ]
    },
    {
     "name": "stdout",
     "output_type": "stream",
     "text": [
      "Left: 0.0018959834331343378\n",
      "Right: 0.47174504145823115\n",
      "Processing data 2465\n"
     ]
    },
    {
     "name": "stderr",
     "output_type": "stream",
     "text": [
      "Processing: 100%|██████████| 150/150 [00:03<00:00, 38.88it/s]\n"
     ]
    },
    {
     "name": "stdout",
     "output_type": "stream",
     "text": [
      "Left: 0.0791327547664481\n",
      "Right: 0.012501999361603733\n",
      "Processing data 2469\n"
     ]
    },
    {
     "name": "stderr",
     "output_type": "stream",
     "text": [
      "Processing: 100%|██████████| 150/150 [00:02<00:00, 52.51it/s]\n"
     ]
    },
    {
     "name": "stdout",
     "output_type": "stream",
     "text": [
      "Left: 0.4043897658916412\n",
      "Right: -0.0009758447032535145\n",
      "Processing data 2470\n"
     ]
    },
    {
     "name": "stderr",
     "output_type": "stream",
     "text": [
      "Processing: 100%|██████████| 150/150 [00:02<00:00, 50.93it/s]\n"
     ]
    },
    {
     "name": "stdout",
     "output_type": "stream",
     "text": [
      "Left: 0.6126804251435675\n",
      "Right: 0.004488618165188474\n",
      "Processing data 2471\n"
     ]
    },
    {
     "name": "stderr",
     "output_type": "stream",
     "text": [
      "Processing: 100%|██████████| 150/150 [00:00<00:00, 369.49it/s]\n"
     ]
    },
    {
     "name": "stdout",
     "output_type": "stream",
     "text": [
      "Left: -0.06279448953428468\n",
      "Right: -0.008573716115018448\n",
      "Processing data 2474\n"
     ]
    },
    {
     "name": "stderr",
     "output_type": "stream",
     "text": [
      "Processing: 100%|██████████| 180/180 [00:02<00:00, 64.99it/s]\n"
     ]
    },
    {
     "name": "stdout",
     "output_type": "stream",
     "text": [
      "Left: -0.1135576335962547\n",
      "Right: 0.0022998763271416256\n",
      "Processing data 2476\n"
     ]
    },
    {
     "name": "stderr",
     "output_type": "stream",
     "text": [
      "Processing: 100%|██████████| 150/150 [00:00<00:00, 160.30it/s]\n"
     ]
    },
    {
     "name": "stdout",
     "output_type": "stream",
     "text": [
      "Left: -0.015016676537165818\n",
      "Right: 0.00010470935645061352\n",
      "Processing data 2478\n"
     ]
    },
    {
     "name": "stderr",
     "output_type": "stream",
     "text": [
      "Processing: 100%|██████████| 60/60 [00:01<00:00, 35.25it/s]\n"
     ]
    },
    {
     "name": "stdout",
     "output_type": "stream",
     "text": [
      "Left: 0.00468635590676153\n",
      "Right: -0.09499807095908486\n",
      "Processing data 2480\n"
     ]
    },
    {
     "name": "stderr",
     "output_type": "stream",
     "text": [
      "Processing: 100%|██████████| 150/150 [00:01<00:00, 88.62it/s] \n"
     ]
    },
    {
     "name": "stdout",
     "output_type": "stream",
     "text": [
      "Left: -0.12067696078472573\n",
      "Right: -0.1974131343972969\n",
      "Processing data 2481\n"
     ]
    },
    {
     "name": "stderr",
     "output_type": "stream",
     "text": [
      "Processing: 100%|██████████| 150/150 [00:01<00:00, 127.03it/s]\n"
     ]
    },
    {
     "name": "stdout",
     "output_type": "stream",
     "text": [
      "Left: -0.14066482922613888\n",
      "Right: -0.04856092010805524\n",
      "Processing data 2482\n"
     ]
    },
    {
     "name": "stderr",
     "output_type": "stream",
     "text": [
      "Processing: 100%|██████████| 90/90 [00:01<00:00, 89.49it/s] \n"
     ]
    },
    {
     "name": "stdout",
     "output_type": "stream",
     "text": [
      "Left: -0.29551161379570523\n",
      "Right: -0.19270514114936055\n",
      "Processing data 2484\n"
     ]
    },
    {
     "name": "stderr",
     "output_type": "stream",
     "text": [
      "Processing: 100%|██████████| 150/150 [00:04<00:00, 34.61it/s]\n"
     ]
    },
    {
     "name": "stdout",
     "output_type": "stream",
     "text": [
      "Left: 0.3236036712955117\n",
      "Right: 0.01972200309858152\n",
      "Processing data 2486\n"
     ]
    },
    {
     "name": "stderr",
     "output_type": "stream",
     "text": [
      "Processing: 100%|██████████| 150/150 [00:03<00:00, 43.36it/s]\n"
     ]
    },
    {
     "name": "stdout",
     "output_type": "stream",
     "text": [
      "Left: 0.0015271531783636397\n",
      "Right: 0.06841633215438192\n",
      "Processing data 2487\n"
     ]
    },
    {
     "name": "stderr",
     "output_type": "stream",
     "text": [
      "Processing: 100%|██████████| 150/150 [00:00<00:00, 164.94it/s]\n"
     ]
    },
    {
     "name": "stdout",
     "output_type": "stream",
     "text": [
      "Left: 0.06899305207818607\n",
      "Right: 0.26057982761512644\n",
      "Processing data 2488\n"
     ]
    },
    {
     "name": "stderr",
     "output_type": "stream",
     "text": [
      "Processing: 100%|██████████| 120/120 [00:02<00:00, 42.98it/s]\n"
     ]
    },
    {
     "name": "stdout",
     "output_type": "stream",
     "text": [
      "Left: 0.15630829531487955\n",
      "Right: 0.214847790435146\n",
      "Processing data 2490\n"
     ]
    },
    {
     "name": "stderr",
     "output_type": "stream",
     "text": [
      "Processing: 100%|██████████| 150/150 [00:02<00:00, 58.02it/s]\n"
     ]
    },
    {
     "name": "stdout",
     "output_type": "stream",
     "text": [
      "Left: 0.2242129503810371\n",
      "Right: -0.22963161313637176\n",
      "Processing data 2491\n"
     ]
    },
    {
     "name": "stderr",
     "output_type": "stream",
     "text": [
      "Processing: 100%|██████████| 150/150 [00:03<00:00, 44.70it/s]\n"
     ]
    },
    {
     "name": "stdout",
     "output_type": "stream",
     "text": [
      "Left: 0.17244544157169683\n",
      "Right: 0.09489267208887586\n",
      "Processing data 2492\n"
     ]
    },
    {
     "name": "stderr",
     "output_type": "stream",
     "text": [
      "Processing: 100%|██████████| 150/150 [00:02<00:00, 65.78it/s]\n"
     ]
    },
    {
     "name": "stdout",
     "output_type": "stream",
     "text": [
      "Left: 0.24875927511864138\n",
      "Right: 0.0017659129313860045\n",
      "Processing data 2493\n"
     ]
    },
    {
     "name": "stderr",
     "output_type": "stream",
     "text": [
      "Processing: 100%|██████████| 60/60 [00:00<00:00, 69.14it/s]\n"
     ]
    },
    {
     "name": "stdout",
     "output_type": "stream",
     "text": [
      "Left: 0.6798574087348878\n",
      "Right: 0.000937711307643644\n",
      "Processing data 2495\n"
     ]
    },
    {
     "name": "stderr",
     "output_type": "stream",
     "text": [
      "Processing: 100%|██████████| 150/150 [00:00<00:00, 217.85it/s]\n"
     ]
    },
    {
     "name": "stdout",
     "output_type": "stream",
     "text": [
      "Left: 0.2605145356952846\n",
      "Right: -0.00027073266667964127\n",
      "Processing data 2499\n"
     ]
    },
    {
     "name": "stderr",
     "output_type": "stream",
     "text": [
      "Processing: 100%|██████████| 150/150 [00:00<00:00, 467.32it/s]\n"
     ]
    },
    {
     "name": "stdout",
     "output_type": "stream",
     "text": [
      "Left: 0.034616669292131586\n",
      "Right: 0.174857217607365\n",
      "Processing data 2500\n"
     ]
    },
    {
     "name": "stderr",
     "output_type": "stream",
     "text": [
      "Processing: 100%|██████████| 90/90 [00:00<00:00, 192.68it/s]\n"
     ]
    },
    {
     "name": "stdout",
     "output_type": "stream",
     "text": [
      "Left: 0.018795540074383887\n",
      "Right: 0.07035488401596757\n",
      "Processing data 2502\n"
     ]
    },
    {
     "name": "stderr",
     "output_type": "stream",
     "text": [
      "Processing: 100%|██████████| 120/120 [00:02<00:00, 46.92it/s]\n"
     ]
    },
    {
     "name": "stdout",
     "output_type": "stream",
     "text": [
      "Left: 0.1681270375873385\n",
      "Right: 0.003911337946709836\n",
      "Processing data 2505\n"
     ]
    },
    {
     "name": "stderr",
     "output_type": "stream",
     "text": [
      "Processing: 100%|██████████| 150/150 [00:01<00:00, 116.57it/s]\n"
     ]
    },
    {
     "name": "stdout",
     "output_type": "stream",
     "text": [
      "Left: 0.016313034266038362\n",
      "Right: 0.07992421858903609\n",
      "Processing data 2506\n"
     ]
    },
    {
     "name": "stderr",
     "output_type": "stream",
     "text": [
      "Processing: 100%|██████████| 150/150 [00:00<00:00, 198.16it/s]\n"
     ]
    },
    {
     "name": "stdout",
     "output_type": "stream",
     "text": [
      "Left: 0.1009325465683808\n",
      "Right: 0.012350299244571011\n",
      "Processing data 2509\n"
     ]
    },
    {
     "name": "stderr",
     "output_type": "stream",
     "text": [
      "Processing: 100%|██████████| 150/150 [00:00<00:00, 168.41it/s]\n"
     ]
    },
    {
     "name": "stdout",
     "output_type": "stream",
     "text": [
      "Left: 0.2064521082582629\n",
      "Right: -0.0023841270577644735\n",
      "Processing data 2510\n"
     ]
    },
    {
     "name": "stderr",
     "output_type": "stream",
     "text": [
      "Processing: 100%|██████████| 90/90 [00:00<00:00, 111.09it/s]\n"
     ]
    },
    {
     "name": "stdout",
     "output_type": "stream",
     "text": [
      "Left: 0.00012994872556436332\n",
      "Right: -0.2413034091944503\n",
      "Processing data 2512\n"
     ]
    },
    {
     "name": "stderr",
     "output_type": "stream",
     "text": [
      "Processing: 100%|██████████| 150/150 [00:01<00:00, 89.73it/s] \n"
     ]
    },
    {
     "name": "stdout",
     "output_type": "stream",
     "text": [
      "Left: 0.011290312581982875\n",
      "Right: 0.01918776228151664\n",
      "Processing data 2515\n"
     ]
    },
    {
     "name": "stderr",
     "output_type": "stream",
     "text": [
      "Processing: 100%|██████████| 150/150 [00:00<00:00, 286.72it/s]\n"
     ]
    },
    {
     "name": "stdout",
     "output_type": "stream",
     "text": [
      "Left: 0.5757989479919535\n",
      "Right: 0.283792319925935\n",
      "Processing data 2516\n"
     ]
    },
    {
     "name": "stderr",
     "output_type": "stream",
     "text": [
      "Processing: 100%|██████████| 150/150 [00:02<00:00, 59.54it/s]\n"
     ]
    },
    {
     "name": "stdout",
     "output_type": "stream",
     "text": [
      "Left: 0.011881724623321765\n",
      "Right: 0.044873123487743916\n",
      "Processing data 2530\n"
     ]
    },
    {
     "name": "stderr",
     "output_type": "stream",
     "text": [
      "Processing: 100%|██████████| 150/150 [00:02<00:00, 55.77it/s]\n"
     ]
    },
    {
     "name": "stdout",
     "output_type": "stream",
     "text": [
      "Left: 0.29548566510360513\n",
      "Right: -0.001183513947161069\n",
      "Processing data 2531\n"
     ]
    },
    {
     "name": "stderr",
     "output_type": "stream",
     "text": [
      "Processing: 100%|██████████| 150/150 [00:00<00:00, 362.75it/s]\n"
     ]
    },
    {
     "name": "stdout",
     "output_type": "stream",
     "text": [
      "Left: 0.50434154638668\n",
      "Right: 0.005863265767548564\n",
      "Processing data 2537\n"
     ]
    },
    {
     "name": "stderr",
     "output_type": "stream",
     "text": [
      "Processing: 100%|██████████| 150/150 [00:01<00:00, 105.45it/s]\n"
     ]
    },
    {
     "name": "stdout",
     "output_type": "stream",
     "text": [
      "Left: 0.4209193588861159\n",
      "Right: 0.3151244404472905\n",
      "Processing data 2540\n"
     ]
    },
    {
     "name": "stderr",
     "output_type": "stream",
     "text": [
      "Processing: 100%|██████████| 150/150 [00:00<00:00, 273.34it/s]\n"
     ]
    },
    {
     "name": "stdout",
     "output_type": "stream",
     "text": [
      "Left: 0.44078614274553923\n",
      "Right: 0.3529102937431812\n",
      "Processing data 2541\n"
     ]
    },
    {
     "name": "stderr",
     "output_type": "stream",
     "text": [
      "Processing: 100%|██████████| 150/150 [00:00<00:00, 366.80it/s]\n"
     ]
    },
    {
     "name": "stdout",
     "output_type": "stream",
     "text": [
      "Left: 0.6969951396358238\n",
      "Right: 0.008847784195109324\n",
      "Processing data 2543\n"
     ]
    },
    {
     "name": "stderr",
     "output_type": "stream",
     "text": [
      "Processing: 100%|██████████| 150/150 [00:01<00:00, 120.90it/s]\n"
     ]
    },
    {
     "name": "stdout",
     "output_type": "stream",
     "text": [
      "Left: 0.7178600024551819\n",
      "Right: 0.0009044310643559822\n",
      "Processing data 2544\n"
     ]
    },
    {
     "name": "stderr",
     "output_type": "stream",
     "text": [
      "Processing: 100%|██████████| 150/150 [00:02<00:00, 52.56it/s]\n"
     ]
    },
    {
     "name": "stdout",
     "output_type": "stream",
     "text": [
      "Left: 0.3339692686418509\n",
      "Right: -0.0100598349152492\n",
      "Processing data 2546\n"
     ]
    },
    {
     "name": "stderr",
     "output_type": "stream",
     "text": [
      "Processing: 100%|██████████| 150/150 [00:00<00:00, 273.77it/s]\n"
     ]
    },
    {
     "name": "stdout",
     "output_type": "stream",
     "text": [
      "Left: 0.0014374056410805386\n",
      "Right: 0.6437670259341587\n",
      "Processing data 2547\n"
     ]
    },
    {
     "name": "stderr",
     "output_type": "stream",
     "text": [
      "Processing: 100%|██████████| 180/180 [00:01<00:00, 137.95it/s]\n"
     ]
    },
    {
     "name": "stdout",
     "output_type": "stream",
     "text": [
      "Left: 0.5951290974623726\n",
      "Right: -0.00047740725364829595\n",
      "Processing data 2548\n"
     ]
    },
    {
     "name": "stderr",
     "output_type": "stream",
     "text": [
      "Processing: 100%|██████████| 150/150 [00:00<00:00, 347.85it/s]\n"
     ]
    },
    {
     "name": "stdout",
     "output_type": "stream",
     "text": [
      "Left: 0.5517548561662813\n",
      "Right: 0.0016109780794251018\n",
      "Processing data 2549\n"
     ]
    },
    {
     "name": "stderr",
     "output_type": "stream",
     "text": [
      "Processing: 100%|██████████| 150/150 [00:02<00:00, 72.77it/s] \n"
     ]
    },
    {
     "name": "stdout",
     "output_type": "stream",
     "text": [
      "Left: 0.791522041061573\n",
      "Right: 0.0049513810057491\n",
      "Processing data 2551\n"
     ]
    },
    {
     "name": "stderr",
     "output_type": "stream",
     "text": [
      "Processing: 100%|██████████| 180/180 [00:00<00:00, 368.82it/s]\n"
     ]
    },
    {
     "name": "stdout",
     "output_type": "stream",
     "text": [
      "Left: 0.30430476695208597\n",
      "Right: -9.31740756902194e-05\n",
      "Processing data 2552\n"
     ]
    },
    {
     "name": "stderr",
     "output_type": "stream",
     "text": [
      "Processing: 100%|██████████| 150/150 [00:00<00:00, 195.98it/s]\n"
     ]
    },
    {
     "name": "stdout",
     "output_type": "stream",
     "text": [
      "Left: 0.617686533312026\n",
      "Right: 0.4551374301407012\n",
      "Processing data 2553\n"
     ]
    },
    {
     "name": "stderr",
     "output_type": "stream",
     "text": [
      "Processing: 100%|██████████| 150/150 [00:00<00:00, 248.94it/s]\n"
     ]
    },
    {
     "name": "stdout",
     "output_type": "stream",
     "text": [
      "Left: 0.3669279923483572\n",
      "Right: -0.00016193552455950715\n",
      "Processing data 2559\n"
     ]
    },
    {
     "name": "stderr",
     "output_type": "stream",
     "text": [
      "Processing: 100%|██████████| 150/150 [00:04<00:00, 33.33it/s]\n"
     ]
    },
    {
     "name": "stdout",
     "output_type": "stream",
     "text": [
      "Left: 0.34469170538292954\n",
      "Right: -0.0033770600089128022\n",
      "Processing data 2560\n"
     ]
    },
    {
     "name": "stderr",
     "output_type": "stream",
     "text": [
      "Processing: 100%|██████████| 150/150 [00:01<00:00, 129.44it/s]\n"
     ]
    },
    {
     "name": "stdout",
     "output_type": "stream",
     "text": [
      "Left: 0.3995595042686715\n",
      "Right: 0.04969995060818733\n",
      "Processing data 2561\n"
     ]
    },
    {
     "name": "stderr",
     "output_type": "stream",
     "text": [
      "Processing: 100%|██████████| 150/150 [00:00<00:00, 306.62it/s]\n"
     ]
    },
    {
     "name": "stdout",
     "output_type": "stream",
     "text": [
      "Left: 0.5092164181079166\n",
      "Right: -9.654531304880906e-05\n",
      "Processing data 2563\n"
     ]
    },
    {
     "name": "stderr",
     "output_type": "stream",
     "text": [
      "Processing: 100%|██████████| 150/150 [00:00<00:00, 200.23it/s]\n"
     ]
    },
    {
     "name": "stdout",
     "output_type": "stream",
     "text": [
      "Left: 0.2643964416490989\n",
      "Right: -0.00030138082574779346\n",
      "Processing data 2565\n"
     ]
    },
    {
     "name": "stderr",
     "output_type": "stream",
     "text": [
      "Processing: 100%|██████████| 150/150 [00:02<00:00, 52.45it/s]\n"
     ]
    },
    {
     "name": "stdout",
     "output_type": "stream",
     "text": [
      "Left: 0.30414864704125166\n",
      "Right: 0.003570396850954227\n",
      "Processing data 2569\n"
     ]
    },
    {
     "name": "stderr",
     "output_type": "stream",
     "text": [
      "Processing: 100%|██████████| 150/150 [00:01<00:00, 107.18it/s]\n"
     ]
    },
    {
     "name": "stdout",
     "output_type": "stream",
     "text": [
      "Left: 0.44938642829049597\n",
      "Right: 0.000422450041291619\n",
      "Processing data 2570\n"
     ]
    },
    {
     "name": "stderr",
     "output_type": "stream",
     "text": [
      "Processing: 100%|██████████| 150/150 [00:00<00:00, 183.54it/s]\n"
     ]
    },
    {
     "name": "stdout",
     "output_type": "stream",
     "text": [
      "Left: -0.011016745550962437\n",
      "Right: -0.05880871367100493\n",
      "Processing data 2571\n"
     ]
    },
    {
     "name": "stderr",
     "output_type": "stream",
     "text": [
      "Processing: 100%|██████████| 120/120 [00:01<00:00, 84.02it/s] \n"
     ]
    },
    {
     "name": "stdout",
     "output_type": "stream",
     "text": [
      "Left: 0.030641524380434715\n",
      "Right: 0.0024724375782285424\n",
      "Processing data 2572\n"
     ]
    },
    {
     "name": "stderr",
     "output_type": "stream",
     "text": [
      "Processing: 100%|██████████| 150/150 [00:03<00:00, 42.40it/s]\n"
     ]
    },
    {
     "name": "stdout",
     "output_type": "stream",
     "text": [
      "Left: 0.29672706149214373\n",
      "Right: -1.221846686938477e-06\n",
      "Processing data 2574\n"
     ]
    },
    {
     "name": "stderr",
     "output_type": "stream",
     "text": [
      "Processing: 100%|██████████| 90/90 [00:00<00:00, 135.75it/s]\n"
     ]
    },
    {
     "name": "stdout",
     "output_type": "stream",
     "text": [
      "Left: 0.3888500557795999\n",
      "Right: 0.0007212835398656831\n",
      "Processing data 2575\n"
     ]
    },
    {
     "name": "stderr",
     "output_type": "stream",
     "text": [
      "Processing: 100%|██████████| 150/150 [00:02<00:00, 57.46it/s]\n"
     ]
    },
    {
     "name": "stdout",
     "output_type": "stream",
     "text": [
      "Left: 0.0024772138089851903\n",
      "Right: 0.3399049047278453\n",
      "Processing data 2583\n"
     ]
    },
    {
     "name": "stderr",
     "output_type": "stream",
     "text": [
      "Processing: 100%|██████████| 150/150 [00:00<00:00, 371.16it/s]\n"
     ]
    },
    {
     "name": "stdout",
     "output_type": "stream",
     "text": [
      "Left: -0.014053744642853028\n",
      "Right: 0.04745974187760005\n",
      "Processing data 2585\n"
     ]
    },
    {
     "name": "stderr",
     "output_type": "stream",
     "text": [
      "Processing: 100%|██████████| 150/150 [00:01<00:00, 75.49it/s] \n"
     ]
    },
    {
     "name": "stdout",
     "output_type": "stream",
     "text": [
      "Left: -0.001087896983724801\n",
      "Right: 0.28629672571582787\n",
      "Processing data 2588\n"
     ]
    },
    {
     "name": "stderr",
     "output_type": "stream",
     "text": [
      "Processing: 100%|██████████| 150/150 [00:00<00:00, 168.46it/s]\n"
     ]
    },
    {
     "name": "stdout",
     "output_type": "stream",
     "text": [
      "Left: 0.4777611546315944\n",
      "Right: 0.0013293644438745755\n",
      "Processing data 2589\n"
     ]
    },
    {
     "name": "stderr",
     "output_type": "stream",
     "text": [
      "Processing: 100%|██████████| 150/150 [00:02<00:00, 69.84it/s] \n"
     ]
    },
    {
     "name": "stdout",
     "output_type": "stream",
     "text": [
      "Left: 0.00812741625588731\n",
      "Right: 0.3781862061693653\n",
      "Processing data 2590\n"
     ]
    },
    {
     "name": "stderr",
     "output_type": "stream",
     "text": [
      "Processing: 100%|██████████| 150/150 [00:01<00:00, 92.93it/s] \n"
     ]
    },
    {
     "name": "stdout",
     "output_type": "stream",
     "text": [
      "Left: 0.2603945110297564\n",
      "Right: -0.0001150976802763359\n",
      "Processing data 2593\n"
     ]
    },
    {
     "name": "stderr",
     "output_type": "stream",
     "text": [
      "Processing: 100%|██████████| 150/150 [00:02<00:00, 56.33it/s]\n"
     ]
    },
    {
     "name": "stdout",
     "output_type": "stream",
     "text": [
      "Left: 0.47771235537649376\n",
      "Right: 0.00471752845575707\n",
      "Processing data 2598\n"
     ]
    },
    {
     "name": "stderr",
     "output_type": "stream",
     "text": [
      "Processing: 100%|██████████| 150/150 [00:02<00:00, 68.70it/s] \n"
     ]
    },
    {
     "name": "stdout",
     "output_type": "stream",
     "text": [
      "Left: 0.9085568819997828\n",
      "Right: -8.190361544169189e-05\n",
      "Processing data 2599\n"
     ]
    },
    {
     "name": "stderr",
     "output_type": "stream",
     "text": [
      "Processing: 100%|██████████| 150/150 [00:00<00:00, 402.21it/s]\n"
     ]
    },
    {
     "name": "stdout",
     "output_type": "stream",
     "text": [
      "Left: 0.7796425948405774\n",
      "Right: -0.0025293728830653728\n",
      "Processing data 2600\n"
     ]
    },
    {
     "name": "stderr",
     "output_type": "stream",
     "text": [
      "Processing: 100%|██████████| 150/150 [00:00<00:00, 255.14it/s]\n"
     ]
    },
    {
     "name": "stdout",
     "output_type": "stream",
     "text": [
      "Left: 0.37531139999315655\n",
      "Right: 0.567784844749331\n",
      "Processing data 2601\n"
     ]
    },
    {
     "name": "stderr",
     "output_type": "stream",
     "text": [
      "Processing: 100%|██████████| 90/90 [00:00<00:00, 167.45it/s]\n"
     ]
    },
    {
     "name": "stdout",
     "output_type": "stream",
     "text": [
      "Left: 0.43276660178418075\n",
      "Right: 0.045838293827194766\n",
      "Processing data 2605\n"
     ]
    },
    {
     "name": "stderr",
     "output_type": "stream",
     "text": [
      "Processing: 100%|██████████| 150/150 [00:01<00:00, 84.15it/s] \n"
     ]
    },
    {
     "name": "stdout",
     "output_type": "stream",
     "text": [
      "Left: 0.6332546802206838\n",
      "Right: -0.02744194871030296\n",
      "Processing data 2606\n"
     ]
    },
    {
     "name": "stderr",
     "output_type": "stream",
     "text": [
      "Processing: 100%|██████████| 90/90 [00:00<00:00, 353.97it/s]\n"
     ]
    },
    {
     "name": "stdout",
     "output_type": "stream",
     "text": [
      "Left: 0.5034575207115451\n",
      "Right: 0.48319723436582457\n",
      "Processing data 2609\n"
     ]
    },
    {
     "name": "stderr",
     "output_type": "stream",
     "text": [
      "Processing: 100%|██████████| 150/150 [00:02<00:00, 63.07it/s]\n"
     ]
    },
    {
     "name": "stdout",
     "output_type": "stream",
     "text": [
      "Left: -0.3338780919877685\n",
      "Right: -0.016394335445099273\n",
      "Processing data 2611\n"
     ]
    },
    {
     "name": "stderr",
     "output_type": "stream",
     "text": [
      "Processing: 100%|██████████| 150/150 [00:02<00:00, 61.85it/s] \n"
     ]
    },
    {
     "name": "stdout",
     "output_type": "stream",
     "text": [
      "Left: 0.3186336251351361\n",
      "Right: 0.001099296839577553\n",
      "Processing data 2612\n"
     ]
    },
    {
     "name": "stderr",
     "output_type": "stream",
     "text": [
      "Processing: 100%|██████████| 150/150 [00:00<00:00, 167.17it/s]\n"
     ]
    },
    {
     "name": "stdout",
     "output_type": "stream",
     "text": [
      "Left: 0.5283622018718569\n",
      "Right: 0.005961697234802171\n",
      "Processing data 2615\n"
     ]
    },
    {
     "name": "stderr",
     "output_type": "stream",
     "text": [
      "Processing: 100%|██████████| 150/150 [00:02<00:00, 69.27it/s]\n"
     ]
    },
    {
     "name": "stdout",
     "output_type": "stream",
     "text": [
      "Left: 0.6629860619884007\n",
      "Right: 0.3790007195595513\n",
      "Processing data 2617\n"
     ]
    },
    {
     "name": "stderr",
     "output_type": "stream",
     "text": [
      "Processing: 100%|██████████| 150/150 [00:00<00:00, 368.33it/s]\n"
     ]
    },
    {
     "name": "stdout",
     "output_type": "stream",
     "text": [
      "Left: 0.6678111529836632\n",
      "Right: 0.0009427598896334499\n",
      "Processing data 2618\n"
     ]
    },
    {
     "name": "stderr",
     "output_type": "stream",
     "text": [
      "Processing: 100%|██████████| 90/90 [00:01<00:00, 80.03it/s] \n"
     ]
    },
    {
     "name": "stdout",
     "output_type": "stream",
     "text": [
      "Left: 0.25345686974160436\n",
      "Right: 0.28897069399806197\n",
      "Processing data 2621\n"
     ]
    },
    {
     "name": "stderr",
     "output_type": "stream",
     "text": [
      "Processing: 100%|██████████| 150/150 [00:02<00:00, 54.33it/s] \n"
     ]
    },
    {
     "name": "stdout",
     "output_type": "stream",
     "text": [
      "Left: 0.38836251035797936\n",
      "Right: 0.002480704501098857\n",
      "Processing data 2623\n"
     ]
    },
    {
     "name": "stderr",
     "output_type": "stream",
     "text": [
      "Processing: 100%|██████████| 150/150 [00:03<00:00, 44.49it/s]\n"
     ]
    },
    {
     "name": "stdout",
     "output_type": "stream",
     "text": [
      "Left: 0.29656624164629564\n",
      "Right: -0.0002464122343198982\n",
      "Processing data 2624\n"
     ]
    },
    {
     "name": "stderr",
     "output_type": "stream",
     "text": [
      "Processing: 100%|██████████| 150/150 [00:00<00:00, 278.69it/s]\n"
     ]
    },
    {
     "name": "stdout",
     "output_type": "stream",
     "text": [
      "Left: 0.0011778693826054176\n",
      "Right: 0.25181926684008615\n",
      "Processing data 2625\n"
     ]
    },
    {
     "name": "stderr",
     "output_type": "stream",
     "text": [
      "Processing: 100%|██████████| 150/150 [00:02<00:00, 57.57it/s]\n"
     ]
    },
    {
     "name": "stdout",
     "output_type": "stream",
     "text": [
      "Left: 0.017883164875527435\n",
      "Right: 0.1743360292627858\n",
      "Processing data 2627\n"
     ]
    },
    {
     "name": "stderr",
     "output_type": "stream",
     "text": [
      "Processing: 100%|██████████| 150/150 [00:00<00:00, 303.40it/s]\n"
     ]
    },
    {
     "name": "stdout",
     "output_type": "stream",
     "text": [
      "Left: 0.7406527683254873\n",
      "Right: 0.0003989437439556841\n",
      "Processing data 2632\n"
     ]
    },
    {
     "name": "stderr",
     "output_type": "stream",
     "text": [
      "Processing: 100%|██████████| 150/150 [00:00<00:00, 191.06it/s]\n"
     ]
    },
    {
     "name": "stdout",
     "output_type": "stream",
     "text": [
      "Left: 0.3178392633324065\n",
      "Right: 0.25482747233449754\n",
      "Processing data 2633\n"
     ]
    },
    {
     "name": "stderr",
     "output_type": "stream",
     "text": [
      "Processing: 100%|██████████| 150/150 [00:01<00:00, 77.80it/s]\n"
     ]
    },
    {
     "name": "stdout",
     "output_type": "stream",
     "text": [
      "Left: 0.469736191625984\n",
      "Right: 0.002220530546800957\n",
      "Processing data 2634\n"
     ]
    },
    {
     "name": "stderr",
     "output_type": "stream",
     "text": [
      "Processing: 100%|██████████| 150/150 [00:00<00:00, 381.32it/s]\n"
     ]
    },
    {
     "name": "stdout",
     "output_type": "stream",
     "text": [
      "Left: 0.3809361924597922\n",
      "Right: 0.004389192040577824\n",
      "Processing data 2636\n"
     ]
    },
    {
     "name": "stderr",
     "output_type": "stream",
     "text": [
      "Processing: 100%|██████████| 60/60 [00:00<00:00, 402.80it/s]\n"
     ]
    },
    {
     "name": "stdout",
     "output_type": "stream",
     "text": [
      "Left: 0.4193589835358945\n",
      "Right: 0.2534349712233951\n",
      "Processing data 2638\n"
     ]
    },
    {
     "name": "stderr",
     "output_type": "stream",
     "text": [
      "Processing: 100%|██████████| 150/150 [00:00<00:00, 200.44it/s]\n"
     ]
    },
    {
     "name": "stdout",
     "output_type": "stream",
     "text": [
      "Left: 0.43802470493166407\n",
      "Right: 0.0009976442183235587\n",
      "Processing data 2641\n"
     ]
    },
    {
     "name": "stderr",
     "output_type": "stream",
     "text": [
      "Processing: 100%|██████████| 180/180 [00:00<00:00, 181.87it/s]\n"
     ]
    },
    {
     "name": "stdout",
     "output_type": "stream",
     "text": [
      "Left: 0.49690985102248947\n",
      "Right: 0.00027345514335472363\n",
      "Processing data 2643\n"
     ]
    },
    {
     "name": "stderr",
     "output_type": "stream",
     "text": [
      "Processing: 100%|██████████| 180/180 [00:02<00:00, 71.03it/s] \n"
     ]
    },
    {
     "name": "stdout",
     "output_type": "stream",
     "text": [
      "Left: -0.012591312093972351\n",
      "Right: -1.928207074125554e-05\n",
      "Processing data 2645\n"
     ]
    },
    {
     "name": "stderr",
     "output_type": "stream",
     "text": [
      "Processing: 100%|██████████| 90/90 [00:00<00:00, 360.40it/s]\n"
     ]
    },
    {
     "name": "stdout",
     "output_type": "stream",
     "text": [
      "Left: 0.2546827005432021\n",
      "Right: -0.0033485025014812764\n",
      "Processing data 2646\n"
     ]
    },
    {
     "name": "stderr",
     "output_type": "stream",
     "text": [
      "Processing: 100%|██████████| 150/150 [00:01<00:00, 81.86it/s]\n"
     ]
    },
    {
     "name": "stdout",
     "output_type": "stream",
     "text": [
      "Left: 0.7181270248725273\n",
      "Right: 0.3331931303700688\n",
      "Processing data 2647\n"
     ]
    },
    {
     "name": "stderr",
     "output_type": "stream",
     "text": [
      "Processing: 100%|██████████| 60/60 [00:00<00:00, 328.53it/s]\n"
     ]
    },
    {
     "name": "stdout",
     "output_type": "stream",
     "text": [
      "Left: -0.06513319243318749\n",
      "Right: 0.01394358938423812\n",
      "Processing data 2648\n"
     ]
    },
    {
     "name": "stderr",
     "output_type": "stream",
     "text": [
      "Processing: 100%|██████████| 180/180 [00:01<00:00, 138.29it/s]\n"
     ]
    },
    {
     "name": "stdout",
     "output_type": "stream",
     "text": [
      "Left: 0.3002526848802601\n",
      "Right: 0.20975162953490387\n",
      "Processing data 2650\n"
     ]
    },
    {
     "name": "stderr",
     "output_type": "stream",
     "text": [
      "Processing: 100%|██████████| 60/60 [00:00<00:00, 144.05it/s]\n"
     ]
    },
    {
     "name": "stdout",
     "output_type": "stream",
     "text": [
      "Left: 0.2161167483224562\n",
      "Right: -0.006044067877436082\n",
      "Processing data 2652\n"
     ]
    },
    {
     "name": "stderr",
     "output_type": "stream",
     "text": [
      "Processing: 100%|██████████| 150/150 [02:06<00:00,  1.19it/s]\n"
     ]
    },
    {
     "name": "stdout",
     "output_type": "stream",
     "text": [
      "Left: 0.28821147620288723\n",
      "Right: -0.00042105008644404904\n",
      "Processing data 2654\n"
     ]
    },
    {
     "name": "stderr",
     "output_type": "stream",
     "text": [
      "Processing: 100%|██████████| 150/150 [00:05<00:00, 26.30it/s]\n"
     ]
    },
    {
     "name": "stdout",
     "output_type": "stream",
     "text": [
      "Left: -0.00822617457108299\n",
      "Right: -0.05095714455936806\n",
      "Processing data 2656\n"
     ]
    },
    {
     "name": "stderr",
     "output_type": "stream",
     "text": [
      "Processing: 100%|██████████| 120/120 [00:00<00:00, 160.25it/s]\n"
     ]
    },
    {
     "name": "stdout",
     "output_type": "stream",
     "text": [
      "Left: 0.6779553975177834\n",
      "Right: 0.001099492571290512\n",
      "Processing data 2658\n"
     ]
    },
    {
     "name": "stderr",
     "output_type": "stream",
     "text": [
      "Processing: 100%|██████████| 90/90 [00:02<00:00, 35.72it/s]\n"
     ]
    },
    {
     "name": "stdout",
     "output_type": "stream",
     "text": [
      "Left: -0.04286654329104317\n",
      "Right: 0.001326251099473652\n",
      "Processing data 2661\n"
     ]
    },
    {
     "name": "stderr",
     "output_type": "stream",
     "text": [
      "Processing: 100%|██████████| 150/150 [00:04<00:00, 36.01it/s]\n"
     ]
    },
    {
     "name": "stdout",
     "output_type": "stream",
     "text": [
      "Left: 0.004510866665870916\n",
      "Right: 0.3325226714476015\n",
      "Processing data 2662\n"
     ]
    },
    {
     "name": "stderr",
     "output_type": "stream",
     "text": [
      "Processing: 100%|██████████| 90/90 [00:00<00:00, 305.72it/s]\n"
     ]
    },
    {
     "name": "stdout",
     "output_type": "stream",
     "text": [
      "Left: 0.11410677673486036\n",
      "Right: -0.0027768363109149305\n",
      "Processing data 2664\n"
     ]
    },
    {
     "name": "stderr",
     "output_type": "stream",
     "text": [
      "Processing: 100%|██████████| 60/60 [00:00<00:00, 207.69it/s]\n"
     ]
    },
    {
     "name": "stdout",
     "output_type": "stream",
     "text": [
      "Left: 0.22216393322793615\n",
      "Right: 0.005111859388567619\n",
      "Processing data 2666\n"
     ]
    },
    {
     "name": "stderr",
     "output_type": "stream",
     "text": [
      "Processing: 100%|██████████| 150/150 [00:00<00:00, 677.69it/s]\n"
     ]
    },
    {
     "name": "stdout",
     "output_type": "stream",
     "text": [
      "Left: -0.0042694364879992674\n",
      "Right: 0.013001871426089523\n",
      "Processing data 2668\n"
     ]
    },
    {
     "name": "stderr",
     "output_type": "stream",
     "text": [
      "Processing: 100%|██████████| 150/150 [00:00<00:00, 579.76it/s]\n"
     ]
    },
    {
     "name": "stdout",
     "output_type": "stream",
     "text": [
      "Left: 0.3084697024790601\n",
      "Right: 0.5314816884563774\n",
      "Processing data 2669\n"
     ]
    },
    {
     "name": "stderr",
     "output_type": "stream",
     "text": [
      "Processing: 100%|██████████| 150/150 [00:00<00:00, 603.22it/s]\n"
     ]
    },
    {
     "name": "stdout",
     "output_type": "stream",
     "text": [
      "Left: 0.242451533685915\n",
      "Right: 0.09345249006726586\n",
      "Processing data 2670\n"
     ]
    },
    {
     "name": "stderr",
     "output_type": "stream",
     "text": [
      "Processing: 100%|██████████| 180/180 [00:00<00:00, 579.17it/s]\n"
     ]
    },
    {
     "name": "stdout",
     "output_type": "stream",
     "text": [
      "Left: 0.1152320519270883\n",
      "Right: 0.006691503684660455\n",
      "Processing data 2671\n"
     ]
    },
    {
     "name": "stderr",
     "output_type": "stream",
     "text": [
      "Processing: 100%|██████████| 150/150 [00:02<00:00, 56.85it/s]\n"
     ]
    },
    {
     "name": "stdout",
     "output_type": "stream",
     "text": [
      "Left: 0.367659240917773\n",
      "Right: -0.0027821994978819153\n",
      "Processing data 2672\n"
     ]
    },
    {
     "name": "stderr",
     "output_type": "stream",
     "text": [
      "Processing: 100%|██████████| 150/150 [00:00<00:00, 537.58it/s]\n"
     ]
    },
    {
     "name": "stdout",
     "output_type": "stream",
     "text": [
      "Left: 0.4926599546621412\n",
      "Right: 0.0003154093702862678\n",
      "Processing data 2673\n"
     ]
    },
    {
     "name": "stderr",
     "output_type": "stream",
     "text": [
      "Processing: 100%|██████████| 150/150 [00:00<00:00, 559.62it/s]\n"
     ]
    },
    {
     "name": "stdout",
     "output_type": "stream",
     "text": [
      "Left: 0.7724181151492681\n",
      "Right: 0.001163281693062933\n",
      "Processing data 2674\n"
     ]
    },
    {
     "name": "stderr",
     "output_type": "stream",
     "text": [
      "Processing: 100%|██████████| 150/150 [00:00<00:00, 643.27it/s]\n"
     ]
    },
    {
     "name": "stdout",
     "output_type": "stream",
     "text": [
      "Left: 0.5395294818839966\n",
      "Right: 0.0003459029149551955\n",
      "Processing data 2681\n"
     ]
    },
    {
     "name": "stderr",
     "output_type": "stream",
     "text": [
      "Processing: 100%|██████████| 180/180 [00:00<00:00, 315.21it/s]\n"
     ]
    },
    {
     "name": "stdout",
     "output_type": "stream",
     "text": [
      "Left: 0.15659296206674905\n",
      "Right: 0.0071952402174767505\n",
      "Processing data 2682\n"
     ]
    },
    {
     "name": "stderr",
     "output_type": "stream",
     "text": [
      "Processing: 100%|██████████| 150/150 [00:01<00:00, 127.03it/s]\n"
     ]
    },
    {
     "name": "stdout",
     "output_type": "stream",
     "text": [
      "Left: 0.4460767928828767\n",
      "Right: 0.004213517445553398\n",
      "Processing data 2683\n"
     ]
    },
    {
     "name": "stderr",
     "output_type": "stream",
     "text": [
      "Processing: 100%|██████████| 150/150 [00:00<00:00, 332.50it/s]\n"
     ]
    },
    {
     "name": "stdout",
     "output_type": "stream",
     "text": [
      "Left: 0.29027918228357136\n",
      "Right: 0.0014460621834413926\n",
      "Processing data 2684\n"
     ]
    },
    {
     "name": "stderr",
     "output_type": "stream",
     "text": [
      "Processing: 100%|██████████| 120/120 [00:00<00:00, 151.62it/s]\n"
     ]
    },
    {
     "name": "stdout",
     "output_type": "stream",
     "text": [
      "Left: 3.833651007062455e-06\n",
      "Right: -0.045703598475831275\n",
      "Processing data 2686\n"
     ]
    },
    {
     "name": "stderr",
     "output_type": "stream",
     "text": [
      "Processing: 100%|██████████| 150/150 [00:01<00:00, 107.09it/s]\n"
     ]
    },
    {
     "name": "stdout",
     "output_type": "stream",
     "text": [
      "Left: 0.3138009327603638\n",
      "Right: -0.01841874114477776\n",
      "Processing data 2689\n"
     ]
    },
    {
     "name": "stderr",
     "output_type": "stream",
     "text": [
      "Processing: 100%|██████████| 120/120 [00:00<00:00, 281.84it/s]\n"
     ]
    },
    {
     "name": "stdout",
     "output_type": "stream",
     "text": [
      "Left: 0.21332359666654122\n",
      "Right: -1.6655359553876875e-06\n",
      "Processing data 2693\n"
     ]
    },
    {
     "name": "stderr",
     "output_type": "stream",
     "text": [
      "Processing: 100%|██████████| 120/120 [00:03<00:00, 37.12it/s]\n"
     ]
    },
    {
     "name": "stdout",
     "output_type": "stream",
     "text": [
      "Left: 0.14407151378252947\n",
      "Right: 0.0007883721502062735\n",
      "Processing data 2695\n"
     ]
    },
    {
     "name": "stderr",
     "output_type": "stream",
     "text": [
      "Processing: 100%|██████████| 150/150 [00:00<00:00, 184.01it/s]\n"
     ]
    },
    {
     "name": "stdout",
     "output_type": "stream",
     "text": [
      "Left: -0.029466351699880544\n",
      "Right: -0.03864530610762329\n",
      "Processing data 2696\n"
     ]
    },
    {
     "name": "stderr",
     "output_type": "stream",
     "text": [
      "Processing: 100%|██████████| 60/60 [00:00<00:00, 481.86it/s]\n"
     ]
    },
    {
     "name": "stdout",
     "output_type": "stream",
     "text": [
      "Left: -0.05184062046094251\n",
      "Right: -0.12485290641412983\n",
      "Processing data 2697\n"
     ]
    },
    {
     "name": "stderr",
     "output_type": "stream",
     "text": [
      "Processing: 100%|██████████| 150/150 [00:05<00:00, 26.48it/s]\n"
     ]
    },
    {
     "name": "stdout",
     "output_type": "stream",
     "text": [
      "Left: 0.0014276761163922458\n",
      "Right: 0.3397479932272416\n",
      "Processing data 2698\n"
     ]
    },
    {
     "name": "stderr",
     "output_type": "stream",
     "text": [
      "Processing: 100%|██████████| 150/150 [00:03<00:00, 41.22it/s]\n"
     ]
    },
    {
     "name": "stdout",
     "output_type": "stream",
     "text": [
      "Left: 0.047111393011792124\n",
      "Right: -0.0014650693370678591\n",
      "Processing data 2700\n"
     ]
    },
    {
     "name": "stderr",
     "output_type": "stream",
     "text": [
      "Processing: 100%|██████████| 150/150 [00:00<00:00, 365.87it/s]\n"
     ]
    },
    {
     "name": "stdout",
     "output_type": "stream",
     "text": [
      "Left: 0.6612473688092556\n",
      "Right: 0.4700633121790737\n",
      "Processing data 2701\n"
     ]
    },
    {
     "name": "stderr",
     "output_type": "stream",
     "text": [
      "Processing: 100%|██████████| 150/150 [00:04<00:00, 35.54it/s]\n"
     ]
    },
    {
     "name": "stdout",
     "output_type": "stream",
     "text": [
      "Left: 0.07473581686943331\n",
      "Right: -0.003871757110169849\n",
      "Processing data 2702\n"
     ]
    },
    {
     "name": "stderr",
     "output_type": "stream",
     "text": [
      "Processing: 100%|██████████| 150/150 [00:02<00:00, 67.69it/s]\n"
     ]
    },
    {
     "name": "stdout",
     "output_type": "stream",
     "text": [
      "Left: 0.0007422263799110318\n",
      "Right: 0.33205409836123184\n",
      "Processing data 2704\n"
     ]
    },
    {
     "name": "stderr",
     "output_type": "stream",
     "text": [
      "Processing: 100%|██████████| 120/120 [00:00<00:00, 401.61it/s]\n"
     ]
    },
    {
     "name": "stdout",
     "output_type": "stream",
     "text": [
      "Left: 0.05646501680207494\n",
      "Right: 2.8838305165512432e-05\n",
      "Processing data 2705\n"
     ]
    },
    {
     "name": "stderr",
     "output_type": "stream",
     "text": [
      "Processing: 100%|██████████| 150/150 [00:00<00:00, 190.84it/s]\n"
     ]
    },
    {
     "name": "stdout",
     "output_type": "stream",
     "text": [
      "Left: 0.3468256775476204\n",
      "Right: 0.00012469735542066122\n",
      "Processing data 2706\n"
     ]
    },
    {
     "name": "stderr",
     "output_type": "stream",
     "text": [
      "Processing: 100%|██████████| 150/150 [00:01<00:00, 80.55it/s]\n"
     ]
    },
    {
     "name": "stdout",
     "output_type": "stream",
     "text": [
      "Left: -6.046887919861077e-05\n",
      "Right: 0.13263202555847342\n",
      "Processing data 2707\n"
     ]
    },
    {
     "name": "stderr",
     "output_type": "stream",
     "text": [
      "Processing: 100%|██████████| 180/180 [00:00<00:00, 1045.14it/s]\n"
     ]
    },
    {
     "name": "stdout",
     "output_type": "stream",
     "text": [
      "Left: 0.3763893817657017\n",
      "Right: 0.20930630850773635\n",
      "Processing data 2708\n"
     ]
    },
    {
     "name": "stderr",
     "output_type": "stream",
     "text": [
      "Processing: 100%|██████████| 150/150 [00:00<00:00, 361.48it/s]\n"
     ]
    },
    {
     "name": "stdout",
     "output_type": "stream",
     "text": [
      "Left: 0.4710419263467131\n",
      "Right: 0.007885933602432713\n",
      "Processing data 2709\n"
     ]
    },
    {
     "name": "stderr",
     "output_type": "stream",
     "text": [
      "Processing: 100%|██████████| 150/150 [00:00<00:00, 513.80it/s]\n"
     ]
    },
    {
     "name": "stdout",
     "output_type": "stream",
     "text": [
      "Left: -0.1874388886986793\n",
      "Right: -0.1992934849370266\n",
      "Processing data 2710\n"
     ]
    },
    {
     "name": "stderr",
     "output_type": "stream",
     "text": [
      "Processing: 100%|██████████| 60/60 [00:00<00:00, 79.12it/s]\n"
     ]
    },
    {
     "name": "stdout",
     "output_type": "stream",
     "text": [
      "Left: 0.6241316072524604\n",
      "Right: -0.02736506041068254\n",
      "Processing data 2712\n"
     ]
    },
    {
     "name": "stderr",
     "output_type": "stream",
     "text": [
      "Processing: 100%|██████████| 150/150 [00:00<00:00, 583.48it/s]\n"
     ]
    },
    {
     "name": "stdout",
     "output_type": "stream",
     "text": [
      "Left: 0.30167124782140176\n",
      "Right: 0.0006934518976485847\n",
      "Processing data 2713\n"
     ]
    },
    {
     "name": "stderr",
     "output_type": "stream",
     "text": [
      "Processing: 100%|██████████| 150/150 [00:00<00:00, 624.09it/s]\n"
     ]
    },
    {
     "name": "stdout",
     "output_type": "stream",
     "text": [
      "Left: 0.007747395895971454\n",
      "Right: -0.04760086010097825\n",
      "Processing data 2714\n"
     ]
    },
    {
     "name": "stderr",
     "output_type": "stream",
     "text": [
      "Processing: 100%|██████████| 120/120 [00:00<00:00, 624.76it/s]\n"
     ]
    },
    {
     "name": "stdout",
     "output_type": "stream",
     "text": [
      "Left: 0.3503061583574512\n",
      "Right: 0.00046498380442552096\n",
      "Processing data 2716\n"
     ]
    },
    {
     "name": "stderr",
     "output_type": "stream",
     "text": [
      "Processing: 100%|██████████| 150/150 [00:00<00:00, 485.73it/s]\n"
     ]
    },
    {
     "name": "stdout",
     "output_type": "stream",
     "text": [
      "Left: 0.28078572740486285\n",
      "Right: -0.00116501321787414\n",
      "Processing data 2721\n"
     ]
    },
    {
     "name": "stderr",
     "output_type": "stream",
     "text": [
      "Processing: 100%|██████████| 150/150 [00:01<00:00, 83.28it/s] \n"
     ]
    },
    {
     "name": "stdout",
     "output_type": "stream",
     "text": [
      "Left: -0.001276193502411857\n",
      "Right: 0.26835714279668593\n",
      "Processing data 2722\n"
     ]
    },
    {
     "name": "stderr",
     "output_type": "stream",
     "text": [
      "Processing: 100%|██████████| 150/150 [00:00<00:00, 275.05it/s]\n"
     ]
    },
    {
     "name": "stdout",
     "output_type": "stream",
     "text": [
      "Left: 0.3304733235004682\n",
      "Right: 0.002972529468832027\n",
      "Processing data 2723\n"
     ]
    },
    {
     "name": "stderr",
     "output_type": "stream",
     "text": [
      "Processing: 100%|██████████| 150/150 [00:01<00:00, 101.68it/s]\n"
     ]
    },
    {
     "name": "stdout",
     "output_type": "stream",
     "text": [
      "Left: 0.3111293217347771\n",
      "Right: -0.005093664797237531\n",
      "Processing data 2724\n"
     ]
    },
    {
     "name": "stderr",
     "output_type": "stream",
     "text": [
      "Processing: 100%|██████████| 90/90 [00:00<00:00, 255.24it/s]\n"
     ]
    },
    {
     "name": "stdout",
     "output_type": "stream",
     "text": [
      "Left: 0.006621775419088927\n",
      "Right: -0.0468227614027919\n",
      "Processing data 2725\n"
     ]
    },
    {
     "name": "stderr",
     "output_type": "stream",
     "text": [
      "Processing: 100%|██████████| 150/150 [00:00<00:00, 353.55it/s]\n"
     ]
    },
    {
     "name": "stdout",
     "output_type": "stream",
     "text": [
      "Left: 0.33067548679560804\n",
      "Right: 0.0025878227264267426\n",
      "Processing data 2726\n"
     ]
    },
    {
     "name": "stderr",
     "output_type": "stream",
     "text": [
      "Processing: 100%|██████████| 180/180 [00:00<00:00, 412.54it/s]\n"
     ]
    },
    {
     "name": "stdout",
     "output_type": "stream",
     "text": [
      "Left: 0.5461460723470237\n",
      "Right: 0.3891383927576326\n",
      "Processing data 2727\n"
     ]
    },
    {
     "name": "stderr",
     "output_type": "stream",
     "text": [
      "Processing: 100%|██████████| 150/150 [00:00<00:00, 215.30it/s]\n"
     ]
    },
    {
     "name": "stdout",
     "output_type": "stream",
     "text": [
      "Left: 0.5921097270252594\n",
      "Right: 0.42590538931805166\n",
      "Processing data 2728\n"
     ]
    },
    {
     "name": "stderr",
     "output_type": "stream",
     "text": [
      "Processing: 100%|██████████| 90/90 [00:00<00:00, 172.16it/s]\n"
     ]
    },
    {
     "name": "stdout",
     "output_type": "stream",
     "text": [
      "Left: 0.49769844005018515\n",
      "Right: 0.4185751136585326\n",
      "Processing data 2730\n"
     ]
    },
    {
     "name": "stderr",
     "output_type": "stream",
     "text": [
      "Processing: 100%|██████████| 120/120 [00:01<00:00, 100.03it/s]\n"
     ]
    },
    {
     "name": "stdout",
     "output_type": "stream",
     "text": [
      "Left: 0.004058101401312717\n",
      "Right: 0.7385229430858853\n",
      "Processing data 2731\n"
     ]
    },
    {
     "name": "stderr",
     "output_type": "stream",
     "text": [
      "Processing: 100%|██████████| 150/150 [00:00<00:00, 165.86it/s]\n"
     ]
    },
    {
     "name": "stdout",
     "output_type": "stream",
     "text": [
      "Left: 0.0018431480453694991\n",
      "Right: 0.4869328567166339\n",
      "Processing data 2733\n"
     ]
    },
    {
     "name": "stderr",
     "output_type": "stream",
     "text": [
      "Processing: 100%|██████████| 150/150 [00:01<00:00, 122.58it/s]\n"
     ]
    },
    {
     "name": "stdout",
     "output_type": "stream",
     "text": [
      "Left: 0.6327602777677528\n",
      "Right: 0.0006950443406154826\n",
      "Processing data 2734\n"
     ]
    },
    {
     "name": "stderr",
     "output_type": "stream",
     "text": [
      "Processing: 100%|██████████| 120/120 [00:00<00:00, 124.01it/s]\n"
     ]
    },
    {
     "name": "stdout",
     "output_type": "stream",
     "text": [
      "Left: 0.0843857191536187\n",
      "Right: -0.04518881058757457\n",
      "Processing data 2741\n"
     ]
    },
    {
     "name": "stderr",
     "output_type": "stream",
     "text": [
      "Processing: 100%|██████████| 150/150 [00:00<00:00, 155.48it/s]\n"
     ]
    },
    {
     "name": "stdout",
     "output_type": "stream",
     "text": [
      "Left: 0.24909076727880297\n",
      "Right: 0.3262515362928459\n",
      "Processing data 2745\n"
     ]
    },
    {
     "name": "stderr",
     "output_type": "stream",
     "text": [
      "Processing: 100%|██████████| 150/150 [00:03<00:00, 49.77it/s] \n"
     ]
    },
    {
     "name": "stdout",
     "output_type": "stream",
     "text": [
      "Left: -0.08511263164801774\n",
      "Right: -0.09763809794890999\n",
      "Processing data 2747\n"
     ]
    },
    {
     "name": "stderr",
     "output_type": "stream",
     "text": [
      "Processing: 100%|██████████| 150/150 [00:03<00:00, 49.78it/s] \n"
     ]
    },
    {
     "name": "stdout",
     "output_type": "stream",
     "text": [
      "Left: -0.00010348042837449167\n",
      "Right: -0.08693817161372891\n",
      "Processing data 2748\n"
     ]
    },
    {
     "name": "stderr",
     "output_type": "stream",
     "text": [
      "Processing: 100%|██████████| 150/150 [00:00<00:00, 194.96it/s]\n"
     ]
    },
    {
     "name": "stdout",
     "output_type": "stream",
     "text": [
      "Left: 0.37941146975861545\n",
      "Right: 0.027106531387002475\n",
      "Processing data 2749\n"
     ]
    },
    {
     "name": "stderr",
     "output_type": "stream",
     "text": [
      "Processing: 100%|██████████| 150/150 [00:04<00:00, 33.76it/s]\n"
     ]
    },
    {
     "name": "stdout",
     "output_type": "stream",
     "text": [
      "Left: 0.1460798070592923\n",
      "Right: 0.0011050657389010433\n",
      "Processing data 2750\n"
     ]
    },
    {
     "name": "stderr",
     "output_type": "stream",
     "text": [
      "Processing: 100%|██████████| 150/150 [00:01<00:00, 86.32it/s] \n"
     ]
    },
    {
     "name": "stdout",
     "output_type": "stream",
     "text": [
      "Left: 0.11831953139735885\n",
      "Right: -0.000188342907098976\n",
      "Processing data 2751\n"
     ]
    },
    {
     "name": "stderr",
     "output_type": "stream",
     "text": [
      "Processing: 100%|██████████| 120/120 [00:02<00:00, 51.53it/s]\n"
     ]
    },
    {
     "name": "stdout",
     "output_type": "stream",
     "text": [
      "Left: 0.013261067787472713\n",
      "Right: 0.0001539592945150733\n",
      "Processing data 2753\n"
     ]
    },
    {
     "name": "stderr",
     "output_type": "stream",
     "text": [
      "Processing: 100%|██████████| 150/150 [00:00<00:00, 165.55it/s]\n"
     ]
    },
    {
     "name": "stdout",
     "output_type": "stream",
     "text": [
      "Left: 0.06684964275211003\n",
      "Right: -0.0008640860785407711\n",
      "Processing data 2754\n"
     ]
    },
    {
     "name": "stderr",
     "output_type": "stream",
     "text": [
      "Processing: 100%|██████████| 150/150 [00:00<00:00, 206.34it/s]\n"
     ]
    },
    {
     "name": "stdout",
     "output_type": "stream",
     "text": [
      "Left: 0.004016696444713419\n",
      "Right: 0.36759075669258656\n",
      "Processing data 2757\n"
     ]
    },
    {
     "name": "stderr",
     "output_type": "stream",
     "text": [
      "Processing: 100%|██████████| 150/150 [00:00<00:00, 270.48it/s]\n"
     ]
    },
    {
     "name": "stdout",
     "output_type": "stream",
     "text": [
      "Left: 0.630625243494316\n",
      "Right: 0.30750919291573714\n",
      "Processing data 2758\n"
     ]
    },
    {
     "name": "stderr",
     "output_type": "stream",
     "text": [
      "Processing: 100%|██████████| 60/60 [00:00<00:00, 157.04it/s]\n"
     ]
    },
    {
     "name": "stdout",
     "output_type": "stream",
     "text": [
      "Left: -0.02015250014723166\n",
      "Right: -0.0113861564441185\n",
      "Processing data 2761\n"
     ]
    },
    {
     "name": "stderr",
     "output_type": "stream",
     "text": [
      "Processing: 100%|██████████| 150/150 [00:01<00:00, 95.81it/s]\n"
     ]
    },
    {
     "name": "stdout",
     "output_type": "stream",
     "text": [
      "Left: 0.23914138517222724\n",
      "Right: -0.00021632247053418596\n",
      "Processing data 2763\n"
     ]
    },
    {
     "name": "stderr",
     "output_type": "stream",
     "text": [
      "Processing: 100%|██████████| 150/150 [00:02<00:00, 74.82it/s] \n"
     ]
    },
    {
     "name": "stdout",
     "output_type": "stream",
     "text": [
      "Left: 0.001061783810321626\n",
      "Right: -0.09489133018714435\n",
      "Processing data 2764\n"
     ]
    },
    {
     "name": "stderr",
     "output_type": "stream",
     "text": [
      "Processing: 100%|██████████| 120/120 [00:00<00:00, 205.88it/s]\n"
     ]
    },
    {
     "name": "stdout",
     "output_type": "stream",
     "text": [
      "Left: 0.549998049299111\n",
      "Right: 0.04122105705348961\n",
      "Processing data 2765\n"
     ]
    },
    {
     "name": "stderr",
     "output_type": "stream",
     "text": [
      "Processing: 100%|██████████| 150/150 [00:06<00:00, 22.67it/s]\n"
     ]
    },
    {
     "name": "stdout",
     "output_type": "stream",
     "text": [
      "Left: 0.27734692729355814\n",
      "Right: 0.22894491813704435\n",
      "Processing data 2766\n"
     ]
    },
    {
     "name": "stderr",
     "output_type": "stream",
     "text": [
      "Processing: 100%|██████████| 150/150 [00:02<00:00, 51.57it/s]\n"
     ]
    },
    {
     "name": "stdout",
     "output_type": "stream",
     "text": [
      "Left: -0.014930824720849611\n",
      "Right: -0.1334223869584712\n",
      "Processing data 2770\n"
     ]
    },
    {
     "name": "stderr",
     "output_type": "stream",
     "text": [
      "Processing: 100%|██████████| 150/150 [00:02<00:00, 56.61it/s]\n"
     ]
    },
    {
     "name": "stdout",
     "output_type": "stream",
     "text": [
      "Left: 0.005133262277293549\n",
      "Right: 0.16473240706425213\n",
      "Processing data 2771\n"
     ]
    },
    {
     "name": "stderr",
     "output_type": "stream",
     "text": [
      "Processing: 100%|██████████| 150/150 [00:03<00:00, 48.93it/s]\n"
     ]
    },
    {
     "name": "stdout",
     "output_type": "stream",
     "text": [
      "Left: 0.27742359505123765\n",
      "Right: -9.868714392825134e-05\n",
      "Processing data 2772\n"
     ]
    },
    {
     "name": "stderr",
     "output_type": "stream",
     "text": [
      "Processing: 100%|██████████| 150/150 [00:00<00:00, 343.08it/s]\n"
     ]
    },
    {
     "name": "stdout",
     "output_type": "stream",
     "text": [
      "Left: 0.3214892411028183\n",
      "Right: -0.030275505676430618\n",
      "Processing data 2773\n"
     ]
    },
    {
     "name": "stderr",
     "output_type": "stream",
     "text": [
      "Processing: 100%|██████████| 60/60 [00:00<00:00, 284.42it/s]\n"
     ]
    },
    {
     "name": "stdout",
     "output_type": "stream",
     "text": [
      "Left: -0.08392914485794667\n",
      "Right: -0.2731523714393508\n",
      "Processing data 2774\n"
     ]
    },
    {
     "name": "stderr",
     "output_type": "stream",
     "text": [
      "Processing: 100%|██████████| 150/150 [00:00<00:00, 153.60it/s]\n"
     ]
    },
    {
     "name": "stdout",
     "output_type": "stream",
     "text": [
      "Left: 0.4169542528746829\n",
      "Right: -0.0004945254180913489\n",
      "Processing data 2775\n"
     ]
    },
    {
     "name": "stderr",
     "output_type": "stream",
     "text": [
      "Processing: 100%|██████████| 150/150 [00:00<00:00, 457.57it/s]\n"
     ]
    },
    {
     "name": "stdout",
     "output_type": "stream",
     "text": [
      "Left: -0.06288523981981198\n",
      "Right: 8.031719812839899e-08\n",
      "Processing data 2779\n"
     ]
    },
    {
     "name": "stderr",
     "output_type": "stream",
     "text": [
      "Processing: 100%|██████████| 90/90 [00:01<00:00, 69.26it/s] \n"
     ]
    },
    {
     "name": "stdout",
     "output_type": "stream",
     "text": [
      "Left: -3.294410693346905e-05\n",
      "Right: 0.008110418585785262\n",
      "Processing data 2781\n"
     ]
    },
    {
     "name": "stderr",
     "output_type": "stream",
     "text": [
      "Processing: 100%|██████████| 150/150 [00:03<00:00, 42.68it/s]\n"
     ]
    },
    {
     "name": "stdout",
     "output_type": "stream",
     "text": [
      "Left: -0.10980201520087807\n",
      "Right: -0.010621865424990773\n",
      "Processing data 2783\n"
     ]
    },
    {
     "name": "stderr",
     "output_type": "stream",
     "text": [
      "Processing: 100%|██████████| 150/150 [00:00<00:00, 486.85it/s]\n"
     ]
    },
    {
     "name": "stdout",
     "output_type": "stream",
     "text": [
      "Left: 0.2422915294736121\n",
      "Right: 0.000659585319024541\n",
      "Processing data 2784\n"
     ]
    },
    {
     "name": "stderr",
     "output_type": "stream",
     "text": [
      "Processing: 100%|██████████| 90/90 [00:00<00:00, 114.35it/s]\n"
     ]
    },
    {
     "name": "stdout",
     "output_type": "stream",
     "text": [
      "Left: -0.04590126650550186\n",
      "Right: -0.00012235807396042062\n",
      "Processing data 2785\n"
     ]
    },
    {
     "name": "stderr",
     "output_type": "stream",
     "text": [
      "Processing: 100%|██████████| 150/150 [00:04<00:00, 34.53it/s] \n"
     ]
    },
    {
     "name": "stdout",
     "output_type": "stream",
     "text": [
      "Left: 0.003056574446496263\n",
      "Right: 0.22136125866246914\n",
      "Processing data 2786\n"
     ]
    },
    {
     "name": "stderr",
     "output_type": "stream",
     "text": [
      "Processing: 100%|██████████| 150/150 [00:00<00:00, 490.77it/s]\n"
     ]
    },
    {
     "name": "stdout",
     "output_type": "stream",
     "text": [
      "Left: 0.023523654675676145\n",
      "Right: 0.2954910527397842\n",
      "Processing data 2788\n"
     ]
    },
    {
     "name": "stderr",
     "output_type": "stream",
     "text": [
      "Processing: 100%|██████████| 150/150 [00:03<00:00, 42.26it/s]\n"
     ]
    },
    {
     "name": "stdout",
     "output_type": "stream",
     "text": [
      "Left: 0.4407808045675483\n",
      "Right: 0.004393273571168213\n",
      "Processing data 2790\n"
     ]
    },
    {
     "name": "stderr",
     "output_type": "stream",
     "text": [
      "Processing: 100%|██████████| 90/90 [00:03<00:00, 28.38it/s]\n"
     ]
    },
    {
     "name": "stdout",
     "output_type": "stream",
     "text": [
      "Left: 0.2549285793022331\n",
      "Right: 0.13257926236467438\n",
      "Processing data 2793\n"
     ]
    },
    {
     "name": "stderr",
     "output_type": "stream",
     "text": [
      "Processing: 100%|██████████| 150/150 [00:03<00:00, 43.05it/s]\n"
     ]
    },
    {
     "name": "stdout",
     "output_type": "stream",
     "text": [
      "Left: 5.8793241229024296e-05\n",
      "Right: 0.18183298707496892\n",
      "Processing data 2794\n"
     ]
    },
    {
     "name": "stderr",
     "output_type": "stream",
     "text": [
      "Processing: 100%|██████████| 150/150 [00:04<00:00, 34.56it/s]\n"
     ]
    },
    {
     "name": "stdout",
     "output_type": "stream",
     "text": [
      "Left: -0.03328612879879478\n",
      "Right: -0.005120699606942308\n",
      "Processing data 2795\n"
     ]
    },
    {
     "name": "stderr",
     "output_type": "stream",
     "text": [
      "Processing: 100%|██████████| 150/150 [00:02<00:00, 54.54it/s] \n"
     ]
    },
    {
     "name": "stdout",
     "output_type": "stream",
     "text": [
      "Left: -0.001007243498809346\n",
      "Right: 0.5884984216303726\n",
      "Processing data 2796\n"
     ]
    },
    {
     "name": "stderr",
     "output_type": "stream",
     "text": [
      "Processing: 100%|██████████| 150/150 [00:02<00:00, 73.16it/s] \n"
     ]
    },
    {
     "name": "stdout",
     "output_type": "stream",
     "text": [
      "Left: 0.503008654148028\n",
      "Right: -0.0050332602314982836\n",
      "Processing data 2798\n"
     ]
    },
    {
     "name": "stderr",
     "output_type": "stream",
     "text": [
      "Processing: 100%|██████████| 150/150 [00:05<00:00, 28.22it/s]\n"
     ]
    },
    {
     "name": "stdout",
     "output_type": "stream",
     "text": [
      "Left: 0.05241750936508904\n",
      "Right: 0.0002657534885844026\n",
      "Processing data 2800\n"
     ]
    },
    {
     "name": "stderr",
     "output_type": "stream",
     "text": [
      "Processing: 100%|██████████| 150/150 [00:02<00:00, 54.06it/s]\n"
     ]
    },
    {
     "name": "stdout",
     "output_type": "stream",
     "text": [
      "Left: 0.0003479507859791217\n",
      "Right: -0.16264154285083948\n",
      "Processing data 2802\n"
     ]
    },
    {
     "name": "stderr",
     "output_type": "stream",
     "text": [
      "Processing: 100%|██████████| 150/150 [00:02<00:00, 67.01it/s] \n"
     ]
    },
    {
     "name": "stdout",
     "output_type": "stream",
     "text": [
      "Left: 0.22279968774321596\n",
      "Right: -0.11366939649377958\n",
      "Processing data 2804\n"
     ]
    },
    {
     "name": "stderr",
     "output_type": "stream",
     "text": [
      "Processing: 100%|██████████| 150/150 [00:01<00:00, 75.20it/s] \n"
     ]
    },
    {
     "name": "stdout",
     "output_type": "stream",
     "text": [
      "Left: 0.6280717192391075\n",
      "Right: 0.1929616698307643\n",
      "Processing data 2805\n"
     ]
    },
    {
     "name": "stderr",
     "output_type": "stream",
     "text": [
      "Processing: 100%|██████████| 150/150 [00:04<00:00, 30.40it/s]\n"
     ]
    },
    {
     "name": "stdout",
     "output_type": "stream",
     "text": [
      "Left: -0.07875357429613472\n",
      "Right: -9.738713916737814e-05\n",
      "Processing data 2806\n"
     ]
    },
    {
     "name": "stderr",
     "output_type": "stream",
     "text": [
      "Processing: 100%|██████████| 150/150 [00:00<00:00, 296.70it/s]\n"
     ]
    },
    {
     "name": "stdout",
     "output_type": "stream",
     "text": [
      "Left: 0.19119375817519402\n",
      "Right: 0.0016765997509028407\n",
      "Processing data 2807\n"
     ]
    },
    {
     "name": "stderr",
     "output_type": "stream",
     "text": [
      "Processing: 100%|██████████| 120/120 [00:01<00:00, 74.16it/s]\n"
     ]
    },
    {
     "name": "stdout",
     "output_type": "stream",
     "text": [
      "Left: 0.5707210715234616\n",
      "Right: -0.1015835842486022\n",
      "Processing data 2809\n"
     ]
    },
    {
     "name": "stderr",
     "output_type": "stream",
     "text": [
      "Processing: 100%|██████████| 150/150 [00:03<00:00, 42.84it/s]\n"
     ]
    },
    {
     "name": "stdout",
     "output_type": "stream",
     "text": [
      "Left: 0.18775969636675066\n",
      "Right: -0.0005464662579464791\n",
      "Processing data 2810\n"
     ]
    },
    {
     "name": "stderr",
     "output_type": "stream",
     "text": [
      "Processing: 100%|██████████| 150/150 [00:01<00:00, 81.77it/s] \n"
     ]
    },
    {
     "name": "stdout",
     "output_type": "stream",
     "text": [
      "Left: 0.606774270836584\n",
      "Right: -0.04220102845333651\n",
      "Processing data 2811\n"
     ]
    },
    {
     "name": "stderr",
     "output_type": "stream",
     "text": [
      "Processing: 100%|██████████| 150/150 [00:01<00:00, 96.52it/s] \n"
     ]
    },
    {
     "name": "stdout",
     "output_type": "stream",
     "text": [
      "Left: 0.2786147132423844\n",
      "Right: 0.002635386964858044\n",
      "Processing data 2812\n"
     ]
    },
    {
     "name": "stderr",
     "output_type": "stream",
     "text": [
      "Processing: 100%|██████████| 150/150 [00:02<00:00, 55.63it/s]\n"
     ]
    },
    {
     "name": "stdout",
     "output_type": "stream",
     "text": [
      "Left: 0.3638962962232464\n",
      "Right: 0.0002399615186490789\n",
      "Processing data 2813\n"
     ]
    },
    {
     "name": "stderr",
     "output_type": "stream",
     "text": [
      "Processing: 100%|██████████| 150/150 [00:03<00:00, 48.79it/s] \n"
     ]
    },
    {
     "name": "stdout",
     "output_type": "stream",
     "text": [
      "Left: 0.44393326630054825\n",
      "Right: 0.001388902902027478\n",
      "Processing data 2814\n"
     ]
    },
    {
     "name": "stderr",
     "output_type": "stream",
     "text": [
      "Processing: 100%|██████████| 150/150 [00:02<00:00, 61.91it/s] \n"
     ]
    },
    {
     "name": "stdout",
     "output_type": "stream",
     "text": [
      "Left: -0.0011363615325349352\n",
      "Right: 0.21466807938600468\n",
      "Processing data 2819\n"
     ]
    },
    {
     "name": "stderr",
     "output_type": "stream",
     "text": [
      "Processing: 100%|██████████| 150/150 [00:04<00:00, 34.36it/s]\n"
     ]
    },
    {
     "name": "stdout",
     "output_type": "stream",
     "text": [
      "Left: 0.20881526027040076\n",
      "Right: -0.001725302485855125\n",
      "Processing data 2820\n"
     ]
    },
    {
     "name": "stderr",
     "output_type": "stream",
     "text": [
      "Processing: 100%|██████████| 150/150 [00:03<00:00, 46.40it/s]\n"
     ]
    },
    {
     "name": "stdout",
     "output_type": "stream",
     "text": [
      "Left: 0.6088681435570703\n",
      "Right: 0.002536397796827239\n",
      "Processing data 2821\n"
     ]
    },
    {
     "name": "stderr",
     "output_type": "stream",
     "text": [
      "Processing: 100%|██████████| 150/150 [00:01<00:00, 146.23it/s]\n"
     ]
    },
    {
     "name": "stdout",
     "output_type": "stream",
     "text": [
      "Left: 0.6098203767413981\n",
      "Right: 0.00100373930190937\n",
      "Processing data 2825\n"
     ]
    },
    {
     "name": "stderr",
     "output_type": "stream",
     "text": [
      "Processing: 100%|██████████| 150/150 [00:00<00:00, 186.70it/s]\n"
     ]
    },
    {
     "name": "stdout",
     "output_type": "stream",
     "text": [
      "Left: 0.488730153159585\n",
      "Right: 0.49831288963608733\n",
      "Processing data 2826\n"
     ]
    },
    {
     "name": "stderr",
     "output_type": "stream",
     "text": [
      "Processing: 100%|██████████| 120/120 [00:00<00:00, 152.32it/s]\n"
     ]
    },
    {
     "name": "stdout",
     "output_type": "stream",
     "text": [
      "Left: 0.3257413287037798\n",
      "Right: -2.491820390519749e-05\n",
      "Processing data 2827\n"
     ]
    },
    {
     "name": "stderr",
     "output_type": "stream",
     "text": [
      "Processing: 100%|██████████| 150/150 [00:03<00:00, 38.20it/s]\n"
     ]
    },
    {
     "name": "stdout",
     "output_type": "stream",
     "text": [
      "Left: -0.006900502946578402\n",
      "Right: 0.48021686110136075\n",
      "Processing data 2828\n"
     ]
    },
    {
     "name": "stderr",
     "output_type": "stream",
     "text": [
      "Processing: 100%|██████████| 150/150 [00:01<00:00, 94.09it/s] \n"
     ]
    },
    {
     "name": "stdout",
     "output_type": "stream",
     "text": [
      "Left: 0.11080842694875737\n",
      "Right: 0.36757917152078295\n",
      "Processing data 2829\n"
     ]
    },
    {
     "name": "stderr",
     "output_type": "stream",
     "text": [
      "Processing: 100%|██████████| 150/150 [00:02<00:00, 59.19it/s] \n"
     ]
    },
    {
     "name": "stdout",
     "output_type": "stream",
     "text": [
      "Left: 0.38461625631668506\n",
      "Right: 0.00046651387024426727\n",
      "Processing data 2830\n"
     ]
    },
    {
     "name": "stderr",
     "output_type": "stream",
     "text": [
      "Processing: 100%|██████████| 150/150 [00:02<00:00, 60.08it/s]\n"
     ]
    },
    {
     "name": "stdout",
     "output_type": "stream",
     "text": [
      "Left: 0.010199650023224871\n",
      "Right: -0.0010761452149931836\n",
      "Processing data 2832\n"
     ]
    },
    {
     "name": "stderr",
     "output_type": "stream",
     "text": [
      "Processing: 100%|██████████| 150/150 [00:04<00:00, 32.36it/s] \n"
     ]
    },
    {
     "name": "stdout",
     "output_type": "stream",
     "text": [
      "Left: -0.018606785523754443\n",
      "Right: 0.3867093490867106\n",
      "Processing data 2833\n"
     ]
    },
    {
     "name": "stderr",
     "output_type": "stream",
     "text": [
      "Processing: 100%|██████████| 150/150 [00:04<00:00, 36.69it/s]\n"
     ]
    },
    {
     "name": "stdout",
     "output_type": "stream",
     "text": [
      "Left: -0.09365478909327646\n",
      "Right: -0.0002628368965418293\n",
      "Processing data 2835\n"
     ]
    },
    {
     "name": "stderr",
     "output_type": "stream",
     "text": [
      "Processing: 100%|██████████| 150/150 [00:03<00:00, 44.07it/s]\n"
     ]
    },
    {
     "name": "stdout",
     "output_type": "stream",
     "text": [
      "Left: 0.5550975960746954\n",
      "Right: 0.00038082305848789744\n",
      "Processing data 2836\n"
     ]
    },
    {
     "name": "stderr",
     "output_type": "stream",
     "text": [
      "Processing: 100%|██████████| 150/150 [00:00<00:00, 173.38it/s]\n"
     ]
    },
    {
     "name": "stdout",
     "output_type": "stream",
     "text": [
      "Left: 0.5483535730241866\n",
      "Right: 0.09258843564190933\n",
      "Processing data 2838\n"
     ]
    },
    {
     "name": "stderr",
     "output_type": "stream",
     "text": [
      "Processing: 100%|██████████| 150/150 [00:02<00:00, 51.43it/s] \n"
     ]
    },
    {
     "name": "stdout",
     "output_type": "stream",
     "text": [
      "Left: -0.10755080367696668\n",
      "Right: 0.4825822045427565\n",
      "Processing data 2842\n"
     ]
    },
    {
     "name": "stderr",
     "output_type": "stream",
     "text": [
      "Processing: 100%|██████████| 60/60 [00:00<00:00, 200.33it/s]\n"
     ]
    },
    {
     "name": "stdout",
     "output_type": "stream",
     "text": [
      "Left: 0.7085580401546028\n",
      "Right: 0.0024303764540798563\n",
      "Processing data 2843\n"
     ]
    },
    {
     "name": "stderr",
     "output_type": "stream",
     "text": [
      "Processing: 100%|██████████| 150/150 [00:00<00:00, 395.16it/s]\n"
     ]
    },
    {
     "name": "stdout",
     "output_type": "stream",
     "text": [
      "Left: 0.3706655812691099\n",
      "Right: -0.0016888870703056476\n",
      "Processing data 2844\n"
     ]
    },
    {
     "name": "stderr",
     "output_type": "stream",
     "text": [
      "Processing: 100%|██████████| 180/180 [00:00<00:00, 598.03it/s]\n"
     ]
    },
    {
     "name": "stdout",
     "output_type": "stream",
     "text": [
      "Left: 0.49974426527053717\n",
      "Right: -0.003679488845501056\n",
      "Processing data 2849\n"
     ]
    },
    {
     "name": "stderr",
     "output_type": "stream",
     "text": [
      "Processing: 100%|██████████| 150/150 [00:00<00:00, 233.35it/s]\n"
     ]
    },
    {
     "name": "stdout",
     "output_type": "stream",
     "text": [
      "Left: -0.0758530701448179\n",
      "Right: 1.971219547236558e-05\n",
      "Processing data 2850\n"
     ]
    },
    {
     "name": "stderr",
     "output_type": "stream",
     "text": [
      "Processing: 100%|██████████| 150/150 [00:00<00:00, 165.80it/s]\n"
     ]
    },
    {
     "name": "stdout",
     "output_type": "stream",
     "text": [
      "Left: 0.14980609543398882\n",
      "Right: 0.0006044325624564167\n",
      "Processing data 2851\n"
     ]
    },
    {
     "name": "stderr",
     "output_type": "stream",
     "text": [
      "Processing: 100%|██████████| 180/180 [00:01<00:00, 174.90it/s]\n"
     ]
    },
    {
     "name": "stdout",
     "output_type": "stream",
     "text": [
      "Left: 0.2544734644435587\n",
      "Right: -0.0019160936956362784\n",
      "Processing data 2853\n"
     ]
    },
    {
     "name": "stderr",
     "output_type": "stream",
     "text": [
      "Processing: 100%|██████████| 150/150 [00:00<00:00, 319.45it/s]\n"
     ]
    },
    {
     "name": "stdout",
     "output_type": "stream",
     "text": [
      "Left: 0.015787226920247366\n",
      "Right: 0.06058527137768088\n",
      "Processing data 2854\n"
     ]
    },
    {
     "name": "stderr",
     "output_type": "stream",
     "text": [
      "Processing: 100%|██████████| 90/90 [00:00<00:00, 278.60it/s]\n"
     ]
    },
    {
     "name": "stdout",
     "output_type": "stream",
     "text": [
      "Left: -0.03291316372024822\n",
      "Right: 4.877239363695884e-06\n",
      "Processing data 2855\n"
     ]
    },
    {
     "name": "stderr",
     "output_type": "stream",
     "text": [
      "Processing: 100%|██████████| 150/150 [00:03<00:00, 38.47it/s]\n"
     ]
    },
    {
     "name": "stdout",
     "output_type": "stream",
     "text": [
      "Left: -0.00041414979596030715\n",
      "Right: 0.154545096075548\n",
      "Processing data 2856\n"
     ]
    },
    {
     "name": "stderr",
     "output_type": "stream",
     "text": [
      "Processing: 100%|██████████| 150/150 [00:00<00:00, 191.89it/s]\n"
     ]
    },
    {
     "name": "stdout",
     "output_type": "stream",
     "text": [
      "Left: 0.4015768798470497\n",
      "Right: 0.005663438264044541\n",
      "Processing data 2857\n"
     ]
    },
    {
     "name": "stderr",
     "output_type": "stream",
     "text": [
      "Processing: 100%|██████████| 120/120 [00:00<00:00, 365.59it/s]\n"
     ]
    },
    {
     "name": "stdout",
     "output_type": "stream",
     "text": [
      "Left: -0.12201312675655818\n",
      "Right: -0.23089187770321057\n",
      "Processing data 2859\n"
     ]
    },
    {
     "name": "stderr",
     "output_type": "stream",
     "text": [
      "Processing: 100%|██████████| 150/150 [00:00<00:00, 387.36it/s]\n"
     ]
    },
    {
     "name": "stdout",
     "output_type": "stream",
     "text": [
      "Left: -0.08669728303116397\n",
      "Right: -0.00337486816239313\n",
      "Processing data 2860\n"
     ]
    },
    {
     "name": "stderr",
     "output_type": "stream",
     "text": [
      "Processing: 100%|██████████| 150/150 [00:01<00:00, 111.77it/s]\n"
     ]
    },
    {
     "name": "stdout",
     "output_type": "stream",
     "text": [
      "Left: 0.002198212454873949\n",
      "Right: -0.070261668391923\n",
      "Processing data 2861\n"
     ]
    },
    {
     "name": "stderr",
     "output_type": "stream",
     "text": [
      "Processing: 100%|██████████| 150/150 [00:00<00:00, 429.20it/s]\n"
     ]
    },
    {
     "name": "stdout",
     "output_type": "stream",
     "text": [
      "Left: -0.15213954109171957\n",
      "Right: 0.00990719375426563\n",
      "Processing data 2864\n"
     ]
    },
    {
     "name": "stderr",
     "output_type": "stream",
     "text": [
      "Processing: 100%|██████████| 150/150 [00:02<00:00, 68.01it/s]\n"
     ]
    },
    {
     "name": "stdout",
     "output_type": "stream",
     "text": [
      "Left: -0.0006424776902879126\n",
      "Right: 0.6286958678533315\n",
      "Processing data 2866\n"
     ]
    },
    {
     "name": "stderr",
     "output_type": "stream",
     "text": [
      "Processing: 100%|██████████| 150/150 [00:02<00:00, 67.57it/s]\n"
     ]
    },
    {
     "name": "stdout",
     "output_type": "stream",
     "text": [
      "Left: -0.03572092612478919\n",
      "Right: 0.3318476589913495\n",
      "Processing data 2867\n"
     ]
    },
    {
     "name": "stderr",
     "output_type": "stream",
     "text": [
      "Processing: 100%|██████████| 90/90 [00:00<00:00, 517.64it/s]\n"
     ]
    },
    {
     "name": "stdout",
     "output_type": "stream",
     "text": [
      "Left: 0.01121993993192505\n",
      "Right: -0.057277574942640935\n",
      "Processing data 2869\n"
     ]
    },
    {
     "name": "stderr",
     "output_type": "stream",
     "text": [
      "Processing: 100%|██████████| 150/150 [00:03<00:00, 44.18it/s]\n"
     ]
    },
    {
     "name": "stdout",
     "output_type": "stream",
     "text": [
      "Left: 0.001442059563593022\n",
      "Right: 0.16833341254421333\n",
      "Processing data 2870\n"
     ]
    },
    {
     "name": "stderr",
     "output_type": "stream",
     "text": [
      "Processing: 100%|██████████| 150/150 [00:00<00:00, 330.45it/s]\n"
     ]
    },
    {
     "name": "stdout",
     "output_type": "stream",
     "text": [
      "Left: -0.0015395789089471812\n",
      "Right: 0.01733091683369392\n",
      "Processing data 2873\n"
     ]
    },
    {
     "name": "stderr",
     "output_type": "stream",
     "text": [
      "Processing: 100%|██████████| 90/90 [00:00<00:00, 552.91it/s]\n"
     ]
    },
    {
     "name": "stdout",
     "output_type": "stream",
     "text": [
      "Left: -0.013297463334760007\n",
      "Right: -0.058181400947406425\n",
      "Processing data 2875\n"
     ]
    },
    {
     "name": "stderr",
     "output_type": "stream",
     "text": [
      "Processing: 100%|██████████| 90/90 [00:00<00:00, 392.15it/s]\n"
     ]
    },
    {
     "name": "stdout",
     "output_type": "stream",
     "text": [
      "Left: 0.3371677970045028\n",
      "Right: 0.4142942813444549\n",
      "Processing data 2877\n"
     ]
    },
    {
     "name": "stderr",
     "output_type": "stream",
     "text": [
      "Processing: 100%|██████████| 150/150 [00:00<00:00, 820.22it/s]\n"
     ]
    },
    {
     "name": "stdout",
     "output_type": "stream",
     "text": [
      "Left: 0.4020026845006833\n",
      "Right: 0.07899289680950594\n",
      "Processing data 2878\n"
     ]
    },
    {
     "name": "stderr",
     "output_type": "stream",
     "text": [
      "Processing: 100%|██████████| 60/60 [00:00<00:00, 485.02it/s]\n"
     ]
    },
    {
     "name": "stdout",
     "output_type": "stream",
     "text": [
      "Left: 0.7858124207668999\n",
      "Right: -0.0025955902028799854\n",
      "Processing data 2880\n"
     ]
    },
    {
     "name": "stderr",
     "output_type": "stream",
     "text": [
      "Processing: 100%|██████████| 150/150 [00:00<00:00, 185.46it/s]\n"
     ]
    },
    {
     "name": "stdout",
     "output_type": "stream",
     "text": [
      "Left: 0.8160572038718715\n",
      "Right: 3.2494959518431605e-05\n",
      "Processing data 2881\n"
     ]
    },
    {
     "name": "stderr",
     "output_type": "stream",
     "text": [
      "Processing: 100%|██████████| 150/150 [00:01<00:00, 97.97it/s] \n"
     ]
    },
    {
     "name": "stdout",
     "output_type": "stream",
     "text": [
      "Left: 0.26422438962500205\n",
      "Right: 0.027584327741509915\n",
      "Processing data 2882\n"
     ]
    },
    {
     "name": "stderr",
     "output_type": "stream",
     "text": [
      "Processing: 100%|██████████| 150/150 [00:02<00:00, 74.42it/s] \n"
     ]
    },
    {
     "name": "stdout",
     "output_type": "stream",
     "text": [
      "Left: 0.6395286926648226\n",
      "Right: 0.044242090787299355\n",
      "Processing data 2883\n"
     ]
    },
    {
     "name": "stderr",
     "output_type": "stream",
     "text": [
      "Processing: 100%|██████████| 90/90 [00:00<00:00, 120.59it/s]\n"
     ]
    },
    {
     "name": "stdout",
     "output_type": "stream",
     "text": [
      "Left: 0.5800138065575307\n",
      "Right: 0.3231848928079277\n",
      "Processing data 2888\n"
     ]
    },
    {
     "name": "stderr",
     "output_type": "stream",
     "text": [
      "Processing: 100%|██████████| 60/60 [00:01<00:00, 40.40it/s]\n"
     ]
    },
    {
     "name": "stdout",
     "output_type": "stream",
     "text": [
      "Left: 0.026235516007989235\n",
      "Right: -0.024717006228340596\n",
      "Processing data 2890\n"
     ]
    },
    {
     "name": "stderr",
     "output_type": "stream",
     "text": [
      "Processing: 100%|██████████| 150/150 [00:00<00:00, 177.11it/s]\n"
     ]
    },
    {
     "name": "stdout",
     "output_type": "stream",
     "text": [
      "Left: -0.00012618697280258884\n",
      "Right: -0.006913538540209985\n",
      "Processing data 2891\n"
     ]
    },
    {
     "name": "stderr",
     "output_type": "stream",
     "text": [
      "Processing: 100%|██████████| 150/150 [00:01<00:00, 123.20it/s]\n"
     ]
    },
    {
     "name": "stdout",
     "output_type": "stream",
     "text": [
      "Left: 0.2626923468970264\n",
      "Right: 0.26443708728946175\n",
      "Processing data 2893\n"
     ]
    },
    {
     "name": "stderr",
     "output_type": "stream",
     "text": [
      "Processing: 100%|██████████| 150/150 [00:00<00:00, 277.94it/s]\n"
     ]
    },
    {
     "name": "stdout",
     "output_type": "stream",
     "text": [
      "Left: 0.0017956293711441536\n",
      "Right: 0.37734258446437635\n",
      "Processing data 2894\n"
     ]
    },
    {
     "name": "stderr",
     "output_type": "stream",
     "text": [
      "Processing: 100%|██████████| 150/150 [00:02<00:00, 55.15it/s] \n"
     ]
    },
    {
     "name": "stdout",
     "output_type": "stream",
     "text": [
      "Left: 0.43255735170358783\n",
      "Right: 0.022132074997061935\n",
      "Processing data 2895\n"
     ]
    },
    {
     "name": "stderr",
     "output_type": "stream",
     "text": [
      "Processing: 100%|██████████| 120/120 [00:02<00:00, 41.35it/s]\n"
     ]
    },
    {
     "name": "stdout",
     "output_type": "stream",
     "text": [
      "Left: -0.0005973445657870974\n",
      "Right: -0.07279260001646692\n",
      "Processing data 2897\n"
     ]
    },
    {
     "name": "stderr",
     "output_type": "stream",
     "text": [
      "Processing: 100%|██████████| 150/150 [00:02<00:00, 68.66it/s]\n"
     ]
    },
    {
     "name": "stdout",
     "output_type": "stream",
     "text": [
      "Left: -0.005143854581757673\n",
      "Right: -0.28365340297149877\n",
      "Processing data 2898\n"
     ]
    },
    {
     "name": "stderr",
     "output_type": "stream",
     "text": [
      "Processing: 100%|██████████| 60/60 [00:01<00:00, 36.65it/s]\n"
     ]
    },
    {
     "name": "stdout",
     "output_type": "stream",
     "text": [
      "Left: -0.18627328999966775\n",
      "Right: 0.06950535618373199\n",
      "Processing data 2901\n"
     ]
    },
    {
     "name": "stderr",
     "output_type": "stream",
     "text": [
      "Processing: 100%|██████████| 90/90 [00:05<00:00, 15.10it/s]\n"
     ]
    },
    {
     "name": "stdout",
     "output_type": "stream",
     "text": [
      "Left: 0.6650647197886482\n",
      "Right: 0.02549573803151184\n",
      "Processing data 2905\n"
     ]
    },
    {
     "name": "stderr",
     "output_type": "stream",
     "text": [
      "Processing: 100%|██████████| 150/150 [00:00<00:00, 196.41it/s]\n"
     ]
    },
    {
     "name": "stdout",
     "output_type": "stream",
     "text": [
      "Left: 0.6485365919884881\n",
      "Right: 0.0012506481420861137\n",
      "Processing data 2906\n"
     ]
    },
    {
     "name": "stderr",
     "output_type": "stream",
     "text": [
      "Processing: 100%|██████████| 150/150 [00:04<00:00, 34.06it/s]\n"
     ]
    },
    {
     "name": "stdout",
     "output_type": "stream",
     "text": [
      "Left: -0.0005708676391015244\n",
      "Right: 0.2961244279542182\n",
      "Processing data 2909\n"
     ]
    },
    {
     "name": "stderr",
     "output_type": "stream",
     "text": [
      "Processing: 100%|██████████| 150/150 [00:00<00:00, 463.24it/s]\n"
     ]
    },
    {
     "name": "stdout",
     "output_type": "stream",
     "text": [
      "Left: 0.7232028192605721\n",
      "Right: 0.005704814373527071\n",
      "Processing data 2910\n"
     ]
    },
    {
     "name": "stderr",
     "output_type": "stream",
     "text": [
      "Processing: 100%|██████████| 150/150 [00:03<00:00, 44.78it/s]\n"
     ]
    },
    {
     "name": "stdout",
     "output_type": "stream",
     "text": [
      "Left: -0.06132573525831131\n",
      "Right: 0.12535301229940843\n",
      "Processing data 2911\n"
     ]
    },
    {
     "name": "stderr",
     "output_type": "stream",
     "text": [
      "Processing: 100%|██████████| 150/150 [00:03<00:00, 46.04it/s]\n"
     ]
    },
    {
     "name": "stdout",
     "output_type": "stream",
     "text": [
      "Left: 0.2996660831443392\n",
      "Right: 0.0010627758997359266\n",
      "Processing data 2914\n"
     ]
    },
    {
     "name": "stderr",
     "output_type": "stream",
     "text": [
      "Processing: 100%|██████████| 150/150 [00:00<00:00, 363.84it/s]\n"
     ]
    },
    {
     "name": "stdout",
     "output_type": "stream",
     "text": [
      "Left: 0.8141866995087864\n",
      "Right: 0.001518170300248767\n",
      "Processing data 2915\n"
     ]
    },
    {
     "name": "stderr",
     "output_type": "stream",
     "text": [
      "Processing: 100%|██████████| 150/150 [00:00<00:00, 355.52it/s]\n"
     ]
    },
    {
     "name": "stdout",
     "output_type": "stream",
     "text": [
      "Left: -0.01586852961409657\n",
      "Right: 0.010212665069117\n",
      "Processing data 2916\n"
     ]
    },
    {
     "name": "stderr",
     "output_type": "stream",
     "text": [
      "Processing: 100%|██████████| 150/150 [00:01<00:00, 99.43it/s]\n"
     ]
    },
    {
     "name": "stdout",
     "output_type": "stream",
     "text": [
      "Left: -0.0054353718430109055\n",
      "Right: 0.2822609554117952\n",
      "Processing data 2917\n"
     ]
    },
    {
     "name": "stderr",
     "output_type": "stream",
     "text": [
      "Processing: 100%|██████████| 150/150 [00:01<00:00, 99.46it/s] \n"
     ]
    },
    {
     "name": "stdout",
     "output_type": "stream",
     "text": [
      "Left: 0.011447258465991865\n",
      "Right: 0.31000943277986664\n",
      "Processing data 2920\n"
     ]
    },
    {
     "name": "stderr",
     "output_type": "stream",
     "text": [
      "Processing: 100%|██████████| 150/150 [00:00<00:00, 260.30it/s]\n"
     ]
    },
    {
     "name": "stdout",
     "output_type": "stream",
     "text": [
      "Left: -0.0033159382399780696\n",
      "Right: 0.47175945696290944\n",
      "Processing data 2921\n"
     ]
    },
    {
     "name": "stderr",
     "output_type": "stream",
     "text": [
      "Processing: 100%|██████████| 90/90 [00:01<00:00, 75.45it/s] \n"
     ]
    },
    {
     "name": "stdout",
     "output_type": "stream",
     "text": [
      "Left: -0.00021220787590515554\n",
      "Right: 0.033276665435149066\n",
      "Processing data 2923\n"
     ]
    },
    {
     "name": "stderr",
     "output_type": "stream",
     "text": [
      "Processing: 100%|██████████| 150/150 [00:00<00:00, 758.19it/s]\n"
     ]
    },
    {
     "name": "stdout",
     "output_type": "stream",
     "text": [
      "Left: 0.0034476125949484127\n",
      "Right: -0.00010618316858540533\n",
      "Processing data 2927\n"
     ]
    },
    {
     "name": "stderr",
     "output_type": "stream",
     "text": [
      "Processing: 100%|██████████| 150/150 [00:03<00:00, 45.12it/s]\n"
     ]
    },
    {
     "name": "stdout",
     "output_type": "stream",
     "text": [
      "Left: 0.2768171875364235\n",
      "Right: 0.0013008489034192217\n",
      "Processing data 2929\n"
     ]
    },
    {
     "name": "stderr",
     "output_type": "stream",
     "text": [
      "Processing: 100%|██████████| 150/150 [00:02<00:00, 56.51it/s]\n"
     ]
    },
    {
     "name": "stdout",
     "output_type": "stream",
     "text": [
      "Left: 0.36260825072313074\n",
      "Right: -0.0010042802305058607\n",
      "Processing data 2933\n"
     ]
    },
    {
     "name": "stderr",
     "output_type": "stream",
     "text": [
      "Processing: 100%|██████████| 150/150 [00:03<00:00, 39.34it/s]\n"
     ]
    },
    {
     "name": "stdout",
     "output_type": "stream",
     "text": [
      "Left: 0.002087013602031021\n",
      "Right: 0.15145468520259042\n",
      "Processing data 2936\n"
     ]
    },
    {
     "name": "stderr",
     "output_type": "stream",
     "text": [
      "Processing: 100%|██████████| 150/150 [00:00<00:00, 247.55it/s]\n"
     ]
    },
    {
     "name": "stdout",
     "output_type": "stream",
     "text": [
      "Left: 0.2907626109852548\n",
      "Right: 0.005554680759491767\n",
      "Processing data 2939\n"
     ]
    },
    {
     "name": "stderr",
     "output_type": "stream",
     "text": [
      "Processing: 100%|██████████| 90/90 [00:00<00:00, 169.38it/s]\n"
     ]
    },
    {
     "name": "stdout",
     "output_type": "stream",
     "text": [
      "Left: 0.6669438522968032\n",
      "Right: 0.00039187816988260626\n",
      "Processing data 2940\n"
     ]
    },
    {
     "name": "stderr",
     "output_type": "stream",
     "text": [
      "Processing: 100%|██████████| 150/150 [00:03<00:00, 42.22it/s]\n"
     ]
    },
    {
     "name": "stdout",
     "output_type": "stream",
     "text": [
      "Left: -0.0035542166719993162\n",
      "Right: 0.26221724059728146\n",
      "Processing data 2941\n"
     ]
    },
    {
     "name": "stderr",
     "output_type": "stream",
     "text": [
      "Processing: 100%|██████████| 150/150 [00:02<00:00, 58.88it/s]\n"
     ]
    },
    {
     "name": "stdout",
     "output_type": "stream",
     "text": [
      "Left: -0.1413203970674632\n",
      "Right: -0.0012162699568152007\n",
      "Processing data 2943\n"
     ]
    },
    {
     "name": "stderr",
     "output_type": "stream",
     "text": [
      "Processing: 100%|██████████| 60/60 [00:01<00:00, 43.19it/s]\n"
     ]
    },
    {
     "name": "stdout",
     "output_type": "stream",
     "text": [
      "Left: 0.026837980739294665\n",
      "Right: 0.00020116577435855113\n",
      "Processing data 2945\n"
     ]
    },
    {
     "name": "stderr",
     "output_type": "stream",
     "text": [
      "Processing: 100%|██████████| 90/90 [00:01<00:00, 63.11it/s]\n"
     ]
    },
    {
     "name": "stdout",
     "output_type": "stream",
     "text": [
      "Left: -0.019786841299708757\n",
      "Right: 0.0002806466929485135\n",
      "Processing data 2947\n"
     ]
    },
    {
     "name": "stderr",
     "output_type": "stream",
     "text": [
      "Processing: 100%|██████████| 150/150 [00:02<00:00, 66.60it/s] \n"
     ]
    },
    {
     "name": "stdout",
     "output_type": "stream",
     "text": [
      "Left: 0.07093342483396292\n",
      "Right: 0.06107922745032657\n",
      "Processing data 2949\n"
     ]
    },
    {
     "name": "stderr",
     "output_type": "stream",
     "text": [
      "Processing: 100%|██████████| 90/90 [00:01<00:00, 54.26it/s]\n"
     ]
    },
    {
     "name": "stdout",
     "output_type": "stream",
     "text": [
      "Left: 0.32975239640189125\n",
      "Right: -7.231139018272319e-05\n",
      "Processing data 2951\n"
     ]
    },
    {
     "name": "stderr",
     "output_type": "stream",
     "text": [
      "Processing: 100%|██████████| 60/60 [00:01<00:00, 44.13it/s]\n"
     ]
    },
    {
     "name": "stdout",
     "output_type": "stream",
     "text": [
      "Left: 0.35310970348989434\n",
      "Right: 0.1594956455884704\n",
      "Processing data 2957\n"
     ]
    },
    {
     "name": "stderr",
     "output_type": "stream",
     "text": [
      "Processing: 100%|██████████| 60/60 [00:02<00:00, 21.93it/s]\n"
     ]
    },
    {
     "name": "stdout",
     "output_type": "stream",
     "text": [
      "Left: -0.006149921901359157\n",
      "Right: 0.18098757369658533\n",
      "Processing data 2959\n"
     ]
    },
    {
     "name": "stderr",
     "output_type": "stream",
     "text": [
      "Processing: 100%|██████████| 120/120 [00:01<00:00, 100.60it/s]\n"
     ]
    },
    {
     "name": "stdout",
     "output_type": "stream",
     "text": [
      "Left: 0.03268242353834583\n",
      "Right: -0.0016102318638855362\n",
      "Processing data 2961\n"
     ]
    },
    {
     "name": "stderr",
     "output_type": "stream",
     "text": [
      "Processing: 100%|██████████| 60/60 [00:00<00:00, 133.34it/s]\n"
     ]
    },
    {
     "name": "stdout",
     "output_type": "stream",
     "text": [
      "Left: 0.26714032353044526\n",
      "Right: -0.009837180596810435\n",
      "Processing data 2963\n"
     ]
    },
    {
     "name": "stderr",
     "output_type": "stream",
     "text": [
      "Processing: 100%|██████████| 90/90 [00:00<00:00, 120.07it/s]\n"
     ]
    },
    {
     "name": "stdout",
     "output_type": "stream",
     "text": [
      "Left: 0.5334499939438779\n",
      "Right: -0.002378589493889447\n",
      "Processing data 2965\n"
     ]
    },
    {
     "name": "stderr",
     "output_type": "stream",
     "text": [
      "Processing: 100%|██████████| 90/90 [00:00<00:00, 263.76it/s]\n"
     ]
    },
    {
     "name": "stdout",
     "output_type": "stream",
     "text": [
      "Left: 0.6611515131774237\n",
      "Right: 0.015059113770311855\n",
      "Processing data 2969\n"
     ]
    },
    {
     "name": "stderr",
     "output_type": "stream",
     "text": [
      "Processing: 100%|██████████| 90/90 [00:00<00:00, 167.87it/s]\n"
     ]
    },
    {
     "name": "stdout",
     "output_type": "stream",
     "text": [
      "Left: 0.004272391897774425\n",
      "Right: 0.3952188551680397\n",
      "Processing data 2975\n"
     ]
    },
    {
     "name": "stderr",
     "output_type": "stream",
     "text": [
      "Processing: 100%|██████████| 150/150 [00:04<00:00, 31.73it/s] \n"
     ]
    },
    {
     "name": "stdout",
     "output_type": "stream",
     "text": [
      "Left: 0.3727606393620768\n",
      "Right: -0.02252319472878367\n",
      "Processing data 2978\n"
     ]
    },
    {
     "name": "stderr",
     "output_type": "stream",
     "text": [
      "Processing: 100%|██████████| 150/150 [00:01<00:00, 78.13it/s] \n"
     ]
    },
    {
     "name": "stdout",
     "output_type": "stream",
     "text": [
      "Left: 0.0005005777533646505\n",
      "Right: 0.005657978129244734\n",
      "Processing data 2980\n"
     ]
    },
    {
     "name": "stderr",
     "output_type": "stream",
     "text": [
      "Processing: 100%|██████████| 30/30 [00:00<00:00, 268.27it/s]\n"
     ]
    },
    {
     "name": "stdout",
     "output_type": "stream",
     "text": [
      "Left: 0.574017169635466\n",
      "Right: 0.4853397593702339\n",
      "Processing data 2984\n"
     ]
    },
    {
     "name": "stderr",
     "output_type": "stream",
     "text": [
      "Processing: 100%|██████████| 150/150 [00:01<00:00, 139.28it/s]\n"
     ]
    },
    {
     "name": "stdout",
     "output_type": "stream",
     "text": [
      "Left: 0.4899106771233756\n",
      "Right: 0.0010941820619439352\n",
      "Processing data 2985\n"
     ]
    },
    {
     "name": "stderr",
     "output_type": "stream",
     "text": [
      "Processing: 100%|██████████| 150/150 [00:02<00:00, 62.33it/s] \n"
     ]
    },
    {
     "name": "stdout",
     "output_type": "stream",
     "text": [
      "Left: 0.38127362520283015\n",
      "Right: 0.38999726125087947\n",
      "Processing data 2988\n"
     ]
    },
    {
     "name": "stderr",
     "output_type": "stream",
     "text": [
      "Processing: 100%|██████████| 150/150 [00:00<00:00, 233.41it/s]\n"
     ]
    },
    {
     "name": "stdout",
     "output_type": "stream",
     "text": [
      "Left: -0.01795750036947319\n",
      "Right: 0.00015408194509256012\n",
      "Processing data 2989\n"
     ]
    },
    {
     "name": "stderr",
     "output_type": "stream",
     "text": [
      "Processing: 100%|██████████| 120/120 [00:00<00:00, 206.07it/s]\n"
     ]
    },
    {
     "name": "stdout",
     "output_type": "stream",
     "text": [
      "Left: 0.41247837914342733\n",
      "Right: -0.0004509319275655642\n",
      "Processing data 2991\n"
     ]
    },
    {
     "name": "stderr",
     "output_type": "stream",
     "text": [
      "Processing: 100%|██████████| 150/150 [00:03<00:00, 41.62it/s]\n"
     ]
    },
    {
     "name": "stdout",
     "output_type": "stream",
     "text": [
      "Left: -0.06496462227058519\n",
      "Right: 0.0006991458201699857\n",
      "Processing data 2993\n"
     ]
    },
    {
     "name": "stderr",
     "output_type": "stream",
     "text": [
      "Processing: 100%|██████████| 120/120 [00:00<00:00, 213.95it/s]\n"
     ]
    },
    {
     "name": "stdout",
     "output_type": "stream",
     "text": [
      "Left: 0.5402042913187253\n",
      "Right: -0.0015843943761662503\n",
      "Processing data 2996\n"
     ]
    },
    {
     "name": "stderr",
     "output_type": "stream",
     "text": [
      "Processing: 100%|██████████| 90/90 [00:00<00:00, 183.89it/s]\n"
     ]
    },
    {
     "name": "stdout",
     "output_type": "stream",
     "text": [
      "Left: 0.5899823028885042\n",
      "Right: 0.40474329482599575\n",
      "Processing data 2999\n"
     ]
    },
    {
     "name": "stderr",
     "output_type": "stream",
     "text": [
      "Processing: 100%|██████████| 90/90 [00:00<00:00, 234.14it/s]\n"
     ]
    },
    {
     "name": "stdout",
     "output_type": "stream",
     "text": [
      "Left: 0.2727745880658955\n",
      "Right: -0.04446744445595821\n",
      "Processing data 3002\n"
     ]
    },
    {
     "name": "stderr",
     "output_type": "stream",
     "text": [
      "Processing: 100%|██████████| 60/60 [00:01<00:00, 36.62it/s] \n"
     ]
    },
    {
     "name": "stdout",
     "output_type": "stream",
     "text": [
      "Left: -0.0015625794250042069\n",
      "Right: 0.30571100109436145\n",
      "Processing data 3005\n"
     ]
    },
    {
     "name": "stderr",
     "output_type": "stream",
     "text": [
      "Processing: 100%|██████████| 60/60 [00:01<00:00, 38.42it/s]\n"
     ]
    },
    {
     "name": "stdout",
     "output_type": "stream",
     "text": [
      "Left: 0.3097900953539414\n",
      "Right: 0.0014871432581087252\n",
      "Processing data 3007\n"
     ]
    },
    {
     "name": "stderr",
     "output_type": "stream",
     "text": [
      "Processing: 100%|██████████| 150/150 [00:00<00:00, 303.67it/s]\n"
     ]
    },
    {
     "name": "stdout",
     "output_type": "stream",
     "text": [
      "Left: 0.7083633856004923\n",
      "Right: 0.48460761651044787\n",
      "Processing data 3009\n"
     ]
    },
    {
     "name": "stderr",
     "output_type": "stream",
     "text": [
      "Processing: 100%|██████████| 150/150 [00:00<00:00, 163.19it/s]\n"
     ]
    },
    {
     "name": "stdout",
     "output_type": "stream",
     "text": [
      "Left: 0.37359016605665224\n",
      "Right: 0.0007753258622233286\n",
      "Processing data 3014\n"
     ]
    },
    {
     "name": "stderr",
     "output_type": "stream",
     "text": [
      "Processing: 100%|██████████| 60/60 [00:00<00:00, 135.43it/s]\n"
     ]
    },
    {
     "name": "stdout",
     "output_type": "stream",
     "text": [
      "Left: 0.12188387350798235\n",
      "Right: 3.432258789569376e-05\n",
      "Processing data 3015\n"
     ]
    },
    {
     "name": "stderr",
     "output_type": "stream",
     "text": [
      "Processing: 100%|██████████| 150/150 [00:01<00:00, 116.52it/s]\n"
     ]
    },
    {
     "name": "stdout",
     "output_type": "stream",
     "text": [
      "Left: 0.4373290953951198\n",
      "Right: 0.0010129175241773898\n",
      "Processing data 3021\n"
     ]
    },
    {
     "name": "stderr",
     "output_type": "stream",
     "text": [
      "Processing: 100%|██████████| 120/120 [00:01<00:00, 82.55it/s]\n"
     ]
    },
    {
     "name": "stdout",
     "output_type": "stream",
     "text": [
      "Left: -0.0599094748064124\n",
      "Right: -5.6190255013355284e-05\n",
      "Processing data 3023\n"
     ]
    },
    {
     "name": "stderr",
     "output_type": "stream",
     "text": [
      "Processing: 100%|██████████| 150/150 [00:00<00:00, 169.48it/s]\n"
     ]
    },
    {
     "name": "stdout",
     "output_type": "stream",
     "text": [
      "Left: 0.29306764530351204\n",
      "Right: -0.0002360879923646586\n",
      "Processing data 3026\n"
     ]
    },
    {
     "name": "stderr",
     "output_type": "stream",
     "text": [
      "Processing: 100%|██████████| 150/150 [00:00<00:00, 530.76it/s]\n"
     ]
    },
    {
     "name": "stdout",
     "output_type": "stream",
     "text": [
      "Left: 0.4090664605102598\n",
      "Right: 0.003177193273510721\n",
      "Processing data 3027\n"
     ]
    },
    {
     "name": "stderr",
     "output_type": "stream",
     "text": [
      "Processing: 100%|██████████| 30/30 [00:01<00:00, 26.44it/s]\n"
     ]
    },
    {
     "name": "stdout",
     "output_type": "stream",
     "text": [
      "Left: 0.0014062503263750359\n",
      "Right: 0.31979445624205916\n",
      "Processing data 3028\n"
     ]
    },
    {
     "name": "stderr",
     "output_type": "stream",
     "text": [
      "Processing: 100%|██████████| 150/150 [00:00<00:00, 233.90it/s]\n"
     ]
    },
    {
     "name": "stdout",
     "output_type": "stream",
     "text": [
      "Left: 0.5285591438057352\n",
      "Right: 0.0007066768631412063\n",
      "Processing data 3030\n"
     ]
    },
    {
     "name": "stderr",
     "output_type": "stream",
     "text": [
      "Processing: 100%|██████████| 90/90 [00:01<00:00, 45.88it/s]\n"
     ]
    },
    {
     "name": "stdout",
     "output_type": "stream",
     "text": [
      "Left: 0.13517735389999302\n",
      "Right: 0.006901306638148197\n",
      "Processing data 3031\n"
     ]
    },
    {
     "name": "stderr",
     "output_type": "stream",
     "text": [
      "Processing: 100%|██████████| 150/150 [00:01<00:00, 137.34it/s]\n"
     ]
    },
    {
     "name": "stdout",
     "output_type": "stream",
     "text": [
      "Left: 0.3608964882600902\n",
      "Right: 3.5504367210683306e-05\n",
      "Processing data 3032\n"
     ]
    },
    {
     "name": "stderr",
     "output_type": "stream",
     "text": [
      "Processing: 100%|██████████| 150/150 [00:01<00:00, 90.11it/s] \n"
     ]
    },
    {
     "name": "stdout",
     "output_type": "stream",
     "text": [
      "Left: 0.2589965164989174\n",
      "Right: -0.005184798580707903\n",
      "Processing data 3034\n"
     ]
    },
    {
     "name": "stderr",
     "output_type": "stream",
     "text": [
      "Processing: 100%|██████████| 90/90 [00:00<00:00, 151.57it/s]\n"
     ]
    },
    {
     "name": "stdout",
     "output_type": "stream",
     "text": [
      "Left: 0.2883738149314401\n",
      "Right: 0.002504315540313426\n",
      "Processing data 3036\n"
     ]
    },
    {
     "name": "stderr",
     "output_type": "stream",
     "text": [
      "Processing: 100%|██████████| 150/150 [00:00<00:00, 286.35it/s]\n"
     ]
    },
    {
     "name": "stdout",
     "output_type": "stream",
     "text": [
      "Left: 0.5214156744331103\n",
      "Right: 0.27320564834899863\n",
      "Processing data 3037\n"
     ]
    },
    {
     "name": "stderr",
     "output_type": "stream",
     "text": [
      "Processing: 100%|██████████| 90/90 [00:00<00:00, 137.83it/s]\n"
     ]
    },
    {
     "name": "stdout",
     "output_type": "stream",
     "text": [
      "Left: 0.24634733127357716\n",
      "Right: 0.0007889183460229321\n",
      "Processing data 3042\n"
     ]
    },
    {
     "name": "stderr",
     "output_type": "stream",
     "text": [
      "Processing: 100%|██████████| 150/150 [00:00<00:00, 242.11it/s]\n"
     ]
    },
    {
     "name": "stdout",
     "output_type": "stream",
     "text": [
      "Left: 0.3026457171672765\n",
      "Right: 0.40266946803077874\n",
      "Processing data 3045\n"
     ]
    },
    {
     "name": "stderr",
     "output_type": "stream",
     "text": [
      "Processing: 100%|██████████| 150/150 [00:00<00:00, 237.89it/s]\n"
     ]
    },
    {
     "name": "stdout",
     "output_type": "stream",
     "text": [
      "Left: 0.0011734656551207062\n",
      "Right: 0.4289694699614604\n",
      "Processing data 3048\n"
     ]
    },
    {
     "name": "stderr",
     "output_type": "stream",
     "text": [
      "Processing: 100%|██████████| 180/180 [00:01<00:00, 98.26it/s] \n"
     ]
    },
    {
     "name": "stdout",
     "output_type": "stream",
     "text": [
      "Left: 0.0032933062555180748\n",
      "Right: 0.30873169298647973\n",
      "Processing data 3053\n"
     ]
    },
    {
     "name": "stderr",
     "output_type": "stream",
     "text": [
      "Processing: 100%|██████████| 180/180 [00:04<00:00, 38.42it/s]\n"
     ]
    },
    {
     "name": "stdout",
     "output_type": "stream",
     "text": [
      "Left: -0.0012902835098527188\n",
      "Right: 0.2156077387840656\n",
      "Processing data 3054\n"
     ]
    },
    {
     "name": "stderr",
     "output_type": "stream",
     "text": [
      "Processing: 100%|██████████| 150/150 [00:01<00:00, 94.72it/s] \n"
     ]
    },
    {
     "name": "stdout",
     "output_type": "stream",
     "text": [
      "Left: 0.6361920340631353\n",
      "Right: 0.0010213689269575194\n",
      "Processing data 3068\n"
     ]
    },
    {
     "name": "stderr",
     "output_type": "stream",
     "text": [
      "Processing: 100%|██████████| 180/180 [00:00<00:00, 325.89it/s]\n"
     ]
    },
    {
     "name": "stdout",
     "output_type": "stream",
     "text": [
      "Left: 0.25832530138204884\n",
      "Right: -0.0071070875126791055\n",
      "Processing data 3073\n"
     ]
    },
    {
     "name": "stderr",
     "output_type": "stream",
     "text": [
      "Processing: 100%|██████████| 150/150 [00:02<00:00, 66.74it/s] \n"
     ]
    },
    {
     "name": "stdout",
     "output_type": "stream",
     "text": [
      "Left: 0.0613036059375881\n",
      "Right: 0.27673617779687576\n",
      "Processing data 3074\n"
     ]
    },
    {
     "name": "stderr",
     "output_type": "stream",
     "text": [
      "Processing: 100%|██████████| 150/150 [00:01<00:00, 114.95it/s]\n"
     ]
    },
    {
     "name": "stdout",
     "output_type": "stream",
     "text": [
      "Left: 0.3838146651260388\n",
      "Right: 0.0003200023320817265\n",
      "Processing data 3076\n"
     ]
    },
    {
     "name": "stderr",
     "output_type": "stream",
     "text": [
      "Processing: 100%|██████████| 150/150 [00:05<00:00, 27.65it/s]\n"
     ]
    },
    {
     "name": "stdout",
     "output_type": "stream",
     "text": [
      "Left: -0.027107935773511116\n",
      "Right: -0.20652998895170016\n",
      "Processing data 3077\n"
     ]
    },
    {
     "name": "stderr",
     "output_type": "stream",
     "text": [
      "Processing: 100%|██████████| 150/150 [00:03<00:00, 40.47it/s]\n"
     ]
    },
    {
     "name": "stdout",
     "output_type": "stream",
     "text": [
      "Left: 0.0878515008035261\n",
      "Right: -0.006482396502410059\n",
      "Processing data 3080\n"
     ]
    },
    {
     "name": "stderr",
     "output_type": "stream",
     "text": [
      "Processing: 100%|██████████| 150/150 [00:04<00:00, 31.51it/s]\n"
     ]
    },
    {
     "name": "stdout",
     "output_type": "stream",
     "text": [
      "Left: -0.171185031957647\n",
      "Right: 0.0001516526268911223\n",
      "Processing data 3082\n"
     ]
    },
    {
     "name": "stderr",
     "output_type": "stream",
     "text": [
      "Processing: 100%|██████████| 150/150 [00:02<00:00, 69.23it/s] \n"
     ]
    },
    {
     "name": "stdout",
     "output_type": "stream",
     "text": [
      "Left: 0.8434096135590898\n",
      "Right: 0.0008277137820022068\n",
      "Processing data 3084\n"
     ]
    },
    {
     "name": "stderr",
     "output_type": "stream",
     "text": [
      "Processing: 100%|██████████| 150/150 [00:03<00:00, 48.80it/s]\n"
     ]
    },
    {
     "name": "stdout",
     "output_type": "stream",
     "text": [
      "Left: 0.4306151921536697\n",
      "Right: 0.556526322791036\n",
      "Processing data 3086\n"
     ]
    },
    {
     "name": "stderr",
     "output_type": "stream",
     "text": [
      "Processing: 100%|██████████| 60/60 [00:00<00:00, 374.40it/s]\n"
     ]
    },
    {
     "name": "stdout",
     "output_type": "stream",
     "text": [
      "Left: 0.34763375720737566\n",
      "Right: -0.0013812636903323197\n",
      "Processing data 3089\n"
     ]
    },
    {
     "name": "stderr",
     "output_type": "stream",
     "text": [
      "Processing: 100%|██████████| 150/150 [00:01<00:00, 115.26it/s]\n"
     ]
    },
    {
     "name": "stdout",
     "output_type": "stream",
     "text": [
      "Left: 0.04464625547405521\n",
      "Right: 0.0003963643524767142\n",
      "Processing data 3091\n"
     ]
    },
    {
     "name": "stderr",
     "output_type": "stream",
     "text": [
      "Processing: 100%|██████████| 150/150 [00:00<00:00, 358.61it/s]\n"
     ]
    },
    {
     "name": "stdout",
     "output_type": "stream",
     "text": [
      "Left: 0.5405627909681081\n",
      "Right: -0.00027572786781066656\n",
      "Processing data 3092\n"
     ]
    },
    {
     "name": "stderr",
     "output_type": "stream",
     "text": [
      "Processing: 100%|██████████| 150/150 [00:01<00:00, 110.12it/s]\n"
     ]
    },
    {
     "name": "stdout",
     "output_type": "stream",
     "text": [
      "Left: 0.19353725161359725\n",
      "Right: 0.0009062113949199063\n",
      "Processing data 3094\n"
     ]
    },
    {
     "name": "stderr",
     "output_type": "stream",
     "text": [
      "Processing: 100%|██████████| 150/150 [00:02<00:00, 68.08it/s]\n"
     ]
    },
    {
     "name": "stdout",
     "output_type": "stream",
     "text": [
      "Left: -3.540215216881609e-05\n",
      "Right: 0.27721552685201284\n",
      "Processing data 3096\n"
     ]
    },
    {
     "name": "stderr",
     "output_type": "stream",
     "text": [
      "Processing: 100%|██████████| 150/150 [00:01<00:00, 136.14it/s]\n"
     ]
    },
    {
     "name": "stdout",
     "output_type": "stream",
     "text": [
      "Left: 0.6496279941446494\n",
      "Right: 0.6838555073204552\n",
      "Processing data 3097\n"
     ]
    },
    {
     "name": "stderr",
     "output_type": "stream",
     "text": [
      "Processing: 100%|██████████| 150/150 [00:01<00:00, 141.42it/s]\n"
     ]
    },
    {
     "name": "stdout",
     "output_type": "stream",
     "text": [
      "Left: 0.003890929853743865\n",
      "Right: 0.4462015062374826\n",
      "Processing data 3100\n"
     ]
    },
    {
     "name": "stderr",
     "output_type": "stream",
     "text": [
      "Processing: 100%|██████████| 150/150 [00:00<00:00, 182.60it/s]\n"
     ]
    },
    {
     "name": "stdout",
     "output_type": "stream",
     "text": [
      "Left: 0.13907776621496964\n",
      "Right: 0.1056885297265237\n",
      "Processing data 3101\n"
     ]
    },
    {
     "name": "stderr",
     "output_type": "stream",
     "text": [
      "Processing: 100%|██████████| 150/150 [00:00<00:00, 192.29it/s]\n"
     ]
    },
    {
     "name": "stdout",
     "output_type": "stream",
     "text": [
      "Left: 0.024128995799015007\n",
      "Right: 4.814642747652531e-05\n",
      "Processing data 3106\n"
     ]
    },
    {
     "name": "stderr",
     "output_type": "stream",
     "text": [
      "Processing: 100%|██████████| 150/150 [00:02<00:00, 57.10it/s]\n"
     ]
    },
    {
     "name": "stdout",
     "output_type": "stream",
     "text": [
      "Left: 0.24414046137546042\n",
      "Right: -0.010348068472933097\n",
      "Processing data 3107\n"
     ]
    },
    {
     "name": "stderr",
     "output_type": "stream",
     "text": [
      "Processing: 100%|██████████| 150/150 [00:00<00:00, 296.51it/s]\n"
     ]
    },
    {
     "name": "stdout",
     "output_type": "stream",
     "text": [
      "Left: 0.3761120283262064\n",
      "Right: 0.3377179002191938\n",
      "Processing data 3110\n"
     ]
    },
    {
     "name": "stderr",
     "output_type": "stream",
     "text": [
      "Processing: 100%|██████████| 150/150 [00:02<00:00, 62.36it/s]\n"
     ]
    },
    {
     "name": "stdout",
     "output_type": "stream",
     "text": [
      "Left: -0.018849540854663394\n",
      "Right: -0.059670872804600206\n",
      "Processing data 3113\n"
     ]
    },
    {
     "name": "stderr",
     "output_type": "stream",
     "text": [
      "Processing: 100%|██████████| 150/150 [00:00<00:00, 157.97it/s]\n"
     ]
    },
    {
     "name": "stdout",
     "output_type": "stream",
     "text": [
      "Left: 0.23120050875789544\n",
      "Right: -0.01941410147684694\n",
      "Processing data 3114\n"
     ]
    },
    {
     "name": "stderr",
     "output_type": "stream",
     "text": [
      "Processing: 100%|██████████| 120/120 [00:01<00:00, 118.83it/s]\n"
     ]
    },
    {
     "name": "stdout",
     "output_type": "stream",
     "text": [
      "Left: 0.33813776164852943\n",
      "Right: -0.0010248078036796393\n",
      "Processing data 3116\n"
     ]
    },
    {
     "name": "stderr",
     "output_type": "stream",
     "text": [
      "Processing: 100%|██████████| 150/150 [00:01<00:00, 96.73it/s] \n"
     ]
    },
    {
     "name": "stdout",
     "output_type": "stream",
     "text": [
      "Left: 0.4049021758135906\n",
      "Right: 0.00018167990404547793\n",
      "Processing data 3117\n"
     ]
    },
    {
     "name": "stderr",
     "output_type": "stream",
     "text": [
      "Processing: 100%|██████████| 150/150 [00:00<00:00, 219.54it/s]\n"
     ]
    },
    {
     "name": "stdout",
     "output_type": "stream",
     "text": [
      "Left: 0.42093461229546125\n",
      "Right: -0.0016397431688739798\n",
      "Processing data 3118\n"
     ]
    },
    {
     "name": "stderr",
     "output_type": "stream",
     "text": [
      "Processing: 100%|██████████| 150/150 [00:05<00:00, 27.68it/s]\n"
     ]
    },
    {
     "name": "stdout",
     "output_type": "stream",
     "text": [
      "Left: 0.003013608153210001\n",
      "Right: 0.05972388387471017\n",
      "Processing data 3119\n"
     ]
    },
    {
     "name": "stderr",
     "output_type": "stream",
     "text": [
      "Processing: 100%|██████████| 150/150 [00:02<00:00, 72.94it/s]\n"
     ]
    },
    {
     "name": "stdout",
     "output_type": "stream",
     "text": [
      "Left: 0.32056036701677276\n",
      "Right: -0.00019971331034811766\n",
      "Processing data 3122\n"
     ]
    },
    {
     "name": "stderr",
     "output_type": "stream",
     "text": [
      "Processing: 100%|██████████| 150/150 [00:00<00:00, 420.49it/s]\n"
     ]
    },
    {
     "name": "stdout",
     "output_type": "stream",
     "text": [
      "Left: 0.6100366291668982\n",
      "Right: 0.0019967510442754875\n",
      "Processing data 3123\n"
     ]
    },
    {
     "name": "stderr",
     "output_type": "stream",
     "text": [
      "Processing: 100%|██████████| 150/150 [00:01<00:00, 126.07it/s]\n"
     ]
    },
    {
     "name": "stdout",
     "output_type": "stream",
     "text": [
      "Left: 0.5171289932700125\n",
      "Right: 0.0024687780601583553\n",
      "Processing data 3124\n"
     ]
    },
    {
     "name": "stderr",
     "output_type": "stream",
     "text": [
      "Processing: 100%|██████████| 150/150 [00:00<00:00, 176.90it/s]\n"
     ]
    },
    {
     "name": "stdout",
     "output_type": "stream",
     "text": [
      "Left: -0.02011326951806547\n",
      "Right: 0.4478908785215876\n",
      "Processing data 3125\n"
     ]
    },
    {
     "name": "stderr",
     "output_type": "stream",
     "text": [
      "Processing: 100%|██████████| 150/150 [00:01<00:00, 139.98it/s]\n"
     ]
    },
    {
     "name": "stdout",
     "output_type": "stream",
     "text": [
      "Left: -0.09118029546029705\n",
      "Right: 0.07411872013293569\n",
      "Processing data 3126\n"
     ]
    },
    {
     "name": "stderr",
     "output_type": "stream",
     "text": [
      "Processing: 100%|██████████| 150/150 [00:01<00:00, 96.15it/s]\n"
     ]
    },
    {
     "name": "stdout",
     "output_type": "stream",
     "text": [
      "Left: 0.5020980628325884\n",
      "Right: 0.01581319201550306\n",
      "Processing data 3130\n"
     ]
    },
    {
     "name": "stderr",
     "output_type": "stream",
     "text": [
      "Processing: 100%|██████████| 150/150 [00:00<00:00, 157.99it/s]\n"
     ]
    },
    {
     "name": "stdout",
     "output_type": "stream",
     "text": [
      "Left: 6.906540739308117e-05\n",
      "Right: 0.2732841523523362\n",
      "Processing data 3131\n"
     ]
    },
    {
     "name": "stderr",
     "output_type": "stream",
     "text": [
      "Processing: 100%|██████████| 150/150 [00:05<00:00, 29.58it/s]\n"
     ]
    },
    {
     "name": "stdout",
     "output_type": "stream",
     "text": [
      "Left: 0.0010377959793359814\n",
      "Right: -0.2720568296346939\n",
      "Processing data 3133\n"
     ]
    },
    {
     "name": "stderr",
     "output_type": "stream",
     "text": [
      "Processing: 100%|██████████| 150/150 [00:00<00:00, 155.41it/s]\n"
     ]
    },
    {
     "name": "stdout",
     "output_type": "stream",
     "text": [
      "Left: 0.00216161577605415\n",
      "Right: 0.31134913692643584\n",
      "Processing data 3135\n"
     ]
    },
    {
     "name": "stderr",
     "output_type": "stream",
     "text": [
      "Processing: 100%|██████████| 150/150 [00:01<00:00, 129.37it/s]\n"
     ]
    },
    {
     "name": "stdout",
     "output_type": "stream",
     "text": [
      "Left: 0.6243175343567735\n",
      "Right: 0.0017880209673105732\n",
      "Processing data 3137\n"
     ]
    },
    {
     "name": "stderr",
     "output_type": "stream",
     "text": [
      "Processing: 100%|██████████| 150/150 [00:01<00:00, 91.35it/s] \n"
     ]
    },
    {
     "name": "stdout",
     "output_type": "stream",
     "text": [
      "Left: 0.3937901384971156\n",
      "Right: 0.0003607398912942317\n",
      "Processing data 3145\n"
     ]
    },
    {
     "name": "stderr",
     "output_type": "stream",
     "text": [
      "Processing: 100%|██████████| 150/150 [00:00<00:00, 291.76it/s]\n"
     ]
    },
    {
     "name": "stdout",
     "output_type": "stream",
     "text": [
      "Left: 0.39441490731691176\n",
      "Right: 0.23340941131456672\n",
      "Processing data 3149\n"
     ]
    },
    {
     "name": "stderr",
     "output_type": "stream",
     "text": [
      "Processing: 100%|██████████| 150/150 [00:03<00:00, 42.51it/s]\n"
     ]
    },
    {
     "name": "stdout",
     "output_type": "stream",
     "text": [
      "Left: 0.40564076836259877\n",
      "Right: -0.09268644195548853\n",
      "Processing data 3151\n"
     ]
    },
    {
     "name": "stderr",
     "output_type": "stream",
     "text": [
      "Processing: 100%|██████████| 150/150 [00:00<00:00, 174.84it/s]\n"
     ]
    },
    {
     "name": "stdout",
     "output_type": "stream",
     "text": [
      "Left: 0.8480944608958301\n",
      "Right: 8.774627156503487e-05\n",
      "Processing data 3153\n"
     ]
    },
    {
     "name": "stderr",
     "output_type": "stream",
     "text": [
      "Processing: 100%|██████████| 150/150 [00:03<00:00, 39.36it/s]\n"
     ]
    },
    {
     "name": "stdout",
     "output_type": "stream",
     "text": [
      "Left: 0.2831565533005971\n",
      "Right: -0.3577406981249543\n",
      "Processing data 3154\n"
     ]
    },
    {
     "name": "stderr",
     "output_type": "stream",
     "text": [
      "Processing: 100%|██████████| 150/150 [00:00<00:00, 193.31it/s]\n"
     ]
    },
    {
     "name": "stdout",
     "output_type": "stream",
     "text": [
      "Left: 0.7743209686880891\n",
      "Right: -0.0021732834228536373\n",
      "Processing data 3155\n"
     ]
    },
    {
     "name": "stderr",
     "output_type": "stream",
     "text": [
      "Processing: 100%|██████████| 150/150 [00:03<00:00, 41.02it/s]\n"
     ]
    },
    {
     "name": "stdout",
     "output_type": "stream",
     "text": [
      "Left: 0.3943438627971152\n",
      "Right: 0.0030308313859466196\n",
      "Processing data 3158\n"
     ]
    },
    {
     "name": "stderr",
     "output_type": "stream",
     "text": [
      "Processing: 100%|██████████| 150/150 [00:01<00:00, 147.37it/s]\n"
     ]
    },
    {
     "name": "stdout",
     "output_type": "stream",
     "text": [
      "Left: 0.5351968326166152\n",
      "Right: 0.321239294939928\n",
      "Processing data 3159\n"
     ]
    },
    {
     "name": "stderr",
     "output_type": "stream",
     "text": [
      "Processing: 100%|██████████| 150/150 [00:01<00:00, 88.21it/s]\n"
     ]
    },
    {
     "name": "stdout",
     "output_type": "stream",
     "text": [
      "Left: 0.5786825663015973\n",
      "Right: 0.44097236273895746\n",
      "Processing data 3160\n"
     ]
    },
    {
     "name": "stderr",
     "output_type": "stream",
     "text": [
      "Processing: 100%|██████████| 150/150 [00:00<00:00, 185.76it/s]\n"
     ]
    },
    {
     "name": "stdout",
     "output_type": "stream",
     "text": [
      "Left: 0.5026196216766615\n",
      "Right: 0.0010071587131894183\n",
      "Processing data 3161\n"
     ]
    },
    {
     "name": "stderr",
     "output_type": "stream",
     "text": [
      "Processing: 100%|██████████| 150/150 [00:01<00:00, 104.00it/s]\n"
     ]
    },
    {
     "name": "stdout",
     "output_type": "stream",
     "text": [
      "Left: 0.04030916404857865\n",
      "Right: 5.144422388975341e-05\n",
      "Processing data 3162\n"
     ]
    },
    {
     "name": "stderr",
     "output_type": "stream",
     "text": [
      "Processing: 100%|██████████| 60/60 [00:00<00:00, 241.85it/s]\n"
     ]
    },
    {
     "name": "stdout",
     "output_type": "stream",
     "text": [
      "Left: 0.13169647864941958\n",
      "Right: 0.009770360018534183\n",
      "Processing data 3163\n"
     ]
    },
    {
     "name": "stderr",
     "output_type": "stream",
     "text": [
      "Processing: 100%|██████████| 150/150 [00:04<00:00, 30.07it/s]\n"
     ]
    },
    {
     "name": "stdout",
     "output_type": "stream",
     "text": [
      "Left: 0.02340734046457571\n",
      "Right: 0.31854253847697844\n",
      "Processing data 3164\n"
     ]
    },
    {
     "name": "stderr",
     "output_type": "stream",
     "text": [
      "Processing: 100%|██████████| 150/150 [00:03<00:00, 45.80it/s]\n"
     ]
    },
    {
     "name": "stdout",
     "output_type": "stream",
     "text": [
      "Left: 0.00024103300796768194\n",
      "Right: -0.1767758802667015\n",
      "Processing data 3167\n"
     ]
    },
    {
     "name": "stderr",
     "output_type": "stream",
     "text": [
      "Processing: 100%|██████████| 150/150 [00:00<00:00, 231.16it/s]\n"
     ]
    },
    {
     "name": "stdout",
     "output_type": "stream",
     "text": [
      "Left: -0.016170670601318715\n",
      "Right: 7.064529367817318e-05\n",
      "Processing data 3169\n"
     ]
    },
    {
     "name": "stderr",
     "output_type": "stream",
     "text": [
      "Processing: 100%|██████████| 150/150 [00:00<00:00, 188.10it/s]\n"
     ]
    },
    {
     "name": "stdout",
     "output_type": "stream",
     "text": [
      "Left: 0.5132109211203507\n",
      "Right: 0.07170988425644242\n",
      "Processing data 3171\n"
     ]
    },
    {
     "name": "stderr",
     "output_type": "stream",
     "text": [
      "Processing: 100%|██████████| 150/150 [00:01<00:00, 107.82it/s]\n"
     ]
    },
    {
     "name": "stdout",
     "output_type": "stream",
     "text": [
      "Left: 0.3863926896317399\n",
      "Right: 0.27566000977313576\n",
      "Processing data 3175\n"
     ]
    },
    {
     "name": "stderr",
     "output_type": "stream",
     "text": [
      "Processing: 100%|██████████| 150/150 [00:01<00:00, 115.64it/s]\n"
     ]
    },
    {
     "name": "stdout",
     "output_type": "stream",
     "text": [
      "Left: 0.026561658001710953\n",
      "Right: 0.4003908942443378\n",
      "Processing data 3176\n"
     ]
    },
    {
     "name": "stderr",
     "output_type": "stream",
     "text": [
      "Processing: 100%|██████████| 150/150 [00:00<00:00, 195.89it/s]\n"
     ]
    },
    {
     "name": "stdout",
     "output_type": "stream",
     "text": [
      "Left: 0.3040220161816528\n",
      "Right: 0.0006987090708464013\n",
      "Processing data 3180\n"
     ]
    },
    {
     "name": "stderr",
     "output_type": "stream",
     "text": [
      "Processing: 100%|██████████| 150/150 [00:01<00:00, 91.95it/s] \n"
     ]
    },
    {
     "name": "stdout",
     "output_type": "stream",
     "text": [
      "Left: 0.6155905561671837\n",
      "Right: 0.0020959582214614835\n",
      "Processing data 3183\n"
     ]
    },
    {
     "name": "stderr",
     "output_type": "stream",
     "text": [
      "Processing: 100%|██████████| 150/150 [00:01<00:00, 145.90it/s]\n"
     ]
    },
    {
     "name": "stdout",
     "output_type": "stream",
     "text": [
      "Left: -0.00014234585758765572\n",
      "Right: 0.004622587254837773\n",
      "Processing data 3184\n"
     ]
    },
    {
     "name": "stderr",
     "output_type": "stream",
     "text": [
      "Processing: 100%|██████████| 150/150 [00:05<00:00, 27.12it/s]\n"
     ]
    },
    {
     "name": "stdout",
     "output_type": "stream",
     "text": [
      "Left: 0.23293595458764071\n",
      "Right: 0.7962217097988731\n",
      "Processing data 3188\n"
     ]
    },
    {
     "name": "stderr",
     "output_type": "stream",
     "text": [
      "Processing: 100%|██████████| 150/150 [00:00<00:00, 165.95it/s]\n"
     ]
    },
    {
     "name": "stdout",
     "output_type": "stream",
     "text": [
      "Left: -0.00018732596601583884\n",
      "Right: -0.0521857773748472\n",
      "Processing data 3189\n"
     ]
    },
    {
     "name": "stderr",
     "output_type": "stream",
     "text": [
      "Processing: 100%|██████████| 150/150 [00:00<00:00, 224.06it/s]\n"
     ]
    },
    {
     "name": "stdout",
     "output_type": "stream",
     "text": [
      "Left: 0.5056805013625117\n",
      "Right: 0.0006627915734219259\n",
      "Processing data 3190\n"
     ]
    },
    {
     "name": "stderr",
     "output_type": "stream",
     "text": [
      "Processing: 100%|██████████| 150/150 [00:00<00:00, 165.79it/s]\n"
     ]
    },
    {
     "name": "stdout",
     "output_type": "stream",
     "text": [
      "Left: 0.06121869384240797\n",
      "Right: -2.022575702756435e-05\n",
      "Processing data 3191\n"
     ]
    },
    {
     "name": "stderr",
     "output_type": "stream",
     "text": [
      "Processing: 100%|██████████| 150/150 [00:01<00:00, 133.93it/s]\n"
     ]
    },
    {
     "name": "stdout",
     "output_type": "stream",
     "text": [
      "Left: -0.011919250472109066\n",
      "Right: 0.00018948948529269594\n",
      "Processing data 3200\n"
     ]
    },
    {
     "name": "stderr",
     "output_type": "stream",
     "text": [
      "Processing: 100%|██████████| 150/150 [00:01<00:00, 147.78it/s]\n"
     ]
    },
    {
     "name": "stdout",
     "output_type": "stream",
     "text": [
      "Left: 0.7072182780043239\n",
      "Right: -0.00021842174812671498\n",
      "Processing data 3204\n"
     ]
    },
    {
     "name": "stderr",
     "output_type": "stream",
     "text": [
      "Processing: 100%|██████████| 120/120 [00:04<00:00, 29.56it/s]\n"
     ]
    },
    {
     "name": "stdout",
     "output_type": "stream",
     "text": [
      "Left: -0.040678388600232374\n",
      "Right: 0.4604937375056318\n",
      "Processing data 3206\n"
     ]
    },
    {
     "name": "stderr",
     "output_type": "stream",
     "text": [
      "Processing: 100%|██████████| 150/150 [00:00<00:00, 214.80it/s]\n"
     ]
    },
    {
     "name": "stdout",
     "output_type": "stream",
     "text": [
      "Left: 0.4192418785085158\n",
      "Right: 0.0016182602282575342\n",
      "Processing data 3207\n"
     ]
    },
    {
     "name": "stderr",
     "output_type": "stream",
     "text": [
      "Processing: 100%|██████████| 150/150 [00:02<00:00, 51.74it/s]\n"
     ]
    },
    {
     "name": "stdout",
     "output_type": "stream",
     "text": [
      "Left: 0.23401287645611382\n",
      "Right: 0.007576259321690926\n",
      "Processing data 3208\n"
     ]
    },
    {
     "name": "stderr",
     "output_type": "stream",
     "text": [
      "Processing: 100%|██████████| 150/150 [00:01<00:00, 143.69it/s]\n"
     ]
    },
    {
     "name": "stdout",
     "output_type": "stream",
     "text": [
      "Left: 0.4026168984575489\n",
      "Right: 0.0005185133311173375\n",
      "Processing data 3209\n"
     ]
    },
    {
     "name": "stderr",
     "output_type": "stream",
     "text": [
      "Processing: 100%|██████████| 150/150 [00:03<00:00, 46.99it/s]\n"
     ]
    },
    {
     "name": "stdout",
     "output_type": "stream",
     "text": [
      "Left: 0.8755114524512776\n",
      "Right: 0.6791108025533279\n",
      "Processing data 3210\n"
     ]
    },
    {
     "name": "stderr",
     "output_type": "stream",
     "text": [
      "Processing: 100%|██████████| 150/150 [00:01<00:00, 126.14it/s]\n"
     ]
    },
    {
     "name": "stdout",
     "output_type": "stream",
     "text": [
      "Left: -0.00023900296354824324\n",
      "Right: -0.10330350484843398\n",
      "Processing data 3212\n"
     ]
    },
    {
     "name": "stderr",
     "output_type": "stream",
     "text": [
      "Processing: 100%|██████████| 150/150 [00:03<00:00, 47.98it/s]\n"
     ]
    },
    {
     "name": "stdout",
     "output_type": "stream",
     "text": [
      "Left: 0.11749368014201081\n",
      "Right: -0.0010347099578524779\n",
      "Processing data 3215\n"
     ]
    },
    {
     "name": "stderr",
     "output_type": "stream",
     "text": [
      "Processing: 100%|██████████| 150/150 [00:04<00:00, 36.70it/s]\n"
     ]
    },
    {
     "name": "stdout",
     "output_type": "stream",
     "text": [
      "Left: 0.11932881304274967\n",
      "Right: 0.012654534111894877\n",
      "Processing data 3216\n"
     ]
    },
    {
     "name": "stderr",
     "output_type": "stream",
     "text": [
      "Processing: 100%|██████████| 150/150 [00:00<00:00, 398.10it/s]\n"
     ]
    },
    {
     "name": "stdout",
     "output_type": "stream",
     "text": [
      "Left: 0.6489965953243814\n",
      "Right: 0.00026488022895859546\n",
      "Processing data 3218\n"
     ]
    },
    {
     "name": "stderr",
     "output_type": "stream",
     "text": [
      "Processing: 100%|██████████| 150/150 [00:01<00:00, 94.13it/s] \n"
     ]
    },
    {
     "name": "stdout",
     "output_type": "stream",
     "text": [
      "Left: 0.5992471227918634\n",
      "Right: 0.00026035595533771463\n",
      "Processing data 3219\n"
     ]
    },
    {
     "name": "stderr",
     "output_type": "stream",
     "text": [
      "Processing: 100%|██████████| 150/150 [00:00<00:00, 228.96it/s]\n"
     ]
    },
    {
     "name": "stdout",
     "output_type": "stream",
     "text": [
      "Left: 0.8289411454426528\n",
      "Right: 0.0012262271753363278\n",
      "Processing data 3220\n"
     ]
    },
    {
     "name": "stderr",
     "output_type": "stream",
     "text": [
      "Processing: 100%|██████████| 120/120 [00:00<00:00, 428.73it/s]\n"
     ]
    },
    {
     "name": "stdout",
     "output_type": "stream",
     "text": [
      "Left: 0.07742917540122607\n",
      "Right: 0.006013994596101413\n",
      "Processing data 3224\n"
     ]
    },
    {
     "name": "stderr",
     "output_type": "stream",
     "text": [
      "Processing: 100%|██████████| 150/150 [00:01<00:00, 121.58it/s]\n"
     ]
    },
    {
     "name": "stdout",
     "output_type": "stream",
     "text": [
      "Left: 0.00010698519596309686\n",
      "Right: 0.025600661081137066\n",
      "Processing data 3225\n"
     ]
    },
    {
     "name": "stderr",
     "output_type": "stream",
     "text": [
      "Processing: 100%|██████████| 150/150 [00:01<00:00, 80.59it/s]"
     ]
    },
    {
     "name": "stdout",
     "output_type": "stream",
     "text": [
      "Left: 0.00426116221551065\n",
      "Right: 0.28337225020264056\n"
     ]
    },
    {
     "name": "stderr",
     "output_type": "stream",
     "text": [
      "\n"
     ]
    }
   ],
   "source": [
    "import torch,sys,pickle,os,time\n",
    "import numpy as np\n",
    "sys.path.append('../utils')\n",
    "from mujoco_parser import MuJoCoParserClass\n",
    "from util import rpy2r,get_idxs,np_uv\n",
    "from tqdm import tqdm\n",
    "from scipy.spatial import procrustes\n",
    "\n",
    "comp_device = torch.device(\"cuda\" if torch.cuda.is_available() else \"cpu\")\n",
    "\n",
    "\n",
    "data_list = range(3229)\n",
    "for data_number in data_list:\n",
    "    if os.path.exists('data/scale_data/%d.pkl' % data_number):\n",
    "        start_time = time.time()\n",
    "        print('Processing data %d' % data_number)\n",
    "        xml_path = '../asset/smplh_rig/scene_smplh_rig.xml'\n",
    "        env = MuJoCoParserClass(name='Common-Rig',rel_xml_path=xml_path,VERBOSE=False)\n",
    "\n",
    "        with open('../data/both57m_rigged/%d.pkl' % data_number, 'rb') as f:\n",
    "            data = pickle.load(f)\n",
    "\n",
    "        ZERO_ROOT = True\n",
    "        video = []\n",
    "        tick = 0\n",
    "        seq_len = data['length']\n",
    "\n",
    "        qpos_rig_data = data['qpos']\n",
    "        ls2le_array = np.zeros((seq_len,3))\n",
    "        le2lw_array = np.zeros((seq_len,3))\n",
    "        rs2re_array = np.zeros((seq_len,3))\n",
    "        re2rw_array = np.zeros((seq_len,3))\n",
    "        lw_rot_array = np.zeros((seq_len,3,3))\n",
    "        rw_rot_array = np.zeros((seq_len,3,3))\n",
    "        lh_array = np.zeros((seq_len,6))\n",
    "        rh_array = np.zeros((seq_len,6))\n",
    "        seq_array = np.zeros((2,seq_len,3))\n",
    "\n",
    "        while tick < seq_len:\n",
    "            q_rig = qpos_rig_data[tick,:]\n",
    "\n",
    "            if ZERO_ROOT:\n",
    "                q_rig[3:7] = 0\n",
    "            \n",
    "            env.forward(q=q_rig,INCREASE_TICK=True)\n",
    "            ls = env.get_p_body('left_shoulder')\n",
    "            le = env.get_p_body('left_elbow')\n",
    "            lw = env.get_p_body('left_wrist')\n",
    "            rs = env.get_p_body('right_shoulder')\n",
    "            re = env.get_p_body('right_elbow')\n",
    "            rw = env.get_p_body('right_wrist')\n",
    "\n",
    "            ls2le_array[tick,:] = np_uv(le-ls)\n",
    "            le2lw_array[tick,:] = np_uv(lw-le)\n",
    "            rs2re_array[tick,:] = np_uv(re-rs)\n",
    "            re2rw_array[tick,:] = np_uv(rw-re)\n",
    "            lw_rot_array[tick,:] = env.get_R_body('left_wrist')\n",
    "            rw_rot_array[tick,:] = env.get_R_body('right_wrist')\n",
    "            tick = tick + 1\n",
    "\n",
    "        xml_path = '../asset/kimlab_dualarms/scene_dualarms.xml'\n",
    "        env = MuJoCoParserClass(name='Dual Arms',rel_xml_path=xml_path,VERBOSE=False)\n",
    "        q_init = env.data.qpos.copy()\n",
    "        q_init[18] = -np.pi/2\n",
    "        env.forward(q=q_init)\n",
    "\n",
    "        robot_right_shoulder_pos = env.get_p_joint('robot2/joint1')\n",
    "        robot_right_wrist_pos = env.get_p_joint('robot2/joint6')\n",
    "        robot_left_shoulder_pos = env.get_p_joint('robot1/joint1')\n",
    "\n",
    "        robot_arm_length = np.linalg.norm(robot_right_shoulder_pos-robot_right_wrist_pos)\n",
    "\n",
    "        env.init_viewer(viewer_title='Dual Arms',viewer_width=800,viewer_height=800,viewer_hide_menus=True)\n",
    "        env.update_viewer(azimuth=180,distance=3.0,elevation=-20,lookat=[0.02,-0.03,1.2])\n",
    "        env.reset()\n",
    "\n",
    "        BODY_NAMES = ['robot1/end_link','robot2/end_link']\n",
    "        JOINT_NAMES = ['robot1/joint1','robot1/joint2','robot1/joint3','robot1/joint4','robot1/joint5','robot1/joint6',\n",
    "                    'robot2/joint1','robot2/joint2','robot2/joint3','robot2/joint4','robot2/joint5','robot2/joint6']\n",
    "\n",
    "        ls = env.get_p_body('robot1/link2')\n",
    "        le = env.get_p_body('robot1/link4')\n",
    "        lw = env.get_p_body('robot1/link6')\n",
    "        rs = env.get_p_body('robot2/link2')\n",
    "        re = env.get_p_body('robot2/link4')\n",
    "        rw = env.get_p_body('robot2/link6')\n",
    "\n",
    "        len_ls2le = np.linalg.norm(le-ls)\n",
    "        len_le2lw = np.linalg.norm(lw-le)\n",
    "        len_rs2re = np.linalg.norm(re-rs)\n",
    "        len_re2rw = np.linalg.norm(rw-re)\n",
    "\n",
    "        q_env_array = np.zeros((seq_len,env.model.nq))\n",
    "        with open('data/scale_data/%d.pkl' % data_number, 'rb') as f:\n",
    "            scale_data = pickle.load(f)\n",
    "        SCALE_LEFT_WRIST = scale_data['SCALE_LEFT']\n",
    "        SCALE_RIGHT_WRIST = scale_data['SCALE_RIGHT']\n",
    "\n",
    "        robot_left_wrist_list = []\n",
    "        robot_right_wrist_list = []\n",
    "\n",
    "        for scale_tick in tqdm(range(seq_len), desc=\"Processing\"):\n",
    "            p_target = {}\n",
    "            delta_lw = len_ls2le * ls2le_array[scale_tick,:] + len_le2lw * le2lw_array[scale_tick,:]\n",
    "            if SCALE_LEFT_WRIST:\n",
    "                if delta_lw[0] > 0: delta_lw[0] /= 2\n",
    "                delta_lw[0] += 0.2\n",
    "                if delta_lw[1] > 0: delta_lw[1] /= 2\n",
    "                delta_lw[2] /= 1.5\n",
    "            p_target['robot1/end_link'] = ls + delta_lw\n",
    "            delta_rw = len_rs2re * rs2re_array[scale_tick,:] + len_re2rw * re2rw_array[scale_tick,:]\n",
    "            if SCALE_RIGHT_WRIST:\n",
    "                if delta_rw[0] > 0: delta_rw[0] /= 2\n",
    "                delta_rw[0] += 0.2\n",
    "                if delta_rw[1] < 0: delta_lw[1] /= 2\n",
    "                delta_rw[2] /= 1.5\n",
    "            p_target['robot2/end_link'] = rs + delta_rw\n",
    "            \n",
    "            R_target = {}\n",
    "            R_target['robot1/end_link'] = lw_rot_array[scale_tick,:] @ rpy2r(np.radians([0,0,90]))\n",
    "            R_target['robot2/end_link'] = rw_rot_array[scale_tick,:] @ rpy2r(np.radians([0,0,-90]))\n",
    "\n",
    "            idxs = get_idxs(env.rev_joint_names,JOINT_NAMES)\n",
    "            q_mins_body,q_maxs_body = env.rev_joint_mins[idxs],env.rev_joint_maxs[idxs]\n",
    "            joint_idxs_fwd_body = env.get_idxs_fwd(joint_names=JOINT_NAMES)\n",
    "            joint_idxs_jac_body = env.get_idxs_jac(joint_names=JOINT_NAMES)\n",
    "\n",
    "            q_body = env.get_qpos_joints(JOINT_NAMES)\n",
    "            body_diff = 1e3\n",
    "            prev_q_pos = env.data.qpos.copy()\n",
    "\n",
    "            while body_diff > 1e-3:\n",
    "                for ik_tick in range(1):\n",
    "                    J_list,ik_err_list = [],[]\n",
    "                    for ik_body_name in BODY_NAMES:\n",
    "                        ik_p_trgt = p_target[ik_body_name]\n",
    "                        ik_R_trgt = R_target[ik_body_name]\n",
    "                        IK_P = True\n",
    "                        IK_R = True\n",
    "                        J,ik_err = env.get_ik_ingredients(\n",
    "                            body_name=ik_body_name,p_trgt=ik_p_trgt,R_trgt=ik_R_trgt,\n",
    "                            IK_P=IK_P,IK_R=IK_R)\n",
    "                        J_list.append(J)\n",
    "                        ik_err_list.append(ik_err)\n",
    "                    J_stack      = np.vstack(J_list)\n",
    "                    ik_err_stack = np.hstack(ik_err_list)\n",
    "                    dq = env.damped_ls(J_stack,ik_err_stack,stepsize=1,eps=1e-2,th=np.radians(1.0))\n",
    "                    q_body = q_body + dq[joint_idxs_jac_body]\n",
    "\n",
    "                    q_body = np.clip(q_body,q_mins_body,q_maxs_body)\n",
    "                    env.forward(q=q_body,joint_idxs=joint_idxs_fwd_body)\n",
    "\n",
    "                    q_env = env.data.qpos.copy()\n",
    "                    body_diff = np.linalg.norm(q_env - prev_q_pos)\n",
    "                    prev_q_pos=q_env.copy()\n",
    "\n",
    "                # curr_time = time.time()\n",
    "                # if curr_time - start_time > 15:\n",
    "                #     break\n",
    "\n",
    "            robot_left_wrist_pos = env.get_p_body('robot1/end_link')\n",
    "            robot_right_wrist_pos = env.get_p_body('robot2/end_link')\n",
    "\n",
    "            robot_left_wrist_list.append(robot_left_wrist_pos)\n",
    "            robot_right_wrist_list.append(robot_right_wrist_pos)\n",
    "\n",
    "            q_env_array[scale_tick,:] = q_env\n",
    "            # curr_time = time.time()\n",
    "            # if curr_time - start_time > 15:\n",
    "            #     break\n",
    "\n",
    "        robot_left_wrist_array = np.array(robot_left_wrist_list)\n",
    "        robot_right_wrist_array = np.array(robot_right_wrist_list)\n",
    "\n",
    "        smplh_wrist_array = np.load('data/smplh_sequence/%d.npy' % data_number)\n",
    "        smplh_left_wrist_array = smplh_wrist_array[0,:,:]\n",
    "        smplh_right_wrist_array = smplh_wrist_array[1,:,:]\n",
    "\n",
    "        la, lb, ld = procrustes(smplh_left_wrist_array,robot_left_wrist_array)\n",
    "        ra, rb, rd = procrustes(smplh_right_wrist_array,robot_right_wrist_array)\n",
    "        print(\"Left:\", scale_data['left'] - ld)\n",
    "        print(\"Right:\", scale_data['right'] - rd)\n",
    "\n",
    "        ours_data = {\n",
    "            'data_number': data_number,\n",
    "            'left': ld,\n",
    "            'right': rd,\n",
    "            'SCALE_LEFT': scale_data['SCALE_LEFT'],\n",
    "            'SCALE_RIGHT': scale_data['SCALE_RIGHT'],\n",
    "            'left_improved': scale_data['left'] - ld,\n",
    "            'right_improved': scale_data['right'] - rd\n",
    "        }\n",
    "\n",
    "        with open('data/ours_data/%d.pkl' % data_number, 'wb') as f:\n",
    "            pickle.dump(ours_data, f)\n",
    "\n",
    "        env.close_viewer()\n"
   ]
  },
  {
   "cell_type": "code",
   "execution_count": 30,
   "metadata": {},
   "outputs": [
    {
     "name": "stdout",
     "output_type": "stream",
     "text": [
      "Average improved distance:  0.18805222567355367\n"
     ]
    }
   ],
   "source": [
    "data_list = range(3229)\n",
    "count = 0\n",
    "improved_distance = 0\n",
    "\n",
    "for data_number in data_list:\n",
    "    if os.path.exists('data/ours_data/%d.pkl' % data_number):\n",
    "        with open('data/ours_data/%d.pkl' % data_number, 'rb') as f:\n",
    "            data = pickle.load(f)\n",
    "\n",
    "        if data['SCALE_LEFT']:\n",
    "            count += 1\n",
    "            improved_distance += data['left_improved']\n",
    "\n",
    "        if data['SCALE_RIGHT']:\n",
    "            count += 1\n",
    "            improved_distance += data['right_improved']\n",
    "\n",
    "print(\"Average improved distance: \", improved_distance / count)\n"
   ]
  },
  {
   "cell_type": "code",
   "execution_count": null,
   "metadata": {},
   "outputs": [],
   "source": []
  }
 ],
 "metadata": {
  "kernelspec": {
   "display_name": "online_generation",
   "language": "python",
   "name": "python3"
  },
  "language_info": {
   "codemirror_mode": {
    "name": "ipython",
    "version": 3
   },
   "file_extension": ".py",
   "mimetype": "text/x-python",
   "name": "python",
   "nbconvert_exporter": "python",
   "pygments_lexer": "ipython3",
   "version": "3.9.18"
  }
 },
 "nbformat": 4,
 "nbformat_minor": 2
}
