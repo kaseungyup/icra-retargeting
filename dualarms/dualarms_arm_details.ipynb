{
 "cells": [
  {
   "cell_type": "markdown",
   "id": "7ed4c2ab-42ea-441b-91ea-d2703a4f01b0",
   "metadata": {},
   "source": [
    "### Slider Control of `KIMLAB-Dualarms`"
   ]
  },
  {
   "cell_type": "code",
   "execution_count": 1,
   "id": "7d689678-e9c7-422d-83f9-6034dc8459dd",
   "metadata": {},
   "outputs": [
    {
     "name": "stdout",
     "output_type": "stream",
     "text": [
      "Ready.\n"
     ]
    }
   ],
   "source": [
    "import sys\n",
    "import numpy as np\n",
    "sys.path.append(\"../utils\")\n",
    "from mujoco_parser import MuJoCoParserClass\n",
    "print (\"Ready.\")"
   ]
  },
  {
   "cell_type": "markdown",
   "id": "9a717bf1-a5b9-449c-804c-0ee230926b2e",
   "metadata": {},
   "source": [
    "#### Load"
   ]
  },
  {
   "cell_type": "code",
   "execution_count": 2,
   "id": "dfc437a0-b3a0-422d-8c69-a50235cd2ee1",
   "metadata": {
    "scrolled": true
   },
   "outputs": [
    {
     "name": "stdout",
     "output_type": "stream",
     "text": [
      "dt:[0.0020] HZ:[500]\n",
      "n_dof (=nv):[16]\n",
      "n_geom:[38]\n",
      "geom_names:[None, None, None, None, None, None, None, None, None, None, None, None, None, None, 'robot1/wrist_mesh', None, 'robot1/palm_mesh', None, 'robot1/index_mesh_1', None, 'robot1/index_mesh_2', None, 'robot1/middle_mesh_1', None, 'robot1/middle_mesh_2', None, 'robot1/ring_mesh_1', None, 'robot1/ring_mesh_2', None, 'robot1/pinky_mesh_1', None, 'robot1/pinky_mesh_2', None, 'robot1/thumb_mesh_1', None, 'robot1/thumb_mesh_2', None]\n",
      "n_body:[23]\n",
      "body_names:['world', 'robot1/link1', 'robot1/link2', 'robot1/link3', 'robot1/link4', 'robot1/link5', 'robot1/link6', 'robot1/end_link', 'robot1/index_L1', 'robot1/index_L2', 'robot1/index_tip', 'robot1/middle_L1', 'robot1/middle_L2', 'robot1/middle_tip', 'robot1/ring_L1', 'robot1/ring_L2', 'robot1/ring_tip', 'robot1/pinky_L1', 'robot1/pinky_L2', 'robot1/pinky_tip', 'robot1/thumb_L1', 'robot1/thumb_L2', 'robot1/thumb_tip']\n",
      "n_joint:[16]\n",
      "joint_names:['robot1/joint1', 'robot1/joint2', 'robot1/joint3', 'robot1/joint4', 'robot1/joint5', 'robot1/joint6', 'robot1/index_q1', 'robot1/index_q2', 'robot1/middle_q1', 'robot1/middle_q2', 'robot1/ring_q1', 'robot1/ring_q2', 'robot1/pinky_q1', 'robot1/pinky_q2', 'robot1/thumb_q1', 'robot1/thumb_q2']\n",
      "joint_types:[3 3 3 3 3 3 3 3 3 3 3 3 3 3 3 3]\n",
      "[robot1/joint1] range: [-180.000]deg~[180.000]deg\n",
      "[robot1/joint2] range: [-90.000]deg~[90.000]deg\n",
      "[robot1/joint3] range: [-180.000]deg~[90.000]deg\n",
      "[robot1/joint4] range: [-157.500]deg~[157.500]deg\n",
      "[robot1/joint5] range: [-90.000]deg~[90.000]deg\n",
      "[robot1/joint6] range: [-180.000]deg~[180.000]deg\n",
      "[robot1/index_q1] range: [0.000]deg~[95.000]deg\n",
      "[robot1/index_q2] range: [0.000]deg~[142.012]deg\n",
      "[robot1/middle_q1] range: [0.000]deg~[95.000]deg\n",
      "[robot1/middle_q2] range: [0.000]deg~[142.012]deg\n",
      "[robot1/ring_q1] range: [0.000]deg~[95.000]deg\n",
      "[robot1/ring_q2] range: [0.000]deg~[142.012]deg\n",
      "[robot1/pinky_q1] range: [0.000]deg~[95.000]deg\n",
      "[robot1/pinky_q2] range: [0.000]deg~[142.012]deg\n",
      "[robot1/thumb_q1] range: [-95.000]deg~[0.000]deg\n",
      "[robot1/thumb_q2] range: [0.000]deg~[95.000]deg\n",
      "n_rev_joint:[16]\n",
      "rev_joint_idxs:[ 0  1  2  3  4  5  6  7  8  9 10 11 12 13 14 15]\n",
      "rev_joint_names:['robot1/joint1', 'robot1/joint2', 'robot1/joint3', 'robot1/joint4', 'robot1/joint5', 'robot1/joint6', 'robot1/index_q1', 'robot1/index_q2', 'robot1/middle_q1', 'robot1/middle_q2', 'robot1/ring_q1', 'robot1/ring_q2', 'robot1/pinky_q1', 'robot1/pinky_q2', 'robot1/thumb_q1', 'robot1/thumb_q2']\n",
      "rev_joint_mins:[-3.14159 -1.5708  -3.14159 -2.74889 -1.5708  -3.14159  0.       0.\n",
      "  0.       0.       0.       0.       0.       0.      -1.65806  0.     ]\n",
      "rev_joint_maxs:[3.14159 1.5708  1.5708  2.74889 1.5708  3.14159 1.65806 2.47858 1.65806\n",
      " 2.47858 1.65806 2.47858 1.65806 2.47858 0.      1.65806]\n",
      "rev_joint_ranges:[6.28318 3.1416  4.71239 5.49778 3.1416  6.28318 1.65806 2.47858 1.65806\n",
      " 2.47858 1.65806 2.47858 1.65806 2.47858 1.65806 1.65806]\n",
      "n_pri_joint:[0]\n",
      "pri_joint_idxs:[]\n",
      "pri_joint_names:[]\n",
      "pri_joint_mins:[]\n",
      "pri_joint_maxs:[]\n",
      "pri_joint_ranges:[]\n",
      "n_ctrl:[0]\n",
      "ctrl_names:[]\n",
      "ctrl_joint_idxs:[]\n",
      "ctrl_joint_names:[]\n",
      "ctrl_qvel_idxs:[]\n",
      "ctrl_ranges:\n",
      "[]\n",
      "n_sensor:[0]\n",
      "sensor_names:[]\n",
      "n_site:[0]\n",
      "site_names:[]\n",
      "Done.\n"
     ]
    }
   ],
   "source": [
    "xml_path = '../asset/kimlab_dualarms/kimlab_dualarms_no_stand.xml'\n",
    "env = MuJoCoParserClass(name='Dual Arms',rel_xml_path=xml_path,VERBOSE=True)\n",
    "\n",
    "\n",
    "env.set_geom_color(\n",
    "    rgba                = (0.835,0.369,0,0.8),\n",
    "    body_names_to_color = ['robot1/link2']\n",
    ")\n",
    "\n",
    "env.set_geom_color(\n",
    "    rgba                = (0.902,0.624,0,0.8),\n",
    "    body_names_to_color = ['robot1/link3']\n",
    ")\n",
    "\n",
    "env.set_geom_color(\n",
    "    rgba                = (0,0.620,0.451,0.8),\n",
    "    body_names_to_color = ['robot1/link4']\n",
    ")\n",
    "\n",
    "env.set_geom_color(\n",
    "    rgba                = (0,0.447,0.698,0.8),\n",
    "    body_names_to_color = ['robot1/link5']\n",
    ")\n",
    "env.set_geom_color(\n",
    "    rgba                = (0.8,0.475,0.655,0.8),\n",
    "    body_names_to_color = ['robot1/link6']\n",
    ")\n",
    "\n",
    "env.set_geom_color(\n",
    "    rgba                = (0,0,0,0.6),\n",
    "    body_names_to_color = [\n",
    "        'robot1/end_link','robot1/index_L1','robot1/index_L2','robot1/index_tip',\n",
    "        'robot1/middle_L1','robot1/middle_L2','robot1/middle_tip',\n",
    "        'robot1/ring_L1','robot1/ring_L2','robot1/ring_tip',\n",
    "        'robot1/pinky_L1','robot1/pinky_L2','robot1/pinky_tip',\n",
    "        'robot1/thumb_L1','robot1/thumb_L2','robot1/thumb_tip'],\n",
    ")\n",
    "print (\"Done.\")"
   ]
  },
  {
   "cell_type": "markdown",
   "id": "cd0143f5-c0ce-4bc9-881f-497f8edcc978",
   "metadata": {},
   "source": [
    "#### Slider Control"
   ]
  },
  {
   "cell_type": "code",
   "execution_count": 3,
   "id": "d7718c3a-574b-495c-b7de-1afea4161703",
   "metadata": {},
   "outputs": [
    {
     "name": "stdout",
     "output_type": "stream",
     "text": [
      "Pressed ESC\n",
      "Quitting.\n"
     ]
    }
   ],
   "source": [
    "env.reset() # reset\n",
    "\n",
    "# Initialize MuJoCo viewer\n",
    "env.init_viewer(\n",
    "    viewer_title='Common-Rig-H',viewer_width=1200,viewer_height=800,\n",
    "    viewer_hide_menus=True,\n",
    ")\n",
    "env.update_viewer(\n",
    "    azimuth=90,distance=1,elevation=-12,lookat=[0.34,0.169,-0.05],\n",
    "    VIS_TRANSPARENT=True,\n",
    ")\n",
    "\n",
    "q_init = np.zeros(env.model.nq)\n",
    "q_init[2] = -np.pi/2\n",
    "env.forward(q=q_init)\n",
    "\n",
    "left_joint_names = ['robot1/joint1','robot1/joint2','robot1/joint3','robot1/joint4','robot1/joint5','robot1/joint6']\n",
    "while env.is_viewer_alive():       \n",
    "    # for (i,joint_name) in enumerate(left_joint_names):\n",
    "    #     env.plot_T(p=env.get_p_joint(joint_name),R=np.eye(3),PLOT_AXIS=False,label=joint_name)\n",
    "\n",
    "    # Render\n",
    "    if env.loop_every(tick_every=10):\n",
    "        # env.plot_T(p=np.zeros(3),R=np.eye(3,3),\n",
    "        #            PLOT_AXIS=True,axis_len=0.5,axis_width=0.005)\n",
    "        env.plot_joint_axis(axis_len=0.1,axis_r=0.01,joint_names=left_joint_names) # joint axis\n",
    "        env.render()\n",
    "        \n",
    "# Close MuJoCo viewer and sliders\n",
    "env.close_viewer()"
   ]
  },
  {
   "cell_type": "code",
   "execution_count": null,
   "id": "eaf8adbe",
   "metadata": {},
   "outputs": [],
   "source": [
    "# def plot_joint_axis(self,axis_len=0.1,axis_r=0.01,joint_names=None):\n",
    "#     \"\"\" \n",
    "#         Plot revolute joint axis \n",
    "#     \"\"\"\n",
    "#     rev_joint_idxs  = self.rev_joint_idxs\n",
    "#     rev_joint_names = self.rev_joint_names\n",
    "\n",
    "#     if joint_names is not None:\n",
    "#         idxs = get_idxs(self.rev_joint_names,joint_names)\n",
    "#         rev_joint_idxs_to_use  = rev_joint_idxs[idxs]\n",
    "#         rev_joint_names_to_use = [rev_joint_names[i] for i in idxs]\n",
    "#     else:\n",
    "#         rev_joint_idxs_to_use  = rev_joint_idxs\n",
    "#         rev_joint_names_to_use = rev_joint_names\n",
    "\n",
    "#     for rev_joint_idx,rev_joint_name in zip(rev_joint_idxs_to_use,rev_joint_names_to_use):\n",
    "#         axis_joint      = self.model.jnt_axis[rev_joint_idx]\n",
    "#         p_joint,R_joint = self.get_pR_joint(joint_name=rev_joint_name)\n",
    "#         axis_world      = R_joint@axis_joint\n",
    "#         axis_rgba       = [1,0,0,1]\n",
    "#         self.plot_arrow_fr2to(\n",
    "#             p_fr = p_joint,\n",
    "#             p_to = p_joint+axis_len*axis_world,\n",
    "#             r    = axis_r,\n",
    "#             rgba = axis_rgba\n",
    "#         )"
   ]
  }
 ],
 "metadata": {
  "kernelspec": {
   "display_name": "Python 3 (ipykernel)",
   "language": "python",
   "name": "python3"
  },
  "language_info": {
   "codemirror_mode": {
    "name": "ipython",
    "version": 3
   },
   "file_extension": ".py",
   "mimetype": "text/x-python",
   "name": "python",
   "nbconvert_exporter": "python",
   "pygments_lexer": "ipython3",
   "version": "3.9.19"
  }
 },
 "nbformat": 4,
 "nbformat_minor": 5
}
