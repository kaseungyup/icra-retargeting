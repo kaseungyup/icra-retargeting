{
 "cells": [
  {
   "cell_type": "code",
   "execution_count": 7,
   "metadata": {},
   "outputs": [],
   "source": [
    "from pathlib import Path\n",
    "\n",
    "import cv2, pickle\n",
    "import numpy as np\n",
    "\n",
    "from dex_retargeting.constants import RobotName, RetargetingType, HandType, get_default_config_path\n",
    "from dex_retargeting.retargeting_config import RetargetingConfig\n",
    "from dex_retargeting.seq_retarget import SeqRetargeting\n",
    "from single_hand_detector import SingleHandDetector"
   ]
  },
  {
   "cell_type": "code",
   "execution_count": 8,
   "metadata": {},
   "outputs": [
    {
     "name": "stdout",
     "output_type": "stream",
     "text": [
      "\u001b[34m Mimic joint adaptor enabled. The mimic joint tags in the URDF will be considered during retargeting.\n",
      "To disable mimic joint adaptor, consider setting ignore_mimic_joint=True in the configuration. \u001b[39m\n"
     ]
    }
   ],
   "source": [
    "robot_name = RobotName.ability\n",
    "retargeting_type = RetargetingType.dexpilot\n",
    "hand_type = HandType.right\n",
    "\n",
    "config_path = get_default_config_path(robot_name, retargeting_type, hand_type)\n",
    "robot_dir = Path().absolute().parent / \"ability_hand\" / \"assets\" \n",
    "RetargetingConfig.set_default_urdf_dir(str(robot_dir))\n",
    "retargeting = RetargetingConfig.load_from_file(config_path).build()\n",
    "\n",
    "video_path = \"data/human_hand_video.mp4\"\n",
    "output_path = \"data/ability_joints.pkl\""
   ]
  },
  {
   "cell_type": "code",
   "execution_count": 9,
   "metadata": {},
   "outputs": [
    {
     "name": "stderr",
     "output_type": "stream",
     "text": [
      "I0000 00:00:1722970909.668605  448715 gl_context.cc:357] GL version: 2.1 (2.1 Metal - 88.1), renderer: Apple M2 Pro\n",
      "W0000 00:00:1722970909.674650  450524 inference_feedback_manager.cc:114] Feedback manager requires a model with a single signature inference. Disabling support for feedback tensors.\n",
      "W0000 00:00:1722970909.680156  450524 inference_feedback_manager.cc:114] Feedback manager requires a model with a single signature inference. Disabling support for feedback tensors.\n",
      "/Users/sy/miniforge3/envs/hand_diffusion/lib/python3.9/site-packages/google/protobuf/symbol_database.py:55: UserWarning: SymbolDatabase.GetPrototype() is deprecated. Please use message_factory.GetMessageClass() instead. SymbolDatabase.GetPrototype() will be removed soon.\n",
      "  warnings.warn('SymbolDatabase.GetPrototype() is deprecated. Please '\n"
     ]
    },
    {
     "name": "stdout",
     "output_type": "stream",
     "text": [
      "Retargeting 621 times takes: 1.070062832000076s\n",
      "Last distance: 0.03218003782018519\n"
     ]
    }
   ],
   "source": [
    "cap = cv2.VideoCapture(video_path)\n",
    "\n",
    "detector = SingleHandDetector(hand_type=\"Right\", selfie=False)\n",
    "length = int(cap.get(cv2.CAP_PROP_FRAME_COUNT))\n",
    "\n",
    "data = []\n",
    "\n",
    "while cap.isOpened():\n",
    "    ret, frame = cap.read()\n",
    "\n",
    "    if not ret:\n",
    "        break\n",
    "\n",
    "    rgb = frame[..., ::-1]\n",
    "    num_box, joint_pos, keypoint_2d, mediapipe_wrist_rot = detector.detect(rgb)\n",
    "    \n",
    "    retargeting_type = retargeting.optimizer.retargeting_type\n",
    "    indices = retargeting.optimizer.target_link_human_indices\n",
    "    if retargeting_type == \"POSITION\":\n",
    "        indices = indices\n",
    "        ref_value = joint_pos[indices, :]\n",
    "    else:\n",
    "        origin_indices = indices[0, :]\n",
    "        task_indices = indices[1, :]\n",
    "        ref_value = joint_pos[task_indices, :] - joint_pos[origin_indices, :]\n",
    "    qpos = retargeting.retarget(ref_value)\n",
    "    data.append(qpos)\n",
    "\n",
    "meta_data = dict(\n",
    "    config_path=config_path,\n",
    "    dof=len(retargeting.optimizer.robot.dof_joint_names),\n",
    "    joint_names=retargeting.optimizer.robot.dof_joint_names,\n",
    ")\n",
    "\n",
    "output_path = Path(output_path)\n",
    "output_path.parent.mkdir(parents=True, exist_ok=True)\n",
    "with output_path.open(\"wb\") as f:\n",
    "    pickle.dump(dict(data=data, meta_data=meta_data), f)\n",
    "\n",
    "retargeting.verbose()\n",
    "cap.release()\n",
    "cv2.destroyAllWindows()\n"
   ]
  },
  {
   "cell_type": "code",
   "execution_count": 11,
   "metadata": {},
   "outputs": [],
   "source": [
    "import sys\n",
    "sys.path.append('../utils')\n",
    "from mujoco_parser import MuJoCoParserClass\n",
    "from util import rpy2r,get_idxs,np_uv\n",
    "\n",
    "xml_path = '../asset/kimlab_dualarms/scene_dualarms.xml'\n",
    "env = MuJoCoParserClass(name='Dual Arms',rel_xml_path=xml_path,VERBOSE=False)\n",
    "env.set_geom_color(\n",
    "    rgba                = (0.2,0.2,0.2,0.9),\n",
    "    body_names_to_color = [\n",
    "        'robot1/end_link','robot1/index_L1','robot1/index_L2','robot1/index_tip',\n",
    "        'robot1/middle_L1','robot1/middle_L2','robot1/middle_tip',\n",
    "        'robot1/ring_L1','robot1/ring_L2','robot1/ring_tip',\n",
    "        'robot1/pinky_L1','robot1/pinky_L2','robot1/pinky_tip',\n",
    "        'robot1/thumb_L1','robot1/thumb_L2','robot1/thumb_tip',\n",
    "        'robot2/end_link','robot2/index_L1','robot2/index_L2','robot2/index_tip',\n",
    "        'robot2/middle_L1','robot2/middle_L2','robot2/middle_tip',\n",
    "        'robot2/ring_L1','robot2/ring_L2','robot2/ring_tip',\n",
    "        'robot2/pinky_L1','robot2/pinky_L2','robot2/pinky_tip',\n",
    "        'robot2/thumb_L1','robot2/thumb_L2','robot2/thumb_tip'],\n",
    ")\n",
    "\n",
    "right_hand_joint_names = ['robot2/' + i for i in meta_data['joint_names']]\n",
    "right_hand_idxs = get_idxs(env.joint_names,right_hand_joint_names)\n",
    "right_hand_joint_data = np.array(data)"
   ]
  },
  {
   "cell_type": "code",
   "execution_count": 12,
   "metadata": {},
   "outputs": [
    {
     "name": "stdout",
     "output_type": "stream",
     "text": [
      "Pressed ESC\n",
      "Quitting.\n"
     ]
    }
   ],
   "source": [
    "env.init_viewer(viewer_title='Dual Arms',viewer_width=800,viewer_height=800,viewer_hide_menus=True)\n",
    "env.update_viewer(azimuth=180,distance=3.0,elevation=-20,lookat=[0.02,-0.03,1.2])\n",
    "env.reset()\n",
    "\n",
    "q_init = np.zeros(env.model.nq)\n",
    "q_init[21] = -np.pi/2\n",
    "\n",
    "env.forward(q=q_init)\n",
    "tick = 0\n",
    "seq_len = right_hand_joint_data.shape[0]\n",
    "\n",
    "while(env.is_viewer_alive() and tick < seq_len):\n",
    "    env.forward(q=right_hand_joint_data[tick],joint_idxs=right_hand_idxs)\n",
    "    env.render()\n",
    "    env.plot_T(p=np.zeros(3),R=np.eye(3),label='Tick: %d/%d'%(tick,seq_len),PLOT_AXIS=False)\n",
    "    \n",
    "    tick += 1\n",
    "    if tick == seq_len:tick = 0\n",
    "\n",
    "env.close_viewer()"
   ]
  },
  {
   "cell_type": "code",
   "execution_count": null,
   "metadata": {},
   "outputs": [],
   "source": []
  }
 ],
 "metadata": {
  "kernelspec": {
   "display_name": "Python 3",
   "language": "python",
   "name": "python3"
  },
  "language_info": {
   "codemirror_mode": {
    "name": "ipython",
    "version": 3
   },
   "file_extension": ".py",
   "mimetype": "text/x-python",
   "name": "python",
   "nbconvert_exporter": "python",
   "pygments_lexer": "ipython3",
   "version": "3.9.19"
  }
 },
 "nbformat": 4,
 "nbformat_minor": 2
}
