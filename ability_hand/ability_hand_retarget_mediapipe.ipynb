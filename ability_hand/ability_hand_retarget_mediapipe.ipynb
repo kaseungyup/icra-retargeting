{
 "cells": [
  {
   "cell_type": "code",
   "execution_count": 4,
   "metadata": {},
   "outputs": [],
   "source": [
    "from pathlib import Path\n",
    "\n",
    "import cv2, os, pickle\n",
    "\n",
    "from dex_retargeting.constants import RobotName, RetargetingType, HandType, get_default_config_path\n",
    "from dex_retargeting.retargeting_config import RetargetingConfig\n",
    "from dex_retargeting.seq_retarget import SeqRetargeting\n",
    "from single_hand_detector import SingleHandDetector\n",
    "\n",
    "import mediapipe as mp\n",
    "import numpy as np"
   ]
  },
  {
   "cell_type": "code",
   "execution_count": 5,
   "metadata": {},
   "outputs": [
    {
     "name": "stdout",
     "output_type": "stream",
     "text": [
      "\u001b[34m Mimic joint adaptor enabled. The mimic joint tags in the URDF will be considered during retargeting.\n",
      "To disable mimic joint adaptor, consider setting ignore_mimic_joint=True in the configuration. \u001b[39m\n"
     ]
    }
   ],
   "source": [
    "robot_name = RobotName.ability\n",
    "retargeting_type = RetargetingType.dexpilot\n",
    "hand_type = HandType.right\n",
    "\n",
    "config_path = get_default_config_path(robot_name, retargeting_type, hand_type)\n",
    "robot_dir = Path().absolute().parent / \"ability_hand\" / \"assets\" \n",
    "RetargetingConfig.set_default_urdf_dir(str(robot_dir))\n",
    "retargeting = RetargetingConfig.load_from_file(config_path).build()\n",
    "\n",
    "video_path = \"data/human_hand_video.mp4\"\n",
    "output_path = \"data/ability_joints.pkl\""
   ]
  },
  {
   "cell_type": "code",
   "execution_count": 6,
   "metadata": {},
   "outputs": [
    {
     "name": "stderr",
     "output_type": "stream",
     "text": [
      "I0000 00:00:1722918259.934590  189878 gl_context.cc:357] GL version: 2.1 (2.1 Metal - 88.1), renderer: Apple M2 Pro\n",
      "W0000 00:00:1722918259.944092  312926 inference_feedback_manager.cc:114] Feedback manager requires a model with a single signature inference. Disabling support for feedback tensors.\n",
      "W0000 00:00:1722918259.950812  312926 inference_feedback_manager.cc:114] Feedback manager requires a model with a single signature inference. Disabling support for feedback tensors.\n"
     ]
    },
    {
     "name": "stdout",
     "output_type": "stream",
     "text": [
      "Retargeting 621 times takes: 1.1396910429721174s\n",
      "Last distance: 0.03218003782018519\n"
     ]
    }
   ],
   "source": [
    "cap = cv2.VideoCapture(video_path)\n",
    "\n",
    "detector = SingleHandDetector(hand_type=\"Right\", selfie=False)\n",
    "length = int(cap.get(cv2.CAP_PROP_FRAME_COUNT))\n",
    "\n",
    "data = []\n",
    "\n",
    "while cap.isOpened():\n",
    "    ret, frame = cap.read()\n",
    "\n",
    "    if not ret:\n",
    "        break\n",
    "\n",
    "    rgb = frame[..., ::-1]\n",
    "    num_box, joint_pos, keypoint_2d, mediapipe_wrist_rot = detector.detect(rgb)\n",
    "    \n",
    "    retargeting_type = retargeting.optimizer.retargeting_type\n",
    "    indices = retargeting.optimizer.target_link_human_indices\n",
    "    if retargeting_type == \"POSITION\":\n",
    "        indices = indices\n",
    "        ref_value = joint_pos[indices, :]\n",
    "    else:\n",
    "        origin_indices = indices[0, :]\n",
    "        task_indices = indices[1, :]\n",
    "        ref_value = joint_pos[task_indices, :] - joint_pos[origin_indices, :]\n",
    "    qpos = retargeting.retarget(ref_value)\n",
    "    data.append(qpos)\n",
    "\n",
    "meta_data = dict(\n",
    "    config_path=config_path,\n",
    "    dof=len(retargeting.optimizer.robot.dof_joint_names),\n",
    "    joint_names=retargeting.optimizer.robot.dof_joint_names,\n",
    ")\n",
    "\n",
    "output_path = Path(output_path)\n",
    "output_path.parent.mkdir(parents=True, exist_ok=True)\n",
    "with output_path.open(\"wb\") as f:\n",
    "    pickle.dump(dict(data=data, meta_data=meta_data), f)\n",
    "\n",
    "retargeting.verbose()\n",
    "cap.release()\n",
    "cv2.destroyAllWindows()\n"
   ]
  },
  {
   "cell_type": "code",
   "execution_count": null,
   "metadata": {},
   "outputs": [],
   "source": []
  }
 ],
 "metadata": {
  "kernelspec": {
   "display_name": "Python 3",
   "language": "python",
   "name": "python3"
  },
  "language_info": {
   "codemirror_mode": {
    "name": "ipython",
    "version": 3
   },
   "file_extension": ".py",
   "mimetype": "text/x-python",
   "name": "python",
   "nbconvert_exporter": "python",
   "pygments_lexer": "ipython3",
   "version": "3.9.19"
  }
 },
 "nbformat": 4,
 "nbformat_minor": 2
}
