{
 "cells": [
  {
   "cell_type": "code",
   "execution_count": 2,
   "metadata": {},
   "outputs": [
    {
     "name": "stdout",
     "output_type": "stream",
     "text": [
      "(621, 10)\n",
      "['index_q1', 'index_q2', 'middle_q1', 'middle_q2', 'pinky_q1', 'pinky_q2', 'ring_q1', 'ring_q2', 'thumb_q1', 'thumb_q2']\n"
     ]
    }
   ],
   "source": [
    "import pickle\n",
    "import numpy as np\n",
    "\n",
    "with open(\"data/ability_joints.pkl\", \"rb\") as f:\n",
    "    data = pickle.load(f)\n",
    "\n",
    "print(np.array(data['data']).shape)\n",
    "print(data['meta_data']['joint_names'])\n",
    "\n",
    "joint_data = np.array(data['data'])"
   ]
  },
  {
   "cell_type": "code",
   "execution_count": 3,
   "metadata": {},
   "outputs": [
    {
     "name": "stdout",
     "output_type": "stream",
     "text": [
      "Done.\n"
     ]
    }
   ],
   "source": [
    "import torch,sys\n",
    "sys.path.append('../utils')\n",
    "from mujoco_parser import MuJoCoParserClass\n",
    "from util import rpy2r,get_idxs,np_uv\n",
    "\n",
    "xml_path = '../asset/kimlab_dualarms/scene_dualarms.xml'\n",
    "env = MuJoCoParserClass(name='Dual Arms',rel_xml_path=xml_path,VERBOSE=False)\n",
    "env.set_geom_color(\n",
    "    rgba                = (0.2,0.2,0.2,0.9),\n",
    "    body_names_to_color = [\n",
    "        'robot1/end_link','robot1/index_L1','robot1/index_L2','robot1/index_tip',\n",
    "        'robot1/middle_L1','robot1/middle_L2','robot1/middle_tip',\n",
    "        'robot1/ring_L1','robot1/ring_L2','robot1/ring_tip',\n",
    "        'robot1/pinky_L1','robot1/pinky_L2','robot1/pinky_tip',\n",
    "        'robot1/thumb_L1','robot1/thumb_L2','robot1/thumb_tip',\n",
    "        'robot2/end_link','robot2/index_L1','robot2/index_L2','robot2/index_tip',\n",
    "        'robot2/middle_L1','robot2/middle_L2','robot2/middle_tip',\n",
    "        'robot2/ring_L1','robot2/ring_L2','robot2/ring_tip',\n",
    "        'robot2/pinky_L1','robot2/pinky_L2','robot2/pinky_tip',\n",
    "        'robot2/thumb_L1','robot2/thumb_L2','robot2/thumb_tip'],\n",
    ")\n",
    "\n",
    "right_hand_joint_names = ['robot2/' + i for i in data['meta_data']['joint_names']]\n",
    "right_hand_idxs = get_idxs(env.joint_names,right_hand_joint_names)\n",
    "\n",
    "print (\"Done.\")"
   ]
  },
  {
   "cell_type": "code",
   "execution_count": 4,
   "metadata": {},
   "outputs": [
    {
     "name": "stdout",
     "output_type": "stream",
     "text": [
      "Pressed ESC\n",
      "Quitting.\n"
     ]
    }
   ],
   "source": [
    "env.init_viewer(viewer_title='Dual Arms',viewer_width=800,viewer_height=800,viewer_hide_menus=True)\n",
    "env.update_viewer(azimuth=180,distance=3.0,elevation=-20,lookat=[0.02,-0.03,1.2])\n",
    "env.reset()\n",
    "\n",
    "q_init = np.zeros(env.model.nq)\n",
    "q_init[21] = -np.pi/2\n",
    "\n",
    "env.forward(q=q_init)\n",
    "tick = 0\n",
    "seq_len = joint_data.shape[0]\n",
    "\n",
    "while(env.is_viewer_alive() and tick < seq_len):\n",
    "    env.forward(q=joint_data[tick],joint_idxs=right_hand_idxs)\n",
    "    env.render()\n",
    "    env.plot_T(p=np.zeros(3),R=np.eye(3),label='Tick: %d/%d'%(tick,seq_len),PLOT_AXIS=False)\n",
    "    \n",
    "    tick += 1\n",
    "    if tick == seq_len:tick = 0\n",
    "\n",
    "env.close_viewer()"
   ]
  },
  {
   "cell_type": "code",
   "execution_count": null,
   "metadata": {},
   "outputs": [],
   "source": []
  }
 ],
 "metadata": {
  "kernelspec": {
   "display_name": "hand_diffusion",
   "language": "python",
   "name": "python3"
  },
  "language_info": {
   "codemirror_mode": {
    "name": "ipython",
    "version": 3
   },
   "file_extension": ".py",
   "mimetype": "text/x-python",
   "name": "python",
   "nbconvert_exporter": "python",
   "pygments_lexer": "ipython3",
   "version": "3.9.19"
  }
 },
 "nbformat": 4,
 "nbformat_minor": 2
}
