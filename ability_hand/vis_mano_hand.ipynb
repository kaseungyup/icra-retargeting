{
 "cells": [
  {
   "cell_type": "code",
   "execution_count": 8,
   "metadata": {},
   "outputs": [
    {
     "name": "stdout",
     "output_type": "stream",
     "text": [
      "MuJoCo version:[3.1.6]\n"
     ]
    }
   ],
   "source": [
    "import numpy as np\n",
    "import torch\n",
    "from smplx import MANO\n",
    "import mujoco\n",
    "import numpy as np\n",
    "import sys\n",
    "sys.path.append(\"../utils\")\n",
    "from mujoco_parser import MuJoCoParserClass\n",
    "np.set_printoptions(precision=2,suppress=True,linewidth=100)\n",
    "plt.rc('xtick',labelsize=6); plt.rc('ytick',labelsize=6)\n",
    "%config InlineBackend.figure_format = 'retina'\n",
    "%matplotlib inline\n",
    "print (\"MuJoCo version:[%s]\"%(mujoco.__version__))\n",
    "\n",
    "xml_path = '../asset/object/floor_sky.xml'\n",
    "env = MuJoCoParserClass(name='',rel_xml_path=xml_path,VERBOSE=False)"
   ]
  },
  {
   "cell_type": "code",
   "execution_count": 9,
   "metadata": {},
   "outputs": [
    {
     "name": "stdout",
     "output_type": "stream",
     "text": [
      "WARNING: You are using a MANO model, with only 10 shape coefficients.\n",
      "WARNING: You are using a MANO model, with only 10 shape coefficients.\n"
     ]
    }
   ],
   "source": [
    "comp_device = torch.device(\"cuda\" if torch.cuda.is_available() else \"cpu\")\n",
    "left_mano_path = 'data/mano/MANO_LEFT.pkl'\n",
    "right_mano_path = 'data/mano/MANO_RIGHT.pkl'\n",
    "\n",
    "left_model = MANO(\n",
    "    model_path=left_mano_path,\n",
    "    is_rhand=False,\n",
    "    use_pca=False,\n",
    "    flat_hand_mean=True\n",
    ").to(comp_device)\n",
    "\n",
    "right_model = MANO(\n",
    "    model_path=right_mano_path,\n",
    "    is_rhand=True,\n",
    "    use_pca=False,\n",
    "    flat_hand_mean=True\n",
    ").to(comp_device)\n"
   ]
  },
  {
   "cell_type": "code",
   "execution_count": 10,
   "metadata": {},
   "outputs": [
    {
     "name": "stdout",
     "output_type": "stream",
     "text": [
      "torch.Size([150, 45])\n",
      "torch.Size([150, 45])\n"
     ]
    }
   ],
   "source": [
    "data_number = 493\n",
    "data_path = '../data/both57m/%d/data.npz'%(data_number)\n",
    "data = np.load(data_path)\n",
    "seq_len = data['seq_len']\n",
    "\n",
    "hand_pose = torch.Tensor(data['hand_pose'].reshape((seq_len,-1))).to(comp_device)\n",
    "left_hand_pose = hand_pose[:,:45]\n",
    "right_hand_pose = hand_pose[:,45:]\n",
    "\n",
    "print(left_hand_pose.shape)\n",
    "print(right_hand_pose.shape)"
   ]
  },
  {
   "cell_type": "code",
   "execution_count": 11,
   "metadata": {},
   "outputs": [
    {
     "name": "stdout",
     "output_type": "stream",
     "text": [
      "Left Joint Position shape:  (150, 21, 3)\n",
      "Right Joint Position shape:  (150, 21, 3)\n"
     ]
    }
   ],
   "source": [
    "left_joint_pos_list = []\n",
    "right_joint_pos_list = []\n",
    "left_extra_joints_idxs = left_model.vertex_joint_selector.extra_joints_idxs\n",
    "right_extra_joints_idxs = right_model.vertex_joint_selector.extra_joints_idxs\n",
    "finger_idxs = [0,1,2,3,5,6,7,9,10,11,13,14,15,17,18,19]\n",
    "fingertip_idxs = [20,4,8,16,12]\n",
    "\n",
    "for i in range(seq_len):\n",
    "    left_output = left_model(hand_pose=left_hand_pose[i].unsqueeze(0),return_verts=True)\n",
    "    left_finger_pos_output = left_output.joints.detach().cpu().numpy().squeeze()\n",
    "    left_fingertip_pos_output = left_output.vertices[:,left_extra_joints_idxs,:].detach().cpu().numpy().squeeze()\n",
    "    left_full_joint_pos = np.zeros((21,3))\n",
    "    left_full_joint_pos[finger_idxs] = left_finger_pos_output\n",
    "    left_full_joint_pos[fingertip_idxs] = left_fingertip_pos_output\n",
    "    left_joint_pos_list.append(left_full_joint_pos)\n",
    "\n",
    "    right_output = right_model(hand_pose=right_hand_pose[i].unsqueeze(0),return_verts=True)\n",
    "    right_finger_pos_output = right_output.joints.detach().cpu().numpy().squeeze()\n",
    "    right_fingertip_pos_output = right_output.vertices[:,right_extra_joints_idxs,:].detach().cpu().numpy().squeeze()\n",
    "    right_full_joint_pos = np.zeros((21,3))\n",
    "    right_full_joint_pos[finger_idxs] = right_finger_pos_output\n",
    "    right_full_joint_pos[fingertip_idxs] = right_fingertip_pos_output\n",
    "    right_joint_pos_list.append(right_full_joint_pos)\n",
    "\n",
    "left_joint_pos_array = np.array(left_joint_pos_list)\n",
    "right_joint_pos_array = np.array(right_joint_pos_list)\n",
    "print(\"Left Joint Position shape: \", left_joint_pos_array.shape)\n",
    "print(\"Right Joint Position shape: \", right_joint_pos_array.shape)"
   ]
  },
  {
   "cell_type": "code",
   "execution_count": 12,
   "metadata": {},
   "outputs": [],
   "source": [
    "hand_connections = [\n",
    "    [0,1],[1,2],[2,3],[3,4],\n",
    "    [0,5],[5,6],[6,7],[7,8],\n",
    "    [0,9],[9,10],[10,11],[11,12],\n",
    "    [0,13],[13,14],[14,15],[15,16],\n",
    "    [0,17],[17,18],[18,19],[19,20]\n",
    "]\n",
    "\n",
    "all_connections  = np.array(hand_connections)"
   ]
  },
  {
   "cell_type": "code",
   "execution_count": 13,
   "metadata": {},
   "outputs": [
    {
     "name": "stdout",
     "output_type": "stream",
     "text": [
      "Pressed ESC\n",
      "Quitting.\n"
     ]
    }
   ],
   "source": [
    "import time\n",
    "env.init_viewer(viewer_title='',viewer_width=1200,viewer_height=800,\n",
    "                viewer_hide_menus=True)\n",
    "env.update_viewer(azimuth=180,distance=2.6,elevation=-25,lookat=[0.0,0.0,0.83])\n",
    "env.reset()\n",
    "\n",
    "tick = 0\n",
    "while tick < seq_len and env.is_viewer_alive():\n",
    "    left_joint_position = left_joint_pos_array[tick] + np.array([0.0,-0.3,0.3])\n",
    "    right_joint_position = right_joint_pos_array[tick] + np.array([0.0,0.3,0.3])\n",
    "    for i in range(left_joint_position.shape[0]):\n",
    "        env.plot_sphere(p=left_joint_position[i],r=0.01,rgba=[1,0,0,1])\n",
    "        env.plot_sphere(p=right_joint_position[i],r=0.01,rgba=[1,0,0,1])\n",
    "\n",
    "    for j in range(np.shape(all_connections)[0]):\n",
    "        a = all_connections[j][0]\n",
    "        b = all_connections[j][1]\n",
    "        env.plot_cylinder_fr2to(p_fr=left_joint_position[a],p_to=left_joint_position[b],r=0.003,rgba=[0.5,0.5,0.5,1])\n",
    "        env.plot_cylinder_fr2to(p_fr=right_joint_position[a],p_to=right_joint_position[b],r=0.003,rgba=[0.5,0.5,0.5,1])\n",
    "\n",
    "    env.render()\n",
    "    env.plot_T(p=np.array([0.1,-0.3,0.2]),R=np.eye(3),label=\"Left Hand\",PLOT_AXIS=False)\n",
    "    env.plot_T(p=np.array([0.1,0.3,0.2]),R=np.eye(3),label=\"Right Hand\",PLOT_AXIS=False)\n",
    "    env.plot_T(p=np.zeros(3),R=np.eye(3),label=\"Tick: [%d/%d]\"%(tick,seq_len),PLOT_AXIS=False)\n",
    "    \n",
    "    tick += 1\n",
    "    if tick == seq_len: tick = 0\n",
    "    time.sleep(1/30)\n",
    "\n",
    "env.close_viewer()"
   ]
  },
  {
   "cell_type": "code",
   "execution_count": null,
   "metadata": {},
   "outputs": [],
   "source": []
  }
 ],
 "metadata": {
  "kernelspec": {
   "display_name": "hand_diffusion",
   "language": "python",
   "name": "python3"
  },
  "language_info": {
   "codemirror_mode": {
    "name": "ipython",
    "version": 3
   },
   "file_extension": ".py",
   "mimetype": "text/x-python",
   "name": "python",
   "nbconvert_exporter": "python",
   "pygments_lexer": "ipython3",
   "version": "3.9.19"
  }
 },
 "nbformat": 4,
 "nbformat_minor": 2
}
