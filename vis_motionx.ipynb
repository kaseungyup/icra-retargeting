{
 "cells": [
  {
   "cell_type": "code",
   "execution_count": 1,
   "metadata": {},
   "outputs": [
    {
     "name": "stdout",
     "output_type": "stream",
     "text": [
      "MuJoCo version:[3.1.2]\n"
     ]
    }
   ],
   "source": [
    "import numpy as np\n",
    "import torch\n",
    "from smplx import SMPLX\n",
    "from os import path as osp\n",
    "import copy\n",
    "import mujoco\n",
    "import numpy as np\n",
    "import matplotlib.pyplot as plt\n",
    "import sys\n",
    "sys.path.append(\"utils\")\n",
    "from mujoco_parser import MuJoCoParserClass\n",
    "from util import rpy2R,get_idxs\n",
    "np.set_printoptions(precision=2,suppress=True,linewidth=100)\n",
    "plt.rc('xtick',labelsize=6); plt.rc('ytick',labelsize=6)\n",
    "%config InlineBackend.figure_format = 'retina'\n",
    "%matplotlib inline\n",
    "print (\"MuJoCo version:[%s]\"%(mujoco.__version__))\n",
    "\n",
    "xml_path = 'asset/object/floor_sky.xml'\n",
    "env = MuJoCoParserClass(name='',rel_xml_path=xml_path,VERBOSE=False)"
   ]
  },
  {
   "cell_type": "code",
   "execution_count": 3,
   "metadata": {},
   "outputs": [
    {
     "name": "stdout",
     "output_type": "stream",
     "text": [
      "Body parameter vector shapes: \n",
      "root_orient: torch.Size([300, 3]) \n",
      "pose_body: torch.Size([300, 63]) \n",
      "pose_hand: torch.Size([300, 90]) \n",
      "trans: torch.Size([300, 3]) \n",
      "betas: torch.Size([300, 10])\n"
     ]
    }
   ],
   "source": [
    "motionx_dir = 'data/motion-x/data'\n",
    "comp_device = torch.device(\"cuda\" if torch.cuda.is_available() else \"cpu\")\n",
    "\n",
    "# motionx_npy = osp.join(motionx_dir,'smplx','HAA500','subset_0008','Gangnam_Style_Dance_clip_12.npy')\n",
    "motionx_npy = osp.join(motionx_dir,'smplx','kungfu','subset_0000','Aerial_Kick_Kungfu_Wushu_clip_12.npy')\n",
    "mdata = np.load(motionx_npy)\n",
    "\n",
    "len = mdata.shape[0]\n",
    "motion = torch.tensor(mdata).float()\n",
    "motion_parms = {\n",
    "            'root_orient': motion[:, :3].to(comp_device),  # controls the global root orientation\n",
    "            'pose_body': motion[:, 3:3+63].to(comp_device),  # controls the body\n",
    "            'pose_hand': motion[:, 66:66+90].to(comp_device),  # controls the finger articulation\n",
    "            # 'pose_jaw': motion[:, 66+90:66+93].to(comp_device),  # controls the yaw pose\n",
    "            # 'face_expr': motion[:, 159:159+50].to(comp_device),  # controls the face expression\n",
    "            # 'face_shape': motion[:, 209:209+100].to(comp_device),  # controls the face shape\n",
    "            'trans': motion[:, 309:309+3].to(comp_device),  # controls the global body position\n",
    "            'betas': motion[:, 312:].to(comp_device),  # controls the body shape. Body shape is static\n",
    "        }\n",
    "\n",
    "print('Body parameter vector shapes: \\n{}'.format(' \\n'.join(['{}: {}'.format(k,v.shape) for k,v in motion_parms.items()])))"
   ]
  },
  {
   "cell_type": "code",
   "execution_count": 4,
   "metadata": {},
   "outputs": [
    {
     "name": "stdout",
     "output_type": "stream",
     "text": [
      "(300, 127, 3)\n"
     ]
    }
   ],
   "source": [
    "betas = motion_parms['betas']\n",
    "body_pose = motion_parms['pose_body']\n",
    "global_orient = motion_parms['root_orient']\n",
    "left_hand_pose = motion_parms['pose_hand'][:, :45]\n",
    "right_hand_pose = motion_parms['pose_hand'][:, 45:]\n",
    "trans = motion_parms['trans']\n",
    "\n",
    "model = SMPLX(model_path='smplx_models/male/model.npz', gender='male', num_betas=10, use_pca=False, flat_hand_mean=False).to(comp_device)\n",
    "joints = []\n",
    "for i in range(len):\n",
    "    output = model(\n",
    "        betas=betas[i].unsqueeze(0),\n",
    "        body_pose=body_pose[i].unsqueeze(0),\n",
    "        global_orient=global_orient[i].unsqueeze(0),\n",
    "        transl=trans[i].unsqueeze(0)\n",
    "    )\n",
    "    joints.append(output.joints.detach().cpu().numpy().squeeze())\n",
    "\n",
    "joint_positions = np.array(joints)\n",
    "print(joint_positions.shape)"
   ]
  },
  {
   "cell_type": "code",
   "execution_count": 5,
   "metadata": {},
   "outputs": [
    {
     "name": "stdout",
     "output_type": "stream",
     "text": [
      "(300, 55, 3)\n"
     ]
    }
   ],
   "source": [
    "array = joint_positions\n",
    "array = array[:,:,[2,0,1]]\n",
    "# array += np.array([0,0,0.98])\n",
    "joint_positions = array[:,:55,:]\n",
    "print(joint_positions.shape)"
   ]
  },
  {
   "cell_type": "code",
   "execution_count": 6,
   "metadata": {},
   "outputs": [],
   "source": [
    "body_connections = [\n",
    "    [0, 1],   # Pelvis to left hip\n",
    "    [0, 2],   # Pelvis to right hip\n",
    "    [0, 3],   # Pelvis to spine1\n",
    "    [3, 6],   # Spine1 to spine2\n",
    "    [6, 9],   # Spine2 to spine3\n",
    "    [9, 12],  # Spine3 to neck\n",
    "    # [12, 15], # Neck to head\n",
    "    [9, 13],  # Spine3 to left collar\n",
    "    [13, 16], # Left collar to left shoulder\n",
    "    [16, 18], # Left shoulder to left elbow\n",
    "    [18, 20], # Left elbow to left wrist\n",
    "    [9, 14],  # Spine3 to right collar\n",
    "    [14, 17], # Right collar to right shoulder\n",
    "    [17, 19], # Right shoulder to right elbow\n",
    "    [19, 21], # Right elbow to right wrist\n",
    "    [1, 4],   # Left hip to left knee\n",
    "    [4, 7],   # Left knee to left ankle\n",
    "    [7, 10],  # Left ankle to left foot\n",
    "    [2, 5],   # Right hip to right knee\n",
    "    [5, 8],   # Right knee to right ankle\n",
    "    [8, 11]   # Right ankle to right foot\n",
    "]\n",
    "\n",
    "# Hand joint connections (same for both hands)\n",
    "left_hand_connections = [\n",
    "    [20, 25],  [25, 26],  [26, 27],   # Index\n",
    "    [20, 28],  [28, 29],  [29, 30],   # Middle\n",
    "    [20, 31],  [31, 32],  [32, 33],   # Pinky\n",
    "    [20, 34],  [34, 35],  [35, 36],   # Ring\n",
    "    [20, 37],  [37, 38],  [38, 39]    # Thumb\n",
    "]\n",
    "\n",
    "right_hand_connections = [\n",
    "    [21, 40],  [40, 41],  [41, 42],   # Index\n",
    "    [21, 43],  [43, 44],  [44, 45],   # Middle\n",
    "    [21, 46],  [46, 47],  [47, 48],   # Pinky\n",
    "    [21, 49],  [49, 50],  [50, 51],   # Ring\n",
    "    [21, 52],  [52, 53],  [53, 54]    # Thumb\n",
    "]\n",
    "\n",
    "# Combine body and hand connections\n",
    "all_connections = body_connections.copy()\n",
    "\n",
    "# Add left hand connections \n",
    "all_connections.extend(left_hand_connections.copy())\n",
    "\n",
    "# Add right hand connections\n",
    "all_connections.extend(right_hand_connections.copy())\n",
    "\n",
    "all_connections  = np.array(all_connections)"
   ]
  },
  {
   "cell_type": "code",
   "execution_count": 7,
   "metadata": {},
   "outputs": [
    {
     "ename": "",
     "evalue": "",
     "output_type": "error",
     "traceback": [
      "\u001b[1;31m현재 셀 또는 이전 셀에서 코드를 실행하는 동안 Kernel이 충돌했습니다. \n",
      "\u001b[1;31m셀의 코드를 검토하여 가능한 오류 원인을 식별하세요. \n",
      "\u001b[1;31m자세한 내용을 보려면 <a href='https://aka.ms/vscodeJupyterKernelCrash'>여기</a>를 클릭하세요. \n",
      "\u001b[1;31m자세한 내용은 Jupyter <a href='command:jupyter.viewOutput'>로그</a>를 참조하세요."
     ]
    }
   ],
   "source": [
    "import time\n",
    "env.init_viewer(viewer_title='',viewer_width=1200,viewer_height=800,\n",
    "                viewer_hide_menus=True)\n",
    "env.update_viewer(azimuth=180,distance=2.6,elevation=-25,lookat=[0.0,0.0,0.83])\n",
    "env.reset()\n",
    "\n",
    "tick = 0\n",
    "\n",
    "while tick < len and env.is_viewer_alive():\n",
    "    \n",
    "    joint_position = joint_positions[tick]\n",
    "\n",
    "    for i in range(joint_position.shape[0]):\n",
    "        env.plot_sphere(p=joint_position[i],r=0.01,rgba=[1,0,0,1])\n",
    "\n",
    "    for j in range(np.shape(all_connections)[0]):\n",
    "        a = all_connections[j][0]\n",
    "        b = all_connections[j][1]\n",
    "        env.plot_cylinder_fr2to(p_fr=joint_position[a],p_to=joint_position[b],r=0.003,rgba=[0.5,0.5,0.5,1])\n",
    "\n",
    "    env.render()\n",
    "    tick += 1\n",
    "    if tick == len: tick = 0\n",
    "    time.sleep(1/50)\n",
    "\n",
    "env.close_viewer()"
   ]
  },
  {
   "cell_type": "code",
   "execution_count": null,
   "metadata": {},
   "outputs": [],
   "source": []
  },
  {
   "cell_type": "code",
   "execution_count": null,
   "metadata": {},
   "outputs": [],
   "source": []
  }
 ],
 "metadata": {
  "kernelspec": {
   "display_name": "online_generation",
   "language": "python",
   "name": "python3"
  },
  "language_info": {
   "codemirror_mode": {
    "name": "ipython",
    "version": 3
   },
   "file_extension": ".py",
   "mimetype": "text/x-python",
   "name": "python",
   "nbconvert_exporter": "python",
   "pygments_lexer": "ipython3",
   "version": "3.9.18"
  }
 },
 "nbformat": 4,
 "nbformat_minor": 2
}
