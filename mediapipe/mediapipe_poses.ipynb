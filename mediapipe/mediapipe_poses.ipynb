{
 "cells": [
  {
   "cell_type": "code",
   "execution_count": 4,
   "metadata": {},
   "outputs": [
    {
     "name": "stdout",
     "output_type": "stream",
     "text": [
      "cv2:[4.9.0]\n",
      "mediapipe:[0.10.9]\n"
     ]
    }
   ],
   "source": [
    "import mujoco\n",
    "import numpy as np\n",
    "import matplotlib.pyplot as plt\n",
    "import mediapipe as mp\n",
    "import cv2\n",
    "import sys\n",
    "sys.path.append(\"../utils\")\n",
    "from mujoco_parser import MuJoCoParserClass\n",
    "from util import rpy2r\n",
    "np.set_printoptions(precision=2,suppress=True,linewidth=100)\n",
    "plt.rc('xtick',labelsize=6); plt.rc('ytick',labelsize=6)\n",
    "%config InlineBackend.figure_format = 'retina'\n",
    "%matplotlib inline\n",
    "print (\"cv2:[%s]\"%(cv2.__version__))\n",
    "print (\"mediapipe:[%s]\"%(mp.__version__))\n",
    "\n",
    "# # xml_path = '../asset/object/floor_sky.xml'\n",
    "# xml_path = \"../asset/smplh_rig/scene_smplh_rig.xml\"\n",
    "# env = MuJoCoParserClass(name='SMPLH-Rig',rel_xml_path=xml_path,VERBOSE=False)\n",
    "\n",
    "# env.init_viewer(viewer_title='Joint Pos',viewer_width=1200,viewer_height=800,\n",
    "#                 viewer_hide_menus=True)\n",
    "# env.update_viewer(azimuth=180,distance=1.0,elevation=-21,lookat=[0.02,-0.03,0.8])\n",
    "# env.reset()"
   ]
  },
  {
   "cell_type": "code",
   "execution_count": 5,
   "metadata": {},
   "outputs": [],
   "source": [
    "# valid_cams = []\n",
    "# for i in range(8):\n",
    "#     cap = cv2.VideoCapture(i)\n",
    "#     if cap is None or not cap.isOpened():\n",
    "#         print('Warning: unable to open video source: ', i)\n",
    "#     else:\n",
    "#         valid_cams.append(i)\n",
    "\n",
    "# print(valid_cams)"
   ]
  },
  {
   "cell_type": "code",
   "execution_count": 6,
   "metadata": {},
   "outputs": [
    {
     "name": "stderr",
     "output_type": "stream",
     "text": [
      "I0000 00:00:1712035515.701051       1 gl_context.cc:344] GL version: 2.1 (2.1 Metal - 88), renderer: Apple M2 Pro\n"
     ]
    }
   ],
   "source": [
    "cap = cv2.VideoCapture(0)\n",
    "\n",
    "# Initialize MediaPipe pose model\n",
    "mp_pose = mp.solutions.pose\n",
    "pose = mp_pose.Pose(\n",
    "    static_image_mode=False,\n",
    "    model_complexity=1,\n",
    "    min_detection_confidence=0.25,\n",
    "    min_tracking_confidence=0.25\n",
    ")\n",
    "mp_drawing = mp.solutions.drawing_utils\n",
    "\n",
    "while cap.isOpened():\n",
    "    ret, img = cap.read()\n",
    "    if not ret:\n",
    "        break\n",
    "    \n",
    "    img = cv2.flip(img, 1)\n",
    "    img.flags.writeable = False\n",
    "    res = pose.process(img)\n",
    "\n",
    "    img_with_res = img.copy()\n",
    "    if res.pose_landmarks:\n",
    "        mp_drawing.draw_landmarks(\n",
    "            img_with_res,\n",
    "            res.pose_landmarks,\n",
    "            mp_pose.POSE_CONNECTIONS,\n",
    "            mp_drawing.DrawingSpec(color=(121, 22, 76), thickness=2, circle_radius=4),\n",
    "            mp_drawing.DrawingSpec(color=(250, 44, 250), thickness=2, circle_radius=2),\n",
    "        )\n",
    "\n",
    "    cv2.imshow('MediaPipe Pose', img_with_res)\n",
    "\n",
    "    key = cv2.waitKey(1)\n",
    "    if key==27:\n",
    "        break"
   ]
  },
  {
   "cell_type": "markdown",
   "metadata": {},
   "source": []
  },
  {
   "cell_type": "code",
   "execution_count": null,
   "metadata": {},
   "outputs": [],
   "source": []
  }
 ],
 "metadata": {
  "kernelspec": {
   "display_name": "online_generation",
   "language": "python",
   "name": "python3"
  },
  "language_info": {
   "codemirror_mode": {
    "name": "ipython",
    "version": 3
   },
   "file_extension": ".py",
   "mimetype": "text/x-python",
   "name": "python",
   "nbconvert_exporter": "python",
   "pygments_lexer": "ipython3",
   "version": "3.9.18"
  }
 },
 "nbformat": 4,
 "nbformat_minor": 2
}
