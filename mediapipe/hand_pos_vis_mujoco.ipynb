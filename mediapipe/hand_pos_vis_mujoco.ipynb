{
 "cells": [
  {
   "cell_type": "code",
   "execution_count": 1,
   "metadata": {},
   "outputs": [
    {
     "name": "stdout",
     "output_type": "stream",
     "text": [
      "MuJoCo version:[3.1.3]\n",
      "Jupyter environment detected. Enabling Open3D WebVisualizer.\n",
      "[Open3D INFO] WebRTC GUI backend enabled.\n",
      "[Open3D INFO] WebRTCWindowSystem: HTTP handshake server disabled.\n"
     ]
    },
    {
     "name": "stderr",
     "output_type": "stream",
     "text": [
      "WARNING: All log messages before absl::InitializeLog() is called are written to STDERR\n",
      "I0000 00:00:1710405572.113005   47133 gl_context_egl.cc:85] Successfully initialized EGL. Major : 1 Minor: 5\n",
      "I0000 00:00:1710405572.200634   47434 gl_context.cc:357] GL version: 3.2 (OpenGL ES 3.2 NVIDIA 535.161.07), renderer: NVIDIA GeForce RTX 3060/PCIe/SSE2\n",
      "INFO: Created TensorFlow Lite XNNPACK delegate for CPU.\n"
     ]
    }
   ],
   "source": [
    "import mujoco\n",
    "import numpy as np\n",
    "import matplotlib.pyplot as plt\n",
    "import sys\n",
    "sys.path.append('../smplh_rig')\n",
    "from mujoco_parser import MuJoCoParserClass\n",
    "np.set_printoptions(precision=2,suppress=True,linewidth=100)\n",
    "plt.rc('xtick',labelsize=6); plt.rc('ytick',labelsize=6)\n",
    "%config InlineBackend.figure_format = 'retina'\n",
    "%matplotlib inline\n",
    "print (\"MuJoCo version:[%s]\"%(mujoco.__version__))\n",
    "\n",
    "import cv2\n",
    "from utils.utils_display import DisplayHand\n",
    "from utils.utils_mediapipe import MediaPipeHand\n",
    "\n",
    "pipe = MediaPipeHand(static_image_mode=False, max_num_hands=2)\n",
    "disp = DisplayHand(max_num_hands=2)\n",
    "\n",
    "xml_path = '../asset/smplh_rig/scene_smplh_rig.xml'\n",
    "env = MuJoCoParserClass(name='SMPLH-Rig',rel_xml_path=xml_path,VERBOSE=False)\n",
    "env.Hz = 30\n",
    "\n",
    "for body_name in env.body_names:\n",
    "    if body_name in ['world']: continue\n",
    "    body_idx = env.body_names.index(body_name)\n",
    "    geom_idxs = [idx for idx,val in enumerate(env.model.geom_bodyid) if val==body_idx]\n",
    "    for geom_idx in geom_idxs:\n",
    "        env.model.geom(geom_idx).rgba = [1,0.7,0.7,0]\n",
    "\n",
    "env.init_viewer(viewer_title='Joint Pos',viewer_width=1200,viewer_height=800,\n",
    "                viewer_hide_menus=True)\n",
    "env.update_viewer(azimuth=180,distance=1.0,elevation=-21,lookat=[0.02,-0.03,0.8])\n",
    "env.reset()\n",
    "\n",
    "hand_limbs = [[0,1],[1,2],[2,3],[3,4],\n",
    "              [0,5],[5,6],[6,7],[7,8],\n",
    "              [5,9],[9,10],[10,11],[11,12],\n",
    "              [9,13],[13,14],[14,15],[15,16],\n",
    "              [0,17],[13,17],[17,18],[18,19],[19,20]]"
   ]
  },
  {
   "cell_type": "code",
   "execution_count": 2,
   "metadata": {},
   "outputs": [
    {
     "name": "stdout",
     "output_type": "stream",
     "text": [
      "Warning: unable to open video source:  0\n",
      "Warning: unable to open video source:  1\n",
      "Warning: unable to open video source:  3\n",
      "Warning: unable to open video source:  5\n",
      "Warning: unable to open video source:  6\n",
      "Warning: unable to open video source:  7\n",
      "[2, 4]\n"
     ]
    },
    {
     "name": "stderr",
     "output_type": "stream",
     "text": [
      "[ WARN:0@1.957] global cap_v4l.cpp:997 open VIDEOIO(V4L2:/dev/video0): can't open camera by index\n",
      "[ERROR:0@1.959] global obsensor_uvc_stream_channel.cpp:159 getStreamChannelGroup Camera index out of range\n",
      "[ WARN:0@1.959] global cap_v4l.cpp:997 open VIDEOIO(V4L2:/dev/video1): can't open camera by index\n",
      "[ERROR:0@1.961] global obsensor_uvc_stream_channel.cpp:159 getStreamChannelGroup Camera index out of range\n",
      "[ WARN:0@1.963] global cap_v4l.cpp:997 open VIDEOIO(V4L2:/dev/video3): can't open camera by index\n",
      "[ERROR:0@1.964] global obsensor_uvc_stream_channel.cpp:159 getStreamChannelGroup Camera index out of range\n",
      "[ WARN:0@1.966] global cap_v4l.cpp:997 open VIDEOIO(V4L2:/dev/video5): can't open camera by index\n",
      "[ERROR:0@1.968] global obsensor_uvc_stream_channel.cpp:159 getStreamChannelGroup Camera index out of range\n",
      "[ WARN:0@1.968] global cap_v4l.cpp:997 open VIDEOIO(V4L2:/dev/video6): can't open camera by index\n",
      "[ERROR:0@1.969] global obsensor_uvc_stream_channel.cpp:159 getStreamChannelGroup Camera index out of range\n",
      "[ WARN:0@1.969] global cap_v4l.cpp:997 open VIDEOIO(V4L2:/dev/video7): can't open camera by index\n",
      "[ERROR:0@1.971] global obsensor_uvc_stream_channel.cpp:159 getStreamChannelGroup Camera index out of range\n"
     ]
    }
   ],
   "source": [
    "valid_cams = []\n",
    "for i in range(8):\n",
    "    cap = cv2.VideoCapture(i)\n",
    "    if cap is None or not cap.isOpened():\n",
    "        print('Warning: unable to open video source: ', i)\n",
    "    else:\n",
    "        valid_cams.append(i)\n",
    "\n",
    "print(valid_cams)"
   ]
  },
  {
   "cell_type": "code",
   "execution_count": 3,
   "metadata": {},
   "outputs": [],
   "source": [
    "cap = cv2.VideoCapture(4)\n",
    "\n",
    "while cap.isOpened():\n",
    "    ret, img = cap.read()\n",
    "    if not ret:\n",
    "        break\n",
    "\n",
    "    img = cv2.flip(img, 1)\n",
    "    img.flags.writeable = False\n",
    "    param = pipe.forward(img)\n",
    "\n",
    "    cv2.imshow('original_video', img)\n",
    "    cv2.imshow('hands_3d', disp.draw2d_(img.copy(), param))\n",
    "    pos0 = param[0]['joint'].copy()\n",
    "    pos0 = pos0[:,[2,0,1]]\n",
    "    pos0 *= np.array([-1,1,-1])\n",
    "    pos0 += np.array([0,0,0.5])\n",
    "\n",
    "    pos1 = param[1]['joint'].copy()\n",
    "    pos1 = pos1[:,[2,0,1]]\n",
    "    pos1 *= np.array([-1,1,-1])\n",
    "    pos1 += np.array([0,0,0.5])\n",
    "\n",
    "    for i in range(pos0.shape[0]):\n",
    "        env.plot_T(p=pos0[i,:],R=np.eye(3),PLOT_AXIS=False,PLOT_SPHERE=True,sphere_r=0.005)\n",
    "\n",
    "    for j in hand_limbs:\n",
    "        env.plot_cylinder_fr2to(p_fr=pos0[j[0]],p_to=pos0[j[1]],r=0.003,rgba=[0.7,0.7,0.7,1])\n",
    "\n",
    "    for i in range(pos0.shape[0]):\n",
    "        env.plot_T(p=pos1[i,:],R=np.eye(3),PLOT_AXIS=False,PLOT_SPHERE=True,sphere_r=0.005)\n",
    "\n",
    "    for j in hand_limbs:\n",
    "        env.plot_cylinder_fr2to(p_fr=pos1[j[0]],p_to=pos1[j[1]],r=0.003,rgba=[0.7,0.7,0.7,1])\n",
    "\n",
    "    env.render()\n",
    "\n",
    "    key = cv2.waitKey(1)\n",
    "    if key==27:\n",
    "        break\n",
    "\n",
    "cap.release()\n",
    "env.close_viewer()"
   ]
  },
  {
   "cell_type": "code",
   "execution_count": null,
   "metadata": {},
   "outputs": [],
   "source": []
  }
 ],
 "metadata": {
  "kernelspec": {
   "display_name": "online_generation",
   "language": "python",
   "name": "python3"
  },
  "language_info": {
   "codemirror_mode": {
    "name": "ipython",
    "version": 3
   },
   "file_extension": ".py",
   "mimetype": "text/x-python",
   "name": "python",
   "nbconvert_exporter": "python",
   "pygments_lexer": "ipython3",
   "version": "3.8.18"
  }
 },
 "nbformat": 4,
 "nbformat_minor": 2
}
