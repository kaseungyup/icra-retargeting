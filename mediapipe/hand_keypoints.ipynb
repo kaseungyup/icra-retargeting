{
 "cells": [
  {
   "cell_type": "code",
   "execution_count": 1,
   "metadata": {},
   "outputs": [
    {
     "name": "stdout",
     "output_type": "stream",
     "text": [
      "Jupyter environment detected. Enabling Open3D WebVisualizer.\n",
      "[Open3D INFO] WebRTC GUI backend enabled.\n",
      "[Open3D INFO] WebRTCWindowSystem: HTTP handshake server disabled.\n"
     ]
    }
   ],
   "source": [
    "import cv2\n",
    "import sys\n",
    "import time\n",
    "import argparse\n",
    "\n",
    "from utils.utils_display import DisplayHand\n",
    "from utils.utils_mediapipe import MediaPipeHand"
   ]
  },
  {
   "cell_type": "code",
   "execution_count": 2,
   "metadata": {},
   "outputs": [
    {
     "name": "stderr",
     "output_type": "stream",
     "text": [
      "WARNING: All log messages before absl::InitializeLog() is called are written to STDERR\n",
      "I0000 00:00:1710404941.278140   43030 gl_context_egl.cc:85] Successfully initialized EGL. Major : 1 Minor: 5\n",
      "I0000 00:00:1710404941.377034   43288 gl_context.cc:357] GL version: 3.2 (OpenGL ES 3.2 NVIDIA 535.161.07), renderer: NVIDIA GeForce RTX 3060/PCIe/SSE2\n",
      "INFO: Created TensorFlow Lite XNNPACK delegate for CPU.\n"
     ]
    }
   ],
   "source": [
    "pipe = MediaPipeHand(static_image_mode=False, max_num_hands=2)\n",
    "disp = DisplayHand(draw3d=True, max_num_hands=2)\n",
    "cap = cv2.VideoCapture('../data/bam_yang_gang.mp4') \n",
    "\n",
    "fps = 30\n",
    "ret, img = cap.read()\n",
    "width, height = int(cap.get(3)), int(cap.get(4))\n",
    "fourcc = cv2.VideoWriter_fourcc(*'mp4v') # Be sure to use lower case\n",
    "# video = cv2.VideoWriter('../data/video_3d.mp4', fourcc, fps, (width, height))\n",
    "\n",
    "joint_pos0 = []\n",
    "joint_pos1 = []\n",
    "curr_pos0 = None\n",
    "curr_pos1 = None\n",
    "\n",
    "prev_time = time.time()\n",
    "while cap.isOpened():\n",
    "    ret, img = cap.read()\n",
    "    if not ret:\n",
    "        break\n",
    "\n",
    "    param = pipe.forward(img)\n",
    "    curr_pos0 = param[0]['joint'].copy()\n",
    "    curr_pos1 = param[1]['joint'].copy()\n",
    "    joint_pos0.append(curr_pos0)\n",
    "    joint_pos1.append(curr_pos1)\n",
    "\n",
    "cap.release()"
   ]
  },
  {
   "cell_type": "code",
   "execution_count": 5,
   "metadata": {},
   "outputs": [
    {
     "name": "stdout",
     "output_type": "stream",
     "text": [
      "737\n",
      "737\n"
     ]
    }
   ],
   "source": [
    "print(len(joint_pos0))\n",
    "print(len(joint_pos1))\n",
    "\n",
    "import numpy as np\n",
    "joint_pos0 = np.array(joint_pos0)\n",
    "joint_pos1 = np.array(joint_pos1)\n",
    "\n",
    "np.save('../data/joint_pos0.npy', joint_pos0)\n",
    "np.save('../data/joint_pos1.npy', joint_pos1)"
   ]
  },
  {
   "cell_type": "code",
   "execution_count": null,
   "metadata": {},
   "outputs": [],
   "source": [
    "print(joint_pos0[20])"
   ]
  }
 ],
 "metadata": {
  "kernelspec": {
   "display_name": "mmpose",
   "language": "python",
   "name": "python3"
  },
  "language_info": {
   "codemirror_mode": {
    "name": "ipython",
    "version": 3
   },
   "file_extension": ".py",
   "mimetype": "text/x-python",
   "name": "python",
   "nbconvert_exporter": "python",
   "pygments_lexer": "ipython3",
   "version": "3.8.18"
  }
 },
 "nbformat": 4,
 "nbformat_minor": 2
}
